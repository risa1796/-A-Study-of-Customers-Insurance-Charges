{
  "nbformat": 4,
  "nbformat_minor": 0,
  "metadata": {
    "colab": {
      "provenance": [],
      "toc_visible": true,
      "authorship_tag": "ABX9TyMCvA0QbYWrUT/7zJHdEMqv",
      "include_colab_link": true
    },
    "kernelspec": {
      "name": "python3",
      "display_name": "Python 3"
    },
    "language_info": {
      "name": "python"
    }
  },
  "cells": [
    {
      "cell_type": "markdown",
      "metadata": {
        "id": "view-in-github",
        "colab_type": "text"
      },
      "source": [
        "<a href=\"https://colab.research.google.com/github/risa1796/Forecasting-Regression-exercises/blob/main/E_Commerce_Jewelry.ipynb\" target=\"_parent\"><img src=\"https://colab.research.google.com/assets/colab-badge.svg\" alt=\"Open In Colab\"/></a>"
      ]
    },
    {
      "cell_type": "markdown",
      "source": [
        "# E-Commerce purchase history from jewelry store\n",
        "\n",
        "What can I do with this dataset?\n",
        "\n",
        "- EDA \n",
        "- Forecasting total sales \n",
        "- Product Recommendation "
      ],
      "metadata": {
        "id": "w-_F4rmWolQu"
      }
    },
    {
      "cell_type": "markdown",
      "source": [
        "## 1. Data Upload"
      ],
      "metadata": {
        "id": "1efFLgxWrskM"
      }
    },
    {
      "cell_type": "code",
      "source": [
        "from google.colab import drive\n",
        "drive.mount('/content/drive')"
      ],
      "metadata": {
        "colab": {
          "base_uri": "https://localhost:8080/"
        },
        "id": "8BFTVChblX-x",
        "outputId": "a764d412-1be1-45d3-92fa-e40381a1a207"
      },
      "execution_count": 1,
      "outputs": [
        {
          "output_type": "stream",
          "name": "stdout",
          "text": [
            "Drive already mounted at /content/drive; to attempt to forcibly remount, call drive.mount(\"/content/drive\", force_remount=True).\n"
          ]
        }
      ]
    },
    {
      "cell_type": "code",
      "source": [
        "import pandas as pd\n",
        "import warnings\n",
        "warnings.filterwarnings(\"ignore\")\n",
        "\n",
        "df_cols = ['Datetime','OrderID','ProductID','Quantity','CategoryID','CategoryCode','BrandID','USDPrice','UserID','Gender','Color','Metal','Gem']\n",
        "df = pd.read_csv('/content/drive/MyDrive/딥러닝기초/jewelry.csv',names=df_cols )\n",
        "df.head(2)"
      ],
      "metadata": {
        "colab": {
          "base_uri": "https://localhost:8080/",
          "height": 277
        },
        "id": "RQHf0950lfsS",
        "outputId": "e8f5097b-55f8-4790-ba16-f53e02266e68"
      },
      "execution_count": 2,
      "outputs": [
        {
          "output_type": "execute_result",
          "data": {
            "text/plain": [
              "                  Datetime              OrderID            ProductID  \\\n",
              "0  2018-12-01 11:40:29 UTC  1924719191579951782  1842195256808833386   \n",
              "1  2018-12-01 17:38:31 UTC  1924899396621697920  1806829193678291446   \n",
              "\n",
              "   Quantity    CategoryID     CategoryCode  BrandID  USDPrice        UserID  \\\n",
              "0         1  1.806829e+18  jewelry.earring      0.0    561.51  1.515916e+18   \n",
              "1         1  1.806829e+18              NaN      NaN    212.14  1.515916e+18   \n",
              "\n",
              "  Gender   Color Metal      Gem  \n",
              "0    NaN     red  gold  diamond  \n",
              "1    NaN  yellow  gold      NaN  "
            ],
            "text/html": [
              "\n",
              "  <div id=\"df-2de40f62-62e4-4269-8c47-475d37147f37\">\n",
              "    <div class=\"colab-df-container\">\n",
              "      <div>\n",
              "<style scoped>\n",
              "    .dataframe tbody tr th:only-of-type {\n",
              "        vertical-align: middle;\n",
              "    }\n",
              "\n",
              "    .dataframe tbody tr th {\n",
              "        vertical-align: top;\n",
              "    }\n",
              "\n",
              "    .dataframe thead th {\n",
              "        text-align: right;\n",
              "    }\n",
              "</style>\n",
              "<table border=\"1\" class=\"dataframe\">\n",
              "  <thead>\n",
              "    <tr style=\"text-align: right;\">\n",
              "      <th></th>\n",
              "      <th>Datetime</th>\n",
              "      <th>OrderID</th>\n",
              "      <th>ProductID</th>\n",
              "      <th>Quantity</th>\n",
              "      <th>CategoryID</th>\n",
              "      <th>CategoryCode</th>\n",
              "      <th>BrandID</th>\n",
              "      <th>USDPrice</th>\n",
              "      <th>UserID</th>\n",
              "      <th>Gender</th>\n",
              "      <th>Color</th>\n",
              "      <th>Metal</th>\n",
              "      <th>Gem</th>\n",
              "    </tr>\n",
              "  </thead>\n",
              "  <tbody>\n",
              "    <tr>\n",
              "      <th>0</th>\n",
              "      <td>2018-12-01 11:40:29 UTC</td>\n",
              "      <td>1924719191579951782</td>\n",
              "      <td>1842195256808833386</td>\n",
              "      <td>1</td>\n",
              "      <td>1.806829e+18</td>\n",
              "      <td>jewelry.earring</td>\n",
              "      <td>0.0</td>\n",
              "      <td>561.51</td>\n",
              "      <td>1.515916e+18</td>\n",
              "      <td>NaN</td>\n",
              "      <td>red</td>\n",
              "      <td>gold</td>\n",
              "      <td>diamond</td>\n",
              "    </tr>\n",
              "    <tr>\n",
              "      <th>1</th>\n",
              "      <td>2018-12-01 17:38:31 UTC</td>\n",
              "      <td>1924899396621697920</td>\n",
              "      <td>1806829193678291446</td>\n",
              "      <td>1</td>\n",
              "      <td>1.806829e+18</td>\n",
              "      <td>NaN</td>\n",
              "      <td>NaN</td>\n",
              "      <td>212.14</td>\n",
              "      <td>1.515916e+18</td>\n",
              "      <td>NaN</td>\n",
              "      <td>yellow</td>\n",
              "      <td>gold</td>\n",
              "      <td>NaN</td>\n",
              "    </tr>\n",
              "  </tbody>\n",
              "</table>\n",
              "</div>\n",
              "      <button class=\"colab-df-convert\" onclick=\"convertToInteractive('df-2de40f62-62e4-4269-8c47-475d37147f37')\"\n",
              "              title=\"Convert this dataframe to an interactive table.\"\n",
              "              style=\"display:none;\">\n",
              "        \n",
              "  <svg xmlns=\"http://www.w3.org/2000/svg\" height=\"24px\"viewBox=\"0 0 24 24\"\n",
              "       width=\"24px\">\n",
              "    <path d=\"M0 0h24v24H0V0z\" fill=\"none\"/>\n",
              "    <path d=\"M18.56 5.44l.94 2.06.94-2.06 2.06-.94-2.06-.94-.94-2.06-.94 2.06-2.06.94zm-11 1L8.5 8.5l.94-2.06 2.06-.94-2.06-.94L8.5 2.5l-.94 2.06-2.06.94zm10 10l.94 2.06.94-2.06 2.06-.94-2.06-.94-.94-2.06-.94 2.06-2.06.94z\"/><path d=\"M17.41 7.96l-1.37-1.37c-.4-.4-.92-.59-1.43-.59-.52 0-1.04.2-1.43.59L10.3 9.45l-7.72 7.72c-.78.78-.78 2.05 0 2.83L4 21.41c.39.39.9.59 1.41.59.51 0 1.02-.2 1.41-.59l7.78-7.78 2.81-2.81c.8-.78.8-2.07 0-2.86zM5.41 20L4 18.59l7.72-7.72 1.47 1.35L5.41 20z\"/>\n",
              "  </svg>\n",
              "      </button>\n",
              "      \n",
              "  <style>\n",
              "    .colab-df-container {\n",
              "      display:flex;\n",
              "      flex-wrap:wrap;\n",
              "      gap: 12px;\n",
              "    }\n",
              "\n",
              "    .colab-df-convert {\n",
              "      background-color: #E8F0FE;\n",
              "      border: none;\n",
              "      border-radius: 50%;\n",
              "      cursor: pointer;\n",
              "      display: none;\n",
              "      fill: #1967D2;\n",
              "      height: 32px;\n",
              "      padding: 0 0 0 0;\n",
              "      width: 32px;\n",
              "    }\n",
              "\n",
              "    .colab-df-convert:hover {\n",
              "      background-color: #E2EBFA;\n",
              "      box-shadow: 0px 1px 2px rgba(60, 64, 67, 0.3), 0px 1px 3px 1px rgba(60, 64, 67, 0.15);\n",
              "      fill: #174EA6;\n",
              "    }\n",
              "\n",
              "    [theme=dark] .colab-df-convert {\n",
              "      background-color: #3B4455;\n",
              "      fill: #D2E3FC;\n",
              "    }\n",
              "\n",
              "    [theme=dark] .colab-df-convert:hover {\n",
              "      background-color: #434B5C;\n",
              "      box-shadow: 0px 1px 3px 1px rgba(0, 0, 0, 0.15);\n",
              "      filter: drop-shadow(0px 1px 2px rgba(0, 0, 0, 0.3));\n",
              "      fill: #FFFFFF;\n",
              "    }\n",
              "  </style>\n",
              "\n",
              "      <script>\n",
              "        const buttonEl =\n",
              "          document.querySelector('#df-2de40f62-62e4-4269-8c47-475d37147f37 button.colab-df-convert');\n",
              "        buttonEl.style.display =\n",
              "          google.colab.kernel.accessAllowed ? 'block' : 'none';\n",
              "\n",
              "        async function convertToInteractive(key) {\n",
              "          const element = document.querySelector('#df-2de40f62-62e4-4269-8c47-475d37147f37');\n",
              "          const dataTable =\n",
              "            await google.colab.kernel.invokeFunction('convertToInteractive',\n",
              "                                                     [key], {});\n",
              "          if (!dataTable) return;\n",
              "\n",
              "          const docLinkHtml = 'Like what you see? Visit the ' +\n",
              "            '<a target=\"_blank\" href=https://colab.research.google.com/notebooks/data_table.ipynb>data table notebook</a>'\n",
              "            + ' to learn more about interactive tables.';\n",
              "          element.innerHTML = '';\n",
              "          dataTable['output_type'] = 'display_data';\n",
              "          await google.colab.output.renderOutput(dataTable, element);\n",
              "          const docLink = document.createElement('div');\n",
              "          docLink.innerHTML = docLinkHtml;\n",
              "          element.appendChild(docLink);\n",
              "        }\n",
              "      </script>\n",
              "    </div>\n",
              "  </div>\n",
              "  "
            ]
          },
          "metadata": {},
          "execution_count": 2
        }
      ]
    },
    {
      "cell_type": "markdown",
      "source": [
        "## 2. Data Cleaning"
      ],
      "metadata": {
        "id": "6lCFjPHir3Oe"
      }
    },
    {
      "cell_type": "code",
      "source": [
        "df.info()"
      ],
      "metadata": {
        "colab": {
          "base_uri": "https://localhost:8080/"
        },
        "id": "rVBc9Fv7mBhA",
        "outputId": "0ac60325-4c50-4955-d7bd-9a9969173861"
      },
      "execution_count": 3,
      "outputs": [
        {
          "output_type": "stream",
          "name": "stdout",
          "text": [
            "<class 'pandas.core.frame.DataFrame'>\n",
            "RangeIndex: 95911 entries, 0 to 95910\n",
            "Data columns (total 13 columns):\n",
            " #   Column        Non-Null Count  Dtype  \n",
            "---  ------        --------------  -----  \n",
            " 0   Datetime      95911 non-null  object \n",
            " 1   OrderID       95911 non-null  int64  \n",
            " 2   ProductID     95911 non-null  int64  \n",
            " 3   Quantity      95911 non-null  int64  \n",
            " 4   CategoryID    90559 non-null  float64\n",
            " 5   CategoryCode  85978 non-null  object \n",
            " 6   BrandID       91126 non-null  float64\n",
            " 7   USDPrice      90559 non-null  float64\n",
            " 8   UserID        90559 non-null  float64\n",
            " 9   Gender        47743 non-null  object \n",
            " 10  Color         88251 non-null  object \n",
            " 11  Metal         90449 non-null  object \n",
            " 12  Gem           61853 non-null  object \n",
            "dtypes: float64(4), int64(3), object(6)\n",
            "memory usage: 9.5+ MB\n"
          ]
        }
      ]
    },
    {
      "cell_type": "markdown",
      "source": [
        "Check missing values per column"
      ],
      "metadata": {
        "id": "6x8EJuHQi-5I"
      }
    },
    {
      "cell_type": "code",
      "source": [
        "df.isna().sum()"
      ],
      "metadata": {
        "colab": {
          "base_uri": "https://localhost:8080/"
        },
        "id": "s5rMb1alsIXv",
        "outputId": "ca810456-556a-4003-d4fc-6bd170def910"
      },
      "execution_count": 4,
      "outputs": [
        {
          "output_type": "execute_result",
          "data": {
            "text/plain": [
              "Datetime            0\n",
              "OrderID             0\n",
              "ProductID           0\n",
              "Quantity            0\n",
              "CategoryID       5352\n",
              "CategoryCode     9933\n",
              "BrandID          4785\n",
              "USDPrice         5352\n",
              "UserID           5352\n",
              "Gender          48168\n",
              "Color            7660\n",
              "Metal            5462\n",
              "Gem             34058\n",
              "dtype: int64"
            ]
          },
          "metadata": {},
          "execution_count": 4
        }
      ]
    },
    {
      "cell_type": "markdown",
      "source": [
        "### 2.1 Gender"
      ],
      "metadata": {
        "id": "keJAN-2EjD55"
      }
    },
    {
      "cell_type": "code",
      "source": [
        "import seaborn as sns\n",
        "import matplotlib.pyplot as plt\n",
        "\n",
        "sns.countplot(data = df, x = 'Gender')"
      ],
      "metadata": {
        "colab": {
          "base_uri": "https://localhost:8080/",
          "height": 296
        },
        "id": "0yUAHMD5sd1X",
        "outputId": "2ae01f1f-78c3-4da7-db39-3c2f311b883d"
      },
      "execution_count": 5,
      "outputs": [
        {
          "output_type": "execute_result",
          "data": {
            "text/plain": [
              "<matplotlib.axes._subplots.AxesSubplot at 0x7f7a1b65fdf0>"
            ]
          },
          "metadata": {},
          "execution_count": 5
        },
        {
          "output_type": "display_data",
          "data": {
            "text/plain": [
              "<Figure size 432x288 with 1 Axes>"
            ],
            "image/png": "[encoded data removed]"
          },
          "metadata": {
            "needs_background": "light"
          }
        }
      ]
    },
    {
      "cell_type": "markdown",
      "source": [
        "The majority of customers are female, let's replace the missing values with 'f'."
      ],
      "metadata": {
        "id": "QD3bgu0ptGiE"
      }
    },
    {
      "cell_type": "code",
      "source": [
        "df.Gender.fillna('f', inplace=True)\n",
        "df.info()"
      ],
      "metadata": {
        "colab": {
          "base_uri": "https://localhost:8080/"
        },
        "id": "kdglXdX5tQCd",
        "outputId": "c85aaaaa-324b-4efe-b0bb-e46b24242b01"
      },
      "execution_count": 6,
      "outputs": [
        {
          "output_type": "stream",
          "name": "stdout",
          "text": [
            "<class 'pandas.core.frame.DataFrame'>\n",
            "RangeIndex: 95911 entries, 0 to 95910\n",
            "Data columns (total 13 columns):\n",
            " #   Column        Non-Null Count  Dtype  \n",
            "---  ------        --------------  -----  \n",
            " 0   Datetime      95911 non-null  object \n",
            " 1   OrderID       95911 non-null  int64  \n",
            " 2   ProductID     95911 non-null  int64  \n",
            " 3   Quantity      95911 non-null  int64  \n",
            " 4   CategoryID    90559 non-null  float64\n",
            " 5   CategoryCode  85978 non-null  object \n",
            " 6   BrandID       91126 non-null  float64\n",
            " 7   USDPrice      90559 non-null  float64\n",
            " 8   UserID        90559 non-null  float64\n",
            " 9   Gender        95911 non-null  object \n",
            " 10  Color         88251 non-null  object \n",
            " 11  Metal         90449 non-null  object \n",
            " 12  Gem           61853 non-null  object \n",
            "dtypes: float64(4), int64(3), object(6)\n",
            "memory usage: 9.5+ MB\n"
          ]
        }
      ]
    },
    {
      "cell_type": "markdown",
      "source": [
        "### 2.2 Quantity"
      ],
      "metadata": {
        "id": "b6DjYUEvjNzh"
      }
    },
    {
      "cell_type": "code",
      "source": [
        "df.Quantity.unique()"
      ],
      "metadata": {
        "colab": {
          "base_uri": "https://localhost:8080/"
        },
        "id": "CA28_Sbe2eMv",
        "outputId": "180350de-c54b-4a65-d377-7b302212097d"
      },
      "execution_count": 7,
      "outputs": [
        {
          "output_type": "execute_result",
          "data": {
            "text/plain": [
              "array([1])"
            ]
          },
          "metadata": {},
          "execution_count": 7
        }
      ]
    },
    {
      "cell_type": "markdown",
      "source": [
        "Since there is only one unique value in the 'Quantity' feature, we will drop the column."
      ],
      "metadata": {
        "id": "MPFlLLvB2iYD"
      }
    },
    {
      "cell_type": "code",
      "source": [
        "df.drop('Quantity',axis=1, inplace=True)\n",
        "df.info()"
      ],
      "metadata": {
        "colab": {
          "base_uri": "https://localhost:8080/"
        },
        "id": "1zgRjRoX2pSk",
        "outputId": "7b220fc3-5948-41cd-82a7-76d366340da7"
      },
      "execution_count": 8,
      "outputs": [
        {
          "output_type": "stream",
          "name": "stdout",
          "text": [
            "<class 'pandas.core.frame.DataFrame'>\n",
            "RangeIndex: 95911 entries, 0 to 95910\n",
            "Data columns (total 12 columns):\n",
            " #   Column        Non-Null Count  Dtype  \n",
            "---  ------        --------------  -----  \n",
            " 0   Datetime      95911 non-null  object \n",
            " 1   OrderID       95911 non-null  int64  \n",
            " 2   ProductID     95911 non-null  int64  \n",
            " 3   CategoryID    90559 non-null  float64\n",
            " 4   CategoryCode  85978 non-null  object \n",
            " 5   BrandID       91126 non-null  float64\n",
            " 6   USDPrice      90559 non-null  float64\n",
            " 7   UserID        90559 non-null  float64\n",
            " 8   Gender        95911 non-null  object \n",
            " 9   Color         88251 non-null  object \n",
            " 10  Metal         90449 non-null  object \n",
            " 11  Gem           61853 non-null  object \n",
            "dtypes: float64(4), int64(2), object(6)\n",
            "memory usage: 8.8+ MB\n"
          ]
        }
      ]
    },
    {
      "cell_type": "markdown",
      "source": [
        "### 2.3 USD Price & User ID"
      ],
      "metadata": {
        "id": "7gWfgd1ojb7S"
      }
    },
    {
      "cell_type": "code",
      "source": [
        "df.USDPrice.isna().sum()"
      ],
      "metadata": {
        "colab": {
          "base_uri": "https://localhost:8080/"
        },
        "id": "NE6-lAK3D5AZ",
        "outputId": "53be6676-a220-4c35-8a8b-260bd6666444"
      },
      "execution_count": 9,
      "outputs": [
        {
          "output_type": "execute_result",
          "data": {
            "text/plain": [
              "5352"
            ]
          },
          "metadata": {},
          "execution_count": 9
        }
      ]
    },
    {
      "cell_type": "code",
      "source": [
        "print(df[df['USDPrice'].isna()].Gem.unique())\n",
        "print(df[df['USDPrice'].isna()].Metal.unique())\n",
        "print(df[df['USDPrice'].isna()].BrandID.unique())"
      ],
      "metadata": {
        "colab": {
          "base_uri": "https://localhost:8080/"
        },
        "id": "kCCH-45R4chs",
        "outputId": "d30a66c4-ccdf-4224-c45e-795bda438db0"
      },
      "execution_count": 10,
      "outputs": [
        {
          "output_type": "stream",
          "name": "stdout",
          "text": [
            "[nan]\n",
            "[nan]\n",
            "[1.55061295e+18 1.32515621e+18 1.51591563e+18 ... 1.51591563e+18\n",
            " 1.51591563e+18 1.51591563e+18]\n"
          ]
        }
      ]
    },
    {
      "cell_type": "code",
      "source": [
        "df[df['USDPrice'].isna()].BrandID.value_counts()"
      ],
      "metadata": {
        "colab": {
          "base_uri": "https://localhost:8080/"
        },
        "id": "S53YkrXxEvzS",
        "outputId": "94e9fa3b-3672-40a5-9f57-7cb3c539a1ae"
      },
      "execution_count": 11,
      "outputs": [
        {
          "output_type": "execute_result",
          "data": {
            "text/plain": [
              "1.515916e+18    147\n",
              "1.515916e+18    104\n",
              "1.515916e+18     74\n",
              "1.515916e+18     37\n",
              "1.515916e+18     34\n",
              "               ... \n",
              "1.515916e+18      1\n",
              "1.515916e+18      1\n",
              "1.515916e+18      1\n",
              "1.515916e+18      1\n",
              "1.515916e+18      1\n",
              "Name: BrandID, Length: 2530, dtype: int64"
            ]
          },
          "metadata": {},
          "execution_count": 11
        }
      ]
    },
    {
      "cell_type": "code",
      "source": [
        "df[df['BrandID']==1515915625368881664.000000].describe()"
      ],
      "metadata": {
        "colab": {
          "base_uri": "https://localhost:8080/",
          "height": 297
        },
        "id": "VZJfppekFDBK",
        "outputId": "658ff2c2-6669-4c5b-a6b4-4c6f0dfccd2a"
      },
      "execution_count": 12,
      "outputs": [
        {
          "output_type": "execute_result",
          "data": {
            "text/plain": [
              "            OrderID     ProductID  CategoryID       BrandID  USDPrice  UserID\n",
              "count  3.400000e+01  3.400000e+01         0.0  3.400000e+01       0.0     0.0\n",
              "mean   2.638980e+18  1.511337e+18         NaN  1.515916e+18       NaN     NaN\n",
              "std    3.443835e+16  2.699059e+16         NaN  2.598498e+02       NaN     NaN\n",
              "min    2.532276e+18  1.358585e+18         NaN  1.515916e+18       NaN     NaN\n",
              "25%    2.625246e+18  1.515966e+18         NaN  1.515916e+18       NaN     NaN\n",
              "50%    2.657495e+18  1.515966e+18         NaN  1.515916e+18       NaN     NaN\n",
              "75%    2.661770e+18  1.515966e+18         NaN  1.515916e+18       NaN     NaN\n",
              "max    2.676981e+18  1.515966e+18         NaN  1.515916e+18       NaN     NaN"
            ],
            "text/html": [
              "\n",
              "  <div id=\"df-ee764824-cde5-4b17-8ab9-d423f7a50d52\">\n",
              "    <div class=\"colab-df-container\">\n",
              "      <div>\n",
              "<style scoped>\n",
              "    .dataframe tbody tr th:only-of-type {\n",
              "        vertical-align: middle;\n",
              "    }\n",
              "\n",
              "    .dataframe tbody tr th {\n",
              "        vertical-align: top;\n",
              "    }\n",
              "\n",
              "    .dataframe thead th {\n",
              "        text-align: right;\n",
              "    }\n",
              "</style>\n",
              "<table border=\"1\" class=\"dataframe\">\n",
              "  <thead>\n",
              "    <tr style=\"text-align: right;\">\n",
              "      <th></th>\n",
              "      <th>OrderID</th>\n",
              "      <th>ProductID</th>\n",
              "      <th>CategoryID</th>\n",
              "      <th>BrandID</th>\n",
              "      <th>USDPrice</th>\n",
              "      <th>UserID</th>\n",
              "    </tr>\n",
              "  </thead>\n",
              "  <tbody>\n",
              "    <tr>\n",
              "      <th>count</th>\n",
              "      <td>3.400000e+01</td>\n",
              "      <td>3.400000e+01</td>\n",
              "      <td>0.0</td>\n",
              "      <td>3.400000e+01</td>\n",
              "      <td>0.0</td>\n",
              "      <td>0.0</td>\n",
              "    </tr>\n",
              "    <tr>\n",
              "      <th>mean</th>\n",
              "      <td>2.638980e+18</td>\n",
              "      <td>1.511337e+18</td>\n",
              "      <td>NaN</td>\n",
              "      <td>1.515916e+18</td>\n",
              "      <td>NaN</td>\n",
              "      <td>NaN</td>\n",
              "    </tr>\n",
              "    <tr>\n",
              "      <th>std</th>\n",
              "      <td>3.443835e+16</td>\n",
              "      <td>2.699059e+16</td>\n",
              "      <td>NaN</td>\n",
              "      <td>2.598498e+02</td>\n",
              "      <td>NaN</td>\n",
              "      <td>NaN</td>\n",
              "    </tr>\n",
              "    <tr>\n",
              "      <th>min</th>\n",
              "      <td>2.532276e+18</td>\n",
              "      <td>1.358585e+18</td>\n",
              "      <td>NaN</td>\n",
              "      <td>1.515916e+18</td>\n",
              "      <td>NaN</td>\n",
              "      <td>NaN</td>\n",
              "    </tr>\n",
              "    <tr>\n",
              "      <th>25%</th>\n",
              "      <td>2.625246e+18</td>\n",
              "      <td>1.515966e+18</td>\n",
              "      <td>NaN</td>\n",
              "      <td>1.515916e+18</td>\n",
              "      <td>NaN</td>\n",
              "      <td>NaN</td>\n",
              "    </tr>\n",
              "    <tr>\n",
              "      <th>50%</th>\n",
              "      <td>2.657495e+18</td>\n",
              "      <td>1.515966e+18</td>\n",
              "      <td>NaN</td>\n",
              "      <td>1.515916e+18</td>\n",
              "      <td>NaN</td>\n",
              "      <td>NaN</td>\n",
              "    </tr>\n",
              "    <tr>\n",
              "      <th>75%</th>\n",
              "      <td>2.661770e+18</td>\n",
              "      <td>1.515966e+18</td>\n",
              "      <td>NaN</td>\n",
              "      <td>1.515916e+18</td>\n",
              "      <td>NaN</td>\n",
              "      <td>NaN</td>\n",
              "    </tr>\n",
              "    <tr>\n",
              "      <th>max</th>\n",
              "      <td>2.676981e+18</td>\n",
              "      <td>1.515966e+18</td>\n",
              "      <td>NaN</td>\n",
              "      <td>1.515916e+18</td>\n",
              "      <td>NaN</td>\n",
              "      <td>NaN</td>\n",
              "    </tr>\n",
              "  </tbody>\n",
              "</table>\n",
              "</div>\n",
              "      <button class=\"colab-df-convert\" onclick=\"convertToInteractive('df-ee764824-cde5-4b17-8ab9-d423f7a50d52')\"\n",
              "              title=\"Convert this dataframe to an interactive table.\"\n",
              "              style=\"display:none;\">\n",
              "        \n",
              "  <svg xmlns=\"http://www.w3.org/2000/svg\" height=\"24px\"viewBox=\"0 0 24 24\"\n",
              "       width=\"24px\">\n",
              "    <path d=\"M0 0h24v24H0V0z\" fill=\"none\"/>\n",
              "    <path d=\"M18.56 5.44l.94 2.06.94-2.06 2.06-.94-2.06-.94-.94-2.06-.94 2.06-2.06.94zm-11 1L8.5 8.5l.94-2.06 2.06-.94-2.06-.94L8.5 2.5l-.94 2.06-2.06.94zm10 10l.94 2.06.94-2.06 2.06-.94-2.06-.94-.94-2.06-.94 2.06-2.06.94z\"/><path d=\"M17.41 7.96l-1.37-1.37c-.4-.4-.92-.59-1.43-.59-.52 0-1.04.2-1.43.59L10.3 9.45l-7.72 7.72c-.78.78-.78 2.05 0 2.83L4 21.41c.39.39.9.59 1.41.59.51 0 1.02-.2 1.41-.59l7.78-7.78 2.81-2.81c.8-.78.8-2.07 0-2.86zM5.41 20L4 18.59l7.72-7.72 1.47 1.35L5.41 20z\"/>\n",
              "  </svg>\n",
              "      </button>\n",
              "      \n",
              "  <style>\n",
              "    .colab-df-container {\n",
              "      display:flex;\n",
              "      flex-wrap:wrap;\n",
              "      gap: 12px;\n",
              "    }\n",
              "\n",
              "    .colab-df-convert {\n",
              "      background-color: #E8F0FE;\n",
              "      border: none;\n",
              "      border-radius: 50%;\n",
              "      cursor: pointer;\n",
              "      display: none;\n",
              "      fill: #1967D2;\n",
              "      height: 32px;\n",
              "      padding: 0 0 0 0;\n",
              "      width: 32px;\n",
              "    }\n",
              "\n",
              "    .colab-df-convert:hover {\n",
              "      background-color: #E2EBFA;\n",
              "      box-shadow: 0px 1px 2px rgba(60, 64, 67, 0.3), 0px 1px 3px 1px rgba(60, 64, 67, 0.15);\n",
              "      fill: #174EA6;\n",
              "    }\n",
              "\n",
              "    [theme=dark] .colab-df-convert {\n",
              "      background-color: #3B4455;\n",
              "      fill: #D2E3FC;\n",
              "    }\n",
              "\n",
              "    [theme=dark] .colab-df-convert:hover {\n",
              "      background-color: #434B5C;\n",
              "      box-shadow: 0px 1px 3px 1px rgba(0, 0, 0, 0.15);\n",
              "      filter: drop-shadow(0px 1px 2px rgba(0, 0, 0, 0.3));\n",
              "      fill: #FFFFFF;\n",
              "    }\n",
              "  </style>\n",
              "\n",
              "      <script>\n",
              "        const buttonEl =\n",
              "          document.querySelector('#df-ee764824-cde5-4b17-8ab9-d423f7a50d52 button.colab-df-convert');\n",
              "        buttonEl.style.display =\n",
              "          google.colab.kernel.accessAllowed ? 'block' : 'none';\n",
              "\n",
              "        async function convertToInteractive(key) {\n",
              "          const element = document.querySelector('#df-ee764824-cde5-4b17-8ab9-d423f7a50d52');\n",
              "          const dataTable =\n",
              "            await google.colab.kernel.invokeFunction('convertToInteractive',\n",
              "                                                     [key], {});\n",
              "          if (!dataTable) return;\n",
              "\n",
              "          const docLinkHtml = 'Like what you see? Visit the ' +\n",
              "            '<a target=\"_blank\" href=https://colab.research.google.com/notebooks/data_table.ipynb>data table notebook</a>'\n",
              "            + ' to learn more about interactive tables.';\n",
              "          element.innerHTML = '';\n",
              "          dataTable['output_type'] = 'display_data';\n",
              "          await google.colab.output.renderOutput(dataTable, element);\n",
              "          const docLink = document.createElement('div');\n",
              "          docLink.innerHTML = docLinkHtml;\n",
              "          element.appendChild(docLink);\n",
              "        }\n",
              "      </script>\n",
              "    </div>\n",
              "  </div>\n",
              "  "
            ]
          },
          "metadata": {},
          "execution_count": 12
        }
      ]
    },
    {
      "cell_type": "markdown",
      "source": [
        "There is Order ID but no price and no user ID ?\n",
        "\n",
        "What we are interested is eventually the sales and not the number of orders. \n",
        "\n",
        "Let's delete rows with missing values in USDPrice and UserID."
      ],
      "metadata": {
        "id": "0kjCnsFQGM89"
      }
    },
    {
      "cell_type": "code",
      "source": [
        "new_df = df[df['USDPrice'].notna() & df['UserID'].notna()]"
      ],
      "metadata": {
        "id": "ohT001rhGupw"
      },
      "execution_count": 13,
      "outputs": []
    },
    {
      "cell_type": "code",
      "source": [
        "new_df.info()"
      ],
      "metadata": {
        "colab": {
          "base_uri": "https://localhost:8080/"
        },
        "id": "n7i6vcazHWFt",
        "outputId": "20858af2-ff84-419a-f393-cfa98b52b382"
      },
      "execution_count": 14,
      "outputs": [
        {
          "output_type": "stream",
          "name": "stdout",
          "text": [
            "<class 'pandas.core.frame.DataFrame'>\n",
            "Int64Index: 90559 entries, 0 to 95910\n",
            "Data columns (total 12 columns):\n",
            " #   Column        Non-Null Count  Dtype  \n",
            "---  ------        --------------  -----  \n",
            " 0   Datetime      90559 non-null  object \n",
            " 1   OrderID       90559 non-null  int64  \n",
            " 2   ProductID     90559 non-null  int64  \n",
            " 3   CategoryID    90559 non-null  float64\n",
            " 4   CategoryCode  80626 non-null  object \n",
            " 5   BrandID       85774 non-null  float64\n",
            " 6   USDPrice      90559 non-null  float64\n",
            " 7   UserID        90559 non-null  float64\n",
            " 8   Gender        90559 non-null  object \n",
            " 9   Color         88251 non-null  object \n",
            " 10  Metal         90449 non-null  object \n",
            " 11  Gem           61853 non-null  object \n",
            "dtypes: float64(4), int64(2), object(6)\n",
            "memory usage: 9.0+ MB\n"
          ]
        }
      ]
    },
    {
      "cell_type": "markdown",
      "source": [
        "### 2.4 Category Code"
      ],
      "metadata": {
        "id": "Obky3IbjkUag"
      }
    },
    {
      "cell_type": "markdown",
      "source": [
        "We will fill missing values with 'other'"
      ],
      "metadata": {
        "id": "UvOOdslBkdul"
      }
    },
    {
      "cell_type": "code",
      "source": [
        "new_df.CategoryCode.fillna('other', inplace=True)"
      ],
      "metadata": {
        "id": "4fcqQg12IQsW"
      },
      "execution_count": 15,
      "outputs": []
    },
    {
      "cell_type": "code",
      "source": [
        "new_df.CategoryCode.value_counts()"
      ],
      "metadata": {
        "colab": {
          "base_uri": "https://localhost:8080/"
        },
        "id": "oqJZC6zqHiNF",
        "outputId": "f2db492c-daf0-4b96-c2a7-fc06169f92d8"
      },
      "execution_count": 16,
      "outputs": [
        {
          "output_type": "execute_result",
          "data": {
            "text/plain": [
              "jewelry.earring       29052\n",
              "jewelry.ring          28300\n",
              "jewelry.pendant       13088\n",
              "other                  9933\n",
              "jewelry.bracelet       6188\n",
              "jewelry.necklace       2361\n",
              "jewelry.brooch         1288\n",
              "jewelry.souvenir        170\n",
              "electronics.clocks      167\n",
              "jewelry.stud             12\n",
              "Name: CategoryCode, dtype: int64"
            ]
          },
          "metadata": {},
          "execution_count": 16
        }
      ]
    },
    {
      "cell_type": "markdown",
      "source": [
        "### 2.5 Brand ID\n",
        "\n",
        "Brands IDs are integers. We will fill missing values with -1."
      ],
      "metadata": {
        "id": "OJRB5uvikswE"
      }
    },
    {
      "cell_type": "code",
      "source": [
        "new_df['BrandID'].fillna('-1',inplace=True)"
      ],
      "metadata": {
        "id": "cL4Mr9QbJSs2"
      },
      "execution_count": 17,
      "outputs": []
    },
    {
      "cell_type": "code",
      "source": [
        "new_df.info()"
      ],
      "metadata": {
        "colab": {
          "base_uri": "https://localhost:8080/"
        },
        "id": "xAvGuu8jJiBi",
        "outputId": "18138e8b-c97c-47d6-d125-b982006efbbc"
      },
      "execution_count": 18,
      "outputs": [
        {
          "output_type": "stream",
          "name": "stdout",
          "text": [
            "<class 'pandas.core.frame.DataFrame'>\n",
            "Int64Index: 90559 entries, 0 to 95910\n",
            "Data columns (total 12 columns):\n",
            " #   Column        Non-Null Count  Dtype  \n",
            "---  ------        --------------  -----  \n",
            " 0   Datetime      90559 non-null  object \n",
            " 1   OrderID       90559 non-null  int64  \n",
            " 2   ProductID     90559 non-null  int64  \n",
            " 3   CategoryID    90559 non-null  float64\n",
            " 4   CategoryCode  90559 non-null  object \n",
            " 5   BrandID       90559 non-null  object \n",
            " 6   USDPrice      90559 non-null  float64\n",
            " 7   UserID        90559 non-null  float64\n",
            " 8   Gender        90559 non-null  object \n",
            " 9   Color         88251 non-null  object \n",
            " 10  Metal         90449 non-null  object \n",
            " 11  Gem           61853 non-null  object \n",
            "dtypes: float64(3), int64(2), object(7)\n",
            "memory usage: 9.0+ MB\n"
          ]
        }
      ]
    },
    {
      "cell_type": "markdown",
      "source": [
        "### 2.6 Gem & Metal & Color\n",
        "\n",
        "Replace missing values with 'unknown'"
      ],
      "metadata": {
        "id": "iOrLW3bzk2bQ"
      }
    },
    {
      "cell_type": "code",
      "source": [
        "new_df['Gem'].unique()"
      ],
      "metadata": {
        "colab": {
          "base_uri": "https://localhost:8080/"
        },
        "id": "t1elrWGyKcXP",
        "outputId": "035214a8-8349-41ed-fc55-c257ac4482e8"
      },
      "execution_count": 19,
      "outputs": [
        {
          "output_type": "execute_result",
          "data": {
            "text/plain": [
              "array(['diamond', nan, 'sapphire', 'amethyst', 'fianit', 'pearl',\n",
              "       'quartz', 'topaz', 'garnet', 'quartz_smoky', 'ruby', 'agate',\n",
              "       'mix', 'citrine', 'emerald', 'amber', 'chrysolite', 'chrysoprase',\n",
              "       'nanocrystal', 'turquoise', 'sitall', 'corundum_synthetic',\n",
              "       'coral', 'onyx', 'nacre', 'spinel', 'tourmaline',\n",
              "       'emerald_geothermal', 'garnet_synthetic', 'rhodolite',\n",
              "       'sapphire_geothermal'], dtype=object)"
            ]
          },
          "metadata": {},
          "execution_count": 19
        }
      ]
    },
    {
      "cell_type": "code",
      "source": [
        "for i in ('Color','Metal','Gem'):\n",
        "  if i == 'Color':\n",
        "    new_df[i].fillna('unknown-color',inplace=True)\n",
        "  else:\n",
        "    new_df[i].fillna('unknown',inplace=True)"
      ],
      "metadata": {
        "id": "d9tMkxp8Jj7W"
      },
      "execution_count": 20,
      "outputs": []
    },
    {
      "cell_type": "code",
      "source": [
        "new_df.info()"
      ],
      "metadata": {
        "colab": {
          "base_uri": "https://localhost:8080/"
        },
        "id": "ylXFgwW0J6st",
        "outputId": "c08cb4be-7333-40e2-9fe7-54d11e62d05b"
      },
      "execution_count": 21,
      "outputs": [
        {
          "output_type": "stream",
          "name": "stdout",
          "text": [
            "<class 'pandas.core.frame.DataFrame'>\n",
            "Int64Index: 90559 entries, 0 to 95910\n",
            "Data columns (total 12 columns):\n",
            " #   Column        Non-Null Count  Dtype  \n",
            "---  ------        --------------  -----  \n",
            " 0   Datetime      90559 non-null  object \n",
            " 1   OrderID       90559 non-null  int64  \n",
            " 2   ProductID     90559 non-null  int64  \n",
            " 3   CategoryID    90559 non-null  float64\n",
            " 4   CategoryCode  90559 non-null  object \n",
            " 5   BrandID       90559 non-null  object \n",
            " 6   USDPrice      90559 non-null  float64\n",
            " 7   UserID        90559 non-null  float64\n",
            " 8   Gender        90559 non-null  object \n",
            " 9   Color         90559 non-null  object \n",
            " 10  Metal         90559 non-null  object \n",
            " 11  Gem           90559 non-null  object \n",
            "dtypes: float64(3), int64(2), object(7)\n",
            "memory usage: 9.0+ MB\n"
          ]
        }
      ]
    },
    {
      "cell_type": "markdown",
      "source": [
        "Now we have new dataset with no missing values!"
      ],
      "metadata": {
        "id": "eTE4ty2ElFt2"
      }
    },
    {
      "cell_type": "markdown",
      "source": [
        "## 3. EDA"
      ],
      "metadata": {
        "id": "ryW_ZdzIlLBg"
      }
    },
    {
      "cell_type": "markdown",
      "source": [
        "### 3.1 Color"
      ],
      "metadata": {
        "id": "2v_YzDo9lOBU"
      }
    },
    {
      "cell_type": "code",
      "source": [
        "print(new_df.Color.value_counts())\n",
        "sns.countplot(y ='Color', data = new_df)"
      ],
      "metadata": {
        "colab": {
          "base_uri": "https://localhost:8080/",
          "height": 398
        },
        "id": "cZ9Z2_pIK3JA",
        "outputId": "3d9f0642-c428-4af8-da42-d0f5aa20ee08"
      },
      "execution_count": 22,
      "outputs": [
        {
          "output_type": "stream",
          "name": "stdout",
          "text": [
            "red              69511\n",
            "white            15286\n",
            "yellow            3388\n",
            "unknown-color     2372\n",
            "black                2\n",
            "Name: Color, dtype: int64\n"
          ]
        },
        {
          "output_type": "execute_result",
          "data": {
            "text/plain": [
              "<matplotlib.axes._subplots.AxesSubplot at 0x7f7a1ade17c0>"
            ]
          },
          "metadata": {},
          "execution_count": 22
        },
        {
          "output_type": "display_data",
          "data": {
            "text/plain": [
              "<Figure size 432x288 with 1 Axes>"
            ],
            "image/png": "[encoded data removed]"
          },
          "metadata": {
            "needs_background": "light"
          }
        }
      ]
    },
    {
      "cell_type": "markdown",
      "source": [
        "> Red color is most popular."
      ],
      "metadata": {
        "id": "WHsWoYCplR9A"
      }
    },
    {
      "cell_type": "markdown",
      "source": [
        "### 3.2 Metal types per Brand ID"
      ],
      "metadata": {
        "id": "y9sf22RLla5O"
      }
    },
    {
      "cell_type": "code",
      "source": [
        "print(new_df.Metal.value_counts())\n",
        "sns.countplot(y ='BrandID', hue = \"Metal\", data = new_df)"
      ],
      "metadata": {
        "colab": {
          "base_uri": "https://localhost:8080/",
          "height": 381
        },
        "id": "qN754ZbQJ8B4",
        "outputId": "109ecea6-2f19-4464-a736-bb0d31eff3e0"
      },
      "execution_count": 23,
      "outputs": [
        {
          "output_type": "stream",
          "name": "stdout",
          "text": [
            "gold        89082\n",
            "silver       1365\n",
            "unknown       110\n",
            "platinum        2\n",
            "Name: Metal, dtype: int64\n"
          ]
        },
        {
          "output_type": "execute_result",
          "data": {
            "text/plain": [
              "<matplotlib.axes._subplots.AxesSubplot at 0x7f7a1ae17ca0>"
            ]
          },
          "metadata": {},
          "execution_count": 23
        },
        {
          "output_type": "display_data",
          "data": {
            "text/plain": [
              "<Figure size 432x288 with 1 Axes>"
            ],
            "image/png": "[encoded data removed]"
          },
          "metadata": {
            "needs_background": "light"
          }
        }
      ]
    },
    {
      "cell_type": "markdown",
      "source": [
        "> Gold is most popular."
      ],
      "metadata": {
        "id": "-Ox1UeVylg-J"
      }
    },
    {
      "cell_type": "markdown",
      "source": [
        "### 3.3 Gem"
      ],
      "metadata": {
        "id": "iUyA2jjUln2n"
      }
    },
    {
      "cell_type": "code",
      "source": [
        "sns.countplot(data = new_df, y = 'Gem', order = new_df['Gem'].value_counts().index)"
      ],
      "metadata": {
        "colab": {
          "base_uri": "https://localhost:8080/",
          "height": 297
        },
        "id": "q6lGN2okLQPE",
        "outputId": "711889c8-19e0-448a-bfc6-6ee7f988bfaf"
      },
      "execution_count": 24,
      "outputs": [
        {
          "output_type": "execute_result",
          "data": {
            "text/plain": [
              "<matplotlib.axes._subplots.AxesSubplot at 0x7f7a1ac9ad00>"
            ]
          },
          "metadata": {},
          "execution_count": 24
        },
        {
          "output_type": "display_data",
          "data": {
            "text/plain": [
              "<Figure size 432x288 with 1 Axes>"
            ],
            "image/png": "[encoded data removed]"
          },
          "metadata": {
            "needs_background": "light"
          }
        }
      ]
    },
    {
      "cell_type": "markdown",
      "source": [
        "> Diamond is most popular."
      ],
      "metadata": {
        "id": "2UMSCzimlpx3"
      }
    },
    {
      "cell_type": "markdown",
      "source": [
        "### 3.4 Category Code"
      ],
      "metadata": {
        "id": "iVWHmz22ltDo"
      }
    },
    {
      "cell_type": "code",
      "source": [
        "sns.countplot(data = new_df, y = 'CategoryCode', order = new_df['CategoryCode'].value_counts().index)"
      ],
      "metadata": {
        "colab": {
          "base_uri": "https://localhost:8080/",
          "height": 296
        },
        "id": "6J9ncmWSMRBG",
        "outputId": "6ec57947-d867-4885-e270-324fcc94a671"
      },
      "execution_count": 25,
      "outputs": [
        {
          "output_type": "execute_result",
          "data": {
            "text/plain": [
              "<matplotlib.axes._subplots.AxesSubplot at 0x7f7a1ada5430>"
            ]
          },
          "metadata": {},
          "execution_count": 25
        },
        {
          "output_type": "display_data",
          "data": {
            "text/plain": [
              "<Figure size 432x288 with 1 Axes>"
            ],
            "image/png": "[encoded data removed]"
          },
          "metadata": {
            "needs_background": "light"
          }
        }
      ]
    },
    {
      "cell_type": "markdown",
      "source": [
        "> Most of the customers have bought earrings followed by rings."
      ],
      "metadata": {
        "id": "a708f_CHlvgh"
      }
    },
    {
      "cell_type": "markdown",
      "source": [
        "### 3.5 Brand ID"
      ],
      "metadata": {
        "id": "B1qndTq2l9ka"
      }
    },
    {
      "cell_type": "code",
      "source": [
        "print(new_df.BrandID.value_counts())\n",
        "sns.countplot(data = new_df, y = 'BrandID', order = new_df['BrandID'].value_counts().index)"
      ],
      "metadata": {
        "colab": {
          "base_uri": "https://localhost:8080/",
          "height": 449
        },
        "id": "L6QZCnLcMk9x",
        "outputId": "b25a536e-1df4-4b05-d6cd-2c451d47eac4"
      },
      "execution_count": 26,
      "outputs": [
        {
          "output_type": "stream",
          "name": "stdout",
          "text": [
            "0.0    44600\n",
            "1.0    32022\n",
            "2.0     8966\n",
            "-1      4785\n",
            "4.0       65\n",
            "3.0       58\n",
            "6.0       56\n",
            "5.0        7\n",
            "Name: BrandID, dtype: int64\n"
          ]
        },
        {
          "output_type": "execute_result",
          "data": {
            "text/plain": [
              "<matplotlib.axes._subplots.AxesSubplot at 0x7f7a1abcd850>"
            ]
          },
          "metadata": {},
          "execution_count": 26
        },
        {
          "output_type": "display_data",
          "data": {
            "text/plain": [
              "<Figure size 432x288 with 1 Axes>"
            ],
            "image/png": "[encoded data removed]"
          },
          "metadata": {
            "needs_background": "light"
          }
        }
      ]
    },
    {
      "cell_type": "code",
      "source": [
        "new_df.groupby('BrandID').USDPrice.sum().plot.bar()"
      ],
      "metadata": {
        "colab": {
          "base_uri": "https://localhost:8080/",
          "height": 313
        },
        "id": "gQnMuxcEMw9P",
        "outputId": "2457d777-8002-4b59-fa52-6fe35fb334de"
      },
      "execution_count": 27,
      "outputs": [
        {
          "output_type": "execute_result",
          "data": {
            "text/plain": [
              "<matplotlib.axes._subplots.AxesSubplot at 0x7f7a1aae9df0>"
            ]
          },
          "metadata": {},
          "execution_count": 27
        },
        {
          "output_type": "display_data",
          "data": {
            "text/plain": [
              "<Figure size 432x288 with 1 Axes>"
            ],
            "image/png": "[encoded data removed]"
          },
          "metadata": {
            "needs_background": "light"
          }
        }
      ]
    },
    {
      "cell_type": "markdown",
      "source": [
        "> Brand ID 0 is most popular and reached the highest sales."
      ],
      "metadata": {
        "id": "ElcYEaeGl_w5"
      }
    },
    {
      "cell_type": "code",
      "source": [
        "sns.countplot(x ='BrandID', hue = \"CategoryCode\", data = new_df[new_df['BrandID'].astype(int)<= 2])"
      ],
      "metadata": {
        "colab": {
          "base_uri": "https://localhost:8080/",
          "height": 296
        },
        "id": "me5tObTGNA8c",
        "outputId": "5c392229-e02f-421f-b2ae-377a4ac0f24d"
      },
      "execution_count": 28,
      "outputs": [
        {
          "output_type": "execute_result",
          "data": {
            "text/plain": [
              "<matplotlib.axes._subplots.AxesSubplot at 0x7f7a1aa59880>"
            ]
          },
          "metadata": {},
          "execution_count": 28
        },
        {
          "output_type": "display_data",
          "data": {
            "text/plain": [
              "<Figure size 432x288 with 1 Axes>"
            ],
            "image/png": "[encoded data removed]"
          },
          "metadata": {
            "needs_background": "light"
          }
        }
      ]
    },
    {
      "cell_type": "markdown",
      "source": [
        "> Customers like rings from Brand ID 0 the most. Earrings from Brand ID 1 seem popular. "
      ],
      "metadata": {
        "id": "yVZcEjK_mQSG"
      }
    },
    {
      "cell_type": "markdown",
      "source": [
        "## 4. Total sales Forecasting"
      ],
      "metadata": {
        "id": "unl_CHqWQmKv"
      }
    },
    {
      "cell_type": "markdown",
      "source": [
        "### 4.1 Data Preprocessing"
      ],
      "metadata": {
        "id": "J5mcesSDnaxv"
      }
    },
    {
      "cell_type": "code",
      "source": [
        "new_df['Datetime'] = new_df.Datetime.apply(lambda x : x[:10])\n",
        "new_df.head()"
      ],
      "metadata": {
        "colab": {
          "base_uri": "https://localhost:8080/",
          "height": 353
        },
        "id": "WVW1INeGQv_4",
        "outputId": "670537b7-1540-4431-c820-5534bfd2e097"
      },
      "execution_count": 29,
      "outputs": [
        {
          "output_type": "execute_result",
          "data": {
            "text/plain": [
              "     Datetime              OrderID            ProductID    CategoryID  \\\n",
              "0  2018-12-01  1924719191579951782  1842195256808833386  1.806829e+18   \n",
              "1  2018-12-01  1924899396621697920  1806829193678291446  1.806829e+18   \n",
              "2  2018-12-02  1925511016616034733  1842214461889315556  1.806829e+18   \n",
              "3  2018-12-02  1925626951238681511  1835566849434059453  1.806829e+18   \n",
              "4  2018-12-02  1925740842841014667  1873936840742928865  1.806829e+18   \n",
              "\n",
              "       CategoryCode BrandID  USDPrice        UserID Gender   Color Metal  \\\n",
              "0   jewelry.earring     0.0    561.51  1.515916e+18      f     red  gold   \n",
              "1             other      -1    212.14  1.515916e+18      f  yellow  gold   \n",
              "2   jewelry.pendant     1.0     54.66  1.515916e+18      f   white  gold   \n",
              "3   jewelry.pendant     0.0     88.90  1.515916e+18      f     red  gold   \n",
              "4  jewelry.necklace     0.0    417.67  1.515916e+18      f     red  gold   \n",
              "\n",
              "        Gem  \n",
              "0   diamond  \n",
              "1   unknown  \n",
              "2  sapphire  \n",
              "3   diamond  \n",
              "4  amethyst  "
            ],
            "text/html": [
              "\n",
              "  <div id=\"df-c9e65cce-c762-4d8d-a491-dbe7f0fd8238\">\n",
              "    <div class=\"colab-df-container\">\n",
              "      <div>\n",
              "<style scoped>\n",
              "    .dataframe tbody tr th:only-of-type {\n",
              "        vertical-align: middle;\n",
              "    }\n",
              "\n",
              "    .dataframe tbody tr th {\n",
              "        vertical-align: top;\n",
              "    }\n",
              "\n",
              "    .dataframe thead th {\n",
              "        text-align: right;\n",
              "    }\n",
              "</style>\n",
              "<table border=\"1\" class=\"dataframe\">\n",
              "  <thead>\n",
              "    <tr style=\"text-align: right;\">\n",
              "      <th></th>\n",
              "      <th>Datetime</th>\n",
              "      <th>OrderID</th>\n",
              "      <th>ProductID</th>\n",
              "      <th>CategoryID</th>\n",
              "      <th>CategoryCode</th>\n",
              "      <th>BrandID</th>\n",
              "      <th>USDPrice</th>\n",
              "      <th>UserID</th>\n",
              "      <th>Gender</th>\n",
              "      <th>Color</th>\n",
              "      <th>Metal</th>\n",
              "      <th>Gem</th>\n",
              "    </tr>\n",
              "  </thead>\n",
              "  <tbody>\n",
              "    <tr>\n",
              "      <th>0</th>\n",
              "      <td>2018-12-01</td>\n",
              "      <td>1924719191579951782</td>\n",
              "      <td>1842195256808833386</td>\n",
              "      <td>1.806829e+18</td>\n",
              "      <td>jewelry.earring</td>\n",
              "      <td>0.0</td>\n",
              "      <td>561.51</td>\n",
              "      <td>1.515916e+18</td>\n",
              "      <td>f</td>\n",
              "      <td>red</td>\n",
              "      <td>gold</td>\n",
              "      <td>diamond</td>\n",
              "    </tr>\n",
              "    <tr>\n",
              "      <th>1</th>\n",
              "      <td>2018-12-01</td>\n",
              "      <td>1924899396621697920</td>\n",
              "      <td>1806829193678291446</td>\n",
              "      <td>1.806829e+18</td>\n",
              "      <td>other</td>\n",
              "      <td>-1</td>\n",
              "      <td>212.14</td>\n",
              "      <td>1.515916e+18</td>\n",
              "      <td>f</td>\n",
              "      <td>yellow</td>\n",
              "      <td>gold</td>\n",
              "      <td>unknown</td>\n",
              "    </tr>\n",
              "    <tr>\n",
              "      <th>2</th>\n",
              "      <td>2018-12-02</td>\n",
              "      <td>1925511016616034733</td>\n",
              "      <td>1842214461889315556</td>\n",
              "      <td>1.806829e+18</td>\n",
              "      <td>jewelry.pendant</td>\n",
              "      <td>1.0</td>\n",
              "      <td>54.66</td>\n",
              "      <td>1.515916e+18</td>\n",
              "      <td>f</td>\n",
              "      <td>white</td>\n",
              "      <td>gold</td>\n",
              "      <td>sapphire</td>\n",
              "    </tr>\n",
              "    <tr>\n",
              "      <th>3</th>\n",
              "      <td>2018-12-02</td>\n",
              "      <td>1925626951238681511</td>\n",
              "      <td>1835566849434059453</td>\n",
              "      <td>1.806829e+18</td>\n",
              "      <td>jewelry.pendant</td>\n",
              "      <td>0.0</td>\n",
              "      <td>88.90</td>\n",
              "      <td>1.515916e+18</td>\n",
              "      <td>f</td>\n",
              "      <td>red</td>\n",
              "      <td>gold</td>\n",
              "      <td>diamond</td>\n",
              "    </tr>\n",
              "    <tr>\n",
              "      <th>4</th>\n",
              "      <td>2018-12-02</td>\n",
              "      <td>1925740842841014667</td>\n",
              "      <td>1873936840742928865</td>\n",
              "      <td>1.806829e+18</td>\n",
              "      <td>jewelry.necklace</td>\n",
              "      <td>0.0</td>\n",
              "      <td>417.67</td>\n",
              "      <td>1.515916e+18</td>\n",
              "      <td>f</td>\n",
              "      <td>red</td>\n",
              "      <td>gold</td>\n",
              "      <td>amethyst</td>\n",
              "    </tr>\n",
              "  </tbody>\n",
              "</table>\n",
              "</div>\n",
              "      <button class=\"colab-df-convert\" onclick=\"convertToInteractive('df-c9e65cce-c762-4d8d-a491-dbe7f0fd8238')\"\n",
              "              title=\"Convert this dataframe to an interactive table.\"\n",
              "              style=\"display:none;\">\n",
              "        \n",
              "  <svg xmlns=\"http://www.w3.org/2000/svg\" height=\"24px\"viewBox=\"0 0 24 24\"\n",
              "       width=\"24px\">\n",
              "    <path d=\"M0 0h24v24H0V0z\" fill=\"none\"/>\n",
              "    <path d=\"M18.56 5.44l.94 2.06.94-2.06 2.06-.94-2.06-.94-.94-2.06-.94 2.06-2.06.94zm-11 1L8.5 8.5l.94-2.06 2.06-.94-2.06-.94L8.5 2.5l-.94 2.06-2.06.94zm10 10l.94 2.06.94-2.06 2.06-.94-2.06-.94-.94-2.06-.94 2.06-2.06.94z\"/><path d=\"M17.41 7.96l-1.37-1.37c-.4-.4-.92-.59-1.43-.59-.52 0-1.04.2-1.43.59L10.3 9.45l-7.72 7.72c-.78.78-.78 2.05 0 2.83L4 21.41c.39.39.9.59 1.41.59.51 0 1.02-.2 1.41-.59l7.78-7.78 2.81-2.81c.8-.78.8-2.07 0-2.86zM5.41 20L4 18.59l7.72-7.72 1.47 1.35L5.41 20z\"/>\n",
              "  </svg>\n",
              "      </button>\n",
              "      \n",
              "  <style>\n",
              "    .colab-df-container {\n",
              "      display:flex;\n",
              "      flex-wrap:wrap;\n",
              "      gap: 12px;\n",
              "    }\n",
              "\n",
              "    .colab-df-convert {\n",
              "      background-color: #E8F0FE;\n",
              "      border: none;\n",
              "      border-radius: 50%;\n",
              "      cursor: pointer;\n",
              "      display: none;\n",
              "      fill: #1967D2;\n",
              "      height: 32px;\n",
              "      padding: 0 0 0 0;\n",
              "      width: 32px;\n",
              "    }\n",
              "\n",
              "    .colab-df-convert:hover {\n",
              "      background-color: #E2EBFA;\n",
              "      box-shadow: 0px 1px 2px rgba(60, 64, 67, 0.3), 0px 1px 3px 1px rgba(60, 64, 67, 0.15);\n",
              "      fill: #174EA6;\n",
              "    }\n",
              "\n",
              "    [theme=dark] .colab-df-convert {\n",
              "      background-color: #3B4455;\n",
              "      fill: #D2E3FC;\n",
              "    }\n",
              "\n",
              "    [theme=dark] .colab-df-convert:hover {\n",
              "      background-color: #434B5C;\n",
              "      box-shadow: 0px 1px 3px 1px rgba(0, 0, 0, 0.15);\n",
              "      filter: drop-shadow(0px 1px 2px rgba(0, 0, 0, 0.3));\n",
              "      fill: #FFFFFF;\n",
              "    }\n",
              "  </style>\n",
              "\n",
              "      <script>\n",
              "        const buttonEl =\n",
              "          document.querySelector('#df-c9e65cce-c762-4d8d-a491-dbe7f0fd8238 button.colab-df-convert');\n",
              "        buttonEl.style.display =\n",
              "          google.colab.kernel.accessAllowed ? 'block' : 'none';\n",
              "\n",
              "        async function convertToInteractive(key) {\n",
              "          const element = document.querySelector('#df-c9e65cce-c762-4d8d-a491-dbe7f0fd8238');\n",
              "          const dataTable =\n",
              "            await google.colab.kernel.invokeFunction('convertToInteractive',\n",
              "                                                     [key], {});\n",
              "          if (!dataTable) return;\n",
              "\n",
              "          const docLinkHtml = 'Like what you see? Visit the ' +\n",
              "            '<a target=\"_blank\" href=https://colab.research.google.com/notebooks/data_table.ipynb>data table notebook</a>'\n",
              "            + ' to learn more about interactive tables.';\n",
              "          element.innerHTML = '';\n",
              "          dataTable['output_type'] = 'display_data';\n",
              "          await google.colab.output.renderOutput(dataTable, element);\n",
              "          const docLink = document.createElement('div');\n",
              "          docLink.innerHTML = docLinkHtml;\n",
              "          element.appendChild(docLink);\n",
              "        }\n",
              "      </script>\n",
              "    </div>\n",
              "  </div>\n",
              "  "
            ]
          },
          "metadata": {},
          "execution_count": 29
        }
      ]
    },
    {
      "cell_type": "code",
      "source": [
        "from datetime import datetime\n",
        "\n",
        "new_df['Datetime'] = new_df['Datetime'].apply(lambda x: datetime.strptime(x, '%Y-%m-%d'))\n",
        "new_df.info()"
      ],
      "metadata": {
        "colab": {
          "base_uri": "https://localhost:8080/"
        },
        "id": "RswiseC8OGDX",
        "outputId": "77a71850-2579-4294-dd30-11a3d635385e"
      },
      "execution_count": 30,
      "outputs": [
        {
          "output_type": "stream",
          "name": "stdout",
          "text": [
            "<class 'pandas.core.frame.DataFrame'>\n",
            "Int64Index: 90559 entries, 0 to 95910\n",
            "Data columns (total 12 columns):\n",
            " #   Column        Non-Null Count  Dtype         \n",
            "---  ------        --------------  -----         \n",
            " 0   Datetime      90559 non-null  datetime64[ns]\n",
            " 1   OrderID       90559 non-null  int64         \n",
            " 2   ProductID     90559 non-null  int64         \n",
            " 3   CategoryID    90559 non-null  float64       \n",
            " 4   CategoryCode  90559 non-null  object        \n",
            " 5   BrandID       90559 non-null  object        \n",
            " 6   USDPrice      90559 non-null  float64       \n",
            " 7   UserID        90559 non-null  float64       \n",
            " 8   Gender        90559 non-null  object        \n",
            " 9   Color         90559 non-null  object        \n",
            " 10  Metal         90559 non-null  object        \n",
            " 11  Gem           90559 non-null  object        \n",
            "dtypes: datetime64[ns](1), float64(3), int64(2), object(6)\n",
            "memory usage: 11.0+ MB\n"
          ]
        }
      ]
    },
    {
      "cell_type": "code",
      "source": [
        "new_df.head()"
      ],
      "metadata": {
        "colab": {
          "base_uri": "https://localhost:8080/",
          "height": 353
        },
        "id": "BXLEnfDRSMyy",
        "outputId": "acfec036-8262-43f7-bc3f-1868e0443050"
      },
      "execution_count": 31,
      "outputs": [
        {
          "output_type": "execute_result",
          "data": {
            "text/plain": [
              "    Datetime              OrderID            ProductID    CategoryID  \\\n",
              "0 2018-12-01  1924719191579951782  1842195256808833386  1.806829e+18   \n",
              "1 2018-12-01  1924899396621697920  1806829193678291446  1.806829e+18   \n",
              "2 2018-12-02  1925511016616034733  1842214461889315556  1.806829e+18   \n",
              "3 2018-12-02  1925626951238681511  1835566849434059453  1.806829e+18   \n",
              "4 2018-12-02  1925740842841014667  1873936840742928865  1.806829e+18   \n",
              "\n",
              "       CategoryCode BrandID  USDPrice        UserID Gender   Color Metal  \\\n",
              "0   jewelry.earring     0.0    561.51  1.515916e+18      f     red  gold   \n",
              "1             other      -1    212.14  1.515916e+18      f  yellow  gold   \n",
              "2   jewelry.pendant     1.0     54.66  1.515916e+18      f   white  gold   \n",
              "3   jewelry.pendant     0.0     88.90  1.515916e+18      f     red  gold   \n",
              "4  jewelry.necklace     0.0    417.67  1.515916e+18      f     red  gold   \n",
              "\n",
              "        Gem  \n",
              "0   diamond  \n",
              "1   unknown  \n",
              "2  sapphire  \n",
              "3   diamond  \n",
              "4  amethyst  "
            ],
            "text/html": [
              "\n",
              "  <div id=\"df-17bfb3f7-ee83-482a-9141-fb1022844385\">\n",
              "    <div class=\"colab-df-container\">\n",
              "      <div>\n",
              "<style scoped>\n",
              "    .dataframe tbody tr th:only-of-type {\n",
              "        vertical-align: middle;\n",
              "    }\n",
              "\n",
              "    .dataframe tbody tr th {\n",
              "        vertical-align: top;\n",
              "    }\n",
              "\n",
              "    .dataframe thead th {\n",
              "        text-align: right;\n",
              "    }\n",
              "</style>\n",
              "<table border=\"1\" class=\"dataframe\">\n",
              "  <thead>\n",
              "    <tr style=\"text-align: right;\">\n",
              "      <th></th>\n",
              "      <th>Datetime</th>\n",
              "      <th>OrderID</th>\n",
              "      <th>ProductID</th>\n",
              "      <th>CategoryID</th>\n",
              "      <th>CategoryCode</th>\n",
              "      <th>BrandID</th>\n",
              "      <th>USDPrice</th>\n",
              "      <th>UserID</th>\n",
              "      <th>Gender</th>\n",
              "      <th>Color</th>\n",
              "      <th>Metal</th>\n",
              "      <th>Gem</th>\n",
              "    </tr>\n",
              "  </thead>\n",
              "  <tbody>\n",
              "    <tr>\n",
              "      <th>0</th>\n",
              "      <td>2018-12-01</td>\n",
              "      <td>1924719191579951782</td>\n",
              "      <td>1842195256808833386</td>\n",
              "      <td>1.806829e+18</td>\n",
              "      <td>jewelry.earring</td>\n",
              "      <td>0.0</td>\n",
              "      <td>561.51</td>\n",
              "      <td>1.515916e+18</td>\n",
              "      <td>f</td>\n",
              "      <td>red</td>\n",
              "      <td>gold</td>\n",
              "      <td>diamond</td>\n",
              "    </tr>\n",
              "    <tr>\n",
              "      <th>1</th>\n",
              "      <td>2018-12-01</td>\n",
              "      <td>1924899396621697920</td>\n",
              "      <td>1806829193678291446</td>\n",
              "      <td>1.806829e+18</td>\n",
              "      <td>other</td>\n",
              "      <td>-1</td>\n",
              "      <td>212.14</td>\n",
              "      <td>1.515916e+18</td>\n",
              "      <td>f</td>\n",
              "      <td>yellow</td>\n",
              "      <td>gold</td>\n",
              "      <td>unknown</td>\n",
              "    </tr>\n",
              "    <tr>\n",
              "      <th>2</th>\n",
              "      <td>2018-12-02</td>\n",
              "      <td>1925511016616034733</td>\n",
              "      <td>1842214461889315556</td>\n",
              "      <td>1.806829e+18</td>\n",
              "      <td>jewelry.pendant</td>\n",
              "      <td>1.0</td>\n",
              "      <td>54.66</td>\n",
              "      <td>1.515916e+18</td>\n",
              "      <td>f</td>\n",
              "      <td>white</td>\n",
              "      <td>gold</td>\n",
              "      <td>sapphire</td>\n",
              "    </tr>\n",
              "    <tr>\n",
              "      <th>3</th>\n",
              "      <td>2018-12-02</td>\n",
              "      <td>1925626951238681511</td>\n",
              "      <td>1835566849434059453</td>\n",
              "      <td>1.806829e+18</td>\n",
              "      <td>jewelry.pendant</td>\n",
              "      <td>0.0</td>\n",
              "      <td>88.90</td>\n",
              "      <td>1.515916e+18</td>\n",
              "      <td>f</td>\n",
              "      <td>red</td>\n",
              "      <td>gold</td>\n",
              "      <td>diamond</td>\n",
              "    </tr>\n",
              "    <tr>\n",
              "      <th>4</th>\n",
              "      <td>2018-12-02</td>\n",
              "      <td>1925740842841014667</td>\n",
              "      <td>1873936840742928865</td>\n",
              "      <td>1.806829e+18</td>\n",
              "      <td>jewelry.necklace</td>\n",
              "      <td>0.0</td>\n",
              "      <td>417.67</td>\n",
              "      <td>1.515916e+18</td>\n",
              "      <td>f</td>\n",
              "      <td>red</td>\n",
              "      <td>gold</td>\n",
              "      <td>amethyst</td>\n",
              "    </tr>\n",
              "  </tbody>\n",
              "</table>\n",
              "</div>\n",
              "      <button class=\"colab-df-convert\" onclick=\"convertToInteractive('df-17bfb3f7-ee83-482a-9141-fb1022844385')\"\n",
              "              title=\"Convert this dataframe to an interactive table.\"\n",
              "              style=\"display:none;\">\n",
              "        \n",
              "  <svg xmlns=\"http://www.w3.org/2000/svg\" height=\"24px\"viewBox=\"0 0 24 24\"\n",
              "       width=\"24px\">\n",
              "    <path d=\"M0 0h24v24H0V0z\" fill=\"none\"/>\n",
              "    <path d=\"M18.56 5.44l.94 2.06.94-2.06 2.06-.94-2.06-.94-.94-2.06-.94 2.06-2.06.94zm-11 1L8.5 8.5l.94-2.06 2.06-.94-2.06-.94L8.5 2.5l-.94 2.06-2.06.94zm10 10l.94 2.06.94-2.06 2.06-.94-2.06-.94-.94-2.06-.94 2.06-2.06.94z\"/><path d=\"M17.41 7.96l-1.37-1.37c-.4-.4-.92-.59-1.43-.59-.52 0-1.04.2-1.43.59L10.3 9.45l-7.72 7.72c-.78.78-.78 2.05 0 2.83L4 21.41c.39.39.9.59 1.41.59.51 0 1.02-.2 1.41-.59l7.78-7.78 2.81-2.81c.8-.78.8-2.07 0-2.86zM5.41 20L4 18.59l7.72-7.72 1.47 1.35L5.41 20z\"/>\n",
              "  </svg>\n",
              "      </button>\n",
              "      \n",
              "  <style>\n",
              "    .colab-df-container {\n",
              "      display:flex;\n",
              "      flex-wrap:wrap;\n",
              "      gap: 12px;\n",
              "    }\n",
              "\n",
              "    .colab-df-convert {\n",
              "      background-color: #E8F0FE;\n",
              "      border: none;\n",
              "      border-radius: 50%;\n",
              "      cursor: pointer;\n",
              "      display: none;\n",
              "      fill: #1967D2;\n",
              "      height: 32px;\n",
              "      padding: 0 0 0 0;\n",
              "      width: 32px;\n",
              "    }\n",
              "\n",
              "    .colab-df-convert:hover {\n",
              "      background-color: #E2EBFA;\n",
              "      box-shadow: 0px 1px 2px rgba(60, 64, 67, 0.3), 0px 1px 3px 1px rgba(60, 64, 67, 0.15);\n",
              "      fill: #174EA6;\n",
              "    }\n",
              "\n",
              "    [theme=dark] .colab-df-convert {\n",
              "      background-color: #3B4455;\n",
              "      fill: #D2E3FC;\n",
              "    }\n",
              "\n",
              "    [theme=dark] .colab-df-convert:hover {\n",
              "      background-color: #434B5C;\n",
              "      box-shadow: 0px 1px 3px 1px rgba(0, 0, 0, 0.15);\n",
              "      filter: drop-shadow(0px 1px 2px rgba(0, 0, 0, 0.3));\n",
              "      fill: #FFFFFF;\n",
              "    }\n",
              "  </style>\n",
              "\n",
              "      <script>\n",
              "        const buttonEl =\n",
              "          document.querySelector('#df-17bfb3f7-ee83-482a-9141-fb1022844385 button.colab-df-convert');\n",
              "        buttonEl.style.display =\n",
              "          google.colab.kernel.accessAllowed ? 'block' : 'none';\n",
              "\n",
              "        async function convertToInteractive(key) {\n",
              "          const element = document.querySelector('#df-17bfb3f7-ee83-482a-9141-fb1022844385');\n",
              "          const dataTable =\n",
              "            await google.colab.kernel.invokeFunction('convertToInteractive',\n",
              "                                                     [key], {});\n",
              "          if (!dataTable) return;\n",
              "\n",
              "          const docLinkHtml = 'Like what you see? Visit the ' +\n",
              "            '<a target=\"_blank\" href=https://colab.research.google.com/notebooks/data_table.ipynb>data table notebook</a>'\n",
              "            + ' to learn more about interactive tables.';\n",
              "          element.innerHTML = '';\n",
              "          dataTable['output_type'] = 'display_data';\n",
              "          await google.colab.output.renderOutput(dataTable, element);\n",
              "          const docLink = document.createElement('div');\n",
              "          docLink.innerHTML = docLinkHtml;\n",
              "          element.appendChild(docLink);\n",
              "        }\n",
              "      </script>\n",
              "    </div>\n",
              "  </div>\n",
              "  "
            ]
          },
          "metadata": {},
          "execution_count": 31
        }
      ]
    },
    {
      "cell_type": "markdown",
      "source": [
        "Total sum of price per day"
      ],
      "metadata": {
        "id": "3zz1vEDpm2dr"
      }
    },
    {
      "cell_type": "code",
      "source": [
        "sales_df =  pd.pivot_table(new_df, \n",
        "                 index= 'Datetime' ,\n",
        "                 values= 'USDPrice'  ,\n",
        "                 aggfunc= 'sum' ).reset_index()\n",
        "\n",
        "sales_df.head()"
      ],
      "metadata": {
        "colab": {
          "base_uri": "https://localhost:8080/",
          "height": 204
        },
        "id": "tELIoP6GS0tm",
        "outputId": "c9d3f03c-533b-4217-a75e-0cbfff9232f5"
      },
      "execution_count": 32,
      "outputs": [
        {
          "output_type": "execute_result",
          "data": {
            "text/plain": [
              "    Datetime  USDPrice\n",
              "0 2018-12-01    773.65\n",
              "1 2018-12-02    897.47\n",
              "2 2018-12-03    978.85\n",
              "3 2018-12-04   3486.05\n",
              "4 2018-12-05   1246.58"
            ],
            "text/html": [
              "\n",
              "  <div id=\"df-aa60088f-d789-4378-89e7-cf338fc84bc9\">\n",
              "    <div class=\"colab-df-container\">\n",
              "      <div>\n",
              "<style scoped>\n",
              "    .dataframe tbody tr th:only-of-type {\n",
              "        vertical-align: middle;\n",
              "    }\n",
              "\n",
              "    .dataframe tbody tr th {\n",
              "        vertical-align: top;\n",
              "    }\n",
              "\n",
              "    .dataframe thead th {\n",
              "        text-align: right;\n",
              "    }\n",
              "</style>\n",
              "<table border=\"1\" class=\"dataframe\">\n",
              "  <thead>\n",
              "    <tr style=\"text-align: right;\">\n",
              "      <th></th>\n",
              "      <th>Datetime</th>\n",
              "      <th>USDPrice</th>\n",
              "    </tr>\n",
              "  </thead>\n",
              "  <tbody>\n",
              "    <tr>\n",
              "      <th>0</th>\n",
              "      <td>2018-12-01</td>\n",
              "      <td>773.65</td>\n",
              "    </tr>\n",
              "    <tr>\n",
              "      <th>1</th>\n",
              "      <td>2018-12-02</td>\n",
              "      <td>897.47</td>\n",
              "    </tr>\n",
              "    <tr>\n",
              "      <th>2</th>\n",
              "      <td>2018-12-03</td>\n",
              "      <td>978.85</td>\n",
              "    </tr>\n",
              "    <tr>\n",
              "      <th>3</th>\n",
              "      <td>2018-12-04</td>\n",
              "      <td>3486.05</td>\n",
              "    </tr>\n",
              "    <tr>\n",
              "      <th>4</th>\n",
              "      <td>2018-12-05</td>\n",
              "      <td>1246.58</td>\n",
              "    </tr>\n",
              "  </tbody>\n",
              "</table>\n",
              "</div>\n",
              "      <button class=\"colab-df-convert\" onclick=\"convertToInteractive('df-aa60088f-d789-4378-89e7-cf338fc84bc9')\"\n",
              "              title=\"Convert this dataframe to an interactive table.\"\n",
              "              style=\"display:none;\">\n",
              "        \n",
              "  <svg xmlns=\"http://www.w3.org/2000/svg\" height=\"24px\"viewBox=\"0 0 24 24\"\n",
              "       width=\"24px\">\n",
              "    <path d=\"M0 0h24v24H0V0z\" fill=\"none\"/>\n",
              "    <path d=\"M18.56 5.44l.94 2.06.94-2.06 2.06-.94-2.06-.94-.94-2.06-.94 2.06-2.06.94zm-11 1L8.5 8.5l.94-2.06 2.06-.94-2.06-.94L8.5 2.5l-.94 2.06-2.06.94zm10 10l.94 2.06.94-2.06 2.06-.94-2.06-.94-.94-2.06-.94 2.06-2.06.94z\"/><path d=\"M17.41 7.96l-1.37-1.37c-.4-.4-.92-.59-1.43-.59-.52 0-1.04.2-1.43.59L10.3 9.45l-7.72 7.72c-.78.78-.78 2.05 0 2.83L4 21.41c.39.39.9.59 1.41.59.51 0 1.02-.2 1.41-.59l7.78-7.78 2.81-2.81c.8-.78.8-2.07 0-2.86zM5.41 20L4 18.59l7.72-7.72 1.47 1.35L5.41 20z\"/>\n",
              "  </svg>\n",
              "      </button>\n",
              "      \n",
              "  <style>\n",
              "    .colab-df-container {\n",
              "      display:flex;\n",
              "      flex-wrap:wrap;\n",
              "      gap: 12px;\n",
              "    }\n",
              "\n",
              "    .colab-df-convert {\n",
              "      background-color: #E8F0FE;\n",
              "      border: none;\n",
              "      border-radius: 50%;\n",
              "      cursor: pointer;\n",
              "      display: none;\n",
              "      fill: #1967D2;\n",
              "      height: 32px;\n",
              "      padding: 0 0 0 0;\n",
              "      width: 32px;\n",
              "    }\n",
              "\n",
              "    .colab-df-convert:hover {\n",
              "      background-color: #E2EBFA;\n",
              "      box-shadow: 0px 1px 2px rgba(60, 64, 67, 0.3), 0px 1px 3px 1px rgba(60, 64, 67, 0.15);\n",
              "      fill: #174EA6;\n",
              "    }\n",
              "\n",
              "    [theme=dark] .colab-df-convert {\n",
              "      background-color: #3B4455;\n",
              "      fill: #D2E3FC;\n",
              "    }\n",
              "\n",
              "    [theme=dark] .colab-df-convert:hover {\n",
              "      background-color: #434B5C;\n",
              "      box-shadow: 0px 1px 3px 1px rgba(0, 0, 0, 0.15);\n",
              "      filter: drop-shadow(0px 1px 2px rgba(0, 0, 0, 0.3));\n",
              "      fill: #FFFFFF;\n",
              "    }\n",
              "  </style>\n",
              "\n",
              "      <script>\n",
              "        const buttonEl =\n",
              "          document.querySelector('#df-aa60088f-d789-4378-89e7-cf338fc84bc9 button.colab-df-convert');\n",
              "        buttonEl.style.display =\n",
              "          google.colab.kernel.accessAllowed ? 'block' : 'none';\n",
              "\n",
              "        async function convertToInteractive(key) {\n",
              "          const element = document.querySelector('#df-aa60088f-d789-4378-89e7-cf338fc84bc9');\n",
              "          const dataTable =\n",
              "            await google.colab.kernel.invokeFunction('convertToInteractive',\n",
              "                                                     [key], {});\n",
              "          if (!dataTable) return;\n",
              "\n",
              "          const docLinkHtml = 'Like what you see? Visit the ' +\n",
              "            '<a target=\"_blank\" href=https://colab.research.google.com/notebooks/data_table.ipynb>data table notebook</a>'\n",
              "            + ' to learn more about interactive tables.';\n",
              "          element.innerHTML = '';\n",
              "          dataTable['output_type'] = 'display_data';\n",
              "          await google.colab.output.renderOutput(dataTable, element);\n",
              "          const docLink = document.createElement('div');\n",
              "          docLink.innerHTML = docLinkHtml;\n",
              "          element.appendChild(docLink);\n",
              "        }\n",
              "      </script>\n",
              "    </div>\n",
              "  </div>\n",
              "  "
            ]
          },
          "metadata": {},
          "execution_count": 32
        }
      ]
    },
    {
      "cell_type": "code",
      "source": [
        "sales_df.sort_values('Datetime',inplace=True)"
      ],
      "metadata": {
        "id": "a5AG_eIgTcDB"
      },
      "execution_count": 33,
      "outputs": []
    },
    {
      "cell_type": "markdown",
      "source": [
        "### 4.2 Plot history"
      ],
      "metadata": {
        "id": "QI4qWEz9m9f7"
      }
    },
    {
      "cell_type": "code",
      "source": [
        "import numpy as np\n",
        "\n",
        "# sns.regplot cant read date type in x so ....\n",
        "sales_df['Time'] = np.arange(len(sales_df.index))"
      ],
      "metadata": {
        "id": "k39iCzgoXvxl"
      },
      "execution_count": 34,
      "outputs": []
    },
    {
      "cell_type": "code",
      "source": [
        "fig, ax = plt.subplots(figsize=(15, 5))\n",
        "ax.plot(sales_df['Time'], sales_df[\"USDPrice\"],  color='0.7')\n",
        "ax = sns.regplot(sales_df['Time'], sales_df[\"USDPrice\"],  ci=None, scatter_kws=dict(color='0.25'))\n",
        "ax.set_title('Time plot of total jewelry sales');"
      ],
      "metadata": {
        "colab": {
          "base_uri": "https://localhost:8080/",
          "height": 350
        },
        "id": "3W6zu3MNXFJ8",
        "outputId": "92dca29f-9b23-46b8-ff68-e4503faf7918"
      },
      "execution_count": 35,
      "outputs": [
        {
          "output_type": "display_data",
          "data": {
            "text/plain": [
              "<Figure size 1080x360 with 1 Axes>"
            ],
            "image/png": "[encoded data removed]"
          },
          "metadata": {
            "needs_background": "light"
          }
        }
      ]
    },
    {
      "cell_type": "code",
      "source": [
        "print(f'Total number of days in sales_df: {sales_df.Time.max()} days')"
      ],
      "metadata": {
        "colab": {
          "base_uri": "https://localhost:8080/"
        },
        "id": "N_cR9JBUUK65",
        "outputId": "515cb7ac-8863-4ff6-e46e-5bdd9852b38b"
      },
      "execution_count": 36,
      "outputs": [
        {
          "output_type": "stream",
          "name": "stdout",
          "text": [
            "Total number of days in sales_df: 1082 days\n"
          ]
        }
      ]
    },
    {
      "cell_type": "markdown",
      "source": [
        "Let's print the first 5 rows and the last 5 rows in sales_df."
      ],
      "metadata": {
        "id": "Jj71yaSQZc3e"
      }
    },
    {
      "cell_type": "code",
      "source": [
        "display(sales_df.head())\n",
        "display(sales_df.tail())"
      ],
      "metadata": {
        "colab": {
          "base_uri": "https://localhost:8080/",
          "height": 391
        },
        "id": "PVLGk2QDZHD_",
        "outputId": "f88e5bef-7284-4ff1-e0b6-6d6156982352"
      },
      "execution_count": 37,
      "outputs": [
        {
          "output_type": "display_data",
          "data": {
            "text/plain": [
              "    Datetime  USDPrice  Time\n",
              "0 2018-12-01    773.65     0\n",
              "1 2018-12-02    897.47     1\n",
              "2 2018-12-03    978.85     2\n",
              "3 2018-12-04   3486.05     3\n",
              "4 2018-12-05   1246.58     4"
            ],
            "text/html": [
              "\n",
              "  <div id=\"df-7e4217b9-907c-47e7-b871-484689074b94\">\n",
              "    <div class=\"colab-df-container\">\n",
              "      <div>\n",
              "<style scoped>\n",
              "    .dataframe tbody tr th:only-of-type {\n",
              "        vertical-align: middle;\n",
              "    }\n",
              "\n",
              "    .dataframe tbody tr th {\n",
              "        vertical-align: top;\n",
              "    }\n",
              "\n",
              "    .dataframe thead th {\n",
              "        text-align: right;\n",
              "    }\n",
              "</style>\n",
              "<table border=\"1\" class=\"dataframe\">\n",
              "  <thead>\n",
              "    <tr style=\"text-align: right;\">\n",
              "      <th></th>\n",
              "      <th>Datetime</th>\n",
              "      <th>USDPrice</th>\n",
              "      <th>Time</th>\n",
              "    </tr>\n",
              "  </thead>\n",
              "  <tbody>\n",
              "    <tr>\n",
              "      <th>0</th>\n",
              "      <td>2018-12-01</td>\n",
              "      <td>773.65</td>\n",
              "      <td>0</td>\n",
              "    </tr>\n",
              "    <tr>\n",
              "      <th>1</th>\n",
              "      <td>2018-12-02</td>\n",
              "      <td>897.47</td>\n",
              "      <td>1</td>\n",
              "    </tr>\n",
              "    <tr>\n",
              "      <th>2</th>\n",
              "      <td>2018-12-03</td>\n",
              "      <td>978.85</td>\n",
              "      <td>2</td>\n",
              "    </tr>\n",
              "    <tr>\n",
              "      <th>3</th>\n",
              "      <td>2018-12-04</td>\n",
              "      <td>3486.05</td>\n",
              "      <td>3</td>\n",
              "    </tr>\n",
              "    <tr>\n",
              "      <th>4</th>\n",
              "      <td>2018-12-05</td>\n",
              "      <td>1246.58</td>\n",
              "      <td>4</td>\n",
              "    </tr>\n",
              "  </tbody>\n",
              "</table>\n",
              "</div>\n",
              "      <button class=\"colab-df-convert\" onclick=\"convertToInteractive('df-7e4217b9-907c-47e7-b871-484689074b94')\"\n",
              "              title=\"Convert this dataframe to an interactive table.\"\n",
              "              style=\"display:none;\">\n",
              "        \n",
              "  <svg xmlns=\"http://www.w3.org/2000/svg\" height=\"24px\"viewBox=\"0 0 24 24\"\n",
              "       width=\"24px\">\n",
              "    <path d=\"M0 0h24v24H0V0z\" fill=\"none\"/>\n",
              "    <path d=\"M18.56 5.44l.94 2.06.94-2.06 2.06-.94-2.06-.94-.94-2.06-.94 2.06-2.06.94zm-11 1L8.5 8.5l.94-2.06 2.06-.94-2.06-.94L8.5 2.5l-.94 2.06-2.06.94zm10 10l.94 2.06.94-2.06 2.06-.94-2.06-.94-.94-2.06-.94 2.06-2.06.94z\"/><path d=\"M17.41 7.96l-1.37-1.37c-.4-.4-.92-.59-1.43-.59-.52 0-1.04.2-1.43.59L10.3 9.45l-7.72 7.72c-.78.78-.78 2.05 0 2.83L4 21.41c.39.39.9.59 1.41.59.51 0 1.02-.2 1.41-.59l7.78-7.78 2.81-2.81c.8-.78.8-2.07 0-2.86zM5.41 20L4 18.59l7.72-7.72 1.47 1.35L5.41 20z\"/>\n",
              "  </svg>\n",
              "      </button>\n",
              "      \n",
              "  <style>\n",
              "    .colab-df-container {\n",
              "      display:flex;\n",
              "      flex-wrap:wrap;\n",
              "      gap: 12px;\n",
              "    }\n",
              "\n",
              "    .colab-df-convert {\n",
              "      background-color: #E8F0FE;\n",
              "      border: none;\n",
              "      border-radius: 50%;\n",
              "      cursor: pointer;\n",
              "      display: none;\n",
              "      fill: #1967D2;\n",
              "      height: 32px;\n",
              "      padding: 0 0 0 0;\n",
              "      width: 32px;\n",
              "    }\n",
              "\n",
              "    .colab-df-convert:hover {\n",
              "      background-color: #E2EBFA;\n",
              "      box-shadow: 0px 1px 2px rgba(60, 64, 67, 0.3), 0px 1px 3px 1px rgba(60, 64, 67, 0.15);\n",
              "      fill: #174EA6;\n",
              "    }\n",
              "\n",
              "    [theme=dark] .colab-df-convert {\n",
              "      background-color: #3B4455;\n",
              "      fill: #D2E3FC;\n",
              "    }\n",
              "\n",
              "    [theme=dark] .colab-df-convert:hover {\n",
              "      background-color: #434B5C;\n",
              "      box-shadow: 0px 1px 3px 1px rgba(0, 0, 0, 0.15);\n",
              "      filter: drop-shadow(0px 1px 2px rgba(0, 0, 0, 0.3));\n",
              "      fill: #FFFFFF;\n",
              "    }\n",
              "  </style>\n",
              "\n",
              "      <script>\n",
              "        const buttonEl =\n",
              "          document.querySelector('#df-7e4217b9-907c-47e7-b871-484689074b94 button.colab-df-convert');\n",
              "        buttonEl.style.display =\n",
              "          google.colab.kernel.accessAllowed ? 'block' : 'none';\n",
              "\n",
              "        async function convertToInteractive(key) {\n",
              "          const element = document.querySelector('#df-7e4217b9-907c-47e7-b871-484689074b94');\n",
              "          const dataTable =\n",
              "            await google.colab.kernel.invokeFunction('convertToInteractive',\n",
              "                                                     [key], {});\n",
              "          if (!dataTable) return;\n",
              "\n",
              "          const docLinkHtml = 'Like what you see? Visit the ' +\n",
              "            '<a target=\"_blank\" href=https://colab.research.google.com/notebooks/data_table.ipynb>data table notebook</a>'\n",
              "            + ' to learn more about interactive tables.';\n",
              "          element.innerHTML = '';\n",
              "          dataTable['output_type'] = 'display_data';\n",
              "          await google.colab.output.renderOutput(dataTable, element);\n",
              "          const docLink = document.createElement('div');\n",
              "          docLink.innerHTML = docLinkHtml;\n",
              "          element.appendChild(docLink);\n",
              "        }\n",
              "      </script>\n",
              "    </div>\n",
              "  </div>\n",
              "  "
            ]
          },
          "metadata": {}
        },
        {
          "output_type": "display_data",
          "data": {
            "text/plain": [
              "       Datetime   USDPrice  Time\n",
              "1078 2021-11-27  206071.70  1078\n",
              "1079 2021-11-28  186474.59  1079\n",
              "1080 2021-11-29  219555.01  1080\n",
              "1081 2021-11-30  197417.90  1081\n",
              "1082 2021-12-01   60113.20  1082"
            ],
            "text/html": [
              "\n",
              "  <div id=\"df-ea241ee1-fc1c-4cf7-9597-d84eb472e2da\">\n",
              "    <div class=\"colab-df-container\">\n",
              "      <div>\n",
              "<style scoped>\n",
              "    .dataframe tbody tr th:only-of-type {\n",
              "        vertical-align: middle;\n",
              "    }\n",
              "\n",
              "    .dataframe tbody tr th {\n",
              "        vertical-align: top;\n",
              "    }\n",
              "\n",
              "    .dataframe thead th {\n",
              "        text-align: right;\n",
              "    }\n",
              "</style>\n",
              "<table border=\"1\" class=\"dataframe\">\n",
              "  <thead>\n",
              "    <tr style=\"text-align: right;\">\n",
              "      <th></th>\n",
              "      <th>Datetime</th>\n",
              "      <th>USDPrice</th>\n",
              "      <th>Time</th>\n",
              "    </tr>\n",
              "  </thead>\n",
              "  <tbody>\n",
              "    <tr>\n",
              "      <th>1078</th>\n",
              "      <td>2021-11-27</td>\n",
              "      <td>206071.70</td>\n",
              "      <td>1078</td>\n",
              "    </tr>\n",
              "    <tr>\n",
              "      <th>1079</th>\n",
              "      <td>2021-11-28</td>\n",
              "      <td>186474.59</td>\n",
              "      <td>1079</td>\n",
              "    </tr>\n",
              "    <tr>\n",
              "      <th>1080</th>\n",
              "      <td>2021-11-29</td>\n",
              "      <td>219555.01</td>\n",
              "      <td>1080</td>\n",
              "    </tr>\n",
              "    <tr>\n",
              "      <th>1081</th>\n",
              "      <td>2021-11-30</td>\n",
              "      <td>197417.90</td>\n",
              "      <td>1081</td>\n",
              "    </tr>\n",
              "    <tr>\n",
              "      <th>1082</th>\n",
              "      <td>2021-12-01</td>\n",
              "      <td>60113.20</td>\n",
              "      <td>1082</td>\n",
              "    </tr>\n",
              "  </tbody>\n",
              "</table>\n",
              "</div>\n",
              "      <button class=\"colab-df-convert\" onclick=\"convertToInteractive('df-ea241ee1-fc1c-4cf7-9597-d84eb472e2da')\"\n",
              "              title=\"Convert this dataframe to an interactive table.\"\n",
              "              style=\"display:none;\">\n",
              "        \n",
              "  <svg xmlns=\"http://www.w3.org/2000/svg\" height=\"24px\"viewBox=\"0 0 24 24\"\n",
              "       width=\"24px\">\n",
              "    <path d=\"M0 0h24v24H0V0z\" fill=\"none\"/>\n",
              "    <path d=\"M18.56 5.44l.94 2.06.94-2.06 2.06-.94-2.06-.94-.94-2.06-.94 2.06-2.06.94zm-11 1L8.5 8.5l.94-2.06 2.06-.94-2.06-.94L8.5 2.5l-.94 2.06-2.06.94zm10 10l.94 2.06.94-2.06 2.06-.94-2.06-.94-.94-2.06-.94 2.06-2.06.94z\"/><path d=\"M17.41 7.96l-1.37-1.37c-.4-.4-.92-.59-1.43-.59-.52 0-1.04.2-1.43.59L10.3 9.45l-7.72 7.72c-.78.78-.78 2.05 0 2.83L4 21.41c.39.39.9.59 1.41.59.51 0 1.02-.2 1.41-.59l7.78-7.78 2.81-2.81c.8-.78.8-2.07 0-2.86zM5.41 20L4 18.59l7.72-7.72 1.47 1.35L5.41 20z\"/>\n",
              "  </svg>\n",
              "      </button>\n",
              "      \n",
              "  <style>\n",
              "    .colab-df-container {\n",
              "      display:flex;\n",
              "      flex-wrap:wrap;\n",
              "      gap: 12px;\n",
              "    }\n",
              "\n",
              "    .colab-df-convert {\n",
              "      background-color: #E8F0FE;\n",
              "      border: none;\n",
              "      border-radius: 50%;\n",
              "      cursor: pointer;\n",
              "      display: none;\n",
              "      fill: #1967D2;\n",
              "      height: 32px;\n",
              "      padding: 0 0 0 0;\n",
              "      width: 32px;\n",
              "    }\n",
              "\n",
              "    .colab-df-convert:hover {\n",
              "      background-color: #E2EBFA;\n",
              "      box-shadow: 0px 1px 2px rgba(60, 64, 67, 0.3), 0px 1px 3px 1px rgba(60, 64, 67, 0.15);\n",
              "      fill: #174EA6;\n",
              "    }\n",
              "\n",
              "    [theme=dark] .colab-df-convert {\n",
              "      background-color: #3B4455;\n",
              "      fill: #D2E3FC;\n",
              "    }\n",
              "\n",
              "    [theme=dark] .colab-df-convert:hover {\n",
              "      background-color: #434B5C;\n",
              "      box-shadow: 0px 1px 3px 1px rgba(0, 0, 0, 0.15);\n",
              "      filter: drop-shadow(0px 1px 2px rgba(0, 0, 0, 0.3));\n",
              "      fill: #FFFFFF;\n",
              "    }\n",
              "  </style>\n",
              "\n",
              "      <script>\n",
              "        const buttonEl =\n",
              "          document.querySelector('#df-ea241ee1-fc1c-4cf7-9597-d84eb472e2da button.colab-df-convert');\n",
              "        buttonEl.style.display =\n",
              "          google.colab.kernel.accessAllowed ? 'block' : 'none';\n",
              "\n",
              "        async function convertToInteractive(key) {\n",
              "          const element = document.querySelector('#df-ea241ee1-fc1c-4cf7-9597-d84eb472e2da');\n",
              "          const dataTable =\n",
              "            await google.colab.kernel.invokeFunction('convertToInteractive',\n",
              "                                                     [key], {});\n",
              "          if (!dataTable) return;\n",
              "\n",
              "          const docLinkHtml = 'Like what you see? Visit the ' +\n",
              "            '<a target=\"_blank\" href=https://colab.research.google.com/notebooks/data_table.ipynb>data table notebook</a>'\n",
              "            + ' to learn more about interactive tables.';\n",
              "          element.innerHTML = '';\n",
              "          dataTable['output_type'] = 'display_data';\n",
              "          await google.colab.output.renderOutput(dataTable, element);\n",
              "          const docLink = document.createElement('div');\n",
              "          docLink.innerHTML = docLinkHtml;\n",
              "          element.appendChild(docLink);\n",
              "        }\n",
              "      </script>\n",
              "    </div>\n",
              "  </div>\n",
              "  "
            ]
          },
          "metadata": {}
        }
      ]
    },
    {
      "cell_type": "markdown",
      "source": [
        "What happened in the last day?? "
      ],
      "metadata": {
        "id": "tEDilElWZg9Z"
      }
    },
    {
      "cell_type": "code",
      "source": [
        "sales_df.drop('Time',axis=1,inplace=True)"
      ],
      "metadata": {
        "id": "db5LiyV3bmyg"
      },
      "execution_count": 38,
      "outputs": []
    },
    {
      "cell_type": "markdown",
      "source": [
        "### 4.3 Convert to Time-Series problem"
      ],
      "metadata": {
        "id": "iCN6RlidnhsE"
      }
    },
    {
      "cell_type": "code",
      "source": [
        "def series_to_supervised(data, window=1, lag=1, dropnan=True):\n",
        "    cols, names = list(), list()\n",
        "    # Input sequence (t-n, ... t-1)\n",
        "    for i in range(window, 0, -1):\n",
        "        cols.append(data.shift(i))\n",
        "        names += [('%s(t-%d)' % (col, i)) for col in data.columns]\n",
        "    # Current timestep (t=0)\n",
        "    cols.append(data)\n",
        "    names += [('%s(t)' % (col)) for col in data.columns]\n",
        "    # Target timestep (t=lag)\n",
        "    cols.append(data.shift(-lag))\n",
        "    names += [('%s(t+%d)' % (col, lag)) for col in data.columns]\n",
        "    # Put it all together\n",
        "    agg = pd.concat(cols, axis=1)\n",
        "    agg.columns = names\n",
        "    # Drop rows with NaN values\n",
        "    if dropnan:\n",
        "        agg.dropna(inplace=True)\n",
        "    return agg"
      ],
      "metadata": {
        "id": "A7r94xZ0aqk8"
      },
      "execution_count": 39,
      "outputs": []
    },
    {
      "cell_type": "markdown",
      "source": [
        "We will train a model with data from the past 30 days to predict sales of 60 days ahead! "
      ],
      "metadata": {
        "id": "Zkep7ZrBnq9O"
      }
    },
    {
      "cell_type": "code",
      "source": [
        "window = 30\n",
        "lag = 60\n",
        "series = series_to_supervised(sales_df.drop('Datetime', axis=1), window=window, lag=lag)\n",
        "series.head()"
      ],
      "metadata": {
        "colab": {
          "base_uri": "https://localhost:8080/",
          "height": 314
        },
        "id": "8AzLljmkarWG",
        "outputId": "298ae5cd-baa2-41c0-e682-d9e9db50e467"
      },
      "execution_count": 40,
      "outputs": [
        {
          "output_type": "execute_result",
          "data": {
            "text/plain": [
              "    USDPrice(t-30)  USDPrice(t-29)  USDPrice(t-28)  USDPrice(t-27)  \\\n",
              "30          773.65          897.47          978.85         3486.05   \n",
              "31          897.47          978.85         3486.05         1246.58   \n",
              "32          978.85         3486.05         1246.58         1922.62   \n",
              "33         3486.05         1246.58         1922.62          442.60   \n",
              "34         1246.58         1922.62          442.60         2589.26   \n",
              "\n",
              "    USDPrice(t-26)  USDPrice(t-25)  USDPrice(t-24)  USDPrice(t-23)  \\\n",
              "30         1246.58         1922.62          442.60         2589.26   \n",
              "31         1922.62          442.60         2589.26          458.07   \n",
              "32          442.60         2589.26          458.07           68.36   \n",
              "33         2589.26          458.07           68.36          212.14   \n",
              "34          458.07           68.36          212.14         3064.28   \n",
              "\n",
              "    USDPrice(t-22)  USDPrice(t-21)  ...  USDPrice(t-8)  USDPrice(t-7)  \\\n",
              "30          458.07           68.36  ...        1234.01         266.99   \n",
              "31           68.36          212.14  ...         266.99          45.12   \n",
              "32          212.14         3064.28  ...          45.12         948.84   \n",
              "33         3064.28          313.43  ...         948.84         616.30   \n",
              "34          313.43         2443.00  ...         616.30        4318.76   \n",
              "\n",
              "    USDPrice(t-6)  USDPrice(t-5)  USDPrice(t-4)  USDPrice(t-3)  USDPrice(t-2)  \\\n",
              "30          45.12         948.84         616.30        4318.76        3234.17   \n",
              "31         948.84         616.30        4318.76        3234.17         642.99   \n",
              "32         616.30        4318.76        3234.17         642.99        2355.89   \n",
              "33        4318.76        3234.17         642.99        2355.89          42.31   \n",
              "34        3234.17         642.99        2355.89          42.31        1909.46   \n",
              "\n",
              "    USDPrice(t-1)  USDPrice(t)  USDPrice(t+60)  \n",
              "30         642.99      2355.89        12764.49  \n",
              "31        2355.89        42.31        14353.13  \n",
              "32          42.31      1909.46         8185.48  \n",
              "33        1909.46        51.92        17748.04  \n",
              "34          51.92      1045.02        12493.57  \n",
              "\n",
              "[5 rows x 32 columns]"
            ],
            "text/html": [
              "\n",
              "  <div id=\"df-985988c1-8440-475c-8873-7b4743258756\">\n",
              "    <div class=\"colab-df-container\">\n",
              "      <div>\n",
              "<style scoped>\n",
              "    .dataframe tbody tr th:only-of-type {\n",
              "        vertical-align: middle;\n",
              "    }\n",
              "\n",
              "    .dataframe tbody tr th {\n",
              "        vertical-align: top;\n",
              "    }\n",
              "\n",
              "    .dataframe thead th {\n",
              "        text-align: right;\n",
              "    }\n",
              "</style>\n",
              "<table border=\"1\" class=\"dataframe\">\n",
              "  <thead>\n",
              "    <tr style=\"text-align: right;\">\n",
              "      <th></th>\n",
              "      <th>USDPrice(t-30)</th>\n",
              "      <th>USDPrice(t-29)</th>\n",
              "      <th>USDPrice(t-28)</th>\n",
              "      <th>USDPrice(t-27)</th>\n",
              "      <th>USDPrice(t-26)</th>\n",
              "      <th>USDPrice(t-25)</th>\n",
              "      <th>USDPrice(t-24)</th>\n",
              "      <th>USDPrice(t-23)</th>\n",
              "      <th>USDPrice(t-22)</th>\n",
              "      <th>USDPrice(t-21)</th>\n",
              "      <th>...</th>\n",
              "      <th>USDPrice(t-8)</th>\n",
              "      <th>USDPrice(t-7)</th>\n",
              "      <th>USDPrice(t-6)</th>\n",
              "      <th>USDPrice(t-5)</th>\n",
              "      <th>USDPrice(t-4)</th>\n",
              "      <th>USDPrice(t-3)</th>\n",
              "      <th>USDPrice(t-2)</th>\n",
              "      <th>USDPrice(t-1)</th>\n",
              "      <th>USDPrice(t)</th>\n",
              "      <th>USDPrice(t+60)</th>\n",
              "    </tr>\n",
              "  </thead>\n",
              "  <tbody>\n",
              "    <tr>\n",
              "      <th>30</th>\n",
              "      <td>773.65</td>\n",
              "      <td>897.47</td>\n",
              "      <td>978.85</td>\n",
              "      <td>3486.05</td>\n",
              "      <td>1246.58</td>\n",
              "      <td>1922.62</td>\n",
              "      <td>442.60</td>\n",
              "      <td>2589.26</td>\n",
              "      <td>458.07</td>\n",
              "      <td>68.36</td>\n",
              "      <td>...</td>\n",
              "      <td>1234.01</td>\n",
              "      <td>266.99</td>\n",
              "      <td>45.12</td>\n",
              "      <td>948.84</td>\n",
              "      <td>616.30</td>\n",
              "      <td>4318.76</td>\n",
              "      <td>3234.17</td>\n",
              "      <td>642.99</td>\n",
              "      <td>2355.89</td>\n",
              "      <td>12764.49</td>\n",
              "    </tr>\n",
              "    <tr>\n",
              "      <th>31</th>\n",
              "      <td>897.47</td>\n",
              "      <td>978.85</td>\n",
              "      <td>3486.05</td>\n",
              "      <td>1246.58</td>\n",
              "      <td>1922.62</td>\n",
              "      <td>442.60</td>\n",
              "      <td>2589.26</td>\n",
              "      <td>458.07</td>\n",
              "      <td>68.36</td>\n",
              "      <td>212.14</td>\n",
              "      <td>...</td>\n",
              "      <td>266.99</td>\n",
              "      <td>45.12</td>\n",
              "      <td>948.84</td>\n",
              "      <td>616.30</td>\n",
              "      <td>4318.76</td>\n",
              "      <td>3234.17</td>\n",
              "      <td>642.99</td>\n",
              "      <td>2355.89</td>\n",
              "      <td>42.31</td>\n",
              "      <td>14353.13</td>\n",
              "    </tr>\n",
              "    <tr>\n",
              "      <th>32</th>\n",
              "      <td>978.85</td>\n",
              "      <td>3486.05</td>\n",
              "      <td>1246.58</td>\n",
              "      <td>1922.62</td>\n",
              "      <td>442.60</td>\n",
              "      <td>2589.26</td>\n",
              "      <td>458.07</td>\n",
              "      <td>68.36</td>\n",
              "      <td>212.14</td>\n",
              "      <td>3064.28</td>\n",
              "      <td>...</td>\n",
              "      <td>45.12</td>\n",
              "      <td>948.84</td>\n",
              "      <td>616.30</td>\n",
              "      <td>4318.76</td>\n",
              "      <td>3234.17</td>\n",
              "      <td>642.99</td>\n",
              "      <td>2355.89</td>\n",
              "      <td>42.31</td>\n",
              "      <td>1909.46</td>\n",
              "      <td>8185.48</td>\n",
              "    </tr>\n",
              "    <tr>\n",
              "      <th>33</th>\n",
              "      <td>3486.05</td>\n",
              "      <td>1246.58</td>\n",
              "      <td>1922.62</td>\n",
              "      <td>442.60</td>\n",
              "      <td>2589.26</td>\n",
              "      <td>458.07</td>\n",
              "      <td>68.36</td>\n",
              "      <td>212.14</td>\n",
              "      <td>3064.28</td>\n",
              "      <td>313.43</td>\n",
              "      <td>...</td>\n",
              "      <td>948.84</td>\n",
              "      <td>616.30</td>\n",
              "      <td>4318.76</td>\n",
              "      <td>3234.17</td>\n",
              "      <td>642.99</td>\n",
              "      <td>2355.89</td>\n",
              "      <td>42.31</td>\n",
              "      <td>1909.46</td>\n",
              "      <td>51.92</td>\n",
              "      <td>17748.04</td>\n",
              "    </tr>\n",
              "    <tr>\n",
              "      <th>34</th>\n",
              "      <td>1246.58</td>\n",
              "      <td>1922.62</td>\n",
              "      <td>442.60</td>\n",
              "      <td>2589.26</td>\n",
              "      <td>458.07</td>\n",
              "      <td>68.36</td>\n",
              "      <td>212.14</td>\n",
              "      <td>3064.28</td>\n",
              "      <td>313.43</td>\n",
              "      <td>2443.00</td>\n",
              "      <td>...</td>\n",
              "      <td>616.30</td>\n",
              "      <td>4318.76</td>\n",
              "      <td>3234.17</td>\n",
              "      <td>642.99</td>\n",
              "      <td>2355.89</td>\n",
              "      <td>42.31</td>\n",
              "      <td>1909.46</td>\n",
              "      <td>51.92</td>\n",
              "      <td>1045.02</td>\n",
              "      <td>12493.57</td>\n",
              "    </tr>\n",
              "  </tbody>\n",
              "</table>\n",
              "<p>5 rows × 32 columns</p>\n",
              "</div>\n",
              "      <button class=\"colab-df-convert\" onclick=\"convertToInteractive('df-985988c1-8440-475c-8873-7b4743258756')\"\n",
              "              title=\"Convert this dataframe to an interactive table.\"\n",
              "              style=\"display:none;\">\n",
              "        \n",
              "  <svg xmlns=\"http://www.w3.org/2000/svg\" height=\"24px\"viewBox=\"0 0 24 24\"\n",
              "       width=\"24px\">\n",
              "    <path d=\"M0 0h24v24H0V0z\" fill=\"none\"/>\n",
              "    <path d=\"M18.56 5.44l.94 2.06.94-2.06 2.06-.94-2.06-.94-.94-2.06-.94 2.06-2.06.94zm-11 1L8.5 8.5l.94-2.06 2.06-.94-2.06-.94L8.5 2.5l-.94 2.06-2.06.94zm10 10l.94 2.06.94-2.06 2.06-.94-2.06-.94-.94-2.06-.94 2.06-2.06.94z\"/><path d=\"M17.41 7.96l-1.37-1.37c-.4-.4-.92-.59-1.43-.59-.52 0-1.04.2-1.43.59L10.3 9.45l-7.72 7.72c-.78.78-.78 2.05 0 2.83L4 21.41c.39.39.9.59 1.41.59.51 0 1.02-.2 1.41-.59l7.78-7.78 2.81-2.81c.8-.78.8-2.07 0-2.86zM5.41 20L4 18.59l7.72-7.72 1.47 1.35L5.41 20z\"/>\n",
              "  </svg>\n",
              "      </button>\n",
              "      \n",
              "  <style>\n",
              "    .colab-df-container {\n",
              "      display:flex;\n",
              "      flex-wrap:wrap;\n",
              "      gap: 12px;\n",
              "    }\n",
              "\n",
              "    .colab-df-convert {\n",
              "      background-color: #E8F0FE;\n",
              "      border: none;\n",
              "      border-radius: 50%;\n",
              "      cursor: pointer;\n",
              "      display: none;\n",
              "      fill: #1967D2;\n",
              "      height: 32px;\n",
              "      padding: 0 0 0 0;\n",
              "      width: 32px;\n",
              "    }\n",
              "\n",
              "    .colab-df-convert:hover {\n",
              "      background-color: #E2EBFA;\n",
              "      box-shadow: 0px 1px 2px rgba(60, 64, 67, 0.3), 0px 1px 3px 1px rgba(60, 64, 67, 0.15);\n",
              "      fill: #174EA6;\n",
              "    }\n",
              "\n",
              "    [theme=dark] .colab-df-convert {\n",
              "      background-color: #3B4455;\n",
              "      fill: #D2E3FC;\n",
              "    }\n",
              "\n",
              "    [theme=dark] .colab-df-convert:hover {\n",
              "      background-color: #434B5C;\n",
              "      box-shadow: 0px 1px 3px 1px rgba(0, 0, 0, 0.15);\n",
              "      filter: drop-shadow(0px 1px 2px rgba(0, 0, 0, 0.3));\n",
              "      fill: #FFFFFF;\n",
              "    }\n",
              "  </style>\n",
              "\n",
              "      <script>\n",
              "        const buttonEl =\n",
              "          document.querySelector('#df-985988c1-8440-475c-8873-7b4743258756 button.colab-df-convert');\n",
              "        buttonEl.style.display =\n",
              "          google.colab.kernel.accessAllowed ? 'block' : 'none';\n",
              "\n",
              "        async function convertToInteractive(key) {\n",
              "          const element = document.querySelector('#df-985988c1-8440-475c-8873-7b4743258756');\n",
              "          const dataTable =\n",
              "            await google.colab.kernel.invokeFunction('convertToInteractive',\n",
              "                                                     [key], {});\n",
              "          if (!dataTable) return;\n",
              "\n",
              "          const docLinkHtml = 'Like what you see? Visit the ' +\n",
              "            '<a target=\"_blank\" href=https://colab.research.google.com/notebooks/data_table.ipynb>data table notebook</a>'\n",
              "            + ' to learn more about interactive tables.';\n",
              "          element.innerHTML = '';\n",
              "          dataTable['output_type'] = 'display_data';\n",
              "          await google.colab.output.renderOutput(dataTable, element);\n",
              "          const docLink = document.createElement('div');\n",
              "          docLink.innerHTML = docLinkHtml;\n",
              "          element.appendChild(docLink);\n",
              "        }\n",
              "      </script>\n",
              "    </div>\n",
              "  </div>\n",
              "  "
            ]
          },
          "metadata": {},
          "execution_count": 40
        }
      ]
    },
    {
      "cell_type": "markdown",
      "source": [
        "### 4.4 Data Split"
      ],
      "metadata": {
        "id": "RGswsJbfn5fK"
      }
    },
    {
      "cell_type": "code",
      "source": [
        "from sklearn.model_selection import train_test_split\n",
        "\n",
        "lag_size= lag\n",
        "\n",
        "# Label\n",
        "labels_col = 'USDPrice(t+%d)' % lag_size\n",
        "labels = series[labels_col]\n",
        "series = series.drop(labels_col, axis=1)\n",
        "\n",
        "\n",
        "X_train, X_test, Y_train, Y_test = train_test_split(series, labels.values, test_size=0.2, random_state=0)\n",
        "X_train, X_valid, Y_train, Y_valid = train_test_split(X_train, Y_train, test_size=0.4, random_state=0)\n",
        "print('Train set shape', X_train.shape)\n",
        "print('Validation set shape', X_valid.shape)\n",
        "print('Test set shape', X_test.shape)\n",
        "X_train.head()"
      ],
      "metadata": {
        "colab": {
          "base_uri": "https://localhost:8080/",
          "height": 365
        },
        "id": "lr_qht7jbi3B",
        "outputId": "8eeff81f-ae9e-47ff-8434-576f07bb803b"
      },
      "execution_count": 41,
      "outputs": [
        {
          "output_type": "stream",
          "name": "stdout",
          "text": [
            "Train set shape (476, 31)\n",
            "Validation set shape (318, 31)\n",
            "Test set shape (199, 31)\n"
          ]
        },
        {
          "output_type": "execute_result",
          "data": {
            "text/plain": [
              "     USDPrice(t-30)  USDPrice(t-29)  USDPrice(t-28)  USDPrice(t-27)  \\\n",
              "815        41558.62        28410.53        41806.85        39412.43   \n",
              "629        23822.30        35982.08        36959.99        45847.13   \n",
              "197         2465.58         6938.58        13159.55         8249.61   \n",
              "564         5673.86        22142.53        19359.24        10447.35   \n",
              "51           228.73         1234.01          266.99           45.12   \n",
              "\n",
              "     USDPrice(t-26)  USDPrice(t-25)  USDPrice(t-24)  USDPrice(t-23)  \\\n",
              "815        56162.33        44658.92        38351.92        38208.81   \n",
              "629        33602.10        27427.05        30436.61        41152.21   \n",
              "197         5014.07         7053.64        12646.07         9001.28   \n",
              "564        13620.39        14574.96        13923.72         7876.33   \n",
              "51           948.84          616.30         4318.76         3234.17   \n",
              "\n",
              "     USDPrice(t-22)  USDPrice(t-21)  ...  USDPrice(t-9)  USDPrice(t-8)  \\\n",
              "815        31200.34        30898.30  ...       52621.30       59787.40   \n",
              "629        42834.54        37652.99  ...       23223.12       25539.97   \n",
              "197         5607.48         4217.72  ...        8665.36        9077.70   \n",
              "564        16523.91        21314.56  ...       20918.57        9665.23   \n",
              "51           642.99         2355.89  ...        7251.81        7364.79   \n",
              "\n",
              "     USDPrice(t-7)  USDPrice(t-6)  USDPrice(t-5)  USDPrice(t-4)  \\\n",
              "815       58571.98       84109.31       67384.50       87114.52   \n",
              "629       35169.58       21575.33       29030.60       21246.71   \n",
              "197        4469.33       11540.12        4045.76        4356.33   \n",
              "564        7209.68       15748.01       21369.42       16209.65   \n",
              "51        13222.37       11677.82        5802.28       12750.76   \n",
              "\n",
              "     USDPrice(t-3)  USDPrice(t-2)  USDPrice(t-1)  USDPrice(t)  \n",
              "815       87750.93       70532.95       58081.88     47946.11  \n",
              "629       30898.09       22824.59       33465.90     38132.83  \n",
              "197       10229.27        5426.08       11240.78      7716.25  \n",
              "564        7377.27       16286.23       18960.71     19099.50  \n",
              "51         5232.85        7142.98        6002.55     15081.57  \n",
              "\n",
              "[5 rows x 31 columns]"
            ],
            "text/html": [
              "\n",
              "  <div id=\"df-ec9a767a-7d78-4bf2-962c-32ab3136bc06\">\n",
              "    <div class=\"colab-df-container\">\n",
              "      <div>\n",
              "<style scoped>\n",
              "    .dataframe tbody tr th:only-of-type {\n",
              "        vertical-align: middle;\n",
              "    }\n",
              "\n",
              "    .dataframe tbody tr th {\n",
              "        vertical-align: top;\n",
              "    }\n",
              "\n",
              "    .dataframe thead th {\n",
              "        text-align: right;\n",
              "    }\n",
              "</style>\n",
              "<table border=\"1\" class=\"dataframe\">\n",
              "  <thead>\n",
              "    <tr style=\"text-align: right;\">\n",
              "      <th></th>\n",
              "      <th>USDPrice(t-30)</th>\n",
              "      <th>USDPrice(t-29)</th>\n",
              "      <th>USDPrice(t-28)</th>\n",
              "      <th>USDPrice(t-27)</th>\n",
              "      <th>USDPrice(t-26)</th>\n",
              "      <th>USDPrice(t-25)</th>\n",
              "      <th>USDPrice(t-24)</th>\n",
              "      <th>USDPrice(t-23)</th>\n",
              "      <th>USDPrice(t-22)</th>\n",
              "      <th>USDPrice(t-21)</th>\n",
              "      <th>...</th>\n",
              "      <th>USDPrice(t-9)</th>\n",
              "      <th>USDPrice(t-8)</th>\n",
              "      <th>USDPrice(t-7)</th>\n",
              "      <th>USDPrice(t-6)</th>\n",
              "      <th>USDPrice(t-5)</th>\n",
              "      <th>USDPrice(t-4)</th>\n",
              "      <th>USDPrice(t-3)</th>\n",
              "      <th>USDPrice(t-2)</th>\n",
              "      <th>USDPrice(t-1)</th>\n",
              "      <th>USDPrice(t)</th>\n",
              "    </tr>\n",
              "  </thead>\n",
              "  <tbody>\n",
              "    <tr>\n",
              "      <th>815</th>\n",
              "      <td>41558.62</td>\n",
              "      <td>28410.53</td>\n",
              "      <td>41806.85</td>\n",
              "      <td>39412.43</td>\n",
              "      <td>56162.33</td>\n",
              "      <td>44658.92</td>\n",
              "      <td>38351.92</td>\n",
              "      <td>38208.81</td>\n",
              "      <td>31200.34</td>\n",
              "      <td>30898.30</td>\n",
              "      <td>...</td>\n",
              "      <td>52621.30</td>\n",
              "      <td>59787.40</td>\n",
              "      <td>58571.98</td>\n",
              "      <td>84109.31</td>\n",
              "      <td>67384.50</td>\n",
              "      <td>87114.52</td>\n",
              "      <td>87750.93</td>\n",
              "      <td>70532.95</td>\n",
              "      <td>58081.88</td>\n",
              "      <td>47946.11</td>\n",
              "    </tr>\n",
              "    <tr>\n",
              "      <th>629</th>\n",
              "      <td>23822.30</td>\n",
              "      <td>35982.08</td>\n",
              "      <td>36959.99</td>\n",
              "      <td>45847.13</td>\n",
              "      <td>33602.10</td>\n",
              "      <td>27427.05</td>\n",
              "      <td>30436.61</td>\n",
              "      <td>41152.21</td>\n",
              "      <td>42834.54</td>\n",
              "      <td>37652.99</td>\n",
              "      <td>...</td>\n",
              "      <td>23223.12</td>\n",
              "      <td>25539.97</td>\n",
              "      <td>35169.58</td>\n",
              "      <td>21575.33</td>\n",
              "      <td>29030.60</td>\n",
              "      <td>21246.71</td>\n",
              "      <td>30898.09</td>\n",
              "      <td>22824.59</td>\n",
              "      <td>33465.90</td>\n",
              "      <td>38132.83</td>\n",
              "    </tr>\n",
              "    <tr>\n",
              "      <th>197</th>\n",
              "      <td>2465.58</td>\n",
              "      <td>6938.58</td>\n",
              "      <td>13159.55</td>\n",
              "      <td>8249.61</td>\n",
              "      <td>5014.07</td>\n",
              "      <td>7053.64</td>\n",
              "      <td>12646.07</td>\n",
              "      <td>9001.28</td>\n",
              "      <td>5607.48</td>\n",
              "      <td>4217.72</td>\n",
              "      <td>...</td>\n",
              "      <td>8665.36</td>\n",
              "      <td>9077.70</td>\n",
              "      <td>4469.33</td>\n",
              "      <td>11540.12</td>\n",
              "      <td>4045.76</td>\n",
              "      <td>4356.33</td>\n",
              "      <td>10229.27</td>\n",
              "      <td>5426.08</td>\n",
              "      <td>11240.78</td>\n",
              "      <td>7716.25</td>\n",
              "    </tr>\n",
              "    <tr>\n",
              "      <th>564</th>\n",
              "      <td>5673.86</td>\n",
              "      <td>22142.53</td>\n",
              "      <td>19359.24</td>\n",
              "      <td>10447.35</td>\n",
              "      <td>13620.39</td>\n",
              "      <td>14574.96</td>\n",
              "      <td>13923.72</td>\n",
              "      <td>7876.33</td>\n",
              "      <td>16523.91</td>\n",
              "      <td>21314.56</td>\n",
              "      <td>...</td>\n",
              "      <td>20918.57</td>\n",
              "      <td>9665.23</td>\n",
              "      <td>7209.68</td>\n",
              "      <td>15748.01</td>\n",
              "      <td>21369.42</td>\n",
              "      <td>16209.65</td>\n",
              "      <td>7377.27</td>\n",
              "      <td>16286.23</td>\n",
              "      <td>18960.71</td>\n",
              "      <td>19099.50</td>\n",
              "    </tr>\n",
              "    <tr>\n",
              "      <th>51</th>\n",
              "      <td>228.73</td>\n",
              "      <td>1234.01</td>\n",
              "      <td>266.99</td>\n",
              "      <td>45.12</td>\n",
              "      <td>948.84</td>\n",
              "      <td>616.30</td>\n",
              "      <td>4318.76</td>\n",
              "      <td>3234.17</td>\n",
              "      <td>642.99</td>\n",
              "      <td>2355.89</td>\n",
              "      <td>...</td>\n",
              "      <td>7251.81</td>\n",
              "      <td>7364.79</td>\n",
              "      <td>13222.37</td>\n",
              "      <td>11677.82</td>\n",
              "      <td>5802.28</td>\n",
              "      <td>12750.76</td>\n",
              "      <td>5232.85</td>\n",
              "      <td>7142.98</td>\n",
              "      <td>6002.55</td>\n",
              "      <td>15081.57</td>\n",
              "    </tr>\n",
              "  </tbody>\n",
              "</table>\n",
              "<p>5 rows × 31 columns</p>\n",
              "</div>\n",
              "      <button class=\"colab-df-convert\" onclick=\"convertToInteractive('df-ec9a767a-7d78-4bf2-962c-32ab3136bc06')\"\n",
              "              title=\"Convert this dataframe to an interactive table.\"\n",
              "              style=\"display:none;\">\n",
              "        \n",
              "  <svg xmlns=\"http://www.w3.org/2000/svg\" height=\"24px\"viewBox=\"0 0 24 24\"\n",
              "       width=\"24px\">\n",
              "    <path d=\"M0 0h24v24H0V0z\" fill=\"none\"/>\n",
              "    <path d=\"M18.56 5.44l.94 2.06.94-2.06 2.06-.94-2.06-.94-.94-2.06-.94 2.06-2.06.94zm-11 1L8.5 8.5l.94-2.06 2.06-.94-2.06-.94L8.5 2.5l-.94 2.06-2.06.94zm10 10l.94 2.06.94-2.06 2.06-.94-2.06-.94-.94-2.06-.94 2.06-2.06.94z\"/><path d=\"M17.41 7.96l-1.37-1.37c-.4-.4-.92-.59-1.43-.59-.52 0-1.04.2-1.43.59L10.3 9.45l-7.72 7.72c-.78.78-.78 2.05 0 2.83L4 21.41c.39.39.9.59 1.41.59.51 0 1.02-.2 1.41-.59l7.78-7.78 2.81-2.81c.8-.78.8-2.07 0-2.86zM5.41 20L4 18.59l7.72-7.72 1.47 1.35L5.41 20z\"/>\n",
              "  </svg>\n",
              "      </button>\n",
              "      \n",
              "  <style>\n",
              "    .colab-df-container {\n",
              "      display:flex;\n",
              "      flex-wrap:wrap;\n",
              "      gap: 12px;\n",
              "    }\n",
              "\n",
              "    .colab-df-convert {\n",
              "      background-color: #E8F0FE;\n",
              "      border: none;\n",
              "      border-radius: 50%;\n",
              "      cursor: pointer;\n",
              "      display: none;\n",
              "      fill: #1967D2;\n",
              "      height: 32px;\n",
              "      padding: 0 0 0 0;\n",
              "      width: 32px;\n",
              "    }\n",
              "\n",
              "    .colab-df-convert:hover {\n",
              "      background-color: #E2EBFA;\n",
              "      box-shadow: 0px 1px 2px rgba(60, 64, 67, 0.3), 0px 1px 3px 1px rgba(60, 64, 67, 0.15);\n",
              "      fill: #174EA6;\n",
              "    }\n",
              "\n",
              "    [theme=dark] .colab-df-convert {\n",
              "      background-color: #3B4455;\n",
              "      fill: #D2E3FC;\n",
              "    }\n",
              "\n",
              "    [theme=dark] .colab-df-convert:hover {\n",
              "      background-color: #434B5C;\n",
              "      box-shadow: 0px 1px 3px 1px rgba(0, 0, 0, 0.15);\n",
              "      filter: drop-shadow(0px 1px 2px rgba(0, 0, 0, 0.3));\n",
              "      fill: #FFFFFF;\n",
              "    }\n",
              "  </style>\n",
              "\n",
              "      <script>\n",
              "        const buttonEl =\n",
              "          document.querySelector('#df-ec9a767a-7d78-4bf2-962c-32ab3136bc06 button.colab-df-convert');\n",
              "        buttonEl.style.display =\n",
              "          google.colab.kernel.accessAllowed ? 'block' : 'none';\n",
              "\n",
              "        async function convertToInteractive(key) {\n",
              "          const element = document.querySelector('#df-ec9a767a-7d78-4bf2-962c-32ab3136bc06');\n",
              "          const dataTable =\n",
              "            await google.colab.kernel.invokeFunction('convertToInteractive',\n",
              "                                                     [key], {});\n",
              "          if (!dataTable) return;\n",
              "\n",
              "          const docLinkHtml = 'Like what you see? Visit the ' +\n",
              "            '<a target=\"_blank\" href=https://colab.research.google.com/notebooks/data_table.ipynb>data table notebook</a>'\n",
              "            + ' to learn more about interactive tables.';\n",
              "          element.innerHTML = '';\n",
              "          dataTable['output_type'] = 'display_data';\n",
              "          await google.colab.output.renderOutput(dataTable, element);\n",
              "          const docLink = document.createElement('div');\n",
              "          docLink.innerHTML = docLinkHtml;\n",
              "          element.appendChild(docLink);\n",
              "        }\n",
              "      </script>\n",
              "    </div>\n",
              "  </div>\n",
              "  "
            ]
          },
          "metadata": {},
          "execution_count": 41
        }
      ]
    },
    {
      "cell_type": "code",
      "source": [
        "from keras import optimizers\n",
        "from keras.models import Sequential, Model\n",
        "from keras.layers import Dense, LSTM\n",
        "from sklearn.metrics import mean_squared_error"
      ],
      "metadata": {
        "id": "ZFOWpakQc-vf"
      },
      "execution_count": 42,
      "outputs": []
    },
    {
      "cell_type": "markdown",
      "source": [
        "Reshape to 3D Tensor "
      ],
      "metadata": {
        "id": "ahVG0ka6oHfY"
      }
    },
    {
      "cell_type": "code",
      "source": [
        "X_train_series = X_train.values.reshape((X_train.shape[0], X_train.shape[1], 1))\n",
        "X_valid_series = X_valid.values.reshape((X_valid.shape[0], X_valid.shape[1], 1))\n",
        "X_test_series = X_test.values.reshape((X_test.shape[0], X_test.shape[1], 1))\n",
        "print('Train set shape', X_train_series.shape)\n",
        "print('Validation set shape', X_valid_series.shape)\n",
        "print('Validation set shape', X_test_series.shape)"
      ],
      "metadata": {
        "id": "z6ceJb5Hb6Zz",
        "colab": {
          "base_uri": "https://localhost:8080/"
        },
        "outputId": "22bbae08-6eff-4115-81f5-000e9fb7cbbf"
      },
      "execution_count": 43,
      "outputs": [
        {
          "output_type": "stream",
          "name": "stdout",
          "text": [
            "Train set shape (476, 31, 1)\n",
            "Validation set shape (318, 31, 1)\n",
            "Validation set shape (199, 31, 1)\n"
          ]
        }
      ]
    },
    {
      "cell_type": "markdown",
      "source": [
        "Check few samples in validation data."
      ],
      "metadata": {
        "id": "SPCaOhNJoMXt"
      }
    },
    {
      "cell_type": "code",
      "source": [
        "pd.DataFrame(X_valid).head(3)"
      ],
      "metadata": {
        "colab": {
          "base_uri": "https://localhost:8080/",
          "height": 252
        },
        "id": "DW0hbVGegZQx",
        "outputId": "8d8ed947-cbd6-4263-ffc5-4f11a12452ec"
      },
      "execution_count": 44,
      "outputs": [
        {
          "output_type": "execute_result",
          "data": {
            "text/plain": [
              "     USDPrice(t-30)  USDPrice(t-29)  USDPrice(t-28)  USDPrice(t-27)  \\\n",
              "194         4610.59         9428.83        14496.44         2465.58   \n",
              "610        24114.55        47956.47        20734.53        29053.79   \n",
              "687        19583.59        20465.97        24501.21        31472.21   \n",
              "\n",
              "     USDPrice(t-26)  USDPrice(t-25)  USDPrice(t-24)  USDPrice(t-23)  \\\n",
              "194         6938.58        13159.55         8249.61         5014.07   \n",
              "610        21117.25        40586.51        28532.89        28065.77   \n",
              "687        25540.85        24641.04        18003.41        30148.61   \n",
              "\n",
              "     USDPrice(t-22)  USDPrice(t-21)  ...  USDPrice(t-9)  USDPrice(t-8)  \\\n",
              "194         7053.64        12646.07  ...        9692.96       15112.52   \n",
              "610        31925.34        28368.23  ...       36959.99       45847.13   \n",
              "687        25386.44        23518.49  ...       35369.95       33891.31   \n",
              "\n",
              "     USDPrice(t-7)  USDPrice(t-6)  USDPrice(t-5)  USDPrice(t-4)  \\\n",
              "194        9859.27        8665.36        9077.70        4469.33   \n",
              "610       33602.10       27427.05       30436.61       41152.21   \n",
              "687       19158.13       22322.18       17815.32       19397.82   \n",
              "\n",
              "     USDPrice(t-3)  USDPrice(t-2)  USDPrice(t-1)  USDPrice(t)  \n",
              "194       11540.12        4045.76        4356.33     10229.27  \n",
              "610       42834.54       37652.99       35512.78     23751.10  \n",
              "687       25410.44       30309.50       31418.69     25091.60  \n",
              "\n",
              "[3 rows x 31 columns]"
            ],
            "text/html": [
              "\n",
              "  <div id=\"df-ab8013bf-62fb-4a04-ba16-152c92fee7a1\">\n",
              "    <div class=\"colab-df-container\">\n",
              "      <div>\n",
              "<style scoped>\n",
              "    .dataframe tbody tr th:only-of-type {\n",
              "        vertical-align: middle;\n",
              "    }\n",
              "\n",
              "    .dataframe tbody tr th {\n",
              "        vertical-align: top;\n",
              "    }\n",
              "\n",
              "    .dataframe thead th {\n",
              "        text-align: right;\n",
              "    }\n",
              "</style>\n",
              "<table border=\"1\" class=\"dataframe\">\n",
              "  <thead>\n",
              "    <tr style=\"text-align: right;\">\n",
              "      <th></th>\n",
              "      <th>USDPrice(t-30)</th>\n",
              "      <th>USDPrice(t-29)</th>\n",
              "      <th>USDPrice(t-28)</th>\n",
              "      <th>USDPrice(t-27)</th>\n",
              "      <th>USDPrice(t-26)</th>\n",
              "      <th>USDPrice(t-25)</th>\n",
              "      <th>USDPrice(t-24)</th>\n",
              "      <th>USDPrice(t-23)</th>\n",
              "      <th>USDPrice(t-22)</th>\n",
              "      <th>USDPrice(t-21)</th>\n",
              "      <th>...</th>\n",
              "      <th>USDPrice(t-9)</th>\n",
              "      <th>USDPrice(t-8)</th>\n",
              "      <th>USDPrice(t-7)</th>\n",
              "      <th>USDPrice(t-6)</th>\n",
              "      <th>USDPrice(t-5)</th>\n",
              "      <th>USDPrice(t-4)</th>\n",
              "      <th>USDPrice(t-3)</th>\n",
              "      <th>USDPrice(t-2)</th>\n",
              "      <th>USDPrice(t-1)</th>\n",
              "      <th>USDPrice(t)</th>\n",
              "    </tr>\n",
              "  </thead>\n",
              "  <tbody>\n",
              "    <tr>\n",
              "      <th>194</th>\n",
              "      <td>4610.59</td>\n",
              "      <td>9428.83</td>\n",
              "      <td>14496.44</td>\n",
              "      <td>2465.58</td>\n",
              "      <td>6938.58</td>\n",
              "      <td>13159.55</td>\n",
              "      <td>8249.61</td>\n",
              "      <td>5014.07</td>\n",
              "      <td>7053.64</td>\n",
              "      <td>12646.07</td>\n",
              "      <td>...</td>\n",
              "      <td>9692.96</td>\n",
              "      <td>15112.52</td>\n",
              "      <td>9859.27</td>\n",
              "      <td>8665.36</td>\n",
              "      <td>9077.70</td>\n",
              "      <td>4469.33</td>\n",
              "      <td>11540.12</td>\n",
              "      <td>4045.76</td>\n",
              "      <td>4356.33</td>\n",
              "      <td>10229.27</td>\n",
              "    </tr>\n",
              "    <tr>\n",
              "      <th>610</th>\n",
              "      <td>24114.55</td>\n",
              "      <td>47956.47</td>\n",
              "      <td>20734.53</td>\n",
              "      <td>29053.79</td>\n",
              "      <td>21117.25</td>\n",
              "      <td>40586.51</td>\n",
              "      <td>28532.89</td>\n",
              "      <td>28065.77</td>\n",
              "      <td>31925.34</td>\n",
              "      <td>28368.23</td>\n",
              "      <td>...</td>\n",
              "      <td>36959.99</td>\n",
              "      <td>45847.13</td>\n",
              "      <td>33602.10</td>\n",
              "      <td>27427.05</td>\n",
              "      <td>30436.61</td>\n",
              "      <td>41152.21</td>\n",
              "      <td>42834.54</td>\n",
              "      <td>37652.99</td>\n",
              "      <td>35512.78</td>\n",
              "      <td>23751.10</td>\n",
              "    </tr>\n",
              "    <tr>\n",
              "      <th>687</th>\n",
              "      <td>19583.59</td>\n",
              "      <td>20465.97</td>\n",
              "      <td>24501.21</td>\n",
              "      <td>31472.21</td>\n",
              "      <td>25540.85</td>\n",
              "      <td>24641.04</td>\n",
              "      <td>18003.41</td>\n",
              "      <td>30148.61</td>\n",
              "      <td>25386.44</td>\n",
              "      <td>23518.49</td>\n",
              "      <td>...</td>\n",
              "      <td>35369.95</td>\n",
              "      <td>33891.31</td>\n",
              "      <td>19158.13</td>\n",
              "      <td>22322.18</td>\n",
              "      <td>17815.32</td>\n",
              "      <td>19397.82</td>\n",
              "      <td>25410.44</td>\n",
              "      <td>30309.50</td>\n",
              "      <td>31418.69</td>\n",
              "      <td>25091.60</td>\n",
              "    </tr>\n",
              "  </tbody>\n",
              "</table>\n",
              "<p>3 rows × 31 columns</p>\n",
              "</div>\n",
              "      <button class=\"colab-df-convert\" onclick=\"convertToInteractive('df-ab8013bf-62fb-4a04-ba16-152c92fee7a1')\"\n",
              "              title=\"Convert this dataframe to an interactive table.\"\n",
              "              style=\"display:none;\">\n",
              "        \n",
              "  <svg xmlns=\"http://www.w3.org/2000/svg\" height=\"24px\"viewBox=\"0 0 24 24\"\n",
              "       width=\"24px\">\n",
              "    <path d=\"M0 0h24v24H0V0z\" fill=\"none\"/>\n",
              "    <path d=\"M18.56 5.44l.94 2.06.94-2.06 2.06-.94-2.06-.94-.94-2.06-.94 2.06-2.06.94zm-11 1L8.5 8.5l.94-2.06 2.06-.94-2.06-.94L8.5 2.5l-.94 2.06-2.06.94zm10 10l.94 2.06.94-2.06 2.06-.94-2.06-.94-.94-2.06-.94 2.06-2.06.94z\"/><path d=\"M17.41 7.96l-1.37-1.37c-.4-.4-.92-.59-1.43-.59-.52 0-1.04.2-1.43.59L10.3 9.45l-7.72 7.72c-.78.78-.78 2.05 0 2.83L4 21.41c.39.39.9.59 1.41.59.51 0 1.02-.2 1.41-.59l7.78-7.78 2.81-2.81c.8-.78.8-2.07 0-2.86zM5.41 20L4 18.59l7.72-7.72 1.47 1.35L5.41 20z\"/>\n",
              "  </svg>\n",
              "      </button>\n",
              "      \n",
              "  <style>\n",
              "    .colab-df-container {\n",
              "      display:flex;\n",
              "      flex-wrap:wrap;\n",
              "      gap: 12px;\n",
              "    }\n",
              "\n",
              "    .colab-df-convert {\n",
              "      background-color: #E8F0FE;\n",
              "      border: none;\n",
              "      border-radius: 50%;\n",
              "      cursor: pointer;\n",
              "      display: none;\n",
              "      fill: #1967D2;\n",
              "      height: 32px;\n",
              "      padding: 0 0 0 0;\n",
              "      width: 32px;\n",
              "    }\n",
              "\n",
              "    .colab-df-convert:hover {\n",
              "      background-color: #E2EBFA;\n",
              "      box-shadow: 0px 1px 2px rgba(60, 64, 67, 0.3), 0px 1px 3px 1px rgba(60, 64, 67, 0.15);\n",
              "      fill: #174EA6;\n",
              "    }\n",
              "\n",
              "    [theme=dark] .colab-df-convert {\n",
              "      background-color: #3B4455;\n",
              "      fill: #D2E3FC;\n",
              "    }\n",
              "\n",
              "    [theme=dark] .colab-df-convert:hover {\n",
              "      background-color: #434B5C;\n",
              "      box-shadow: 0px 1px 3px 1px rgba(0, 0, 0, 0.15);\n",
              "      filter: drop-shadow(0px 1px 2px rgba(0, 0, 0, 0.3));\n",
              "      fill: #FFFFFF;\n",
              "    }\n",
              "  </style>\n",
              "\n",
              "      <script>\n",
              "        const buttonEl =\n",
              "          document.querySelector('#df-ab8013bf-62fb-4a04-ba16-152c92fee7a1 button.colab-df-convert');\n",
              "        buttonEl.style.display =\n",
              "          google.colab.kernel.accessAllowed ? 'block' : 'none';\n",
              "\n",
              "        async function convertToInteractive(key) {\n",
              "          const element = document.querySelector('#df-ab8013bf-62fb-4a04-ba16-152c92fee7a1');\n",
              "          const dataTable =\n",
              "            await google.colab.kernel.invokeFunction('convertToInteractive',\n",
              "                                                     [key], {});\n",
              "          if (!dataTable) return;\n",
              "\n",
              "          const docLinkHtml = 'Like what you see? Visit the ' +\n",
              "            '<a target=\"_blank\" href=https://colab.research.google.com/notebooks/data_table.ipynb>data table notebook</a>'\n",
              "            + ' to learn more about interactive tables.';\n",
              "          element.innerHTML = '';\n",
              "          dataTable['output_type'] = 'display_data';\n",
              "          await google.colab.output.renderOutput(dataTable, element);\n",
              "          const docLink = document.createElement('div');\n",
              "          docLink.innerHTML = docLinkHtml;\n",
              "          element.appendChild(docLink);\n",
              "        }\n",
              "      </script>\n",
              "    </div>\n",
              "  </div>\n",
              "  "
            ]
          },
          "metadata": {},
          "execution_count": 44
        }
      ]
    },
    {
      "cell_type": "markdown",
      "source": [
        "We wish our model good luck with identifying and learning the patterns within the time-series data."
      ],
      "metadata": {
        "id": "8v5V8mHEooxR"
      }
    },
    {
      "cell_type": "markdown",
      "source": [
        "### 4.5 LSTM Model"
      ],
      "metadata": {
        "id": "sOYkjVNvol2z"
      }
    },
    {
      "cell_type": "code",
      "source": [
        "epochs = 200\n",
        "batch = 65\n",
        "lr = 0.0005\n",
        "adam = optimizers.Adamax()"
      ],
      "metadata": {
        "id": "vSsD_dqGc05q"
      },
      "execution_count": 45,
      "outputs": []
    },
    {
      "cell_type": "markdown",
      "source": [
        "Use dropout layers to avoid overfitting."
      ],
      "metadata": {
        "id": "KE-kKp8-ozL4"
      }
    },
    {
      "cell_type": "code",
      "source": [
        "from tensorflow.keras.layers import Dropout\n",
        "\n",
        "model_lstm = Sequential()\n",
        "model_lstm.add(LSTM(165,activation='relu', input_shape=(X_train_series.shape[1], X_train_series.shape[2])))\n",
        "model_lstm.add(Dropout(0.5))\n",
        "model_lstm.add(Dense(56))\n",
        "model_lstm.add(Dropout(0.5))\n",
        "model_lstm.add(Dense(1))\n",
        "model_lstm.compile(loss='mae', optimizer=adam)\n",
        "model_lstm.summary()"
      ],
      "metadata": {
        "id": "MTb1cdf9c3Qy",
        "colab": {
          "base_uri": "https://localhost:8080/"
        },
        "outputId": "b6849f73-bde2-401b-ea30-1b992410190d"
      },
      "execution_count": 46,
      "outputs": [
        {
          "output_type": "stream",
          "name": "stdout",
          "text": [
            "Model: \"sequential\"\n",
            "_________________________________________________________________\n",
            " Layer (type)                Output Shape              Param #   \n",
            "=================================================================\n",
            " lstm (LSTM)                 (None, 165)               110220    \n",
            "                                                                 \n",
            " dropout (Dropout)           (None, 165)               0         \n",
            "                                                                 \n",
            " dense (Dense)               (None, 56)                9296      \n",
            "                                                                 \n",
            " dropout_1 (Dropout)         (None, 56)                0         \n",
            "                                                                 \n",
            " dense_1 (Dense)             (None, 1)                 57        \n",
            "                                                                 \n",
            "=================================================================\n",
            "Total params: 119,573\n",
            "Trainable params: 119,573\n",
            "Non-trainable params: 0\n",
            "_________________________________________________________________\n"
          ]
        }
      ]
    },
    {
      "cell_type": "markdown",
      "source": [
        "### 4.6 Train Model"
      ],
      "metadata": {
        "id": "gsIwyF7zo3l6"
      }
    },
    {
      "cell_type": "code",
      "source": [
        "import tensorflow as tf\n",
        "\n",
        "callback = tf.keras.callbacks.EarlyStopping(monitor='loss', patience=10)\n",
        "\n",
        "lstm_history = model_lstm.fit(X_train_series, Y_train, validation_data=(X_valid_series, Y_valid), epochs=epochs, verbose=2, callbacks=[callback])"
      ],
      "metadata": {
        "id": "cQIXUWgYdFgo",
        "colab": {
          "base_uri": "https://localhost:8080/"
        },
        "outputId": "805eadda-9386-4410-a775-3aa7b55aa710"
      },
      "execution_count": 47,
      "outputs": [
        {
          "output_type": "stream",
          "name": "stdout",
          "text": [
            "Epoch 1/200\n",
            "15/15 - 10s - loss: 34474.9570 - val_loss: 20864.7129 - 10s/epoch - 691ms/step\n",
            "Epoch 2/200\n",
            "15/15 - 2s - loss: 34206.6758 - val_loss: 18749.9238 - 2s/epoch - 132ms/step\n",
            "Epoch 3/200\n",
            "15/15 - 2s - loss: 33576.4062 - val_loss: 19398.6074 - 2s/epoch - 127ms/step\n",
            "Epoch 4/200\n",
            "15/15 - 2s - loss: 32272.5391 - val_loss: 18542.9531 - 2s/epoch - 145ms/step\n",
            "Epoch 5/200\n",
            "15/15 - 2s - loss: 30034.0664 - val_loss: 17709.4883 - 2s/epoch - 156ms/step\n",
            "Epoch 6/200\n",
            "15/15 - 2s - loss: 28687.6855 - val_loss: 17657.7051 - 2s/epoch - 137ms/step\n",
            "Epoch 7/200\n",
            "15/15 - 2s - loss: 27239.8965 - val_loss: 16846.2188 - 2s/epoch - 117ms/step\n",
            "Epoch 8/200\n",
            "15/15 - 2s - loss: 24987.4707 - val_loss: 17260.4219 - 2s/epoch - 112ms/step\n",
            "Epoch 9/200\n",
            "15/15 - 2s - loss: 24783.4512 - val_loss: 16258.5664 - 2s/epoch - 124ms/step\n",
            "Epoch 10/200\n",
            "15/15 - 1s - loss: 26522.0742 - val_loss: 18890.2891 - 1s/epoch - 95ms/step\n",
            "Epoch 11/200\n",
            "15/15 - 1s - loss: 26357.2344 - val_loss: 18206.4902 - 941ms/epoch - 63ms/step\n",
            "Epoch 12/200\n",
            "15/15 - 1s - loss: 23913.1719 - val_loss: 16923.5449 - 911ms/epoch - 61ms/step\n",
            "Epoch 13/200\n",
            "15/15 - 1s - loss: 23697.0840 - val_loss: 18926.0254 - 925ms/epoch - 62ms/step\n",
            "Epoch 14/200\n",
            "15/15 - 1s - loss: 22173.1758 - val_loss: 17927.0508 - 910ms/epoch - 61ms/step\n",
            "Epoch 15/200\n",
            "15/15 - 1s - loss: 24178.8086 - val_loss: 17325.1699 - 887ms/epoch - 59ms/step\n",
            "Epoch 16/200\n",
            "15/15 - 1s - loss: 23458.2812 - val_loss: 17332.1660 - 881ms/epoch - 59ms/step\n",
            "Epoch 17/200\n",
            "15/15 - 1s - loss: 23109.0117 - val_loss: 17565.8672 - 893ms/epoch - 60ms/step\n",
            "Epoch 18/200\n",
            "15/15 - 1s - loss: 22569.4160 - val_loss: 17624.4648 - 908ms/epoch - 61ms/step\n",
            "Epoch 19/200\n",
            "15/15 - 1s - loss: 22044.8457 - val_loss: 16492.0391 - 916ms/epoch - 61ms/step\n",
            "Epoch 20/200\n",
            "15/15 - 1s - loss: 22180.2812 - val_loss: 17123.1504 - 929ms/epoch - 62ms/step\n",
            "Epoch 21/200\n",
            "15/15 - 1s - loss: 21904.0039 - val_loss: 17111.6328 - 925ms/epoch - 62ms/step\n",
            "Epoch 22/200\n",
            "15/15 - 1s - loss: 22227.3516 - val_loss: 16994.3086 - 925ms/epoch - 62ms/step\n",
            "Epoch 23/200\n",
            "15/15 - 1s - loss: 24282.4219 - val_loss: 17887.2012 - 954ms/epoch - 64ms/step\n",
            "Epoch 24/200\n",
            "15/15 - 1s - loss: 22373.1094 - val_loss: 16062.0059 - 959ms/epoch - 64ms/step\n",
            "Epoch 25/200\n",
            "15/15 - 1s - loss: 21859.7012 - val_loss: 16915.6055 - 938ms/epoch - 63ms/step\n",
            "Epoch 26/200\n",
            "15/15 - 1s - loss: 22867.9414 - val_loss: 17701.7676 - 949ms/epoch - 63ms/step\n",
            "Epoch 27/200\n",
            "15/15 - 1s - loss: 23366.7988 - val_loss: 16587.1543 - 936ms/epoch - 62ms/step\n",
            "Epoch 28/200\n",
            "15/15 - 1s - loss: 22477.3457 - val_loss: 17244.6328 - 940ms/epoch - 63ms/step\n",
            "Epoch 29/200\n",
            "15/15 - 1s - loss: 21528.6895 - val_loss: 16122.5303 - 915ms/epoch - 61ms/step\n",
            "Epoch 30/200\n",
            "15/15 - 1s - loss: 21805.4492 - val_loss: 16287.9092 - 886ms/epoch - 59ms/step\n",
            "Epoch 31/200\n",
            "15/15 - 1s - loss: 22617.5391 - val_loss: 17148.9160 - 905ms/epoch - 60ms/step\n",
            "Epoch 32/200\n",
            "15/15 - 1s - loss: 22537.8730 - val_loss: 17106.7324 - 913ms/epoch - 61ms/step\n",
            "Epoch 33/200\n",
            "15/15 - 1s - loss: 21830.6895 - val_loss: 16702.5645 - 924ms/epoch - 62ms/step\n",
            "Epoch 34/200\n",
            "15/15 - 1s - loss: 20645.3496 - val_loss: 16698.3965 - 913ms/epoch - 61ms/step\n",
            "Epoch 35/200\n",
            "15/15 - 1s - loss: 20697.1621 - val_loss: 16925.7773 - 898ms/epoch - 60ms/step\n",
            "Epoch 36/200\n",
            "15/15 - 1s - loss: 21389.4727 - val_loss: 16814.9336 - 888ms/epoch - 59ms/step\n",
            "Epoch 37/200\n",
            "15/15 - 1s - loss: 22390.7656 - val_loss: 17201.5820 - 918ms/epoch - 61ms/step\n",
            "Epoch 38/200\n",
            "15/15 - 1s - loss: 20212.1230 - val_loss: 16701.2480 - 934ms/epoch - 62ms/step\n",
            "Epoch 39/200\n",
            "15/15 - 1s - loss: 20511.3047 - val_loss: 17325.3945 - 905ms/epoch - 60ms/step\n",
            "Epoch 40/200\n",
            "15/15 - 1s - loss: 21159.0098 - val_loss: 17296.6406 - 892ms/epoch - 59ms/step\n",
            "Epoch 41/200\n",
            "15/15 - 1s - loss: 21666.2773 - val_loss: 16701.6094 - 903ms/epoch - 60ms/step\n",
            "Epoch 42/200\n",
            "15/15 - 1s - loss: 20184.2812 - val_loss: 15790.2422 - 926ms/epoch - 62ms/step\n",
            "Epoch 43/200\n",
            "15/15 - 1s - loss: 20001.8906 - val_loss: 16452.3184 - 887ms/epoch - 59ms/step\n",
            "Epoch 44/200\n",
            "15/15 - 1s - loss: 21766.7051 - val_loss: 16948.0195 - 887ms/epoch - 59ms/step\n",
            "Epoch 45/200\n",
            "15/15 - 1s - loss: 21144.5566 - val_loss: 17103.5957 - 861ms/epoch - 57ms/step\n",
            "Epoch 46/200\n",
            "15/15 - 1s - loss: 18991.6953 - val_loss: 15474.2637 - 923ms/epoch - 62ms/step\n",
            "Epoch 47/200\n",
            "15/15 - 1s - loss: 18880.0195 - val_loss: 15543.0518 - 944ms/epoch - 63ms/step\n",
            "Epoch 48/200\n",
            "15/15 - 1s - loss: 21016.1016 - val_loss: 16462.0605 - 885ms/epoch - 59ms/step\n",
            "Epoch 49/200\n",
            "15/15 - 1s - loss: 19379.4844 - val_loss: 16484.9355 - 881ms/epoch - 59ms/step\n",
            "Epoch 50/200\n",
            "15/15 - 1s - loss: 21184.0000 - val_loss: 16520.8965 - 895ms/epoch - 60ms/step\n",
            "Epoch 51/200\n",
            "15/15 - 1s - loss: 18826.5117 - val_loss: 16211.4746 - 954ms/epoch - 64ms/step\n",
            "Epoch 52/200\n",
            "15/15 - 1s - loss: 19349.2441 - val_loss: 15950.6133 - 950ms/epoch - 63ms/step\n",
            "Epoch 53/200\n",
            "15/15 - 1s - loss: 19573.7949 - val_loss: 15950.1240 - 938ms/epoch - 63ms/step\n",
            "Epoch 54/200\n",
            "15/15 - 1s - loss: 20576.2539 - val_loss: 16177.7529 - 950ms/epoch - 63ms/step\n",
            "Epoch 55/200\n",
            "15/15 - 1s - loss: 19938.3691 - val_loss: 15726.2012 - 890ms/epoch - 59ms/step\n",
            "Epoch 56/200\n",
            "15/15 - 1s - loss: 18589.6230 - val_loss: 15407.4980 - 886ms/epoch - 59ms/step\n",
            "Epoch 57/200\n",
            "15/15 - 1s - loss: 19474.2266 - val_loss: 16307.6699 - 890ms/epoch - 59ms/step\n",
            "Epoch 58/200\n",
            "15/15 - 1s - loss: 19664.0020 - val_loss: 15915.1826 - 881ms/epoch - 59ms/step\n",
            "Epoch 59/200\n",
            "15/15 - 1s - loss: 19594.2266 - val_loss: 15957.0283 - 878ms/epoch - 59ms/step\n",
            "Epoch 60/200\n",
            "15/15 - 1s - loss: 18035.9531 - val_loss: 15951.9971 - 887ms/epoch - 59ms/step\n",
            "Epoch 61/200\n",
            "15/15 - 1s - loss: 19025.2832 - val_loss: 15958.3994 - 868ms/epoch - 58ms/step\n",
            "Epoch 62/200\n",
            "15/15 - 1s - loss: 18280.2246 - val_loss: 16101.9023 - 888ms/epoch - 59ms/step\n",
            "Epoch 63/200\n",
            "15/15 - 1s - loss: 18747.5254 - val_loss: 16346.9639 - 960ms/epoch - 64ms/step\n",
            "Epoch 64/200\n",
            "15/15 - 1s - loss: 19085.1309 - val_loss: 15083.5098 - 915ms/epoch - 61ms/step\n",
            "Epoch 65/200\n",
            "15/15 - 1s - loss: 17795.5566 - val_loss: 15020.0518 - 930ms/epoch - 62ms/step\n",
            "Epoch 66/200\n",
            "15/15 - 1s - loss: 18970.3164 - val_loss: 15594.8350 - 872ms/epoch - 58ms/step\n",
            "Epoch 67/200\n",
            "15/15 - 1s - loss: 18117.0352 - val_loss: 15610.5664 - 880ms/epoch - 59ms/step\n",
            "Epoch 68/200\n",
            "15/15 - 1s - loss: 18504.9160 - val_loss: 16224.7559 - 892ms/epoch - 59ms/step\n",
            "Epoch 69/200\n",
            "15/15 - 1s - loss: 18454.3242 - val_loss: 16166.7109 - 935ms/epoch - 62ms/step\n",
            "Epoch 70/200\n",
            "15/15 - 1s - loss: 17729.4941 - val_loss: 15908.5342 - 886ms/epoch - 59ms/step\n",
            "Epoch 71/200\n",
            "15/15 - 1s - loss: 18141.9531 - val_loss: 16447.6367 - 933ms/epoch - 62ms/step\n",
            "Epoch 72/200\n",
            "15/15 - 1s - loss: 17705.3535 - val_loss: 15420.9609 - 949ms/epoch - 63ms/step\n",
            "Epoch 73/200\n",
            "15/15 - 1s - loss: 18957.8379 - val_loss: 16553.2695 - 952ms/epoch - 63ms/step\n",
            "Epoch 74/200\n",
            "15/15 - 1s - loss: 17826.2578 - val_loss: 16035.2969 - 958ms/epoch - 64ms/step\n",
            "Epoch 75/200\n",
            "15/15 - 1s - loss: 17992.0293 - val_loss: 15912.7422 - 901ms/epoch - 60ms/step\n",
            "Epoch 76/200\n",
            "15/15 - 1s - loss: 17821.6641 - val_loss: 15614.1963 - 883ms/epoch - 59ms/step\n",
            "Epoch 77/200\n",
            "15/15 - 1s - loss: 18510.2129 - val_loss: 15696.2764 - 889ms/epoch - 59ms/step\n",
            "Epoch 78/200\n",
            "15/15 - 1s - loss: 17875.8809 - val_loss: 16103.4951 - 928ms/epoch - 62ms/step\n",
            "Epoch 79/200\n",
            "15/15 - 1s - loss: 17027.5684 - val_loss: 15741.0410 - 922ms/epoch - 61ms/step\n",
            "Epoch 80/200\n",
            "15/15 - 1s - loss: 17812.8301 - val_loss: 15760.8633 - 898ms/epoch - 60ms/step\n",
            "Epoch 81/200\n",
            "15/15 - 1s - loss: 16478.0742 - val_loss: 16063.0361 - 1s/epoch - 83ms/step\n",
            "Epoch 82/200\n",
            "15/15 - 2s - loss: 17106.5312 - val_loss: 16694.0117 - 2s/epoch - 111ms/step\n",
            "Epoch 83/200\n",
            "15/15 - 2s - loss: 17072.7871 - val_loss: 15716.4717 - 2s/epoch - 109ms/step\n",
            "Epoch 84/200\n",
            "15/15 - 1s - loss: 18189.7559 - val_loss: 15899.3037 - 881ms/epoch - 59ms/step\n",
            "Epoch 85/200\n",
            "15/15 - 1s - loss: 16694.4805 - val_loss: 15946.1133 - 901ms/epoch - 60ms/step\n",
            "Epoch 86/200\n",
            "15/15 - 1s - loss: 17735.1406 - val_loss: 15874.5693 - 901ms/epoch - 60ms/step\n",
            "Epoch 87/200\n",
            "15/15 - 1s - loss: 17612.9844 - val_loss: 15568.4580 - 960ms/epoch - 64ms/step\n",
            "Epoch 88/200\n",
            "15/15 - 1s - loss: 17223.4688 - val_loss: 15201.6602 - 916ms/epoch - 61ms/step\n",
            "Epoch 89/200\n",
            "15/15 - 1s - loss: 17464.2129 - val_loss: 15205.6396 - 930ms/epoch - 62ms/step\n",
            "Epoch 90/200\n",
            "15/15 - 1s - loss: 17118.9297 - val_loss: 15132.5381 - 940ms/epoch - 63ms/step\n",
            "Epoch 91/200\n",
            "15/15 - 1s - loss: 17100.8027 - val_loss: 15970.8535 - 941ms/epoch - 63ms/step\n"
          ]
        }
      ]
    },
    {
      "cell_type": "markdown",
      "source": [
        "### 4.7 Plot Training "
      ],
      "metadata": {
        "id": "tlvaRm2Po6_5"
      }
    },
    {
      "cell_type": "code",
      "source": [
        "plt.plot(lstm_history.history['loss'], label=\"Training loss\")\n",
        "plt.plot(lstm_history.history['val_loss'], label=\"Val loss\")\n",
        "plt.legend()"
      ],
      "metadata": {
        "colab": {
          "base_uri": "https://localhost:8080/",
          "height": 282
        },
        "id": "QkVxrwwIKPHC",
        "outputId": "2e13e84f-1407-4f3b-d9b7-158c0c6e900a"
      },
      "execution_count": 48,
      "outputs": [
        {
          "output_type": "execute_result",
          "data": {
            "text/plain": [
              "<matplotlib.legend.Legend at 0x7f79bd29eb80>"
            ]
          },
          "metadata": {},
          "execution_count": 48
        },
        {
          "output_type": "display_data",
          "data": {
            "text/plain": [
              "<Figure size 432x288 with 1 Axes>"
            ],
            "image/png": "[encoded data removed]"
          },
          "metadata": {
            "needs_background": "light"
          }
        }
      ]
    },
    {
      "cell_type": "markdown",
      "source": [
        "### 4.8 Model Evaluation"
      ],
      "metadata": {
        "id": "IMgbMEGco_Wv"
      }
    },
    {
      "cell_type": "code",
      "source": [
        "lstm_train_pred = model_lstm.predict(X_train_series)\n",
        "lstm_valid_pred = model_lstm.predict(X_valid_series)\n",
        "print('Train rmse:', np.sqrt(mean_squared_error(Y_train, lstm_train_pred)))\n",
        "print('Validation rmse:', np.sqrt(mean_squared_error(Y_valid, lstm_valid_pred)))"
      ],
      "metadata": {
        "id": "NVEBGAH9dIcd",
        "colab": {
          "base_uri": "https://localhost:8080/"
        },
        "outputId": "571d74d4-30b9-4598-a8aa-c76e1400443f"
      },
      "execution_count": 49,
      "outputs": [
        {
          "output_type": "stream",
          "name": "stdout",
          "text": [
            "15/15 [==============================] - 1s 24ms/step\n",
            "10/10 [==============================] - 0s 22ms/step\n",
            "Train rmse: 22914.346968788144\n",
            "Validation rmse: 24689.106623525047\n"
          ]
        }
      ]
    },
    {
      "cell_type": "code",
      "source": [
        "length = len(lstm_valid_pred) "
      ],
      "metadata": {
        "id": "2Vv2DkOWyAxg"
      },
      "execution_count": 50,
      "outputs": []
    },
    {
      "cell_type": "code",
      "source": [
        "# data to be plotted\n",
        "x = np.arange(0, length)\n",
        "y1 = lstm_valid_pred[:length]\n",
        "y2 = Y_valid[:length]\n",
        "\n",
        "plt.figure(figsize=(30, 10))\n",
        "\n",
        "# plotting\n",
        "plt.xlabel(\"Day\")\n",
        "plt.ylabel(\"Sale\")\n",
        "plt.plot(x, y1.reshape(-1), label = \"Predicted\")\n",
        "plt.plot(x, y2.reshape(-1), label = \"Original\")\n",
        "plt.legend()\n",
        "plt.show()"
      ],
      "metadata": {
        "id": "txwLv4Aqd7L1",
        "colab": {
          "base_uri": "https://localhost:8080/",
          "height": 325
        },
        "outputId": "1577fd9c-eec3-4a50-a6c6-c0559f01926a"
      },
      "execution_count": 51,
      "outputs": [
        {
          "output_type": "display_data",
          "data": {
            "text/plain": [
              "<Figure size 2160x720 with 1 Axes>"
            ],
            "image/png": "[encoded data removed]"
          },
          "metadata": {
            "needs_background": "light"
          }
        }
      ]
    },
    {
      "cell_type": "markdown",
      "source": [
        "### 4.9 Test Model"
      ],
      "metadata": {
        "id": "2naZk2kkqcML"
      }
    },
    {
      "cell_type": "code",
      "source": [
        "lstm_test_pred = model_lstm.predict(X_test_series)\n",
        "print('Test rmse:', np.sqrt(mean_squared_error(Y_test, lstm_test_pred)))"
      ],
      "metadata": {
        "colab": {
          "base_uri": "https://localhost:8080/"
        },
        "id": "R5vUwugRqbwq",
        "outputId": "dc56ccae-07db-4c48-b81e-e27215183510"
      },
      "execution_count": 52,
      "outputs": [
        {
          "output_type": "stream",
          "name": "stdout",
          "text": [
            "7/7 [==============================] - 0s 20ms/step\n",
            "Test rmse: 24814.020459781717\n"
          ]
        }
      ]
    },
    {
      "cell_type": "code",
      "source": [
        "length_test = len(lstm_test_pred) \n",
        "\n",
        "x = np.arange(0, length_test)\n",
        "y1 = lstm_test_pred[:length_test]\n",
        "y2 = Y_test[:length_test]\n",
        "\n",
        "plt.figure(figsize=(30, 10))\n",
        "\n",
        "plt.xlabel(\"Day\")\n",
        "plt.ylabel(\"Sale\")\n",
        "plt.plot(x, y1.reshape(-1), label = \"Predicted\")\n",
        "plt.plot(x, y2.reshape(-1), label = \"Original\")\n",
        "plt.legend()\n",
        "plt.show()"
      ],
      "metadata": {
        "colab": {
          "base_uri": "https://localhost:8080/",
          "height": 325
        },
        "id": "MMfg_1xUqxdj",
        "outputId": "f1080ec8-320e-4030-898e-e86f142f4af4"
      },
      "execution_count": 54,
      "outputs": [
        {
          "output_type": "display_data",
          "data": {
            "text/plain": [
              "<Figure size 2160x720 with 1 Axes>"
            ],
            "image/png": "[encoded data removed]"
          },
          "metadata": {
            "needs_background": "light"
          }
        }
      ]
    },
    {
      "cell_type": "code",
      "source": [],
      "metadata": {
        "id": "QfhQ2pBer7pL"
      },
      "execution_count": null,
      "outputs": []
    }
  ]
}