{
  "nbformat": 4,
  "nbformat_minor": 0,
  "metadata": {
    "colab": {
      "provenance": [],
      "toc_visible": true,
      "authorship_tag": "ABX9TyMjQP7qqxoL9I2OhPFoeSbN",
      "include_colab_link": true
    },
    "kernelspec": {
      "name": "python3",
      "display_name": "Python 3"
    },
    "language_info": {
      "name": "python"
    }
  },
  "cells": [
    {
      "cell_type": "markdown",
      "metadata": {
        "id": "view-in-github",
        "colab_type": "text"
      },
      "source": [
        "<a href=\"https://colab.research.google.com/github/risa1796/Forecasting-Regression-exercises/blob/main/E_Commerce_Jewelry.ipynb\" target=\"_parent\"><img src=\"https://colab.research.google.com/assets/colab-badge.svg\" alt=\"Open In Colab\"/></a>"
      ]
    },
    {
      "cell_type": "markdown",
      "source": [
        "# E-Commerce purchase history from jewelry store\n",
        "\n",
        "What can I do with this dataset?\n",
        "\n",
        "- EDA \n",
        "- Forecasting total sales \n",
        "- Product Recommendation "
      ],
      "metadata": {
        "id": "w-_F4rmWolQu"
      }
    },
    {
      "cell_type": "markdown",
      "source": [
        "## 1. Data Upload"
      ],
      "metadata": {
        "id": "1efFLgxWrskM"
      }
    },
    {
      "cell_type": "code",
      "source": [
        "from google.colab import drive\n",
        "drive.mount('/content/drive')"
      ],
      "metadata": {
        "colab": {
          "base_uri": "https://localhost:8080/"
        },
        "id": "8BFTVChblX-x",
        "outputId": "3d32bb41-e190-49a7-b181-301c6af55ea6"
      },
      "execution_count": 1,
      "outputs": [
        {
          "output_type": "stream",
          "name": "stdout",
          "text": [
            "Drive already mounted at /content/drive; to attempt to forcibly remount, call drive.mount(\"/content/drive\", force_remount=True).\n"
          ]
        }
      ]
    },
    {
      "cell_type": "code",
      "source": [
        "import pandas as pd\n",
        "import warnings\n",
        "warnings.filterwarnings(\"ignore\")\n",
        "\n",
        "df_cols = ['Datetime','OrderID','ProductID','Quantity','CategoryID','CategoryCode','BrandID','USDPrice','UserID','Gender','Color','Metal','Gem']\n",
        "df = pd.read_csv('/content/drive/MyDrive/딥러닝기초/jewelry.csv',names=df_cols )\n",
        "df.head(2)"
      ],
      "metadata": {
        "colab": {
          "base_uri": "https://localhost:8080/",
          "height": 277
        },
        "id": "RQHf0950lfsS",
        "outputId": "a0d26e53-84bb-4b85-b3c1-c0e2b106686d"
      },
      "execution_count": 2,
      "outputs": [
        {
          "output_type": "execute_result",
          "data": {
            "text/plain": [
              "                  Datetime              OrderID            ProductID  \\\n",
              "0  2018-12-01 11:40:29 UTC  1924719191579951782  1842195256808833386   \n",
              "1  2018-12-01 17:38:31 UTC  1924899396621697920  1806829193678291446   \n",
              "\n",
              "   Quantity    CategoryID     CategoryCode  BrandID  USDPrice        UserID  \\\n",
              "0         1  1.806829e+18  jewelry.earring      0.0    561.51  1.515916e+18   \n",
              "1         1  1.806829e+18              NaN      NaN    212.14  1.515916e+18   \n",
              "\n",
              "  Gender   Color Metal      Gem  \n",
              "0    NaN     red  gold  diamond  \n",
              "1    NaN  yellow  gold      NaN  "
            ],
            "text/html": [
              "\n",
              "  <div id=\"df-dfa451ab-6983-4a73-8403-e68106d1b2b4\">\n",
              "    <div class=\"colab-df-container\">\n",
              "      <div>\n",
              "<style scoped>\n",
              "    .dataframe tbody tr th:only-of-type {\n",
              "        vertical-align: middle;\n",
              "    }\n",
              "\n",
              "    .dataframe tbody tr th {\n",
              "        vertical-align: top;\n",
              "    }\n",
              "\n",
              "    .dataframe thead th {\n",
              "        text-align: right;\n",
              "    }\n",
              "</style>\n",
              "<table border=\"1\" class=\"dataframe\">\n",
              "  <thead>\n",
              "    <tr style=\"text-align: right;\">\n",
              "      <th></th>\n",
              "      <th>Datetime</th>\n",
              "      <th>OrderID</th>\n",
              "      <th>ProductID</th>\n",
              "      <th>Quantity</th>\n",
              "      <th>CategoryID</th>\n",
              "      <th>CategoryCode</th>\n",
              "      <th>BrandID</th>\n",
              "      <th>USDPrice</th>\n",
              "      <th>UserID</th>\n",
              "      <th>Gender</th>\n",
              "      <th>Color</th>\n",
              "      <th>Metal</th>\n",
              "      <th>Gem</th>\n",
              "    </tr>\n",
              "  </thead>\n",
              "  <tbody>\n",
              "    <tr>\n",
              "      <th>0</th>\n",
              "      <td>2018-12-01 11:40:29 UTC</td>\n",
              "      <td>1924719191579951782</td>\n",
              "      <td>1842195256808833386</td>\n",
              "      <td>1</td>\n",
              "      <td>1.806829e+18</td>\n",
              "      <td>jewelry.earring</td>\n",
              "      <td>0.0</td>\n",
              "      <td>561.51</td>\n",
              "      <td>1.515916e+18</td>\n",
              "      <td>NaN</td>\n",
              "      <td>red</td>\n",
              "      <td>gold</td>\n",
              "      <td>diamond</td>\n",
              "    </tr>\n",
              "    <tr>\n",
              "      <th>1</th>\n",
              "      <td>2018-12-01 17:38:31 UTC</td>\n",
              "      <td>1924899396621697920</td>\n",
              "      <td>1806829193678291446</td>\n",
              "      <td>1</td>\n",
              "      <td>1.806829e+18</td>\n",
              "      <td>NaN</td>\n",
              "      <td>NaN</td>\n",
              "      <td>212.14</td>\n",
              "      <td>1.515916e+18</td>\n",
              "      <td>NaN</td>\n",
              "      <td>yellow</td>\n",
              "      <td>gold</td>\n",
              "      <td>NaN</td>\n",
              "    </tr>\n",
              "  </tbody>\n",
              "</table>\n",
              "</div>\n",
              "      <button class=\"colab-df-convert\" onclick=\"convertToInteractive('df-dfa451ab-6983-4a73-8403-e68106d1b2b4')\"\n",
              "              title=\"Convert this dataframe to an interactive table.\"\n",
              "              style=\"display:none;\">\n",
              "        \n",
              "  <svg xmlns=\"http://www.w3.org/2000/svg\" height=\"24px\"viewBox=\"0 0 24 24\"\n",
              "       width=\"24px\">\n",
              "    <path d=\"M0 0h24v24H0V0z\" fill=\"none\"/>\n",
              "    <path d=\"M18.56 5.44l.94 2.06.94-2.06 2.06-.94-2.06-.94-.94-2.06-.94 2.06-2.06.94zm-11 1L8.5 8.5l.94-2.06 2.06-.94-2.06-.94L8.5 2.5l-.94 2.06-2.06.94zm10 10l.94 2.06.94-2.06 2.06-.94-2.06-.94-.94-2.06-.94 2.06-2.06.94z\"/><path d=\"M17.41 7.96l-1.37-1.37c-.4-.4-.92-.59-1.43-.59-.52 0-1.04.2-1.43.59L10.3 9.45l-7.72 7.72c-.78.78-.78 2.05 0 2.83L4 21.41c.39.39.9.59 1.41.59.51 0 1.02-.2 1.41-.59l7.78-7.78 2.81-2.81c.8-.78.8-2.07 0-2.86zM5.41 20L4 18.59l7.72-7.72 1.47 1.35L5.41 20z\"/>\n",
              "  </svg>\n",
              "      </button>\n",
              "      \n",
              "  <style>\n",
              "    .colab-df-container {\n",
              "      display:flex;\n",
              "      flex-wrap:wrap;\n",
              "      gap: 12px;\n",
              "    }\n",
              "\n",
              "    .colab-df-convert {\n",
              "      background-color: #E8F0FE;\n",
              "      border: none;\n",
              "      border-radius: 50%;\n",
              "      cursor: pointer;\n",
              "      display: none;\n",
              "      fill: #1967D2;\n",
              "      height: 32px;\n",
              "      padding: 0 0 0 0;\n",
              "      width: 32px;\n",
              "    }\n",
              "\n",
              "    .colab-df-convert:hover {\n",
              "      background-color: #E2EBFA;\n",
              "      box-shadow: 0px 1px 2px rgba(60, 64, 67, 0.3), 0px 1px 3px 1px rgba(60, 64, 67, 0.15);\n",
              "      fill: #174EA6;\n",
              "    }\n",
              "\n",
              "    [theme=dark] .colab-df-convert {\n",
              "      background-color: #3B4455;\n",
              "      fill: #D2E3FC;\n",
              "    }\n",
              "\n",
              "    [theme=dark] .colab-df-convert:hover {\n",
              "      background-color: #434B5C;\n",
              "      box-shadow: 0px 1px 3px 1px rgba(0, 0, 0, 0.15);\n",
              "      filter: drop-shadow(0px 1px 2px rgba(0, 0, 0, 0.3));\n",
              "      fill: #FFFFFF;\n",
              "    }\n",
              "  </style>\n",
              "\n",
              "      <script>\n",
              "        const buttonEl =\n",
              "          document.querySelector('#df-dfa451ab-6983-4a73-8403-e68106d1b2b4 button.colab-df-convert');\n",
              "        buttonEl.style.display =\n",
              "          google.colab.kernel.accessAllowed ? 'block' : 'none';\n",
              "\n",
              "        async function convertToInteractive(key) {\n",
              "          const element = document.querySelector('#df-dfa451ab-6983-4a73-8403-e68106d1b2b4');\n",
              "          const dataTable =\n",
              "            await google.colab.kernel.invokeFunction('convertToInteractive',\n",
              "                                                     [key], {});\n",
              "          if (!dataTable) return;\n",
              "\n",
              "          const docLinkHtml = 'Like what you see? Visit the ' +\n",
              "            '<a target=\"_blank\" href=https://colab.research.google.com/notebooks/data_table.ipynb>data table notebook</a>'\n",
              "            + ' to learn more about interactive tables.';\n",
              "          element.innerHTML = '';\n",
              "          dataTable['output_type'] = 'display_data';\n",
              "          await google.colab.output.renderOutput(dataTable, element);\n",
              "          const docLink = document.createElement('div');\n",
              "          docLink.innerHTML = docLinkHtml;\n",
              "          element.appendChild(docLink);\n",
              "        }\n",
              "      </script>\n",
              "    </div>\n",
              "  </div>\n",
              "  "
            ]
          },
          "metadata": {},
          "execution_count": 2
        }
      ]
    },
    {
      "cell_type": "markdown",
      "source": [
        "## 2. Data Cleaning"
      ],
      "metadata": {
        "id": "6lCFjPHir3Oe"
      }
    },
    {
      "cell_type": "code",
      "source": [
        "df.info()"
      ],
      "metadata": {
        "colab": {
          "base_uri": "https://localhost:8080/"
        },
        "id": "rVBc9Fv7mBhA",
        "outputId": "a1738cd0-7210-4783-f2d7-4b808f2d5463"
      },
      "execution_count": 3,
      "outputs": [
        {
          "output_type": "stream",
          "name": "stdout",
          "text": [
            "<class 'pandas.core.frame.DataFrame'>\n",
            "RangeIndex: 95911 entries, 0 to 95910\n",
            "Data columns (total 13 columns):\n",
            " #   Column        Non-Null Count  Dtype  \n",
            "---  ------        --------------  -----  \n",
            " 0   Datetime      95911 non-null  object \n",
            " 1   OrderID       95911 non-null  int64  \n",
            " 2   ProductID     95911 non-null  int64  \n",
            " 3   Quantity      95911 non-null  int64  \n",
            " 4   CategoryID    90559 non-null  float64\n",
            " 5   CategoryCode  85978 non-null  object \n",
            " 6   BrandID       91126 non-null  float64\n",
            " 7   USDPrice      90559 non-null  float64\n",
            " 8   UserID        90559 non-null  float64\n",
            " 9   Gender        47743 non-null  object \n",
            " 10  Color         88251 non-null  object \n",
            " 11  Metal         90449 non-null  object \n",
            " 12  Gem           61853 non-null  object \n",
            "dtypes: float64(4), int64(3), object(6)\n",
            "memory usage: 9.5+ MB\n"
          ]
        }
      ]
    },
    {
      "cell_type": "code",
      "source": [
        "df.isna().sum()"
      ],
      "metadata": {
        "colab": {
          "base_uri": "https://localhost:8080/"
        },
        "id": "s5rMb1alsIXv",
        "outputId": "cacff8ba-39e2-4c5e-9cae-d91ba671e945"
      },
      "execution_count": 4,
      "outputs": [
        {
          "output_type": "execute_result",
          "data": {
            "text/plain": [
              "Datetime            0\n",
              "OrderID             0\n",
              "ProductID           0\n",
              "Quantity            0\n",
              "CategoryID       5352\n",
              "CategoryCode     9933\n",
              "BrandID          4785\n",
              "USDPrice         5352\n",
              "UserID           5352\n",
              "Gender          48168\n",
              "Color            7660\n",
              "Metal            5462\n",
              "Gem             34058\n",
              "dtype: int64"
            ]
          },
          "metadata": {},
          "execution_count": 4
        }
      ]
    },
    {
      "cell_type": "markdown",
      "source": [
        "So many missing values in 'Gender' column. "
      ],
      "metadata": {
        "id": "7dr7WNYpsaNi"
      }
    },
    {
      "cell_type": "code",
      "source": [
        "import seaborn as sns\n",
        "import matplotlib.pyplot as plt\n",
        "\n",
        "sns.countplot(data = df, x = 'Gender')"
      ],
      "metadata": {
        "colab": {
          "base_uri": "https://localhost:8080/",
          "height": 296
        },
        "id": "0yUAHMD5sd1X",
        "outputId": "fef754be-0996-4f30-c91b-3fb54cff843d"
      },
      "execution_count": 5,
      "outputs": [
        {
          "output_type": "execute_result",
          "data": {
            "text/plain": [
              "<matplotlib.axes._subplots.AxesSubplot at 0x7fe85bc6ba90>"
            ]
          },
          "metadata": {},
          "execution_count": 5
        },
        {
          "output_type": "display_data",
          "data": {
            "text/plain": [
              "<Figure size 432x288 with 1 Axes>"
            ],
            "image/png": "[encoded data removed]"
          },
          "metadata": {
            "needs_background": "light"
          }
        }
      ]
    },
    {
      "cell_type": "markdown",
      "source": [
        "The majority of customers are female, let's replace the missing value to 'f'."
      ],
      "metadata": {
        "id": "QD3bgu0ptGiE"
      }
    },
    {
      "cell_type": "code",
      "source": [
        "df.Gender.fillna('f', inplace=True)\n",
        "df.info()"
      ],
      "metadata": {
        "colab": {
          "base_uri": "https://localhost:8080/"
        },
        "id": "kdglXdX5tQCd",
        "outputId": "28b51e4b-7a6b-45a9-e9b0-88bbea751597"
      },
      "execution_count": 6,
      "outputs": [
        {
          "output_type": "stream",
          "name": "stdout",
          "text": [
            "<class 'pandas.core.frame.DataFrame'>\n",
            "RangeIndex: 95911 entries, 0 to 95910\n",
            "Data columns (total 13 columns):\n",
            " #   Column        Non-Null Count  Dtype  \n",
            "---  ------        --------------  -----  \n",
            " 0   Datetime      95911 non-null  object \n",
            " 1   OrderID       95911 non-null  int64  \n",
            " 2   ProductID     95911 non-null  int64  \n",
            " 3   Quantity      95911 non-null  int64  \n",
            " 4   CategoryID    90559 non-null  float64\n",
            " 5   CategoryCode  85978 non-null  object \n",
            " 6   BrandID       91126 non-null  float64\n",
            " 7   USDPrice      90559 non-null  float64\n",
            " 8   UserID        90559 non-null  float64\n",
            " 9   Gender        95911 non-null  object \n",
            " 10  Color         88251 non-null  object \n",
            " 11  Metal         90449 non-null  object \n",
            " 12  Gem           61853 non-null  object \n",
            "dtypes: float64(4), int64(3), object(6)\n",
            "memory usage: 9.5+ MB\n"
          ]
        }
      ]
    },
    {
      "cell_type": "code",
      "source": [
        "df.Quantity.unique()"
      ],
      "metadata": {
        "colab": {
          "base_uri": "https://localhost:8080/"
        },
        "id": "CA28_Sbe2eMv",
        "outputId": "4e26dd1a-a1ab-4aa6-9a86-6aa2aa108974"
      },
      "execution_count": 7,
      "outputs": [
        {
          "output_type": "execute_result",
          "data": {
            "text/plain": [
              "array([1])"
            ]
          },
          "metadata": {},
          "execution_count": 7
        }
      ]
    },
    {
      "cell_type": "markdown",
      "source": [
        "Since there is only one single value in the 'Quantity' feature. We will remove the column."
      ],
      "metadata": {
        "id": "MPFlLLvB2iYD"
      }
    },
    {
      "cell_type": "code",
      "source": [
        "df.drop('Quantity',axis=1, inplace=True)\n",
        "df.info()"
      ],
      "metadata": {
        "colab": {
          "base_uri": "https://localhost:8080/"
        },
        "id": "1zgRjRoX2pSk",
        "outputId": "6672fb6c-5709-46de-a23d-926b83d04607"
      },
      "execution_count": 8,
      "outputs": [
        {
          "output_type": "stream",
          "name": "stdout",
          "text": [
            "<class 'pandas.core.frame.DataFrame'>\n",
            "RangeIndex: 95911 entries, 0 to 95910\n",
            "Data columns (total 12 columns):\n",
            " #   Column        Non-Null Count  Dtype  \n",
            "---  ------        --------------  -----  \n",
            " 0   Datetime      95911 non-null  object \n",
            " 1   OrderID       95911 non-null  int64  \n",
            " 2   ProductID     95911 non-null  int64  \n",
            " 3   CategoryID    90559 non-null  float64\n",
            " 4   CategoryCode  85978 non-null  object \n",
            " 5   BrandID       91126 non-null  float64\n",
            " 6   USDPrice      90559 non-null  float64\n",
            " 7   UserID        90559 non-null  float64\n",
            " 8   Gender        95911 non-null  object \n",
            " 9   Color         88251 non-null  object \n",
            " 10  Metal         90449 non-null  object \n",
            " 11  Gem           61853 non-null  object \n",
            "dtypes: float64(4), int64(2), object(6)\n",
            "memory usage: 8.8+ MB\n"
          ]
        }
      ]
    },
    {
      "cell_type": "markdown",
      "source": [
        "## EDA"
      ],
      "metadata": {
        "id": "hmjgJt7b3557"
      }
    },
    {
      "cell_type": "code",
      "source": [
        "pd.set_option('float_format', '{:f}'.format)"
      ],
      "metadata": {
        "id": "k3hlVdUeFcjI"
      },
      "execution_count": 9,
      "outputs": []
    },
    {
      "cell_type": "code",
      "source": [
        "df.head()"
      ],
      "metadata": {
        "colab": {
          "base_uri": "https://localhost:8080/",
          "height": 523
        },
        "id": "ZLyz4YWOrhG9",
        "outputId": "503f7f73-6015-4d31-a6e1-90f7243d9356"
      },
      "execution_count": 10,
      "outputs": [
        {
          "output_type": "execute_result",
          "data": {
            "text/plain": [
              "                  Datetime              OrderID            ProductID  \\\n",
              "0  2018-12-01 11:40:29 UTC  1924719191579951782  1842195256808833386   \n",
              "1  2018-12-01 17:38:31 UTC  1924899396621697920  1806829193678291446   \n",
              "2  2018-12-02 13:53:42 UTC  1925511016616034733  1842214461889315556   \n",
              "3  2018-12-02 17:44:02 UTC  1925626951238681511  1835566849434059453   \n",
              "4  2018-12-02 21:30:19 UTC  1925740842841014667  1873936840742928865   \n",
              "\n",
              "                  CategoryID      CategoryCode  BrandID   USDPrice  \\\n",
              "0 1806829201890738432.000000   jewelry.earring 0.000000 561.510000   \n",
              "1 1806829201848795392.000000               NaN      NaN 212.140000   \n",
              "2 1806829201915904256.000000   jewelry.pendant 1.000000  54.660000   \n",
              "3 1806829201915904256.000000   jewelry.pendant 0.000000  88.900000   \n",
              "4 1806829201924292864.000000  jewelry.necklace 0.000000 417.670000   \n",
              "\n",
              "                      UserID Gender   Color Metal       Gem  \n",
              "0 1515915625207851264.000000      f     red  gold   diamond  \n",
              "1 1515915625071970048.000000      f  yellow  gold       NaN  \n",
              "2 1515915625048493568.000000      f   white  gold  sapphire  \n",
              "3 1515915625207630848.000000      f     red  gold   diamond  \n",
              "4 1515915625175329280.000000      f     red  gold  amethyst  "
            ],
            "text/html": [
              "\n",
              "  <div id=\"df-78f5fc3d-74c3-4663-9ab0-af732c35c036\">\n",
              "    <div class=\"colab-df-container\">\n",
              "      <div>\n",
              "<style scoped>\n",
              "    .dataframe tbody tr th:only-of-type {\n",
              "        vertical-align: middle;\n",
              "    }\n",
              "\n",
              "    .dataframe tbody tr th {\n",
              "        vertical-align: top;\n",
              "    }\n",
              "\n",
              "    .dataframe thead th {\n",
              "        text-align: right;\n",
              "    }\n",
              "</style>\n",
              "<table border=\"1\" class=\"dataframe\">\n",
              "  <thead>\n",
              "    <tr style=\"text-align: right;\">\n",
              "      <th></th>\n",
              "      <th>Datetime</th>\n",
              "      <th>OrderID</th>\n",
              "      <th>ProductID</th>\n",
              "      <th>CategoryID</th>\n",
              "      <th>CategoryCode</th>\n",
              "      <th>BrandID</th>\n",
              "      <th>USDPrice</th>\n",
              "      <th>UserID</th>\n",
              "      <th>Gender</th>\n",
              "      <th>Color</th>\n",
              "      <th>Metal</th>\n",
              "      <th>Gem</th>\n",
              "    </tr>\n",
              "  </thead>\n",
              "  <tbody>\n",
              "    <tr>\n",
              "      <th>0</th>\n",
              "      <td>2018-12-01 11:40:29 UTC</td>\n",
              "      <td>1924719191579951782</td>\n",
              "      <td>1842195256808833386</td>\n",
              "      <td>1806829201890738432.000000</td>\n",
              "      <td>jewelry.earring</td>\n",
              "      <td>0.000000</td>\n",
              "      <td>561.510000</td>\n",
              "      <td>1515915625207851264.000000</td>\n",
              "      <td>f</td>\n",
              "      <td>red</td>\n",
              "      <td>gold</td>\n",
              "      <td>diamond</td>\n",
              "    </tr>\n",
              "    <tr>\n",
              "      <th>1</th>\n",
              "      <td>2018-12-01 17:38:31 UTC</td>\n",
              "      <td>1924899396621697920</td>\n",
              "      <td>1806829193678291446</td>\n",
              "      <td>1806829201848795392.000000</td>\n",
              "      <td>NaN</td>\n",
              "      <td>NaN</td>\n",
              "      <td>212.140000</td>\n",
              "      <td>1515915625071970048.000000</td>\n",
              "      <td>f</td>\n",
              "      <td>yellow</td>\n",
              "      <td>gold</td>\n",
              "      <td>NaN</td>\n",
              "    </tr>\n",
              "    <tr>\n",
              "      <th>2</th>\n",
              "      <td>2018-12-02 13:53:42 UTC</td>\n",
              "      <td>1925511016616034733</td>\n",
              "      <td>1842214461889315556</td>\n",
              "      <td>1806829201915904256.000000</td>\n",
              "      <td>jewelry.pendant</td>\n",
              "      <td>1.000000</td>\n",
              "      <td>54.660000</td>\n",
              "      <td>1515915625048493568.000000</td>\n",
              "      <td>f</td>\n",
              "      <td>white</td>\n",
              "      <td>gold</td>\n",
              "      <td>sapphire</td>\n",
              "    </tr>\n",
              "    <tr>\n",
              "      <th>3</th>\n",
              "      <td>2018-12-02 17:44:02 UTC</td>\n",
              "      <td>1925626951238681511</td>\n",
              "      <td>1835566849434059453</td>\n",
              "      <td>1806829201915904256.000000</td>\n",
              "      <td>jewelry.pendant</td>\n",
              "      <td>0.000000</td>\n",
              "      <td>88.900000</td>\n",
              "      <td>1515915625207630848.000000</td>\n",
              "      <td>f</td>\n",
              "      <td>red</td>\n",
              "      <td>gold</td>\n",
              "      <td>diamond</td>\n",
              "    </tr>\n",
              "    <tr>\n",
              "      <th>4</th>\n",
              "      <td>2018-12-02 21:30:19 UTC</td>\n",
              "      <td>1925740842841014667</td>\n",
              "      <td>1873936840742928865</td>\n",
              "      <td>1806829201924292864.000000</td>\n",
              "      <td>jewelry.necklace</td>\n",
              "      <td>0.000000</td>\n",
              "      <td>417.670000</td>\n",
              "      <td>1515915625175329280.000000</td>\n",
              "      <td>f</td>\n",
              "      <td>red</td>\n",
              "      <td>gold</td>\n",
              "      <td>amethyst</td>\n",
              "    </tr>\n",
              "  </tbody>\n",
              "</table>\n",
              "</div>\n",
              "      <button class=\"colab-df-convert\" onclick=\"convertToInteractive('df-78f5fc3d-74c3-4663-9ab0-af732c35c036')\"\n",
              "              title=\"Convert this dataframe to an interactive table.\"\n",
              "              style=\"display:none;\">\n",
              "        \n",
              "  <svg xmlns=\"http://www.w3.org/2000/svg\" height=\"24px\"viewBox=\"0 0 24 24\"\n",
              "       width=\"24px\">\n",
              "    <path d=\"M0 0h24v24H0V0z\" fill=\"none\"/>\n",
              "    <path d=\"M18.56 5.44l.94 2.06.94-2.06 2.06-.94-2.06-.94-.94-2.06-.94 2.06-2.06.94zm-11 1L8.5 8.5l.94-2.06 2.06-.94-2.06-.94L8.5 2.5l-.94 2.06-2.06.94zm10 10l.94 2.06.94-2.06 2.06-.94-2.06-.94-.94-2.06-.94 2.06-2.06.94z\"/><path d=\"M17.41 7.96l-1.37-1.37c-.4-.4-.92-.59-1.43-.59-.52 0-1.04.2-1.43.59L10.3 9.45l-7.72 7.72c-.78.78-.78 2.05 0 2.83L4 21.41c.39.39.9.59 1.41.59.51 0 1.02-.2 1.41-.59l7.78-7.78 2.81-2.81c.8-.78.8-2.07 0-2.86zM5.41 20L4 18.59l7.72-7.72 1.47 1.35L5.41 20z\"/>\n",
              "  </svg>\n",
              "      </button>\n",
              "      \n",
              "  <style>\n",
              "    .colab-df-container {\n",
              "      display:flex;\n",
              "      flex-wrap:wrap;\n",
              "      gap: 12px;\n",
              "    }\n",
              "\n",
              "    .colab-df-convert {\n",
              "      background-color: #E8F0FE;\n",
              "      border: none;\n",
              "      border-radius: 50%;\n",
              "      cursor: pointer;\n",
              "      display: none;\n",
              "      fill: #1967D2;\n",
              "      height: 32px;\n",
              "      padding: 0 0 0 0;\n",
              "      width: 32px;\n",
              "    }\n",
              "\n",
              "    .colab-df-convert:hover {\n",
              "      background-color: #E2EBFA;\n",
              "      box-shadow: 0px 1px 2px rgba(60, 64, 67, 0.3), 0px 1px 3px 1px rgba(60, 64, 67, 0.15);\n",
              "      fill: #174EA6;\n",
              "    }\n",
              "\n",
              "    [theme=dark] .colab-df-convert {\n",
              "      background-color: #3B4455;\n",
              "      fill: #D2E3FC;\n",
              "    }\n",
              "\n",
              "    [theme=dark] .colab-df-convert:hover {\n",
              "      background-color: #434B5C;\n",
              "      box-shadow: 0px 1px 3px 1px rgba(0, 0, 0, 0.15);\n",
              "      filter: drop-shadow(0px 1px 2px rgba(0, 0, 0, 0.3));\n",
              "      fill: #FFFFFF;\n",
              "    }\n",
              "  </style>\n",
              "\n",
              "      <script>\n",
              "        const buttonEl =\n",
              "          document.querySelector('#df-78f5fc3d-74c3-4663-9ab0-af732c35c036 button.colab-df-convert');\n",
              "        buttonEl.style.display =\n",
              "          google.colab.kernel.accessAllowed ? 'block' : 'none';\n",
              "\n",
              "        async function convertToInteractive(key) {\n",
              "          const element = document.querySelector('#df-78f5fc3d-74c3-4663-9ab0-af732c35c036');\n",
              "          const dataTable =\n",
              "            await google.colab.kernel.invokeFunction('convertToInteractive',\n",
              "                                                     [key], {});\n",
              "          if (!dataTable) return;\n",
              "\n",
              "          const docLinkHtml = 'Like what you see? Visit the ' +\n",
              "            '<a target=\"_blank\" href=https://colab.research.google.com/notebooks/data_table.ipynb>data table notebook</a>'\n",
              "            + ' to learn more about interactive tables.';\n",
              "          element.innerHTML = '';\n",
              "          dataTable['output_type'] = 'display_data';\n",
              "          await google.colab.output.renderOutput(dataTable, element);\n",
              "          const docLink = document.createElement('div');\n",
              "          docLink.innerHTML = docLinkHtml;\n",
              "          element.appendChild(docLink);\n",
              "        }\n",
              "      </script>\n",
              "    </div>\n",
              "  </div>\n",
              "  "
            ]
          },
          "metadata": {},
          "execution_count": 10
        }
      ]
    },
    {
      "cell_type": "code",
      "source": [
        "sns.boxplot(data= df, y='USDPrice')"
      ],
      "metadata": {
        "colab": {
          "base_uri": "https://localhost:8080/",
          "height": 269
        },
        "id": "-K7H3y5f385p",
        "outputId": "39f765c8-cd8e-40ec-ad0e-cec7675f8960"
      },
      "execution_count": 11,
      "outputs": [
        {
          "output_type": "execute_result",
          "data": {
            "text/plain": [
              "<matplotlib.axes._subplots.AxesSubplot at 0x7fe85bb999a0>"
            ]
          },
          "metadata": {},
          "execution_count": 11
        },
        {
          "output_type": "display_data",
          "data": {
            "text/plain": [
              "<Figure size 432x288 with 1 Axes>"
            ],
            "image/png": "[encoded data removed]"
          },
          "metadata": {
            "needs_background": "light"
          }
        }
      ]
    },
    {
      "cell_type": "code",
      "source": [
        "df.USDPrice.describe()"
      ],
      "metadata": {
        "colab": {
          "base_uri": "https://localhost:8080/"
        },
        "id": "Ci62nV3m4HpG",
        "outputId": "7d41eb93-b4a1-4e5a-f81b-01e6782a035e"
      },
      "execution_count": 12,
      "outputs": [
        {
          "output_type": "execute_result",
          "data": {
            "text/plain": [
              "count   90559.000000\n",
              "mean      362.215217\n",
              "std       444.155706\n",
              "min         0.990000\n",
              "25%       145.620000\n",
              "50%       258.770000\n",
              "75%       431.370000\n",
              "max     34448.600000\n",
              "Name: USDPrice, dtype: float64"
            ]
          },
          "metadata": {},
          "execution_count": 12
        }
      ]
    },
    {
      "cell_type": "code",
      "source": [
        "df.USDPrice.isna().sum()"
      ],
      "metadata": {
        "colab": {
          "base_uri": "https://localhost:8080/"
        },
        "id": "NE6-lAK3D5AZ",
        "outputId": "8eb25ac2-c011-4288-f329-53ca1c54f3d4"
      },
      "execution_count": 13,
      "outputs": [
        {
          "output_type": "execute_result",
          "data": {
            "text/plain": [
              "5352"
            ]
          },
          "metadata": {},
          "execution_count": 13
        }
      ]
    },
    {
      "cell_type": "code",
      "source": [
        "uq = df.USDPrice.quantile(0.99)\n",
        "uq"
      ],
      "metadata": {
        "colab": {
          "base_uri": "https://localhost:8080/"
        },
        "id": "PnpfEmb44lnK",
        "outputId": "9e9cfbe1-df26-44df-f4cf-95b5fe0bb54f"
      },
      "execution_count": 14,
      "outputs": [
        {
          "output_type": "execute_result",
          "data": {
            "text/plain": [
              "1979.03"
            ]
          },
          "metadata": {},
          "execution_count": 14
        }
      ]
    },
    {
      "cell_type": "code",
      "source": [
        "df[df['USDPrice']>= uq].Gem.value_counts()"
      ],
      "metadata": {
        "colab": {
          "base_uri": "https://localhost:8080/"
        },
        "id": "QMJOzeuD4S0K",
        "outputId": "ccb8b2d5-ed94-47f7-de28-a89c2079fc1a"
      },
      "execution_count": 15,
      "outputs": [
        {
          "output_type": "execute_result",
          "data": {
            "text/plain": [
              "diamond         315\n",
              "topaz           139\n",
              "mix             123\n",
              "amethyst         51\n",
              "garnet           49\n",
              "pearl            38\n",
              "fianit           31\n",
              "sitall            6\n",
              "quartz            5\n",
              "rhodolite         5\n",
              "quartz_smoky      2\n",
              "Name: Gem, dtype: int64"
            ]
          },
          "metadata": {},
          "execution_count": 15
        }
      ]
    },
    {
      "cell_type": "markdown",
      "source": [
        "Fill missing value in price by average price by its brand, metal and Gem ...?"
      ],
      "metadata": {
        "id": "a4oB3tTgEIes"
      }
    },
    {
      "cell_type": "code",
      "source": [
        "print(df[df['USDPrice'].isna()].Gem.unique())\n",
        "print(df[df['USDPrice'].isna()].Metal.unique())\n",
        "print(df[df['USDPrice'].isna()].BrandID.unique())"
      ],
      "metadata": {
        "colab": {
          "base_uri": "https://localhost:8080/"
        },
        "id": "kCCH-45R4chs",
        "outputId": "ad3861af-bbf9-4176-c3e1-59ca50abd329"
      },
      "execution_count": 16,
      "outputs": [
        {
          "output_type": "stream",
          "name": "stdout",
          "text": [
            "[nan]\n",
            "[nan]\n",
            "[1.55061295e+18 1.32515621e+18 1.51591563e+18 ... 1.51591563e+18\n",
            " 1.51591563e+18 1.51591563e+18]\n"
          ]
        }
      ]
    },
    {
      "cell_type": "code",
      "source": [
        "df[df['USDPrice'].isna()].BrandID.value_counts()"
      ],
      "metadata": {
        "colab": {
          "base_uri": "https://localhost:8080/"
        },
        "id": "S53YkrXxEvzS",
        "outputId": "564d50bd-5e59-4768-d8d7-32e18585f9d3"
      },
      "execution_count": 17,
      "outputs": [
        {
          "output_type": "execute_result",
          "data": {
            "text/plain": [
              "1515915625535747840.000000    147\n",
              "1515915625081825280.000000    104\n",
              "1515915625216376320.000000     74\n",
              "1515915625619533568.000000     37\n",
              "1515915625368881664.000000     34\n",
              "                             ... \n",
              "1515915625682310912.000000      1\n",
              "1515915625679514880.000000      1\n",
              "1515915625373777408.000000      1\n",
              "1515915625613576448.000000      1\n",
              "1515915625720366080.000000      1\n",
              "Name: BrandID, Length: 2530, dtype: int64"
            ]
          },
          "metadata": {},
          "execution_count": 17
        }
      ]
    },
    {
      "cell_type": "code",
      "source": [
        "df[df['BrandID']==1515915625368881664.000000].describe()"
      ],
      "metadata": {
        "colab": {
          "base_uri": "https://localhost:8080/",
          "height": 361
        },
        "id": "VZJfppekFDBK",
        "outputId": "39b9acb3-d6f3-4475-8348-f5202b290fb0"
      },
      "execution_count": 18,
      "outputs": [
        {
          "output_type": "execute_result",
          "data": {
            "text/plain": [
              "                         OrderID                  ProductID  CategoryID  \\\n",
              "count                  34.000000                  34.000000    0.000000   \n",
              "mean  2638979924018578944.000000 1511337375836665856.000000         NaN   \n",
              "std     34438348769851152.000000   26990588771357548.000000         NaN   \n",
              "min   2532275520217808896.000000 1358585398883779328.000000         NaN   \n",
              "25%   2625246049077298176.000000 1515966223606762496.000000         NaN   \n",
              "50%   2657494834419335168.000000 1515966223621531392.000000         NaN   \n",
              "75%   2661770150176359424.000000 1515966223638561792.000000         NaN   \n",
              "max   2676981097727788032.000000 1515966223669781504.000000         NaN   \n",
              "\n",
              "                         BrandID  USDPrice   UserID  \n",
              "count                  34.000000  0.000000 0.000000  \n",
              "mean  1515915625368881408.000000       NaN      NaN  \n",
              "std                   259.849840       NaN      NaN  \n",
              "min   1515915625368881664.000000       NaN      NaN  \n",
              "25%   1515915625368881664.000000       NaN      NaN  \n",
              "50%   1515915625368881664.000000       NaN      NaN  \n",
              "75%   1515915625368881664.000000       NaN      NaN  \n",
              "max   1515915625368881664.000000       NaN      NaN  "
            ],
            "text/html": [
              "\n",
              "  <div id=\"df-6c4ff4b8-fd97-46d9-a145-5c8c6332f9ef\">\n",
              "    <div class=\"colab-df-container\">\n",
              "      <div>\n",
              "<style scoped>\n",
              "    .dataframe tbody tr th:only-of-type {\n",
              "        vertical-align: middle;\n",
              "    }\n",
              "\n",
              "    .dataframe tbody tr th {\n",
              "        vertical-align: top;\n",
              "    }\n",
              "\n",
              "    .dataframe thead th {\n",
              "        text-align: right;\n",
              "    }\n",
              "</style>\n",
              "<table border=\"1\" class=\"dataframe\">\n",
              "  <thead>\n",
              "    <tr style=\"text-align: right;\">\n",
              "      <th></th>\n",
              "      <th>OrderID</th>\n",
              "      <th>ProductID</th>\n",
              "      <th>CategoryID</th>\n",
              "      <th>BrandID</th>\n",
              "      <th>USDPrice</th>\n",
              "      <th>UserID</th>\n",
              "    </tr>\n",
              "  </thead>\n",
              "  <tbody>\n",
              "    <tr>\n",
              "      <th>count</th>\n",
              "      <td>34.000000</td>\n",
              "      <td>34.000000</td>\n",
              "      <td>0.000000</td>\n",
              "      <td>34.000000</td>\n",
              "      <td>0.000000</td>\n",
              "      <td>0.000000</td>\n",
              "    </tr>\n",
              "    <tr>\n",
              "      <th>mean</th>\n",
              "      <td>2638979924018578944.000000</td>\n",
              "      <td>1511337375836665856.000000</td>\n",
              "      <td>NaN</td>\n",
              "      <td>1515915625368881408.000000</td>\n",
              "      <td>NaN</td>\n",
              "      <td>NaN</td>\n",
              "    </tr>\n",
              "    <tr>\n",
              "      <th>std</th>\n",
              "      <td>34438348769851152.000000</td>\n",
              "      <td>26990588771357548.000000</td>\n",
              "      <td>NaN</td>\n",
              "      <td>259.849840</td>\n",
              "      <td>NaN</td>\n",
              "      <td>NaN</td>\n",
              "    </tr>\n",
              "    <tr>\n",
              "      <th>min</th>\n",
              "      <td>2532275520217808896.000000</td>\n",
              "      <td>1358585398883779328.000000</td>\n",
              "      <td>NaN</td>\n",
              "      <td>1515915625368881664.000000</td>\n",
              "      <td>NaN</td>\n",
              "      <td>NaN</td>\n",
              "    </tr>\n",
              "    <tr>\n",
              "      <th>25%</th>\n",
              "      <td>2625246049077298176.000000</td>\n",
              "      <td>1515966223606762496.000000</td>\n",
              "      <td>NaN</td>\n",
              "      <td>1515915625368881664.000000</td>\n",
              "      <td>NaN</td>\n",
              "      <td>NaN</td>\n",
              "    </tr>\n",
              "    <tr>\n",
              "      <th>50%</th>\n",
              "      <td>2657494834419335168.000000</td>\n",
              "      <td>1515966223621531392.000000</td>\n",
              "      <td>NaN</td>\n",
              "      <td>1515915625368881664.000000</td>\n",
              "      <td>NaN</td>\n",
              "      <td>NaN</td>\n",
              "    </tr>\n",
              "    <tr>\n",
              "      <th>75%</th>\n",
              "      <td>2661770150176359424.000000</td>\n",
              "      <td>1515966223638561792.000000</td>\n",
              "      <td>NaN</td>\n",
              "      <td>1515915625368881664.000000</td>\n",
              "      <td>NaN</td>\n",
              "      <td>NaN</td>\n",
              "    </tr>\n",
              "    <tr>\n",
              "      <th>max</th>\n",
              "      <td>2676981097727788032.000000</td>\n",
              "      <td>1515966223669781504.000000</td>\n",
              "      <td>NaN</td>\n",
              "      <td>1515915625368881664.000000</td>\n",
              "      <td>NaN</td>\n",
              "      <td>NaN</td>\n",
              "    </tr>\n",
              "  </tbody>\n",
              "</table>\n",
              "</div>\n",
              "      <button class=\"colab-df-convert\" onclick=\"convertToInteractive('df-6c4ff4b8-fd97-46d9-a145-5c8c6332f9ef')\"\n",
              "              title=\"Convert this dataframe to an interactive table.\"\n",
              "              style=\"display:none;\">\n",
              "        \n",
              "  <svg xmlns=\"http://www.w3.org/2000/svg\" height=\"24px\"viewBox=\"0 0 24 24\"\n",
              "       width=\"24px\">\n",
              "    <path d=\"M0 0h24v24H0V0z\" fill=\"none\"/>\n",
              "    <path d=\"M18.56 5.44l.94 2.06.94-2.06 2.06-.94-2.06-.94-.94-2.06-.94 2.06-2.06.94zm-11 1L8.5 8.5l.94-2.06 2.06-.94-2.06-.94L8.5 2.5l-.94 2.06-2.06.94zm10 10l.94 2.06.94-2.06 2.06-.94-2.06-.94-.94-2.06-.94 2.06-2.06.94z\"/><path d=\"M17.41 7.96l-1.37-1.37c-.4-.4-.92-.59-1.43-.59-.52 0-1.04.2-1.43.59L10.3 9.45l-7.72 7.72c-.78.78-.78 2.05 0 2.83L4 21.41c.39.39.9.59 1.41.59.51 0 1.02-.2 1.41-.59l7.78-7.78 2.81-2.81c.8-.78.8-2.07 0-2.86zM5.41 20L4 18.59l7.72-7.72 1.47 1.35L5.41 20z\"/>\n",
              "  </svg>\n",
              "      </button>\n",
              "      \n",
              "  <style>\n",
              "    .colab-df-container {\n",
              "      display:flex;\n",
              "      flex-wrap:wrap;\n",
              "      gap: 12px;\n",
              "    }\n",
              "\n",
              "    .colab-df-convert {\n",
              "      background-color: #E8F0FE;\n",
              "      border: none;\n",
              "      border-radius: 50%;\n",
              "      cursor: pointer;\n",
              "      display: none;\n",
              "      fill: #1967D2;\n",
              "      height: 32px;\n",
              "      padding: 0 0 0 0;\n",
              "      width: 32px;\n",
              "    }\n",
              "\n",
              "    .colab-df-convert:hover {\n",
              "      background-color: #E2EBFA;\n",
              "      box-shadow: 0px 1px 2px rgba(60, 64, 67, 0.3), 0px 1px 3px 1px rgba(60, 64, 67, 0.15);\n",
              "      fill: #174EA6;\n",
              "    }\n",
              "\n",
              "    [theme=dark] .colab-df-convert {\n",
              "      background-color: #3B4455;\n",
              "      fill: #D2E3FC;\n",
              "    }\n",
              "\n",
              "    [theme=dark] .colab-df-convert:hover {\n",
              "      background-color: #434B5C;\n",
              "      box-shadow: 0px 1px 3px 1px rgba(0, 0, 0, 0.15);\n",
              "      filter: drop-shadow(0px 1px 2px rgba(0, 0, 0, 0.3));\n",
              "      fill: #FFFFFF;\n",
              "    }\n",
              "  </style>\n",
              "\n",
              "      <script>\n",
              "        const buttonEl =\n",
              "          document.querySelector('#df-6c4ff4b8-fd97-46d9-a145-5c8c6332f9ef button.colab-df-convert');\n",
              "        buttonEl.style.display =\n",
              "          google.colab.kernel.accessAllowed ? 'block' : 'none';\n",
              "\n",
              "        async function convertToInteractive(key) {\n",
              "          const element = document.querySelector('#df-6c4ff4b8-fd97-46d9-a145-5c8c6332f9ef');\n",
              "          const dataTable =\n",
              "            await google.colab.kernel.invokeFunction('convertToInteractive',\n",
              "                                                     [key], {});\n",
              "          if (!dataTable) return;\n",
              "\n",
              "          const docLinkHtml = 'Like what you see? Visit the ' +\n",
              "            '<a target=\"_blank\" href=https://colab.research.google.com/notebooks/data_table.ipynb>data table notebook</a>'\n",
              "            + ' to learn more about interactive tables.';\n",
              "          element.innerHTML = '';\n",
              "          dataTable['output_type'] = 'display_data';\n",
              "          await google.colab.output.renderOutput(dataTable, element);\n",
              "          const docLink = document.createElement('div');\n",
              "          docLink.innerHTML = docLinkHtml;\n",
              "          element.appendChild(docLink);\n",
              "        }\n",
              "      </script>\n",
              "    </div>\n",
              "  </div>\n",
              "  "
            ]
          },
          "metadata": {},
          "execution_count": 18
        }
      ]
    },
    {
      "cell_type": "markdown",
      "source": [
        "There is Order ID but no price and no userID ??"
      ],
      "metadata": {
        "id": "0kjCnsFQGM89"
      }
    },
    {
      "cell_type": "code",
      "source": [
        "df[df['BrandID']==1515915625368881664.000000].OrderID.value_counts()"
      ],
      "metadata": {
        "colab": {
          "base_uri": "https://localhost:8080/"
        },
        "id": "uNr6qNdnGL7-",
        "outputId": "8f9260ce-cb5b-49bb-b013-6e9d87e59622"
      },
      "execution_count": 19,
      "outputs": [
        {
          "output_type": "execute_result",
          "data": {
            "text/plain": [
              "2661770150176359277    3\n",
              "2665422882917581046    2\n",
              "2663366421915894689    2\n",
              "2657578846991156144    2\n",
              "2657494834419335412    2\n",
              "2532275520217808963    1\n",
              "2566997738944200728    1\n",
              "2663181734790562674    1\n",
              "2662694226927551305    1\n",
              "2660248960353960202    1\n",
              "2658367824346480656    1\n",
              "2658276613703074266    1\n",
              "2657627215042184020    1\n",
              "2651104759326442045    1\n",
              "2650322754682749666    1\n",
              "2650176332201198286    1\n",
              "2645320018719408273    1\n",
              "2640809570422751865    1\n",
              "2636560264383693385    1\n",
              "2630558319160328878    1\n",
              "2623475292382954429    1\n",
              "2619032204910527177    1\n",
              "2615576884670365952    1\n",
              "2603973600042025669    1\n",
              "2601118982693978701    1\n",
              "2578477659352728151    1\n",
              "2569123418611909466    1\n",
              "2676981097727787987    1\n",
              "Name: OrderID, dtype: int64"
            ]
          },
          "metadata": {},
          "execution_count": 19
        }
      ]
    },
    {
      "cell_type": "code",
      "source": [
        "df[df['OrderID']==2661770150176359277]"
      ],
      "metadata": {
        "colab": {
          "base_uri": "https://localhost:8080/",
          "height": 359
        },
        "id": "p5ySfnYKFoZ6",
        "outputId": "bf3db24d-8609-4027-ffc3-64a191bfc791"
      },
      "execution_count": 20,
      "outputs": [
        {
          "output_type": "execute_result",
          "data": {
            "text/plain": [
              "                      Datetime              OrderID            ProductID  \\\n",
              "77632  2021-09-13 10:09:10 UTC  2661770150176359277  1515966223615277979   \n",
              "77633  2021-09-13 10:09:10 UTC  2661770150176359277  1515966223615277979   \n",
              "77634  2021-09-13 10:09:10 UTC  2661770150176359277  1515966223622635199   \n",
              "\n",
              "       CategoryID CategoryCode                    BrandID  USDPrice  UserID  \\\n",
              "77632         NaN       231.51 1515915625368881664.000000       NaN     NaN   \n",
              "77633         NaN       231.51 1515915625368881664.000000       NaN     NaN   \n",
              "77634         NaN         0.00 1515915625368881664.000000       NaN     NaN   \n",
              "\n",
              "      Gender Color Metal  Gem  \n",
              "77632      f   NaN   NaN  NaN  \n",
              "77633      f   NaN   NaN  NaN  \n",
              "77634      f   NaN   NaN  NaN  "
            ],
            "text/html": [
              "\n",
              "  <div id=\"df-06c5406c-f702-489a-8487-fb50d76b3c58\">\n",
              "    <div class=\"colab-df-container\">\n",
              "      <div>\n",
              "<style scoped>\n",
              "    .dataframe tbody tr th:only-of-type {\n",
              "        vertical-align: middle;\n",
              "    }\n",
              "\n",
              "    .dataframe tbody tr th {\n",
              "        vertical-align: top;\n",
              "    }\n",
              "\n",
              "    .dataframe thead th {\n",
              "        text-align: right;\n",
              "    }\n",
              "</style>\n",
              "<table border=\"1\" class=\"dataframe\">\n",
              "  <thead>\n",
              "    <tr style=\"text-align: right;\">\n",
              "      <th></th>\n",
              "      <th>Datetime</th>\n",
              "      <th>OrderID</th>\n",
              "      <th>ProductID</th>\n",
              "      <th>CategoryID</th>\n",
              "      <th>CategoryCode</th>\n",
              "      <th>BrandID</th>\n",
              "      <th>USDPrice</th>\n",
              "      <th>UserID</th>\n",
              "      <th>Gender</th>\n",
              "      <th>Color</th>\n",
              "      <th>Metal</th>\n",
              "      <th>Gem</th>\n",
              "    </tr>\n",
              "  </thead>\n",
              "  <tbody>\n",
              "    <tr>\n",
              "      <th>77632</th>\n",
              "      <td>2021-09-13 10:09:10 UTC</td>\n",
              "      <td>2661770150176359277</td>\n",
              "      <td>1515966223615277979</td>\n",
              "      <td>NaN</td>\n",
              "      <td>231.51</td>\n",
              "      <td>1515915625368881664.000000</td>\n",
              "      <td>NaN</td>\n",
              "      <td>NaN</td>\n",
              "      <td>f</td>\n",
              "      <td>NaN</td>\n",
              "      <td>NaN</td>\n",
              "      <td>NaN</td>\n",
              "    </tr>\n",
              "    <tr>\n",
              "      <th>77633</th>\n",
              "      <td>2021-09-13 10:09:10 UTC</td>\n",
              "      <td>2661770150176359277</td>\n",
              "      <td>1515966223615277979</td>\n",
              "      <td>NaN</td>\n",
              "      <td>231.51</td>\n",
              "      <td>1515915625368881664.000000</td>\n",
              "      <td>NaN</td>\n",
              "      <td>NaN</td>\n",
              "      <td>f</td>\n",
              "      <td>NaN</td>\n",
              "      <td>NaN</td>\n",
              "      <td>NaN</td>\n",
              "    </tr>\n",
              "    <tr>\n",
              "      <th>77634</th>\n",
              "      <td>2021-09-13 10:09:10 UTC</td>\n",
              "      <td>2661770150176359277</td>\n",
              "      <td>1515966223622635199</td>\n",
              "      <td>NaN</td>\n",
              "      <td>0.00</td>\n",
              "      <td>1515915625368881664.000000</td>\n",
              "      <td>NaN</td>\n",
              "      <td>NaN</td>\n",
              "      <td>f</td>\n",
              "      <td>NaN</td>\n",
              "      <td>NaN</td>\n",
              "      <td>NaN</td>\n",
              "    </tr>\n",
              "  </tbody>\n",
              "</table>\n",
              "</div>\n",
              "      <button class=\"colab-df-convert\" onclick=\"convertToInteractive('df-06c5406c-f702-489a-8487-fb50d76b3c58')\"\n",
              "              title=\"Convert this dataframe to an interactive table.\"\n",
              "              style=\"display:none;\">\n",
              "        \n",
              "  <svg xmlns=\"http://www.w3.org/2000/svg\" height=\"24px\"viewBox=\"0 0 24 24\"\n",
              "       width=\"24px\">\n",
              "    <path d=\"M0 0h24v24H0V0z\" fill=\"none\"/>\n",
              "    <path d=\"M18.56 5.44l.94 2.06.94-2.06 2.06-.94-2.06-.94-.94-2.06-.94 2.06-2.06.94zm-11 1L8.5 8.5l.94-2.06 2.06-.94-2.06-.94L8.5 2.5l-.94 2.06-2.06.94zm10 10l.94 2.06.94-2.06 2.06-.94-2.06-.94-.94-2.06-.94 2.06-2.06.94z\"/><path d=\"M17.41 7.96l-1.37-1.37c-.4-.4-.92-.59-1.43-.59-.52 0-1.04.2-1.43.59L10.3 9.45l-7.72 7.72c-.78.78-.78 2.05 0 2.83L4 21.41c.39.39.9.59 1.41.59.51 0 1.02-.2 1.41-.59l7.78-7.78 2.81-2.81c.8-.78.8-2.07 0-2.86zM5.41 20L4 18.59l7.72-7.72 1.47 1.35L5.41 20z\"/>\n",
              "  </svg>\n",
              "      </button>\n",
              "      \n",
              "  <style>\n",
              "    .colab-df-container {\n",
              "      display:flex;\n",
              "      flex-wrap:wrap;\n",
              "      gap: 12px;\n",
              "    }\n",
              "\n",
              "    .colab-df-convert {\n",
              "      background-color: #E8F0FE;\n",
              "      border: none;\n",
              "      border-radius: 50%;\n",
              "      cursor: pointer;\n",
              "      display: none;\n",
              "      fill: #1967D2;\n",
              "      height: 32px;\n",
              "      padding: 0 0 0 0;\n",
              "      width: 32px;\n",
              "    }\n",
              "\n",
              "    .colab-df-convert:hover {\n",
              "      background-color: #E2EBFA;\n",
              "      box-shadow: 0px 1px 2px rgba(60, 64, 67, 0.3), 0px 1px 3px 1px rgba(60, 64, 67, 0.15);\n",
              "      fill: #174EA6;\n",
              "    }\n",
              "\n",
              "    [theme=dark] .colab-df-convert {\n",
              "      background-color: #3B4455;\n",
              "      fill: #D2E3FC;\n",
              "    }\n",
              "\n",
              "    [theme=dark] .colab-df-convert:hover {\n",
              "      background-color: #434B5C;\n",
              "      box-shadow: 0px 1px 3px 1px rgba(0, 0, 0, 0.15);\n",
              "      filter: drop-shadow(0px 1px 2px rgba(0, 0, 0, 0.3));\n",
              "      fill: #FFFFFF;\n",
              "    }\n",
              "  </style>\n",
              "\n",
              "      <script>\n",
              "        const buttonEl =\n",
              "          document.querySelector('#df-06c5406c-f702-489a-8487-fb50d76b3c58 button.colab-df-convert');\n",
              "        buttonEl.style.display =\n",
              "          google.colab.kernel.accessAllowed ? 'block' : 'none';\n",
              "\n",
              "        async function convertToInteractive(key) {\n",
              "          const element = document.querySelector('#df-06c5406c-f702-489a-8487-fb50d76b3c58');\n",
              "          const dataTable =\n",
              "            await google.colab.kernel.invokeFunction('convertToInteractive',\n",
              "                                                     [key], {});\n",
              "          if (!dataTable) return;\n",
              "\n",
              "          const docLinkHtml = 'Like what you see? Visit the ' +\n",
              "            '<a target=\"_blank\" href=https://colab.research.google.com/notebooks/data_table.ipynb>data table notebook</a>'\n",
              "            + ' to learn more about interactive tables.';\n",
              "          element.innerHTML = '';\n",
              "          dataTable['output_type'] = 'display_data';\n",
              "          await google.colab.output.renderOutput(dataTable, element);\n",
              "          const docLink = document.createElement('div');\n",
              "          docLink.innerHTML = docLinkHtml;\n",
              "          element.appendChild(docLink);\n",
              "        }\n",
              "      </script>\n",
              "    </div>\n",
              "  </div>\n",
              "  "
            ]
          },
          "metadata": {},
          "execution_count": 20
        }
      ]
    },
    {
      "cell_type": "markdown",
      "source": [
        "Let's delete rows with missing values in USDPrice and UserID, becaus they seem meaningless."
      ],
      "metadata": {
        "id": "h9r3r6eFGxVC"
      }
    },
    {
      "cell_type": "code",
      "source": [
        "new_df = df[df['USDPrice'].notna() & df['UserID'].notna()]"
      ],
      "metadata": {
        "id": "ohT001rhGupw"
      },
      "execution_count": 21,
      "outputs": []
    },
    {
      "cell_type": "code",
      "source": [
        "new_df.info()"
      ],
      "metadata": {
        "colab": {
          "base_uri": "https://localhost:8080/"
        },
        "id": "n7i6vcazHWFt",
        "outputId": "cd1a68cb-5654-405c-b61b-c2c9811b0d1e"
      },
      "execution_count": 22,
      "outputs": [
        {
          "output_type": "stream",
          "name": "stdout",
          "text": [
            "<class 'pandas.core.frame.DataFrame'>\n",
            "Int64Index: 90559 entries, 0 to 95910\n",
            "Data columns (total 12 columns):\n",
            " #   Column        Non-Null Count  Dtype  \n",
            "---  ------        --------------  -----  \n",
            " 0   Datetime      90559 non-null  object \n",
            " 1   OrderID       90559 non-null  int64  \n",
            " 2   ProductID     90559 non-null  int64  \n",
            " 3   CategoryID    90559 non-null  float64\n",
            " 4   CategoryCode  80626 non-null  object \n",
            " 5   BrandID       85774 non-null  float64\n",
            " 6   USDPrice      90559 non-null  float64\n",
            " 7   UserID        90559 non-null  float64\n",
            " 8   Gender        90559 non-null  object \n",
            " 9   Color         88251 non-null  object \n",
            " 10  Metal         90449 non-null  object \n",
            " 11  Gem           61853 non-null  object \n",
            "dtypes: float64(4), int64(2), object(6)\n",
            "memory usage: 9.0+ MB\n"
          ]
        }
      ]
    },
    {
      "cell_type": "code",
      "source": [
        "new_df.CategoryCode.fillna('other', inplace=True)"
      ],
      "metadata": {
        "id": "4fcqQg12IQsW"
      },
      "execution_count": 23,
      "outputs": []
    },
    {
      "cell_type": "code",
      "source": [
        "new_df.CategoryCode.value_counts()"
      ],
      "metadata": {
        "colab": {
          "base_uri": "https://localhost:8080/"
        },
        "id": "oqJZC6zqHiNF",
        "outputId": "df890865-bd93-45f3-a7a7-8ffe619a3004"
      },
      "execution_count": 24,
      "outputs": [
        {
          "output_type": "execute_result",
          "data": {
            "text/plain": [
              "jewelry.earring       29052\n",
              "jewelry.ring          28300\n",
              "jewelry.pendant       13088\n",
              "other                  9933\n",
              "jewelry.bracelet       6188\n",
              "jewelry.necklace       2361\n",
              "jewelry.brooch         1288\n",
              "jewelry.souvenir        170\n",
              "electronics.clocks      167\n",
              "jewelry.stud             12\n",
              "Name: CategoryCode, dtype: int64"
            ]
          },
          "metadata": {},
          "execution_count": 24
        }
      ]
    },
    {
      "cell_type": "code",
      "source": [
        "new_df[new_df['BrandID'].isna()].USDPrice.mean()"
      ],
      "metadata": {
        "colab": {
          "base_uri": "https://localhost:8080/"
        },
        "id": "Vy0cSYAqIP-x",
        "outputId": "adb88331-837d-4ba5-e94a-0980c129f5f1"
      },
      "execution_count": 25,
      "outputs": [
        {
          "output_type": "execute_result",
          "data": {
            "text/plain": [
              "343.4119937304076"
            ]
          },
          "metadata": {},
          "execution_count": 25
        }
      ]
    },
    {
      "cell_type": "code",
      "source": [
        "new_df['BrandID'].fillna('-1',inplace=True)"
      ],
      "metadata": {
        "id": "cL4Mr9QbJSs2"
      },
      "execution_count": 26,
      "outputs": []
    },
    {
      "cell_type": "code",
      "source": [
        "new_df.info()"
      ],
      "metadata": {
        "colab": {
          "base_uri": "https://localhost:8080/"
        },
        "id": "xAvGuu8jJiBi",
        "outputId": "35709732-782a-4aac-ce5c-3408f3ab8f2b"
      },
      "execution_count": 27,
      "outputs": [
        {
          "output_type": "stream",
          "name": "stdout",
          "text": [
            "<class 'pandas.core.frame.DataFrame'>\n",
            "Int64Index: 90559 entries, 0 to 95910\n",
            "Data columns (total 12 columns):\n",
            " #   Column        Non-Null Count  Dtype  \n",
            "---  ------        --------------  -----  \n",
            " 0   Datetime      90559 non-null  object \n",
            " 1   OrderID       90559 non-null  int64  \n",
            " 2   ProductID     90559 non-null  int64  \n",
            " 3   CategoryID    90559 non-null  float64\n",
            " 4   CategoryCode  90559 non-null  object \n",
            " 5   BrandID       90559 non-null  object \n",
            " 6   USDPrice      90559 non-null  float64\n",
            " 7   UserID        90559 non-null  float64\n",
            " 8   Gender        90559 non-null  object \n",
            " 9   Color         88251 non-null  object \n",
            " 10  Metal         90449 non-null  object \n",
            " 11  Gem           61853 non-null  object \n",
            "dtypes: float64(3), int64(2), object(7)\n",
            "memory usage: 9.0+ MB\n"
          ]
        }
      ]
    },
    {
      "cell_type": "code",
      "source": [
        "new_df['Gem'].unique()"
      ],
      "metadata": {
        "colab": {
          "base_uri": "https://localhost:8080/"
        },
        "id": "t1elrWGyKcXP",
        "outputId": "3bcc911a-f78d-4bcb-91b6-b0a5cfd9cf30"
      },
      "execution_count": 28,
      "outputs": [
        {
          "output_type": "execute_result",
          "data": {
            "text/plain": [
              "array(['diamond', nan, 'sapphire', 'amethyst', 'fianit', 'pearl',\n",
              "       'quartz', 'topaz', 'garnet', 'quartz_smoky', 'ruby', 'agate',\n",
              "       'mix', 'citrine', 'emerald', 'amber', 'chrysolite', 'chrysoprase',\n",
              "       'nanocrystal', 'turquoise', 'sitall', 'corundum_synthetic',\n",
              "       'coral', 'onyx', 'nacre', 'spinel', 'tourmaline',\n",
              "       'emerald_geothermal', 'garnet_synthetic', 'rhodolite',\n",
              "       'sapphire_geothermal'], dtype=object)"
            ]
          },
          "metadata": {},
          "execution_count": 28
        }
      ]
    },
    {
      "cell_type": "code",
      "source": [
        "for i in ('Color','Metal','Gem'):\n",
        "  if i == 'Color':\n",
        "    new_df[i].fillna('unknown-color',inplace=True)\n",
        "  else:\n",
        "    new_df[i].fillna('unknown',inplace=True)"
      ],
      "metadata": {
        "id": "d9tMkxp8Jj7W"
      },
      "execution_count": 29,
      "outputs": []
    },
    {
      "cell_type": "code",
      "source": [
        "new_df.info()"
      ],
      "metadata": {
        "colab": {
          "base_uri": "https://localhost:8080/"
        },
        "id": "ylXFgwW0J6st",
        "outputId": "e2f42728-ffe7-41c3-c087-f6b2781130a9"
      },
      "execution_count": 30,
      "outputs": [
        {
          "output_type": "stream",
          "name": "stdout",
          "text": [
            "<class 'pandas.core.frame.DataFrame'>\n",
            "Int64Index: 90559 entries, 0 to 95910\n",
            "Data columns (total 12 columns):\n",
            " #   Column        Non-Null Count  Dtype  \n",
            "---  ------        --------------  -----  \n",
            " 0   Datetime      90559 non-null  object \n",
            " 1   OrderID       90559 non-null  int64  \n",
            " 2   ProductID     90559 non-null  int64  \n",
            " 3   CategoryID    90559 non-null  float64\n",
            " 4   CategoryCode  90559 non-null  object \n",
            " 5   BrandID       90559 non-null  object \n",
            " 6   USDPrice      90559 non-null  float64\n",
            " 7   UserID        90559 non-null  float64\n",
            " 8   Gender        90559 non-null  object \n",
            " 9   Color         90559 non-null  object \n",
            " 10  Metal         90559 non-null  object \n",
            " 11  Gem           90559 non-null  object \n",
            "dtypes: float64(3), int64(2), object(7)\n",
            "memory usage: 9.0+ MB\n"
          ]
        }
      ]
    },
    {
      "cell_type": "code",
      "source": [
        "print(new_df.Color.value_counts())\n",
        "sns.countplot(y ='Color', data = new_df)"
      ],
      "metadata": {
        "colab": {
          "base_uri": "https://localhost:8080/",
          "height": 398
        },
        "id": "cZ9Z2_pIK3JA",
        "outputId": "e7996c90-9242-4014-d5c7-1aae33ef488b"
      },
      "execution_count": 31,
      "outputs": [
        {
          "output_type": "stream",
          "name": "stdout",
          "text": [
            "red              69511\n",
            "white            15286\n",
            "yellow            3388\n",
            "unknown-color     2372\n",
            "black                2\n",
            "Name: Color, dtype: int64\n"
          ]
        },
        {
          "output_type": "execute_result",
          "data": {
            "text/plain": [
              "<matplotlib.axes._subplots.AxesSubplot at 0x7fe85b6e5910>"
            ]
          },
          "metadata": {},
          "execution_count": 31
        },
        {
          "output_type": "display_data",
          "data": {
            "text/plain": [
              "<Figure size 432x288 with 1 Axes>"
            ],
            "image/png": "[encoded data removed]"
          },
          "metadata": {
            "needs_background": "light"
          }
        }
      ]
    },
    {
      "cell_type": "code",
      "source": [
        "print(new_df.Metal.value_counts())\n",
        "sns.countplot(y ='BrandID', hue = \"Metal\", data = new_df)"
      ],
      "metadata": {
        "colab": {
          "base_uri": "https://localhost:8080/",
          "height": 381
        },
        "id": "qN754ZbQJ8B4",
        "outputId": "489fd43a-8381-4dba-b89e-e2c4dde9d02f"
      },
      "execution_count": 32,
      "outputs": [
        {
          "output_type": "stream",
          "name": "stdout",
          "text": [
            "gold        89082\n",
            "silver       1365\n",
            "unknown       110\n",
            "platinum        2\n",
            "Name: Metal, dtype: int64\n"
          ]
        },
        {
          "output_type": "execute_result",
          "data": {
            "text/plain": [
              "<matplotlib.axes._subplots.AxesSubplot at 0x7fe85b3bdbb0>"
            ]
          },
          "metadata": {},
          "execution_count": 32
        },
        {
          "output_type": "display_data",
          "data": {
            "text/plain": [
              "<Figure size 432x288 with 1 Axes>"
            ],
            "image/png": "[encoded data removed]"
          },
          "metadata": {
            "needs_background": "light"
          }
        }
      ]
    },
    {
      "cell_type": "code",
      "source": [
        "sns.countplot(data = new_df, y = 'Gem', order = new_df['Gem'].value_counts().index)"
      ],
      "metadata": {
        "colab": {
          "base_uri": "https://localhost:8080/",
          "height": 297
        },
        "id": "q6lGN2okLQPE",
        "outputId": "9c0fddbb-3960-4e99-cf3b-758c09f7dd7b"
      },
      "execution_count": 33,
      "outputs": [
        {
          "output_type": "execute_result",
          "data": {
            "text/plain": [
              "<matplotlib.axes._subplots.AxesSubplot at 0x7fe85bc8ae80>"
            ]
          },
          "metadata": {},
          "execution_count": 33
        },
        {
          "output_type": "display_data",
          "data": {
            "text/plain": [
              "<Figure size 432x288 with 1 Axes>"
            ],
            "image/png": "[encoded data removed]"
          },
          "metadata": {
            "needs_background": "light"
          }
        }
      ]
    },
    {
      "cell_type": "code",
      "source": [
        "sns.countplot(data = new_df, y = 'CategoryCode', order = new_df['CategoryCode'].value_counts().index)"
      ],
      "metadata": {
        "colab": {
          "base_uri": "https://localhost:8080/",
          "height": 296
        },
        "id": "6J9ncmWSMRBG",
        "outputId": "f9ea30fa-673c-46b3-d778-60bebbc7f34d"
      },
      "execution_count": 34,
      "outputs": [
        {
          "output_type": "execute_result",
          "data": {
            "text/plain": [
              "<matplotlib.axes._subplots.AxesSubplot at 0x7fe85b242f70>"
            ]
          },
          "metadata": {},
          "execution_count": 34
        },
        {
          "output_type": "display_data",
          "data": {
            "text/plain": [
              "<Figure size 432x288 with 1 Axes>"
            ],
            "image/png": "[encoded data removed]"
          },
          "metadata": {
            "needs_background": "light"
          }
        }
      ]
    },
    {
      "cell_type": "code",
      "source": [
        "print(new_df.BrandID.value_counts())\n",
        "sns.countplot(data = new_df, y = 'BrandID', order = new_df['BrandID'].value_counts().index)"
      ],
      "metadata": {
        "colab": {
          "base_uri": "https://localhost:8080/",
          "height": 449
        },
        "id": "L6QZCnLcMk9x",
        "outputId": "e920daec-b2d5-4813-ec1c-74978c9a8ba6"
      },
      "execution_count": 35,
      "outputs": [
        {
          "output_type": "stream",
          "name": "stdout",
          "text": [
            "0.0    44600\n",
            "1.0    32022\n",
            "2.0     8966\n",
            "-1      4785\n",
            "4.0       65\n",
            "3.0       58\n",
            "6.0       56\n",
            "5.0        7\n",
            "Name: BrandID, dtype: int64\n"
          ]
        },
        {
          "output_type": "execute_result",
          "data": {
            "text/plain": [
              "<matplotlib.axes._subplots.AxesSubplot at 0x7fe85b1bd1c0>"
            ]
          },
          "metadata": {},
          "execution_count": 35
        },
        {
          "output_type": "display_data",
          "data": {
            "text/plain": [
              "<Figure size 432x288 with 1 Axes>"
            ],
            "image/png": "[encoded data removed]"
          },
          "metadata": {
            "needs_background": "light"
          }
        }
      ]
    },
    {
      "cell_type": "code",
      "source": [
        "new_df.groupby('BrandID').USDPrice.sum().plot.bar()"
      ],
      "metadata": {
        "colab": {
          "base_uri": "https://localhost:8080/",
          "height": 313
        },
        "id": "gQnMuxcEMw9P",
        "outputId": "f8d79590-4faa-4188-d51b-7f7dbc1fbe22"
      },
      "execution_count": 36,
      "outputs": [
        {
          "output_type": "execute_result",
          "data": {
            "text/plain": [
              "<matplotlib.axes._subplots.AxesSubplot at 0x7fe85b0e9b50>"
            ]
          },
          "metadata": {},
          "execution_count": 36
        },
        {
          "output_type": "display_data",
          "data": {
            "text/plain": [
              "<Figure size 432x288 with 1 Axes>"
            ],
            "image/png": "[encoded data removed]"
          },
          "metadata": {
            "needs_background": "light"
          }
        }
      ]
    },
    {
      "cell_type": "code",
      "source": [
        "sns.countplot(x ='BrandID', hue = \"CategoryCode\", data = new_df[new_df['BrandID'].astype(int)<= 2])"
      ],
      "metadata": {
        "colab": {
          "base_uri": "https://localhost:8080/",
          "height": 296
        },
        "id": "me5tObTGNA8c",
        "outputId": "7a44a8d9-9031-4c46-e40e-bdd411dd6892"
      },
      "execution_count": 37,
      "outputs": [
        {
          "output_type": "execute_result",
          "data": {
            "text/plain": [
              "<matplotlib.axes._subplots.AxesSubplot at 0x7fe85b06b820>"
            ]
          },
          "metadata": {},
          "execution_count": 37
        },
        {
          "output_type": "display_data",
          "data": {
            "text/plain": [
              "<Figure size 432x288 with 1 Axes>"
            ],
            "image/png": "[encoded data removed]"
          },
          "metadata": {
            "needs_background": "light"
          }
        }
      ]
    },
    {
      "cell_type": "markdown",
      "source": [
        "## Forecasting total sales "
      ],
      "metadata": {
        "id": "unl_CHqWQmKv"
      }
    },
    {
      "cell_type": "code",
      "source": [
        "new_df['Datetime'] = new_df.Datetime.apply(lambda x : x[:10])\n",
        "new_df.head()"
      ],
      "metadata": {
        "colab": {
          "base_uri": "https://localhost:8080/",
          "height": 353
        },
        "id": "WVW1INeGQv_4",
        "outputId": "cd761ea1-34c2-4f0e-fc49-3cb0064114b0"
      },
      "execution_count": 38,
      "outputs": [
        {
          "output_type": "execute_result",
          "data": {
            "text/plain": [
              "     Datetime              OrderID            ProductID  \\\n",
              "0  2018-12-01  1924719191579951782  1842195256808833386   \n",
              "1  2018-12-01  1924899396621697920  1806829193678291446   \n",
              "2  2018-12-02  1925511016616034733  1842214461889315556   \n",
              "3  2018-12-02  1925626951238681511  1835566849434059453   \n",
              "4  2018-12-02  1925740842841014667  1873936840742928865   \n",
              "\n",
              "                  CategoryID      CategoryCode  BrandID   USDPrice  \\\n",
              "0 1806829201890738432.000000   jewelry.earring 0.000000 561.510000   \n",
              "1 1806829201848795392.000000             other       -1 212.140000   \n",
              "2 1806829201915904256.000000   jewelry.pendant 1.000000  54.660000   \n",
              "3 1806829201915904256.000000   jewelry.pendant 0.000000  88.900000   \n",
              "4 1806829201924292864.000000  jewelry.necklace 0.000000 417.670000   \n",
              "\n",
              "                      UserID Gender   Color Metal       Gem  \n",
              "0 1515915625207851264.000000      f     red  gold   diamond  \n",
              "1 1515915625071970048.000000      f  yellow  gold   unknown  \n",
              "2 1515915625048493568.000000      f   white  gold  sapphire  \n",
              "3 1515915625207630848.000000      f     red  gold   diamond  \n",
              "4 1515915625175329280.000000      f     red  gold  amethyst  "
            ],
            "text/html": [
              "\n",
              "  <div id=\"df-cd2e50c6-7324-4968-aa5c-c0419b708236\">\n",
              "    <div class=\"colab-df-container\">\n",
              "      <div>\n",
              "<style scoped>\n",
              "    .dataframe tbody tr th:only-of-type {\n",
              "        vertical-align: middle;\n",
              "    }\n",
              "\n",
              "    .dataframe tbody tr th {\n",
              "        vertical-align: top;\n",
              "    }\n",
              "\n",
              "    .dataframe thead th {\n",
              "        text-align: right;\n",
              "    }\n",
              "</style>\n",
              "<table border=\"1\" class=\"dataframe\">\n",
              "  <thead>\n",
              "    <tr style=\"text-align: right;\">\n",
              "      <th></th>\n",
              "      <th>Datetime</th>\n",
              "      <th>OrderID</th>\n",
              "      <th>ProductID</th>\n",
              "      <th>CategoryID</th>\n",
              "      <th>CategoryCode</th>\n",
              "      <th>BrandID</th>\n",
              "      <th>USDPrice</th>\n",
              "      <th>UserID</th>\n",
              "      <th>Gender</th>\n",
              "      <th>Color</th>\n",
              "      <th>Metal</th>\n",
              "      <th>Gem</th>\n",
              "    </tr>\n",
              "  </thead>\n",
              "  <tbody>\n",
              "    <tr>\n",
              "      <th>0</th>\n",
              "      <td>2018-12-01</td>\n",
              "      <td>1924719191579951782</td>\n",
              "      <td>1842195256808833386</td>\n",
              "      <td>1806829201890738432.000000</td>\n",
              "      <td>jewelry.earring</td>\n",
              "      <td>0.000000</td>\n",
              "      <td>561.510000</td>\n",
              "      <td>1515915625207851264.000000</td>\n",
              "      <td>f</td>\n",
              "      <td>red</td>\n",
              "      <td>gold</td>\n",
              "      <td>diamond</td>\n",
              "    </tr>\n",
              "    <tr>\n",
              "      <th>1</th>\n",
              "      <td>2018-12-01</td>\n",
              "      <td>1924899396621697920</td>\n",
              "      <td>1806829193678291446</td>\n",
              "      <td>1806829201848795392.000000</td>\n",
              "      <td>other</td>\n",
              "      <td>-1</td>\n",
              "      <td>212.140000</td>\n",
              "      <td>1515915625071970048.000000</td>\n",
              "      <td>f</td>\n",
              "      <td>yellow</td>\n",
              "      <td>gold</td>\n",
              "      <td>unknown</td>\n",
              "    </tr>\n",
              "    <tr>\n",
              "      <th>2</th>\n",
              "      <td>2018-12-02</td>\n",
              "      <td>1925511016616034733</td>\n",
              "      <td>1842214461889315556</td>\n",
              "      <td>1806829201915904256.000000</td>\n",
              "      <td>jewelry.pendant</td>\n",
              "      <td>1.000000</td>\n",
              "      <td>54.660000</td>\n",
              "      <td>1515915625048493568.000000</td>\n",
              "      <td>f</td>\n",
              "      <td>white</td>\n",
              "      <td>gold</td>\n",
              "      <td>sapphire</td>\n",
              "    </tr>\n",
              "    <tr>\n",
              "      <th>3</th>\n",
              "      <td>2018-12-02</td>\n",
              "      <td>1925626951238681511</td>\n",
              "      <td>1835566849434059453</td>\n",
              "      <td>1806829201915904256.000000</td>\n",
              "      <td>jewelry.pendant</td>\n",
              "      <td>0.000000</td>\n",
              "      <td>88.900000</td>\n",
              "      <td>1515915625207630848.000000</td>\n",
              "      <td>f</td>\n",
              "      <td>red</td>\n",
              "      <td>gold</td>\n",
              "      <td>diamond</td>\n",
              "    </tr>\n",
              "    <tr>\n",
              "      <th>4</th>\n",
              "      <td>2018-12-02</td>\n",
              "      <td>1925740842841014667</td>\n",
              "      <td>1873936840742928865</td>\n",
              "      <td>1806829201924292864.000000</td>\n",
              "      <td>jewelry.necklace</td>\n",
              "      <td>0.000000</td>\n",
              "      <td>417.670000</td>\n",
              "      <td>1515915625175329280.000000</td>\n",
              "      <td>f</td>\n",
              "      <td>red</td>\n",
              "      <td>gold</td>\n",
              "      <td>amethyst</td>\n",
              "    </tr>\n",
              "  </tbody>\n",
              "</table>\n",
              "</div>\n",
              "      <button class=\"colab-df-convert\" onclick=\"convertToInteractive('df-cd2e50c6-7324-4968-aa5c-c0419b708236')\"\n",
              "              title=\"Convert this dataframe to an interactive table.\"\n",
              "              style=\"display:none;\">\n",
              "        \n",
              "  <svg xmlns=\"http://www.w3.org/2000/svg\" height=\"24px\"viewBox=\"0 0 24 24\"\n",
              "       width=\"24px\">\n",
              "    <path d=\"M0 0h24v24H0V0z\" fill=\"none\"/>\n",
              "    <path d=\"M18.56 5.44l.94 2.06.94-2.06 2.06-.94-2.06-.94-.94-2.06-.94 2.06-2.06.94zm-11 1L8.5 8.5l.94-2.06 2.06-.94-2.06-.94L8.5 2.5l-.94 2.06-2.06.94zm10 10l.94 2.06.94-2.06 2.06-.94-2.06-.94-.94-2.06-.94 2.06-2.06.94z\"/><path d=\"M17.41 7.96l-1.37-1.37c-.4-.4-.92-.59-1.43-.59-.52 0-1.04.2-1.43.59L10.3 9.45l-7.72 7.72c-.78.78-.78 2.05 0 2.83L4 21.41c.39.39.9.59 1.41.59.51 0 1.02-.2 1.41-.59l7.78-7.78 2.81-2.81c.8-.78.8-2.07 0-2.86zM5.41 20L4 18.59l7.72-7.72 1.47 1.35L5.41 20z\"/>\n",
              "  </svg>\n",
              "      </button>\n",
              "      \n",
              "  <style>\n",
              "    .colab-df-container {\n",
              "      display:flex;\n",
              "      flex-wrap:wrap;\n",
              "      gap: 12px;\n",
              "    }\n",
              "\n",
              "    .colab-df-convert {\n",
              "      background-color: #E8F0FE;\n",
              "      border: none;\n",
              "      border-radius: 50%;\n",
              "      cursor: pointer;\n",
              "      display: none;\n",
              "      fill: #1967D2;\n",
              "      height: 32px;\n",
              "      padding: 0 0 0 0;\n",
              "      width: 32px;\n",
              "    }\n",
              "\n",
              "    .colab-df-convert:hover {\n",
              "      background-color: #E2EBFA;\n",
              "      box-shadow: 0px 1px 2px rgba(60, 64, 67, 0.3), 0px 1px 3px 1px rgba(60, 64, 67, 0.15);\n",
              "      fill: #174EA6;\n",
              "    }\n",
              "\n",
              "    [theme=dark] .colab-df-convert {\n",
              "      background-color: #3B4455;\n",
              "      fill: #D2E3FC;\n",
              "    }\n",
              "\n",
              "    [theme=dark] .colab-df-convert:hover {\n",
              "      background-color: #434B5C;\n",
              "      box-shadow: 0px 1px 3px 1px rgba(0, 0, 0, 0.15);\n",
              "      filter: drop-shadow(0px 1px 2px rgba(0, 0, 0, 0.3));\n",
              "      fill: #FFFFFF;\n",
              "    }\n",
              "  </style>\n",
              "\n",
              "      <script>\n",
              "        const buttonEl =\n",
              "          document.querySelector('#df-cd2e50c6-7324-4968-aa5c-c0419b708236 button.colab-df-convert');\n",
              "        buttonEl.style.display =\n",
              "          google.colab.kernel.accessAllowed ? 'block' : 'none';\n",
              "\n",
              "        async function convertToInteractive(key) {\n",
              "          const element = document.querySelector('#df-cd2e50c6-7324-4968-aa5c-c0419b708236');\n",
              "          const dataTable =\n",
              "            await google.colab.kernel.invokeFunction('convertToInteractive',\n",
              "                                                     [key], {});\n",
              "          if (!dataTable) return;\n",
              "\n",
              "          const docLinkHtml = 'Like what you see? Visit the ' +\n",
              "            '<a target=\"_blank\" href=https://colab.research.google.com/notebooks/data_table.ipynb>data table notebook</a>'\n",
              "            + ' to learn more about interactive tables.';\n",
              "          element.innerHTML = '';\n",
              "          dataTable['output_type'] = 'display_data';\n",
              "          await google.colab.output.renderOutput(dataTable, element);\n",
              "          const docLink = document.createElement('div');\n",
              "          docLink.innerHTML = docLinkHtml;\n",
              "          element.appendChild(docLink);\n",
              "        }\n",
              "      </script>\n",
              "    </div>\n",
              "  </div>\n",
              "  "
            ]
          },
          "metadata": {},
          "execution_count": 38
        }
      ]
    },
    {
      "cell_type": "code",
      "source": [
        "from datetime import datetime\n",
        "\n",
        "new_df['Datetime'] = new_df['Datetime'].apply(lambda x: datetime.strptime(x, '%Y-%m-%d'))\n",
        "new_df.info()"
      ],
      "metadata": {
        "colab": {
          "base_uri": "https://localhost:8080/"
        },
        "id": "RswiseC8OGDX",
        "outputId": "01d18343-4a88-4033-a0ec-a978b46ca227"
      },
      "execution_count": 39,
      "outputs": [
        {
          "output_type": "stream",
          "name": "stdout",
          "text": [
            "<class 'pandas.core.frame.DataFrame'>\n",
            "Int64Index: 90559 entries, 0 to 95910\n",
            "Data columns (total 12 columns):\n",
            " #   Column        Non-Null Count  Dtype         \n",
            "---  ------        --------------  -----         \n",
            " 0   Datetime      90559 non-null  datetime64[ns]\n",
            " 1   OrderID       90559 non-null  int64         \n",
            " 2   ProductID     90559 non-null  int64         \n",
            " 3   CategoryID    90559 non-null  float64       \n",
            " 4   CategoryCode  90559 non-null  object        \n",
            " 5   BrandID       90559 non-null  object        \n",
            " 6   USDPrice      90559 non-null  float64       \n",
            " 7   UserID        90559 non-null  float64       \n",
            " 8   Gender        90559 non-null  object        \n",
            " 9   Color         90559 non-null  object        \n",
            " 10  Metal         90559 non-null  object        \n",
            " 11  Gem           90559 non-null  object        \n",
            "dtypes: datetime64[ns](1), float64(3), int64(2), object(6)\n",
            "memory usage: 11.0+ MB\n"
          ]
        }
      ]
    },
    {
      "cell_type": "code",
      "source": [
        "new_df.head()"
      ],
      "metadata": {
        "colab": {
          "base_uri": "https://localhost:8080/",
          "height": 353
        },
        "id": "BXLEnfDRSMyy",
        "outputId": "2c63b57c-c32e-4d67-a00b-015b12aa47f4"
      },
      "execution_count": 40,
      "outputs": [
        {
          "output_type": "execute_result",
          "data": {
            "text/plain": [
              "    Datetime              OrderID            ProductID  \\\n",
              "0 2018-12-01  1924719191579951782  1842195256808833386   \n",
              "1 2018-12-01  1924899396621697920  1806829193678291446   \n",
              "2 2018-12-02  1925511016616034733  1842214461889315556   \n",
              "3 2018-12-02  1925626951238681511  1835566849434059453   \n",
              "4 2018-12-02  1925740842841014667  1873936840742928865   \n",
              "\n",
              "                  CategoryID      CategoryCode  BrandID   USDPrice  \\\n",
              "0 1806829201890738432.000000   jewelry.earring 0.000000 561.510000   \n",
              "1 1806829201848795392.000000             other       -1 212.140000   \n",
              "2 1806829201915904256.000000   jewelry.pendant 1.000000  54.660000   \n",
              "3 1806829201915904256.000000   jewelry.pendant 0.000000  88.900000   \n",
              "4 1806829201924292864.000000  jewelry.necklace 0.000000 417.670000   \n",
              "\n",
              "                      UserID Gender   Color Metal       Gem  \n",
              "0 1515915625207851264.000000      f     red  gold   diamond  \n",
              "1 1515915625071970048.000000      f  yellow  gold   unknown  \n",
              "2 1515915625048493568.000000      f   white  gold  sapphire  \n",
              "3 1515915625207630848.000000      f     red  gold   diamond  \n",
              "4 1515915625175329280.000000      f     red  gold  amethyst  "
            ],
            "text/html": [
              "\n",
              "  <div id=\"df-41145916-eaed-4797-aff0-ea745f91b577\">\n",
              "    <div class=\"colab-df-container\">\n",
              "      <div>\n",
              "<style scoped>\n",
              "    .dataframe tbody tr th:only-of-type {\n",
              "        vertical-align: middle;\n",
              "    }\n",
              "\n",
              "    .dataframe tbody tr th {\n",
              "        vertical-align: top;\n",
              "    }\n",
              "\n",
              "    .dataframe thead th {\n",
              "        text-align: right;\n",
              "    }\n",
              "</style>\n",
              "<table border=\"1\" class=\"dataframe\">\n",
              "  <thead>\n",
              "    <tr style=\"text-align: right;\">\n",
              "      <th></th>\n",
              "      <th>Datetime</th>\n",
              "      <th>OrderID</th>\n",
              "      <th>ProductID</th>\n",
              "      <th>CategoryID</th>\n",
              "      <th>CategoryCode</th>\n",
              "      <th>BrandID</th>\n",
              "      <th>USDPrice</th>\n",
              "      <th>UserID</th>\n",
              "      <th>Gender</th>\n",
              "      <th>Color</th>\n",
              "      <th>Metal</th>\n",
              "      <th>Gem</th>\n",
              "    </tr>\n",
              "  </thead>\n",
              "  <tbody>\n",
              "    <tr>\n",
              "      <th>0</th>\n",
              "      <td>2018-12-01</td>\n",
              "      <td>1924719191579951782</td>\n",
              "      <td>1842195256808833386</td>\n",
              "      <td>1806829201890738432.000000</td>\n",
              "      <td>jewelry.earring</td>\n",
              "      <td>0.000000</td>\n",
              "      <td>561.510000</td>\n",
              "      <td>1515915625207851264.000000</td>\n",
              "      <td>f</td>\n",
              "      <td>red</td>\n",
              "      <td>gold</td>\n",
              "      <td>diamond</td>\n",
              "    </tr>\n",
              "    <tr>\n",
              "      <th>1</th>\n",
              "      <td>2018-12-01</td>\n",
              "      <td>1924899396621697920</td>\n",
              "      <td>1806829193678291446</td>\n",
              "      <td>1806829201848795392.000000</td>\n",
              "      <td>other</td>\n",
              "      <td>-1</td>\n",
              "      <td>212.140000</td>\n",
              "      <td>1515915625071970048.000000</td>\n",
              "      <td>f</td>\n",
              "      <td>yellow</td>\n",
              "      <td>gold</td>\n",
              "      <td>unknown</td>\n",
              "    </tr>\n",
              "    <tr>\n",
              "      <th>2</th>\n",
              "      <td>2018-12-02</td>\n",
              "      <td>1925511016616034733</td>\n",
              "      <td>1842214461889315556</td>\n",
              "      <td>1806829201915904256.000000</td>\n",
              "      <td>jewelry.pendant</td>\n",
              "      <td>1.000000</td>\n",
              "      <td>54.660000</td>\n",
              "      <td>1515915625048493568.000000</td>\n",
              "      <td>f</td>\n",
              "      <td>white</td>\n",
              "      <td>gold</td>\n",
              "      <td>sapphire</td>\n",
              "    </tr>\n",
              "    <tr>\n",
              "      <th>3</th>\n",
              "      <td>2018-12-02</td>\n",
              "      <td>1925626951238681511</td>\n",
              "      <td>1835566849434059453</td>\n",
              "      <td>1806829201915904256.000000</td>\n",
              "      <td>jewelry.pendant</td>\n",
              "      <td>0.000000</td>\n",
              "      <td>88.900000</td>\n",
              "      <td>1515915625207630848.000000</td>\n",
              "      <td>f</td>\n",
              "      <td>red</td>\n",
              "      <td>gold</td>\n",
              "      <td>diamond</td>\n",
              "    </tr>\n",
              "    <tr>\n",
              "      <th>4</th>\n",
              "      <td>2018-12-02</td>\n",
              "      <td>1925740842841014667</td>\n",
              "      <td>1873936840742928865</td>\n",
              "      <td>1806829201924292864.000000</td>\n",
              "      <td>jewelry.necklace</td>\n",
              "      <td>0.000000</td>\n",
              "      <td>417.670000</td>\n",
              "      <td>1515915625175329280.000000</td>\n",
              "      <td>f</td>\n",
              "      <td>red</td>\n",
              "      <td>gold</td>\n",
              "      <td>amethyst</td>\n",
              "    </tr>\n",
              "  </tbody>\n",
              "</table>\n",
              "</div>\n",
              "      <button class=\"colab-df-convert\" onclick=\"convertToInteractive('df-41145916-eaed-4797-aff0-ea745f91b577')\"\n",
              "              title=\"Convert this dataframe to an interactive table.\"\n",
              "              style=\"display:none;\">\n",
              "        \n",
              "  <svg xmlns=\"http://www.w3.org/2000/svg\" height=\"24px\"viewBox=\"0 0 24 24\"\n",
              "       width=\"24px\">\n",
              "    <path d=\"M0 0h24v24H0V0z\" fill=\"none\"/>\n",
              "    <path d=\"M18.56 5.44l.94 2.06.94-2.06 2.06-.94-2.06-.94-.94-2.06-.94 2.06-2.06.94zm-11 1L8.5 8.5l.94-2.06 2.06-.94-2.06-.94L8.5 2.5l-.94 2.06-2.06.94zm10 10l.94 2.06.94-2.06 2.06-.94-2.06-.94-.94-2.06-.94 2.06-2.06.94z\"/><path d=\"M17.41 7.96l-1.37-1.37c-.4-.4-.92-.59-1.43-.59-.52 0-1.04.2-1.43.59L10.3 9.45l-7.72 7.72c-.78.78-.78 2.05 0 2.83L4 21.41c.39.39.9.59 1.41.59.51 0 1.02-.2 1.41-.59l7.78-7.78 2.81-2.81c.8-.78.8-2.07 0-2.86zM5.41 20L4 18.59l7.72-7.72 1.47 1.35L5.41 20z\"/>\n",
              "  </svg>\n",
              "      </button>\n",
              "      \n",
              "  <style>\n",
              "    .colab-df-container {\n",
              "      display:flex;\n",
              "      flex-wrap:wrap;\n",
              "      gap: 12px;\n",
              "    }\n",
              "\n",
              "    .colab-df-convert {\n",
              "      background-color: #E8F0FE;\n",
              "      border: none;\n",
              "      border-radius: 50%;\n",
              "      cursor: pointer;\n",
              "      display: none;\n",
              "      fill: #1967D2;\n",
              "      height: 32px;\n",
              "      padding: 0 0 0 0;\n",
              "      width: 32px;\n",
              "    }\n",
              "\n",
              "    .colab-df-convert:hover {\n",
              "      background-color: #E2EBFA;\n",
              "      box-shadow: 0px 1px 2px rgba(60, 64, 67, 0.3), 0px 1px 3px 1px rgba(60, 64, 67, 0.15);\n",
              "      fill: #174EA6;\n",
              "    }\n",
              "\n",
              "    [theme=dark] .colab-df-convert {\n",
              "      background-color: #3B4455;\n",
              "      fill: #D2E3FC;\n",
              "    }\n",
              "\n",
              "    [theme=dark] .colab-df-convert:hover {\n",
              "      background-color: #434B5C;\n",
              "      box-shadow: 0px 1px 3px 1px rgba(0, 0, 0, 0.15);\n",
              "      filter: drop-shadow(0px 1px 2px rgba(0, 0, 0, 0.3));\n",
              "      fill: #FFFFFF;\n",
              "    }\n",
              "  </style>\n",
              "\n",
              "      <script>\n",
              "        const buttonEl =\n",
              "          document.querySelector('#df-41145916-eaed-4797-aff0-ea745f91b577 button.colab-df-convert');\n",
              "        buttonEl.style.display =\n",
              "          google.colab.kernel.accessAllowed ? 'block' : 'none';\n",
              "\n",
              "        async function convertToInteractive(key) {\n",
              "          const element = document.querySelector('#df-41145916-eaed-4797-aff0-ea745f91b577');\n",
              "          const dataTable =\n",
              "            await google.colab.kernel.invokeFunction('convertToInteractive',\n",
              "                                                     [key], {});\n",
              "          if (!dataTable) return;\n",
              "\n",
              "          const docLinkHtml = 'Like what you see? Visit the ' +\n",
              "            '<a target=\"_blank\" href=https://colab.research.google.com/notebooks/data_table.ipynb>data table notebook</a>'\n",
              "            + ' to learn more about interactive tables.';\n",
              "          element.innerHTML = '';\n",
              "          dataTable['output_type'] = 'display_data';\n",
              "          await google.colab.output.renderOutput(dataTable, element);\n",
              "          const docLink = document.createElement('div');\n",
              "          docLink.innerHTML = docLinkHtml;\n",
              "          element.appendChild(docLink);\n",
              "        }\n",
              "      </script>\n",
              "    </div>\n",
              "  </div>\n",
              "  "
            ]
          },
          "metadata": {},
          "execution_count": 40
        }
      ]
    },
    {
      "cell_type": "code",
      "source": [
        "sales_df =  pd.pivot_table(new_df, \n",
        "                 index= 'Datetime' ,\n",
        "                 values= 'USDPrice'  ,\n",
        "                 aggfunc= 'sum' ).reset_index()\n",
        "\n",
        "sales_df.head()"
      ],
      "metadata": {
        "colab": {
          "base_uri": "https://localhost:8080/",
          "height": 204
        },
        "id": "tELIoP6GS0tm",
        "outputId": "8855abf7-5957-4006-e9c1-58f0637fee08"
      },
      "execution_count": 41,
      "outputs": [
        {
          "output_type": "execute_result",
          "data": {
            "text/plain": [
              "    Datetime    USDPrice\n",
              "0 2018-12-01  773.650000\n",
              "1 2018-12-02  897.470000\n",
              "2 2018-12-03  978.850000\n",
              "3 2018-12-04 3486.050000\n",
              "4 2018-12-05 1246.580000"
            ],
            "text/html": [
              "\n",
              "  <div id=\"df-c739b7e7-b017-403a-973a-fe2af9f3a270\">\n",
              "    <div class=\"colab-df-container\">\n",
              "      <div>\n",
              "<style scoped>\n",
              "    .dataframe tbody tr th:only-of-type {\n",
              "        vertical-align: middle;\n",
              "    }\n",
              "\n",
              "    .dataframe tbody tr th {\n",
              "        vertical-align: top;\n",
              "    }\n",
              "\n",
              "    .dataframe thead th {\n",
              "        text-align: right;\n",
              "    }\n",
              "</style>\n",
              "<table border=\"1\" class=\"dataframe\">\n",
              "  <thead>\n",
              "    <tr style=\"text-align: right;\">\n",
              "      <th></th>\n",
              "      <th>Datetime</th>\n",
              "      <th>USDPrice</th>\n",
              "    </tr>\n",
              "  </thead>\n",
              "  <tbody>\n",
              "    <tr>\n",
              "      <th>0</th>\n",
              "      <td>2018-12-01</td>\n",
              "      <td>773.650000</td>\n",
              "    </tr>\n",
              "    <tr>\n",
              "      <th>1</th>\n",
              "      <td>2018-12-02</td>\n",
              "      <td>897.470000</td>\n",
              "    </tr>\n",
              "    <tr>\n",
              "      <th>2</th>\n",
              "      <td>2018-12-03</td>\n",
              "      <td>978.850000</td>\n",
              "    </tr>\n",
              "    <tr>\n",
              "      <th>3</th>\n",
              "      <td>2018-12-04</td>\n",
              "      <td>3486.050000</td>\n",
              "    </tr>\n",
              "    <tr>\n",
              "      <th>4</th>\n",
              "      <td>2018-12-05</td>\n",
              "      <td>1246.580000</td>\n",
              "    </tr>\n",
              "  </tbody>\n",
              "</table>\n",
              "</div>\n",
              "      <button class=\"colab-df-convert\" onclick=\"convertToInteractive('df-c739b7e7-b017-403a-973a-fe2af9f3a270')\"\n",
              "              title=\"Convert this dataframe to an interactive table.\"\n",
              "              style=\"display:none;\">\n",
              "        \n",
              "  <svg xmlns=\"http://www.w3.org/2000/svg\" height=\"24px\"viewBox=\"0 0 24 24\"\n",
              "       width=\"24px\">\n",
              "    <path d=\"M0 0h24v24H0V0z\" fill=\"none\"/>\n",
              "    <path d=\"M18.56 5.44l.94 2.06.94-2.06 2.06-.94-2.06-.94-.94-2.06-.94 2.06-2.06.94zm-11 1L8.5 8.5l.94-2.06 2.06-.94-2.06-.94L8.5 2.5l-.94 2.06-2.06.94zm10 10l.94 2.06.94-2.06 2.06-.94-2.06-.94-.94-2.06-.94 2.06-2.06.94z\"/><path d=\"M17.41 7.96l-1.37-1.37c-.4-.4-.92-.59-1.43-.59-.52 0-1.04.2-1.43.59L10.3 9.45l-7.72 7.72c-.78.78-.78 2.05 0 2.83L4 21.41c.39.39.9.59 1.41.59.51 0 1.02-.2 1.41-.59l7.78-7.78 2.81-2.81c.8-.78.8-2.07 0-2.86zM5.41 20L4 18.59l7.72-7.72 1.47 1.35L5.41 20z\"/>\n",
              "  </svg>\n",
              "      </button>\n",
              "      \n",
              "  <style>\n",
              "    .colab-df-container {\n",
              "      display:flex;\n",
              "      flex-wrap:wrap;\n",
              "      gap: 12px;\n",
              "    }\n",
              "\n",
              "    .colab-df-convert {\n",
              "      background-color: #E8F0FE;\n",
              "      border: none;\n",
              "      border-radius: 50%;\n",
              "      cursor: pointer;\n",
              "      display: none;\n",
              "      fill: #1967D2;\n",
              "      height: 32px;\n",
              "      padding: 0 0 0 0;\n",
              "      width: 32px;\n",
              "    }\n",
              "\n",
              "    .colab-df-convert:hover {\n",
              "      background-color: #E2EBFA;\n",
              "      box-shadow: 0px 1px 2px rgba(60, 64, 67, 0.3), 0px 1px 3px 1px rgba(60, 64, 67, 0.15);\n",
              "      fill: #174EA6;\n",
              "    }\n",
              "\n",
              "    [theme=dark] .colab-df-convert {\n",
              "      background-color: #3B4455;\n",
              "      fill: #D2E3FC;\n",
              "    }\n",
              "\n",
              "    [theme=dark] .colab-df-convert:hover {\n",
              "      background-color: #434B5C;\n",
              "      box-shadow: 0px 1px 3px 1px rgba(0, 0, 0, 0.15);\n",
              "      filter: drop-shadow(0px 1px 2px rgba(0, 0, 0, 0.3));\n",
              "      fill: #FFFFFF;\n",
              "    }\n",
              "  </style>\n",
              "\n",
              "      <script>\n",
              "        const buttonEl =\n",
              "          document.querySelector('#df-c739b7e7-b017-403a-973a-fe2af9f3a270 button.colab-df-convert');\n",
              "        buttonEl.style.display =\n",
              "          google.colab.kernel.accessAllowed ? 'block' : 'none';\n",
              "\n",
              "        async function convertToInteractive(key) {\n",
              "          const element = document.querySelector('#df-c739b7e7-b017-403a-973a-fe2af9f3a270');\n",
              "          const dataTable =\n",
              "            await google.colab.kernel.invokeFunction('convertToInteractive',\n",
              "                                                     [key], {});\n",
              "          if (!dataTable) return;\n",
              "\n",
              "          const docLinkHtml = 'Like what you see? Visit the ' +\n",
              "            '<a target=\"_blank\" href=https://colab.research.google.com/notebooks/data_table.ipynb>data table notebook</a>'\n",
              "            + ' to learn more about interactive tables.';\n",
              "          element.innerHTML = '';\n",
              "          dataTable['output_type'] = 'display_data';\n",
              "          await google.colab.output.renderOutput(dataTable, element);\n",
              "          const docLink = document.createElement('div');\n",
              "          docLink.innerHTML = docLinkHtml;\n",
              "          element.appendChild(docLink);\n",
              "        }\n",
              "      </script>\n",
              "    </div>\n",
              "  </div>\n",
              "  "
            ]
          },
          "metadata": {},
          "execution_count": 41
        }
      ]
    },
    {
      "cell_type": "code",
      "source": [
        "sales_df.sort_values('Datetime',inplace=True)"
      ],
      "metadata": {
        "id": "a5AG_eIgTcDB"
      },
      "execution_count": 42,
      "outputs": []
    },
    {
      "cell_type": "code",
      "source": [
        "import numpy as np\n",
        "\n",
        "# sns.regplot cant read date type in x so ....\n",
        "sales_df['Time'] = np.arange(len(sales_df.index))"
      ],
      "metadata": {
        "id": "k39iCzgoXvxl"
      },
      "execution_count": 43,
      "outputs": []
    },
    {
      "cell_type": "code",
      "source": [
        "fig, ax = plt.subplots(figsize=(15, 5))\n",
        "ax.plot(sales_df['Time'], sales_df[\"USDPrice\"],  color='0.7')\n",
        "ax = sns.regplot(sales_df['Time'], sales_df[\"USDPrice\"],  ci=None, scatter_kws=dict(color='0.25'))\n",
        "ax.set_title('Time plot of total jewelry sales');"
      ],
      "metadata": {
        "colab": {
          "base_uri": "https://localhost:8080/",
          "height": 350
        },
        "id": "3W6zu3MNXFJ8",
        "outputId": "e9c78104-0de6-43e9-be77-65c69ed78bf3"
      },
      "execution_count": 44,
      "outputs": [
        {
          "output_type": "display_data",
          "data": {
            "text/plain": [
              "<Figure size 1080x360 with 1 Axes>"
            ],
            "image/png": "[encoded data removed]"
          },
          "metadata": {
            "needs_background": "light"
          }
        }
      ]
    },
    {
      "cell_type": "code",
      "source": [
        "print(f'Total number of days in sales_df: {sales_df.Time.max()} days')"
      ],
      "metadata": {
        "colab": {
          "base_uri": "https://localhost:8080/"
        },
        "id": "N_cR9JBUUK65",
        "outputId": "a7e94cfe-c3b0-478e-c02d-89ab217e8d3c"
      },
      "execution_count": 45,
      "outputs": [
        {
          "output_type": "stream",
          "name": "stdout",
          "text": [
            "Total number of days in sales_df: 1082 days\n"
          ]
        }
      ]
    },
    {
      "cell_type": "markdown",
      "source": [
        "print the firest 5 rows and the last 5 rows in sales_df."
      ],
      "metadata": {
        "id": "Jj71yaSQZc3e"
      }
    },
    {
      "cell_type": "code",
      "source": [
        "display(sales_df.head())\n",
        "display(sales_df.tail())"
      ],
      "metadata": {
        "colab": {
          "base_uri": "https://localhost:8080/",
          "height": 391
        },
        "id": "PVLGk2QDZHD_",
        "outputId": "f4d9b5cd-8a7c-4ece-c200-8c2357809884"
      },
      "execution_count": 46,
      "outputs": [
        {
          "output_type": "display_data",
          "data": {
            "text/plain": [
              "    Datetime    USDPrice  Time\n",
              "0 2018-12-01  773.650000     0\n",
              "1 2018-12-02  897.470000     1\n",
              "2 2018-12-03  978.850000     2\n",
              "3 2018-12-04 3486.050000     3\n",
              "4 2018-12-05 1246.580000     4"
            ],
            "text/html": [
              "\n",
              "  <div id=\"df-2a32836c-5607-4c38-990d-297daccba43c\">\n",
              "    <div class=\"colab-df-container\">\n",
              "      <div>\n",
              "<style scoped>\n",
              "    .dataframe tbody tr th:only-of-type {\n",
              "        vertical-align: middle;\n",
              "    }\n",
              "\n",
              "    .dataframe tbody tr th {\n",
              "        vertical-align: top;\n",
              "    }\n",
              "\n",
              "    .dataframe thead th {\n",
              "        text-align: right;\n",
              "    }\n",
              "</style>\n",
              "<table border=\"1\" class=\"dataframe\">\n",
              "  <thead>\n",
              "    <tr style=\"text-align: right;\">\n",
              "      <th></th>\n",
              "      <th>Datetime</th>\n",
              "      <th>USDPrice</th>\n",
              "      <th>Time</th>\n",
              "    </tr>\n",
              "  </thead>\n",
              "  <tbody>\n",
              "    <tr>\n",
              "      <th>0</th>\n",
              "      <td>2018-12-01</td>\n",
              "      <td>773.650000</td>\n",
              "      <td>0</td>\n",
              "    </tr>\n",
              "    <tr>\n",
              "      <th>1</th>\n",
              "      <td>2018-12-02</td>\n",
              "      <td>897.470000</td>\n",
              "      <td>1</td>\n",
              "    </tr>\n",
              "    <tr>\n",
              "      <th>2</th>\n",
              "      <td>2018-12-03</td>\n",
              "      <td>978.850000</td>\n",
              "      <td>2</td>\n",
              "    </tr>\n",
              "    <tr>\n",
              "      <th>3</th>\n",
              "      <td>2018-12-04</td>\n",
              "      <td>3486.050000</td>\n",
              "      <td>3</td>\n",
              "    </tr>\n",
              "    <tr>\n",
              "      <th>4</th>\n",
              "      <td>2018-12-05</td>\n",
              "      <td>1246.580000</td>\n",
              "      <td>4</td>\n",
              "    </tr>\n",
              "  </tbody>\n",
              "</table>\n",
              "</div>\n",
              "      <button class=\"colab-df-convert\" onclick=\"convertToInteractive('df-2a32836c-5607-4c38-990d-297daccba43c')\"\n",
              "              title=\"Convert this dataframe to an interactive table.\"\n",
              "              style=\"display:none;\">\n",
              "        \n",
              "  <svg xmlns=\"http://www.w3.org/2000/svg\" height=\"24px\"viewBox=\"0 0 24 24\"\n",
              "       width=\"24px\">\n",
              "    <path d=\"M0 0h24v24H0V0z\" fill=\"none\"/>\n",
              "    <path d=\"M18.56 5.44l.94 2.06.94-2.06 2.06-.94-2.06-.94-.94-2.06-.94 2.06-2.06.94zm-11 1L8.5 8.5l.94-2.06 2.06-.94-2.06-.94L8.5 2.5l-.94 2.06-2.06.94zm10 10l.94 2.06.94-2.06 2.06-.94-2.06-.94-.94-2.06-.94 2.06-2.06.94z\"/><path d=\"M17.41 7.96l-1.37-1.37c-.4-.4-.92-.59-1.43-.59-.52 0-1.04.2-1.43.59L10.3 9.45l-7.72 7.72c-.78.78-.78 2.05 0 2.83L4 21.41c.39.39.9.59 1.41.59.51 0 1.02-.2 1.41-.59l7.78-7.78 2.81-2.81c.8-.78.8-2.07 0-2.86zM5.41 20L4 18.59l7.72-7.72 1.47 1.35L5.41 20z\"/>\n",
              "  </svg>\n",
              "      </button>\n",
              "      \n",
              "  <style>\n",
              "    .colab-df-container {\n",
              "      display:flex;\n",
              "      flex-wrap:wrap;\n",
              "      gap: 12px;\n",
              "    }\n",
              "\n",
              "    .colab-df-convert {\n",
              "      background-color: #E8F0FE;\n",
              "      border: none;\n",
              "      border-radius: 50%;\n",
              "      cursor: pointer;\n",
              "      display: none;\n",
              "      fill: #1967D2;\n",
              "      height: 32px;\n",
              "      padding: 0 0 0 0;\n",
              "      width: 32px;\n",
              "    }\n",
              "\n",
              "    .colab-df-convert:hover {\n",
              "      background-color: #E2EBFA;\n",
              "      box-shadow: 0px 1px 2px rgba(60, 64, 67, 0.3), 0px 1px 3px 1px rgba(60, 64, 67, 0.15);\n",
              "      fill: #174EA6;\n",
              "    }\n",
              "\n",
              "    [theme=dark] .colab-df-convert {\n",
              "      background-color: #3B4455;\n",
              "      fill: #D2E3FC;\n",
              "    }\n",
              "\n",
              "    [theme=dark] .colab-df-convert:hover {\n",
              "      background-color: #434B5C;\n",
              "      box-shadow: 0px 1px 3px 1px rgba(0, 0, 0, 0.15);\n",
              "      filter: drop-shadow(0px 1px 2px rgba(0, 0, 0, 0.3));\n",
              "      fill: #FFFFFF;\n",
              "    }\n",
              "  </style>\n",
              "\n",
              "      <script>\n",
              "        const buttonEl =\n",
              "          document.querySelector('#df-2a32836c-5607-4c38-990d-297daccba43c button.colab-df-convert');\n",
              "        buttonEl.style.display =\n",
              "          google.colab.kernel.accessAllowed ? 'block' : 'none';\n",
              "\n",
              "        async function convertToInteractive(key) {\n",
              "          const element = document.querySelector('#df-2a32836c-5607-4c38-990d-297daccba43c');\n",
              "          const dataTable =\n",
              "            await google.colab.kernel.invokeFunction('convertToInteractive',\n",
              "                                                     [key], {});\n",
              "          if (!dataTable) return;\n",
              "\n",
              "          const docLinkHtml = 'Like what you see? Visit the ' +\n",
              "            '<a target=\"_blank\" href=https://colab.research.google.com/notebooks/data_table.ipynb>data table notebook</a>'\n",
              "            + ' to learn more about interactive tables.';\n",
              "          element.innerHTML = '';\n",
              "          dataTable['output_type'] = 'display_data';\n",
              "          await google.colab.output.renderOutput(dataTable, element);\n",
              "          const docLink = document.createElement('div');\n",
              "          docLink.innerHTML = docLinkHtml;\n",
              "          element.appendChild(docLink);\n",
              "        }\n",
              "      </script>\n",
              "    </div>\n",
              "  </div>\n",
              "  "
            ]
          },
          "metadata": {}
        },
        {
          "output_type": "display_data",
          "data": {
            "text/plain": [
              "       Datetime      USDPrice  Time\n",
              "1078 2021-11-27 206071.700000  1078\n",
              "1079 2021-11-28 186474.590000  1079\n",
              "1080 2021-11-29 219555.010000  1080\n",
              "1081 2021-11-30 197417.900000  1081\n",
              "1082 2021-12-01  60113.200000  1082"
            ],
            "text/html": [
              "\n",
              "  <div id=\"df-e2e7d61f-c313-4216-a0e5-5c6e30bc20d9\">\n",
              "    <div class=\"colab-df-container\">\n",
              "      <div>\n",
              "<style scoped>\n",
              "    .dataframe tbody tr th:only-of-type {\n",
              "        vertical-align: middle;\n",
              "    }\n",
              "\n",
              "    .dataframe tbody tr th {\n",
              "        vertical-align: top;\n",
              "    }\n",
              "\n",
              "    .dataframe thead th {\n",
              "        text-align: right;\n",
              "    }\n",
              "</style>\n",
              "<table border=\"1\" class=\"dataframe\">\n",
              "  <thead>\n",
              "    <tr style=\"text-align: right;\">\n",
              "      <th></th>\n",
              "      <th>Datetime</th>\n",
              "      <th>USDPrice</th>\n",
              "      <th>Time</th>\n",
              "    </tr>\n",
              "  </thead>\n",
              "  <tbody>\n",
              "    <tr>\n",
              "      <th>1078</th>\n",
              "      <td>2021-11-27</td>\n",
              "      <td>206071.700000</td>\n",
              "      <td>1078</td>\n",
              "    </tr>\n",
              "    <tr>\n",
              "      <th>1079</th>\n",
              "      <td>2021-11-28</td>\n",
              "      <td>186474.590000</td>\n",
              "      <td>1079</td>\n",
              "    </tr>\n",
              "    <tr>\n",
              "      <th>1080</th>\n",
              "      <td>2021-11-29</td>\n",
              "      <td>219555.010000</td>\n",
              "      <td>1080</td>\n",
              "    </tr>\n",
              "    <tr>\n",
              "      <th>1081</th>\n",
              "      <td>2021-11-30</td>\n",
              "      <td>197417.900000</td>\n",
              "      <td>1081</td>\n",
              "    </tr>\n",
              "    <tr>\n",
              "      <th>1082</th>\n",
              "      <td>2021-12-01</td>\n",
              "      <td>60113.200000</td>\n",
              "      <td>1082</td>\n",
              "    </tr>\n",
              "  </tbody>\n",
              "</table>\n",
              "</div>\n",
              "      <button class=\"colab-df-convert\" onclick=\"convertToInteractive('df-e2e7d61f-c313-4216-a0e5-5c6e30bc20d9')\"\n",
              "              title=\"Convert this dataframe to an interactive table.\"\n",
              "              style=\"display:none;\">\n",
              "        \n",
              "  <svg xmlns=\"http://www.w3.org/2000/svg\" height=\"24px\"viewBox=\"0 0 24 24\"\n",
              "       width=\"24px\">\n",
              "    <path d=\"M0 0h24v24H0V0z\" fill=\"none\"/>\n",
              "    <path d=\"M18.56 5.44l.94 2.06.94-2.06 2.06-.94-2.06-.94-.94-2.06-.94 2.06-2.06.94zm-11 1L8.5 8.5l.94-2.06 2.06-.94-2.06-.94L8.5 2.5l-.94 2.06-2.06.94zm10 10l.94 2.06.94-2.06 2.06-.94-2.06-.94-.94-2.06-.94 2.06-2.06.94z\"/><path d=\"M17.41 7.96l-1.37-1.37c-.4-.4-.92-.59-1.43-.59-.52 0-1.04.2-1.43.59L10.3 9.45l-7.72 7.72c-.78.78-.78 2.05 0 2.83L4 21.41c.39.39.9.59 1.41.59.51 0 1.02-.2 1.41-.59l7.78-7.78 2.81-2.81c.8-.78.8-2.07 0-2.86zM5.41 20L4 18.59l7.72-7.72 1.47 1.35L5.41 20z\"/>\n",
              "  </svg>\n",
              "      </button>\n",
              "      \n",
              "  <style>\n",
              "    .colab-df-container {\n",
              "      display:flex;\n",
              "      flex-wrap:wrap;\n",
              "      gap: 12px;\n",
              "    }\n",
              "\n",
              "    .colab-df-convert {\n",
              "      background-color: #E8F0FE;\n",
              "      border: none;\n",
              "      border-radius: 50%;\n",
              "      cursor: pointer;\n",
              "      display: none;\n",
              "      fill: #1967D2;\n",
              "      height: 32px;\n",
              "      padding: 0 0 0 0;\n",
              "      width: 32px;\n",
              "    }\n",
              "\n",
              "    .colab-df-convert:hover {\n",
              "      background-color: #E2EBFA;\n",
              "      box-shadow: 0px 1px 2px rgba(60, 64, 67, 0.3), 0px 1px 3px 1px rgba(60, 64, 67, 0.15);\n",
              "      fill: #174EA6;\n",
              "    }\n",
              "\n",
              "    [theme=dark] .colab-df-convert {\n",
              "      background-color: #3B4455;\n",
              "      fill: #D2E3FC;\n",
              "    }\n",
              "\n",
              "    [theme=dark] .colab-df-convert:hover {\n",
              "      background-color: #434B5C;\n",
              "      box-shadow: 0px 1px 3px 1px rgba(0, 0, 0, 0.15);\n",
              "      filter: drop-shadow(0px 1px 2px rgba(0, 0, 0, 0.3));\n",
              "      fill: #FFFFFF;\n",
              "    }\n",
              "  </style>\n",
              "\n",
              "      <script>\n",
              "        const buttonEl =\n",
              "          document.querySelector('#df-e2e7d61f-c313-4216-a0e5-5c6e30bc20d9 button.colab-df-convert');\n",
              "        buttonEl.style.display =\n",
              "          google.colab.kernel.accessAllowed ? 'block' : 'none';\n",
              "\n",
              "        async function convertToInteractive(key) {\n",
              "          const element = document.querySelector('#df-e2e7d61f-c313-4216-a0e5-5c6e30bc20d9');\n",
              "          const dataTable =\n",
              "            await google.colab.kernel.invokeFunction('convertToInteractive',\n",
              "                                                     [key], {});\n",
              "          if (!dataTable) return;\n",
              "\n",
              "          const docLinkHtml = 'Like what you see? Visit the ' +\n",
              "            '<a target=\"_blank\" href=https://colab.research.google.com/notebooks/data_table.ipynb>data table notebook</a>'\n",
              "            + ' to learn more about interactive tables.';\n",
              "          element.innerHTML = '';\n",
              "          dataTable['output_type'] = 'display_data';\n",
              "          await google.colab.output.renderOutput(dataTable, element);\n",
              "          const docLink = document.createElement('div');\n",
              "          docLink.innerHTML = docLinkHtml;\n",
              "          element.appendChild(docLink);\n",
              "        }\n",
              "      </script>\n",
              "    </div>\n",
              "  </div>\n",
              "  "
            ]
          },
          "metadata": {}
        }
      ]
    },
    {
      "cell_type": "markdown",
      "source": [
        "What happened to the total sales in 2021-12-01 ?? "
      ],
      "metadata": {
        "id": "tEDilElWZg9Z"
      }
    },
    {
      "cell_type": "code",
      "source": [
        "sales_df.drop('Time',axis=1,inplace=True)"
      ],
      "metadata": {
        "id": "db5LiyV3bmyg"
      },
      "execution_count": 47,
      "outputs": []
    },
    {
      "cell_type": "code",
      "source": [
        "def series_to_supervised(data, window=1, lag=1, dropnan=True):\n",
        "    cols, names = list(), list()\n",
        "    # Input sequence (t-n, ... t-1)\n",
        "    for i in range(window, 0, -1):\n",
        "        cols.append(data.shift(i))\n",
        "        names += [('%s(t-%d)' % (col, i)) for col in data.columns]\n",
        "    # Current timestep (t=0)\n",
        "    cols.append(data)\n",
        "    names += [('%s(t)' % (col)) for col in data.columns]\n",
        "    # Target timestep (t=lag)\n",
        "    cols.append(data.shift(-lag))\n",
        "    names += [('%s(t+%d)' % (col, lag)) for col in data.columns]\n",
        "    # Put it all together\n",
        "    agg = pd.concat(cols, axis=1)\n",
        "    agg.columns = names\n",
        "    # Drop rows with NaN values\n",
        "    if dropnan:\n",
        "        agg.dropna(inplace=True)\n",
        "    return agg"
      ],
      "metadata": {
        "id": "A7r94xZ0aqk8"
      },
      "execution_count": 48,
      "outputs": []
    },
    {
      "cell_type": "code",
      "source": [
        "window = 30\n",
        "lag = 60\n",
        "series = series_to_supervised(sales_df.drop('Datetime', axis=1), window=window, lag=lag)\n",
        "series.head()"
      ],
      "metadata": {
        "colab": {
          "base_uri": "https://localhost:8080/",
          "height": 314
        },
        "id": "8AzLljmkarWG",
        "outputId": "8e06fc35-fa70-45a7-f06a-dbc4f6f38910"
      },
      "execution_count": 49,
      "outputs": [
        {
          "output_type": "execute_result",
          "data": {
            "text/plain": [
              "    USDPrice(t-30)  USDPrice(t-29)  USDPrice(t-28)  USDPrice(t-27)  \\\n",
              "30      773.650000      897.470000      978.850000     3486.050000   \n",
              "31      897.470000      978.850000     3486.050000     1246.580000   \n",
              "32      978.850000     3486.050000     1246.580000     1922.620000   \n",
              "33     3486.050000     1246.580000     1922.620000      442.600000   \n",
              "34     1246.580000     1922.620000      442.600000     2589.260000   \n",
              "\n",
              "    USDPrice(t-26)  USDPrice(t-25)  USDPrice(t-24)  USDPrice(t-23)  \\\n",
              "30     1246.580000     1922.620000      442.600000     2589.260000   \n",
              "31     1922.620000      442.600000     2589.260000      458.070000   \n",
              "32      442.600000     2589.260000      458.070000       68.360000   \n",
              "33     2589.260000      458.070000       68.360000      212.140000   \n",
              "34      458.070000       68.360000      212.140000     3064.280000   \n",
              "\n",
              "    USDPrice(t-22)  USDPrice(t-21)  ...  USDPrice(t-8)  USDPrice(t-7)  \\\n",
              "30      458.070000       68.360000  ...    1234.010000     266.990000   \n",
              "31       68.360000      212.140000  ...     266.990000      45.120000   \n",
              "32      212.140000     3064.280000  ...      45.120000     948.840000   \n",
              "33     3064.280000      313.430000  ...     948.840000     616.300000   \n",
              "34      313.430000     2443.000000  ...     616.300000    4318.760000   \n",
              "\n",
              "    USDPrice(t-6)  USDPrice(t-5)  USDPrice(t-4)  USDPrice(t-3)  USDPrice(t-2)  \\\n",
              "30      45.120000     948.840000     616.300000    4318.760000    3234.170000   \n",
              "31     948.840000     616.300000    4318.760000    3234.170000     642.990000   \n",
              "32     616.300000    4318.760000    3234.170000     642.990000    2355.890000   \n",
              "33    4318.760000    3234.170000     642.990000    2355.890000      42.310000   \n",
              "34    3234.170000     642.990000    2355.890000      42.310000    1909.460000   \n",
              "\n",
              "    USDPrice(t-1)  USDPrice(t)  USDPrice(t+60)  \n",
              "30     642.990000  2355.890000    12764.490000  \n",
              "31    2355.890000    42.310000    14353.130000  \n",
              "32      42.310000  1909.460000     8185.480000  \n",
              "33    1909.460000    51.920000    17748.040000  \n",
              "34      51.920000  1045.020000    12493.570000  \n",
              "\n",
              "[5 rows x 32 columns]"
            ],
            "text/html": [
              "\n",
              "  <div id=\"df-99c6af15-9ef7-456e-83e2-fa64cbc58a9e\">\n",
              "    <div class=\"colab-df-container\">\n",
              "      <div>\n",
              "<style scoped>\n",
              "    .dataframe tbody tr th:only-of-type {\n",
              "        vertical-align: middle;\n",
              "    }\n",
              "\n",
              "    .dataframe tbody tr th {\n",
              "        vertical-align: top;\n",
              "    }\n",
              "\n",
              "    .dataframe thead th {\n",
              "        text-align: right;\n",
              "    }\n",
              "</style>\n",
              "<table border=\"1\" class=\"dataframe\">\n",
              "  <thead>\n",
              "    <tr style=\"text-align: right;\">\n",
              "      <th></th>\n",
              "      <th>USDPrice(t-30)</th>\n",
              "      <th>USDPrice(t-29)</th>\n",
              "      <th>USDPrice(t-28)</th>\n",
              "      <th>USDPrice(t-27)</th>\n",
              "      <th>USDPrice(t-26)</th>\n",
              "      <th>USDPrice(t-25)</th>\n",
              "      <th>USDPrice(t-24)</th>\n",
              "      <th>USDPrice(t-23)</th>\n",
              "      <th>USDPrice(t-22)</th>\n",
              "      <th>USDPrice(t-21)</th>\n",
              "      <th>...</th>\n",
              "      <th>USDPrice(t-8)</th>\n",
              "      <th>USDPrice(t-7)</th>\n",
              "      <th>USDPrice(t-6)</th>\n",
              "      <th>USDPrice(t-5)</th>\n",
              "      <th>USDPrice(t-4)</th>\n",
              "      <th>USDPrice(t-3)</th>\n",
              "      <th>USDPrice(t-2)</th>\n",
              "      <th>USDPrice(t-1)</th>\n",
              "      <th>USDPrice(t)</th>\n",
              "      <th>USDPrice(t+60)</th>\n",
              "    </tr>\n",
              "  </thead>\n",
              "  <tbody>\n",
              "    <tr>\n",
              "      <th>30</th>\n",
              "      <td>773.650000</td>\n",
              "      <td>897.470000</td>\n",
              "      <td>978.850000</td>\n",
              "      <td>3486.050000</td>\n",
              "      <td>1246.580000</td>\n",
              "      <td>1922.620000</td>\n",
              "      <td>442.600000</td>\n",
              "      <td>2589.260000</td>\n",
              "      <td>458.070000</td>\n",
              "      <td>68.360000</td>\n",
              "      <td>...</td>\n",
              "      <td>1234.010000</td>\n",
              "      <td>266.990000</td>\n",
              "      <td>45.120000</td>\n",
              "      <td>948.840000</td>\n",
              "      <td>616.300000</td>\n",
              "      <td>4318.760000</td>\n",
              "      <td>3234.170000</td>\n",
              "      <td>642.990000</td>\n",
              "      <td>2355.890000</td>\n",
              "      <td>12764.490000</td>\n",
              "    </tr>\n",
              "    <tr>\n",
              "      <th>31</th>\n",
              "      <td>897.470000</td>\n",
              "      <td>978.850000</td>\n",
              "      <td>3486.050000</td>\n",
              "      <td>1246.580000</td>\n",
              "      <td>1922.620000</td>\n",
              "      <td>442.600000</td>\n",
              "      <td>2589.260000</td>\n",
              "      <td>458.070000</td>\n",
              "      <td>68.360000</td>\n",
              "      <td>212.140000</td>\n",
              "      <td>...</td>\n",
              "      <td>266.990000</td>\n",
              "      <td>45.120000</td>\n",
              "      <td>948.840000</td>\n",
              "      <td>616.300000</td>\n",
              "      <td>4318.760000</td>\n",
              "      <td>3234.170000</td>\n",
              "      <td>642.990000</td>\n",
              "      <td>2355.890000</td>\n",
              "      <td>42.310000</td>\n",
              "      <td>14353.130000</td>\n",
              "    </tr>\n",
              "    <tr>\n",
              "      <th>32</th>\n",
              "      <td>978.850000</td>\n",
              "      <td>3486.050000</td>\n",
              "      <td>1246.580000</td>\n",
              "      <td>1922.620000</td>\n",
              "      <td>442.600000</td>\n",
              "      <td>2589.260000</td>\n",
              "      <td>458.070000</td>\n",
              "      <td>68.360000</td>\n",
              "      <td>212.140000</td>\n",
              "      <td>3064.280000</td>\n",
              "      <td>...</td>\n",
              "      <td>45.120000</td>\n",
              "      <td>948.840000</td>\n",
              "      <td>616.300000</td>\n",
              "      <td>4318.760000</td>\n",
              "      <td>3234.170000</td>\n",
              "      <td>642.990000</td>\n",
              "      <td>2355.890000</td>\n",
              "      <td>42.310000</td>\n",
              "      <td>1909.460000</td>\n",
              "      <td>8185.480000</td>\n",
              "    </tr>\n",
              "    <tr>\n",
              "      <th>33</th>\n",
              "      <td>3486.050000</td>\n",
              "      <td>1246.580000</td>\n",
              "      <td>1922.620000</td>\n",
              "      <td>442.600000</td>\n",
              "      <td>2589.260000</td>\n",
              "      <td>458.070000</td>\n",
              "      <td>68.360000</td>\n",
              "      <td>212.140000</td>\n",
              "      <td>3064.280000</td>\n",
              "      <td>313.430000</td>\n",
              "      <td>...</td>\n",
              "      <td>948.840000</td>\n",
              "      <td>616.300000</td>\n",
              "      <td>4318.760000</td>\n",
              "      <td>3234.170000</td>\n",
              "      <td>642.990000</td>\n",
              "      <td>2355.890000</td>\n",
              "      <td>42.310000</td>\n",
              "      <td>1909.460000</td>\n",
              "      <td>51.920000</td>\n",
              "      <td>17748.040000</td>\n",
              "    </tr>\n",
              "    <tr>\n",
              "      <th>34</th>\n",
              "      <td>1246.580000</td>\n",
              "      <td>1922.620000</td>\n",
              "      <td>442.600000</td>\n",
              "      <td>2589.260000</td>\n",
              "      <td>458.070000</td>\n",
              "      <td>68.360000</td>\n",
              "      <td>212.140000</td>\n",
              "      <td>3064.280000</td>\n",
              "      <td>313.430000</td>\n",
              "      <td>2443.000000</td>\n",
              "      <td>...</td>\n",
              "      <td>616.300000</td>\n",
              "      <td>4318.760000</td>\n",
              "      <td>3234.170000</td>\n",
              "      <td>642.990000</td>\n",
              "      <td>2355.890000</td>\n",
              "      <td>42.310000</td>\n",
              "      <td>1909.460000</td>\n",
              "      <td>51.920000</td>\n",
              "      <td>1045.020000</td>\n",
              "      <td>12493.570000</td>\n",
              "    </tr>\n",
              "  </tbody>\n",
              "</table>\n",
              "<p>5 rows × 32 columns</p>\n",
              "</div>\n",
              "      <button class=\"colab-df-convert\" onclick=\"convertToInteractive('df-99c6af15-9ef7-456e-83e2-fa64cbc58a9e')\"\n",
              "              title=\"Convert this dataframe to an interactive table.\"\n",
              "              style=\"display:none;\">\n",
              "        \n",
              "  <svg xmlns=\"http://www.w3.org/2000/svg\" height=\"24px\"viewBox=\"0 0 24 24\"\n",
              "       width=\"24px\">\n",
              "    <path d=\"M0 0h24v24H0V0z\" fill=\"none\"/>\n",
              "    <path d=\"M18.56 5.44l.94 2.06.94-2.06 2.06-.94-2.06-.94-.94-2.06-.94 2.06-2.06.94zm-11 1L8.5 8.5l.94-2.06 2.06-.94-2.06-.94L8.5 2.5l-.94 2.06-2.06.94zm10 10l.94 2.06.94-2.06 2.06-.94-2.06-.94-.94-2.06-.94 2.06-2.06.94z\"/><path d=\"M17.41 7.96l-1.37-1.37c-.4-.4-.92-.59-1.43-.59-.52 0-1.04.2-1.43.59L10.3 9.45l-7.72 7.72c-.78.78-.78 2.05 0 2.83L4 21.41c.39.39.9.59 1.41.59.51 0 1.02-.2 1.41-.59l7.78-7.78 2.81-2.81c.8-.78.8-2.07 0-2.86zM5.41 20L4 18.59l7.72-7.72 1.47 1.35L5.41 20z\"/>\n",
              "  </svg>\n",
              "      </button>\n",
              "      \n",
              "  <style>\n",
              "    .colab-df-container {\n",
              "      display:flex;\n",
              "      flex-wrap:wrap;\n",
              "      gap: 12px;\n",
              "    }\n",
              "\n",
              "    .colab-df-convert {\n",
              "      background-color: #E8F0FE;\n",
              "      border: none;\n",
              "      border-radius: 50%;\n",
              "      cursor: pointer;\n",
              "      display: none;\n",
              "      fill: #1967D2;\n",
              "      height: 32px;\n",
              "      padding: 0 0 0 0;\n",
              "      width: 32px;\n",
              "    }\n",
              "\n",
              "    .colab-df-convert:hover {\n",
              "      background-color: #E2EBFA;\n",
              "      box-shadow: 0px 1px 2px rgba(60, 64, 67, 0.3), 0px 1px 3px 1px rgba(60, 64, 67, 0.15);\n",
              "      fill: #174EA6;\n",
              "    }\n",
              "\n",
              "    [theme=dark] .colab-df-convert {\n",
              "      background-color: #3B4455;\n",
              "      fill: #D2E3FC;\n",
              "    }\n",
              "\n",
              "    [theme=dark] .colab-df-convert:hover {\n",
              "      background-color: #434B5C;\n",
              "      box-shadow: 0px 1px 3px 1px rgba(0, 0, 0, 0.15);\n",
              "      filter: drop-shadow(0px 1px 2px rgba(0, 0, 0, 0.3));\n",
              "      fill: #FFFFFF;\n",
              "    }\n",
              "  </style>\n",
              "\n",
              "      <script>\n",
              "        const buttonEl =\n",
              "          document.querySelector('#df-99c6af15-9ef7-456e-83e2-fa64cbc58a9e button.colab-df-convert');\n",
              "        buttonEl.style.display =\n",
              "          google.colab.kernel.accessAllowed ? 'block' : 'none';\n",
              "\n",
              "        async function convertToInteractive(key) {\n",
              "          const element = document.querySelector('#df-99c6af15-9ef7-456e-83e2-fa64cbc58a9e');\n",
              "          const dataTable =\n",
              "            await google.colab.kernel.invokeFunction('convertToInteractive',\n",
              "                                                     [key], {});\n",
              "          if (!dataTable) return;\n",
              "\n",
              "          const docLinkHtml = 'Like what you see? Visit the ' +\n",
              "            '<a target=\"_blank\" href=https://colab.research.google.com/notebooks/data_table.ipynb>data table notebook</a>'\n",
              "            + ' to learn more about interactive tables.';\n",
              "          element.innerHTML = '';\n",
              "          dataTable['output_type'] = 'display_data';\n",
              "          await google.colab.output.renderOutput(dataTable, element);\n",
              "          const docLink = document.createElement('div');\n",
              "          docLink.innerHTML = docLinkHtml;\n",
              "          element.appendChild(docLink);\n",
              "        }\n",
              "      </script>\n",
              "    </div>\n",
              "  </div>\n",
              "  "
            ]
          },
          "metadata": {},
          "execution_count": 49
        }
      ]
    },
    {
      "cell_type": "code",
      "source": [
        "from sklearn.model_selection import train_test_split\n",
        "\n",
        "lag_size= lag\n",
        "\n",
        "# Label\n",
        "labels_col = 'USDPrice(t+%d)' % lag_size\n",
        "labels = series[labels_col]\n",
        "series = series.drop(labels_col, axis=1)\n",
        "\n",
        "X_train, X_valid, Y_train, Y_valid = train_test_split(series, labels.values, test_size=0.4, random_state=0)\n",
        "print('Train set shape', X_train.shape)\n",
        "print('Validation set shape', X_valid.shape)\n",
        "X_train.head()"
      ],
      "metadata": {
        "colab": {
          "base_uri": "https://localhost:8080/",
          "height": 348
        },
        "id": "lr_qht7jbi3B",
        "outputId": "2bd858fc-cca4-44e3-f185-b6d94ace33ec"
      },
      "execution_count": 50,
      "outputs": [
        {
          "output_type": "stream",
          "name": "stdout",
          "text": [
            "Train set shape (595, 31)\n",
            "Validation set shape (398, 31)\n"
          ]
        },
        {
          "output_type": "execute_result",
          "data": {
            "text/plain": [
              "     USDPrice(t-30)  USDPrice(t-29)  USDPrice(t-28)  USDPrice(t-27)  \\\n",
              "526     3978.230000     5259.460000     5101.110000     5521.410000   \n",
              "902    56640.120000    46105.870000    45884.080000    45377.390000   \n",
              "615    40586.510000    28532.890000    28065.770000    31925.340000   \n",
              "420    16871.550000     3096.050000     6142.440000    14339.820000   \n",
              "622    26891.340000    43616.720000    37458.920000    50490.730000   \n",
              "\n",
              "     USDPrice(t-26)  USDPrice(t-25)  USDPrice(t-24)  USDPrice(t-23)  \\\n",
              "526     1850.720000     6757.140000     9063.520000    14728.940000   \n",
              "902    31968.810000    50524.920000    35071.470000    59124.200000   \n",
              "615    28368.230000    27456.520000    36760.990000    26891.340000   \n",
              "420    21635.220000    14365.010000    11681.560000    13325.970000   \n",
              "622    44713.400000    39494.030000    45530.870000    23822.300000   \n",
              "\n",
              "     USDPrice(t-22)  USDPrice(t-21)  ...  USDPrice(t-9)  USDPrice(t-8)  \\\n",
              "526     4742.640000     8048.290000  ...    5489.870000    2180.140000   \n",
              "902    66650.170000    47554.090000  ...   45852.040000   42232.110000   \n",
              "615    43616.720000    37458.920000  ...   41152.210000   42834.540000   \n",
              "420    13536.540000    19876.050000  ...   32540.770000   36928.010000   \n",
              "622    35982.080000    36959.990000  ...   28464.220000   30884.690000   \n",
              "\n",
              "     USDPrice(t-7)  USDPrice(t-6)  USDPrice(t-5)  USDPrice(t-4)  \\\n",
              "526    5654.460000   10942.010000   12686.270000   10776.000000   \n",
              "902   53193.760000   52833.430000   36891.300000   55772.880000   \n",
              "615   37652.990000   35512.780000   23751.100000   34862.390000   \n",
              "420   32365.000000   32294.650000   42521.290000   43495.290000   \n",
              "622   35226.870000   28048.680000   29778.820000   34356.820000   \n",
              "\n",
              "     USDPrice(t-3)  USDPrice(t-2)  USDPrice(t-1)  USDPrice(t)  \n",
              "526    2912.090000   11885.350000   12606.050000  7551.930000  \n",
              "902   37628.470000   45470.680000   44576.930000 33107.430000  \n",
              "615   26388.110000   28464.220000   30884.690000 35226.870000  \n",
              "420   29241.440000   25729.260000   26129.960000 12455.740000  \n",
              "622   25638.350000   23223.120000   25539.970000 35169.580000  \n",
              "\n",
              "[5 rows x 31 columns]"
            ],
            "text/html": [
              "\n",
              "  <div id=\"df-e07a23fa-aa7d-4efa-82de-72e336acdcf7\">\n",
              "    <div class=\"colab-df-container\">\n",
              "      <div>\n",
              "<style scoped>\n",
              "    .dataframe tbody tr th:only-of-type {\n",
              "        vertical-align: middle;\n",
              "    }\n",
              "\n",
              "    .dataframe tbody tr th {\n",
              "        vertical-align: top;\n",
              "    }\n",
              "\n",
              "    .dataframe thead th {\n",
              "        text-align: right;\n",
              "    }\n",
              "</style>\n",
              "<table border=\"1\" class=\"dataframe\">\n",
              "  <thead>\n",
              "    <tr style=\"text-align: right;\">\n",
              "      <th></th>\n",
              "      <th>USDPrice(t-30)</th>\n",
              "      <th>USDPrice(t-29)</th>\n",
              "      <th>USDPrice(t-28)</th>\n",
              "      <th>USDPrice(t-27)</th>\n",
              "      <th>USDPrice(t-26)</th>\n",
              "      <th>USDPrice(t-25)</th>\n",
              "      <th>USDPrice(t-24)</th>\n",
              "      <th>USDPrice(t-23)</th>\n",
              "      <th>USDPrice(t-22)</th>\n",
              "      <th>USDPrice(t-21)</th>\n",
              "      <th>...</th>\n",
              "      <th>USDPrice(t-9)</th>\n",
              "      <th>USDPrice(t-8)</th>\n",
              "      <th>USDPrice(t-7)</th>\n",
              "      <th>USDPrice(t-6)</th>\n",
              "      <th>USDPrice(t-5)</th>\n",
              "      <th>USDPrice(t-4)</th>\n",
              "      <th>USDPrice(t-3)</th>\n",
              "      <th>USDPrice(t-2)</th>\n",
              "      <th>USDPrice(t-1)</th>\n",
              "      <th>USDPrice(t)</th>\n",
              "    </tr>\n",
              "  </thead>\n",
              "  <tbody>\n",
              "    <tr>\n",
              "      <th>526</th>\n",
              "      <td>3978.230000</td>\n",
              "      <td>5259.460000</td>\n",
              "      <td>5101.110000</td>\n",
              "      <td>5521.410000</td>\n",
              "      <td>1850.720000</td>\n",
              "      <td>6757.140000</td>\n",
              "      <td>9063.520000</td>\n",
              "      <td>14728.940000</td>\n",
              "      <td>4742.640000</td>\n",
              "      <td>8048.290000</td>\n",
              "      <td>...</td>\n",
              "      <td>5489.870000</td>\n",
              "      <td>2180.140000</td>\n",
              "      <td>5654.460000</td>\n",
              "      <td>10942.010000</td>\n",
              "      <td>12686.270000</td>\n",
              "      <td>10776.000000</td>\n",
              "      <td>2912.090000</td>\n",
              "      <td>11885.350000</td>\n",
              "      <td>12606.050000</td>\n",
              "      <td>7551.930000</td>\n",
              "    </tr>\n",
              "    <tr>\n",
              "      <th>902</th>\n",
              "      <td>56640.120000</td>\n",
              "      <td>46105.870000</td>\n",
              "      <td>45884.080000</td>\n",
              "      <td>45377.390000</td>\n",
              "      <td>31968.810000</td>\n",
              "      <td>50524.920000</td>\n",
              "      <td>35071.470000</td>\n",
              "      <td>59124.200000</td>\n",
              "      <td>66650.170000</td>\n",
              "      <td>47554.090000</td>\n",
              "      <td>...</td>\n",
              "      <td>45852.040000</td>\n",
              "      <td>42232.110000</td>\n",
              "      <td>53193.760000</td>\n",
              "      <td>52833.430000</td>\n",
              "      <td>36891.300000</td>\n",
              "      <td>55772.880000</td>\n",
              "      <td>37628.470000</td>\n",
              "      <td>45470.680000</td>\n",
              "      <td>44576.930000</td>\n",
              "      <td>33107.430000</td>\n",
              "    </tr>\n",
              "    <tr>\n",
              "      <th>615</th>\n",
              "      <td>40586.510000</td>\n",
              "      <td>28532.890000</td>\n",
              "      <td>28065.770000</td>\n",
              "      <td>31925.340000</td>\n",
              "      <td>28368.230000</td>\n",
              "      <td>27456.520000</td>\n",
              "      <td>36760.990000</td>\n",
              "      <td>26891.340000</td>\n",
              "      <td>43616.720000</td>\n",
              "      <td>37458.920000</td>\n",
              "      <td>...</td>\n",
              "      <td>41152.210000</td>\n",
              "      <td>42834.540000</td>\n",
              "      <td>37652.990000</td>\n",
              "      <td>35512.780000</td>\n",
              "      <td>23751.100000</td>\n",
              "      <td>34862.390000</td>\n",
              "      <td>26388.110000</td>\n",
              "      <td>28464.220000</td>\n",
              "      <td>30884.690000</td>\n",
              "      <td>35226.870000</td>\n",
              "    </tr>\n",
              "    <tr>\n",
              "      <th>420</th>\n",
              "      <td>16871.550000</td>\n",
              "      <td>3096.050000</td>\n",
              "      <td>6142.440000</td>\n",
              "      <td>14339.820000</td>\n",
              "      <td>21635.220000</td>\n",
              "      <td>14365.010000</td>\n",
              "      <td>11681.560000</td>\n",
              "      <td>13325.970000</td>\n",
              "      <td>13536.540000</td>\n",
              "      <td>19876.050000</td>\n",
              "      <td>...</td>\n",
              "      <td>32540.770000</td>\n",
              "      <td>36928.010000</td>\n",
              "      <td>32365.000000</td>\n",
              "      <td>32294.650000</td>\n",
              "      <td>42521.290000</td>\n",
              "      <td>43495.290000</td>\n",
              "      <td>29241.440000</td>\n",
              "      <td>25729.260000</td>\n",
              "      <td>26129.960000</td>\n",
              "      <td>12455.740000</td>\n",
              "    </tr>\n",
              "    <tr>\n",
              "      <th>622</th>\n",
              "      <td>26891.340000</td>\n",
              "      <td>43616.720000</td>\n",
              "      <td>37458.920000</td>\n",
              "      <td>50490.730000</td>\n",
              "      <td>44713.400000</td>\n",
              "      <td>39494.030000</td>\n",
              "      <td>45530.870000</td>\n",
              "      <td>23822.300000</td>\n",
              "      <td>35982.080000</td>\n",
              "      <td>36959.990000</td>\n",
              "      <td>...</td>\n",
              "      <td>28464.220000</td>\n",
              "      <td>30884.690000</td>\n",
              "      <td>35226.870000</td>\n",
              "      <td>28048.680000</td>\n",
              "      <td>29778.820000</td>\n",
              "      <td>34356.820000</td>\n",
              "      <td>25638.350000</td>\n",
              "      <td>23223.120000</td>\n",
              "      <td>25539.970000</td>\n",
              "      <td>35169.580000</td>\n",
              "    </tr>\n",
              "  </tbody>\n",
              "</table>\n",
              "<p>5 rows × 31 columns</p>\n",
              "</div>\n",
              "      <button class=\"colab-df-convert\" onclick=\"convertToInteractive('df-e07a23fa-aa7d-4efa-82de-72e336acdcf7')\"\n",
              "              title=\"Convert this dataframe to an interactive table.\"\n",
              "              style=\"display:none;\">\n",
              "        \n",
              "  <svg xmlns=\"http://www.w3.org/2000/svg\" height=\"24px\"viewBox=\"0 0 24 24\"\n",
              "       width=\"24px\">\n",
              "    <path d=\"M0 0h24v24H0V0z\" fill=\"none\"/>\n",
              "    <path d=\"M18.56 5.44l.94 2.06.94-2.06 2.06-.94-2.06-.94-.94-2.06-.94 2.06-2.06.94zm-11 1L8.5 8.5l.94-2.06 2.06-.94-2.06-.94L8.5 2.5l-.94 2.06-2.06.94zm10 10l.94 2.06.94-2.06 2.06-.94-2.06-.94-.94-2.06-.94 2.06-2.06.94z\"/><path d=\"M17.41 7.96l-1.37-1.37c-.4-.4-.92-.59-1.43-.59-.52 0-1.04.2-1.43.59L10.3 9.45l-7.72 7.72c-.78.78-.78 2.05 0 2.83L4 21.41c.39.39.9.59 1.41.59.51 0 1.02-.2 1.41-.59l7.78-7.78 2.81-2.81c.8-.78.8-2.07 0-2.86zM5.41 20L4 18.59l7.72-7.72 1.47 1.35L5.41 20z\"/>\n",
              "  </svg>\n",
              "      </button>\n",
              "      \n",
              "  <style>\n",
              "    .colab-df-container {\n",
              "      display:flex;\n",
              "      flex-wrap:wrap;\n",
              "      gap: 12px;\n",
              "    }\n",
              "\n",
              "    .colab-df-convert {\n",
              "      background-color: #E8F0FE;\n",
              "      border: none;\n",
              "      border-radius: 50%;\n",
              "      cursor: pointer;\n",
              "      display: none;\n",
              "      fill: #1967D2;\n",
              "      height: 32px;\n",
              "      padding: 0 0 0 0;\n",
              "      width: 32px;\n",
              "    }\n",
              "\n",
              "    .colab-df-convert:hover {\n",
              "      background-color: #E2EBFA;\n",
              "      box-shadow: 0px 1px 2px rgba(60, 64, 67, 0.3), 0px 1px 3px 1px rgba(60, 64, 67, 0.15);\n",
              "      fill: #174EA6;\n",
              "    }\n",
              "\n",
              "    [theme=dark] .colab-df-convert {\n",
              "      background-color: #3B4455;\n",
              "      fill: #D2E3FC;\n",
              "    }\n",
              "\n",
              "    [theme=dark] .colab-df-convert:hover {\n",
              "      background-color: #434B5C;\n",
              "      box-shadow: 0px 1px 3px 1px rgba(0, 0, 0, 0.15);\n",
              "      filter: drop-shadow(0px 1px 2px rgba(0, 0, 0, 0.3));\n",
              "      fill: #FFFFFF;\n",
              "    }\n",
              "  </style>\n",
              "\n",
              "      <script>\n",
              "        const buttonEl =\n",
              "          document.querySelector('#df-e07a23fa-aa7d-4efa-82de-72e336acdcf7 button.colab-df-convert');\n",
              "        buttonEl.style.display =\n",
              "          google.colab.kernel.accessAllowed ? 'block' : 'none';\n",
              "\n",
              "        async function convertToInteractive(key) {\n",
              "          const element = document.querySelector('#df-e07a23fa-aa7d-4efa-82de-72e336acdcf7');\n",
              "          const dataTable =\n",
              "            await google.colab.kernel.invokeFunction('convertToInteractive',\n",
              "                                                     [key], {});\n",
              "          if (!dataTable) return;\n",
              "\n",
              "          const docLinkHtml = 'Like what you see? Visit the ' +\n",
              "            '<a target=\"_blank\" href=https://colab.research.google.com/notebooks/data_table.ipynb>data table notebook</a>'\n",
              "            + ' to learn more about interactive tables.';\n",
              "          element.innerHTML = '';\n",
              "          dataTable['output_type'] = 'display_data';\n",
              "          await google.colab.output.renderOutput(dataTable, element);\n",
              "          const docLink = document.createElement('div');\n",
              "          docLink.innerHTML = docLinkHtml;\n",
              "          element.appendChild(docLink);\n",
              "        }\n",
              "      </script>\n",
              "    </div>\n",
              "  </div>\n",
              "  "
            ]
          },
          "metadata": {},
          "execution_count": 50
        }
      ]
    },
    {
      "cell_type": "code",
      "source": [
        "from keras import optimizers\n",
        "from keras.utils import plot_model\n",
        "from keras.models import Sequential, Model\n",
        "from keras.layers.convolutional import Conv1D, MaxPooling1D\n",
        "from keras.layers import Dense, LSTM, RepeatVector, TimeDistributed, Flatten\n",
        "from sklearn.metrics import mean_squared_error"
      ],
      "metadata": {
        "id": "ZFOWpakQc-vf"
      },
      "execution_count": 51,
      "outputs": []
    },
    {
      "cell_type": "code",
      "source": [
        "X_train_series = X_train.values.reshape((X_train.shape[0], X_train.shape[1], 1))\n",
        "X_valid_series = X_valid.values.reshape((X_valid.shape[0], X_valid.shape[1], 1))\n",
        "print('Train set shape', X_train_series.shape)\n",
        "print('Validation set shape', X_valid_series.shape)"
      ],
      "metadata": {
        "id": "z6ceJb5Hb6Zz",
        "colab": {
          "base_uri": "https://localhost:8080/"
        },
        "outputId": "5915b0c4-fd1f-4b61-9b60-e7bcf967492d"
      },
      "execution_count": 52,
      "outputs": [
        {
          "output_type": "stream",
          "name": "stdout",
          "text": [
            "Train set shape (595, 31, 1)\n",
            "Validation set shape (398, 31, 1)\n"
          ]
        }
      ]
    },
    {
      "cell_type": "code",
      "source": [
        "epochs = 200\n",
        "batch = 65\n",
        "lr = 0.0005\n",
        "adam = optimizers.Adamax()"
      ],
      "metadata": {
        "id": "vSsD_dqGc05q"
      },
      "execution_count": 60,
      "outputs": []
    },
    {
      "cell_type": "code",
      "source": [
        "from tensorflow.keras.layers import Dropout\n",
        "\n",
        "model_lstm = Sequential()\n",
        "model_lstm.add(LSTM(165,activation='relu', input_shape=(X_train_series.shape[1], X_train_series.shape[2])))\n",
        "model_lstm.add(Dropout(0.5))\n",
        "model_lstm.add(Dense(56))\n",
        "model_lstm.add(Dropout(0.5))\n",
        "model_lstm.add(Dense(1))\n",
        "model_lstm.compile(loss='mae', optimizer=adam)\n",
        "model_lstm.summary()"
      ],
      "metadata": {
        "id": "MTb1cdf9c3Qy",
        "colab": {
          "base_uri": "https://localhost:8080/"
        },
        "outputId": "7ebac99b-a67d-4386-afc8-d6715d1e36bb"
      },
      "execution_count": 61,
      "outputs": [
        {
          "output_type": "stream",
          "name": "stdout",
          "text": [
            "Model: \"sequential_1\"\n",
            "_________________________________________________________________\n",
            " Layer (type)                Output Shape              Param #   \n",
            "=================================================================\n",
            " lstm_1 (LSTM)               (None, 165)               110220    \n",
            "                                                                 \n",
            " dropout_2 (Dropout)         (None, 165)               0         \n",
            "                                                                 \n",
            " dense_2 (Dense)             (None, 56)                9296      \n",
            "                                                                 \n",
            " dropout_3 (Dropout)         (None, 56)                0         \n",
            "                                                                 \n",
            " dense_3 (Dense)             (None, 1)                 57        \n",
            "                                                                 \n",
            "=================================================================\n",
            "Total params: 119,573\n",
            "Trainable params: 119,573\n",
            "Non-trainable params: 0\n",
            "_________________________________________________________________\n"
          ]
        }
      ]
    },
    {
      "cell_type": "code",
      "source": [
        "import tensorflow as tf\n",
        "\n",
        "callback = tf.keras.callbacks.EarlyStopping(monitor='loss', patience=10)\n",
        "\n",
        "lstm_history = model_lstm.fit(X_train_series, Y_train, validation_data=(X_valid_series, Y_valid), epochs=epochs, verbose=2, callbacks=[callback])"
      ],
      "metadata": {
        "id": "cQIXUWgYdFgo",
        "colab": {
          "base_uri": "https://localhost:8080/"
        },
        "outputId": "842d4a70-569a-4f26-ffbd-9ad005b2f4c2"
      },
      "execution_count": 62,
      "outputs": [
        {
          "output_type": "stream",
          "name": "stdout",
          "text": [
            "Epoch 1/200\n",
            "19/19 - 3s - loss: 27666.6484 - val_loss: 21837.3008 - 3s/epoch - 161ms/step\n",
            "Epoch 2/200\n",
            "19/19 - 1s - loss: 25796.4004 - val_loss: 19831.2520 - 1s/epoch - 62ms/step\n",
            "Epoch 3/200\n",
            "19/19 - 1s - loss: 23086.6934 - val_loss: 19044.6426 - 1s/epoch - 64ms/step\n",
            "Epoch 4/200\n",
            "19/19 - 1s - loss: 22510.3809 - val_loss: 16817.5469 - 1s/epoch - 61ms/step\n",
            "Epoch 5/200\n",
            "19/19 - 1s - loss: 20684.7090 - val_loss: 16932.7090 - 1s/epoch - 60ms/step\n",
            "Epoch 6/200\n",
            "19/19 - 1s - loss: 20618.0684 - val_loss: 16304.4307 - 1s/epoch - 60ms/step\n",
            "Epoch 7/200\n",
            "19/19 - 1s - loss: 20846.9707 - val_loss: 16934.6074 - 1s/epoch - 59ms/step\n",
            "Epoch 8/200\n",
            "19/19 - 1s - loss: 20883.9727 - val_loss: 16609.1738 - 1s/epoch - 59ms/step\n",
            "Epoch 9/200\n",
            "19/19 - 1s - loss: 18868.5977 - val_loss: 16383.5527 - 1s/epoch - 60ms/step\n",
            "Epoch 10/200\n",
            "19/19 - 1s - loss: 19307.8438 - val_loss: 16496.5859 - 1s/epoch - 60ms/step\n",
            "Epoch 11/200\n",
            "19/19 - 1s - loss: 20596.3613 - val_loss: 17058.8281 - 1s/epoch - 60ms/step\n",
            "Epoch 12/200\n",
            "19/19 - 1s - loss: 20763.0547 - val_loss: 16727.6055 - 1s/epoch - 58ms/step\n",
            "Epoch 13/200\n",
            "19/19 - 1s - loss: 19868.0176 - val_loss: 16287.9639 - 1s/epoch - 59ms/step\n",
            "Epoch 14/200\n",
            "19/19 - 1s - loss: 19358.0684 - val_loss: 16474.0254 - 1s/epoch - 58ms/step\n",
            "Epoch 15/200\n",
            "19/19 - 1s - loss: 19509.0488 - val_loss: 16510.7949 - 1s/epoch - 58ms/step\n",
            "Epoch 16/200\n",
            "19/19 - 1s - loss: 19136.1797 - val_loss: 16731.1270 - 1s/epoch - 62ms/step\n",
            "Epoch 17/200\n",
            "19/19 - 1s - loss: 19661.3125 - val_loss: 16740.6914 - 1s/epoch - 61ms/step\n",
            "Epoch 18/200\n",
            "19/19 - 1s - loss: 18864.7363 - val_loss: 16243.6104 - 1s/epoch - 61ms/step\n",
            "Epoch 19/200\n",
            "19/19 - 1s - loss: 18797.4473 - val_loss: 16279.8467 - 1s/epoch - 62ms/step\n",
            "Epoch 20/200\n",
            "19/19 - 1s - loss: 18979.5332 - val_loss: 16066.8105 - 1s/epoch - 61ms/step\n",
            "Epoch 21/200\n",
            "19/19 - 1s - loss: 18941.8613 - val_loss: 16411.9844 - 1s/epoch - 60ms/step\n",
            "Epoch 22/200\n",
            "19/19 - 1s - loss: 18655.2520 - val_loss: 16313.6436 - 1s/epoch - 64ms/step\n",
            "Epoch 23/200\n",
            "19/19 - 1s - loss: 20533.0762 - val_loss: 16554.3320 - 1s/epoch - 62ms/step\n",
            "Epoch 24/200\n",
            "19/19 - 1s - loss: 18972.9570 - val_loss: 16037.6709 - 1s/epoch - 61ms/step\n",
            "Epoch 25/200\n",
            "19/19 - 1s - loss: 18732.1816 - val_loss: 16213.0410 - 1s/epoch - 59ms/step\n",
            "Epoch 26/200\n",
            "19/19 - 1s - loss: 18073.8691 - val_loss: 16144.7676 - 1s/epoch - 58ms/step\n",
            "Epoch 27/200\n",
            "19/19 - 1s - loss: 19099.8730 - val_loss: 15955.2891 - 1s/epoch - 59ms/step\n",
            "Epoch 28/200\n",
            "19/19 - 1s - loss: 19088.1406 - val_loss: 15812.5117 - 1s/epoch - 63ms/step\n",
            "Epoch 29/200\n",
            "19/19 - 1s - loss: 19104.4551 - val_loss: 16116.4688 - 1s/epoch - 58ms/step\n",
            "Epoch 30/200\n",
            "19/19 - 1s - loss: 18359.5664 - val_loss: 16215.3115 - 1s/epoch - 58ms/step\n",
            "Epoch 31/200\n",
            "19/19 - 1s - loss: 19124.2031 - val_loss: 16207.5166 - 1s/epoch - 60ms/step\n",
            "Epoch 32/200\n",
            "19/19 - 1s - loss: 18302.0664 - val_loss: 15848.3730 - 1s/epoch - 57ms/step\n",
            "Epoch 33/200\n",
            "19/19 - 1s - loss: 17944.1797 - val_loss: 16455.6992 - 1s/epoch - 58ms/step\n",
            "Epoch 34/200\n",
            "19/19 - 1s - loss: 18786.9336 - val_loss: 16257.3506 - 1s/epoch - 58ms/step\n",
            "Epoch 35/200\n",
            "19/19 - 1s - loss: 17078.7090 - val_loss: 15757.8896 - 1s/epoch - 60ms/step\n",
            "Epoch 36/200\n",
            "19/19 - 1s - loss: 18078.0020 - val_loss: 15718.7715 - 1s/epoch - 62ms/step\n",
            "Epoch 37/200\n",
            "19/19 - 1s - loss: 18715.5488 - val_loss: 15863.7861 - 1s/epoch - 61ms/step\n",
            "Epoch 38/200\n",
            "19/19 - 1s - loss: 17497.8281 - val_loss: 15807.4600 - 1s/epoch - 62ms/step\n",
            "Epoch 39/200\n",
            "19/19 - 1s - loss: 18163.9707 - val_loss: 16187.6387 - 1s/epoch - 62ms/step\n",
            "Epoch 40/200\n",
            "19/19 - 1s - loss: 18068.6328 - val_loss: 15660.9912 - 1s/epoch - 62ms/step\n",
            "Epoch 41/200\n",
            "19/19 - 1s - loss: 18978.3047 - val_loss: 16175.9150 - 1s/epoch - 62ms/step\n",
            "Epoch 42/200\n",
            "19/19 - 1s - loss: 18377.1348 - val_loss: 15837.3164 - 1s/epoch - 63ms/step\n",
            "Epoch 43/200\n",
            "19/19 - 1s - loss: 18142.5566 - val_loss: 15955.7100 - 1s/epoch - 62ms/step\n",
            "Epoch 44/200\n",
            "19/19 - 1s - loss: 18924.7188 - val_loss: 15867.9512 - 1s/epoch - 61ms/step\n",
            "Epoch 45/200\n",
            "19/19 - 1s - loss: 18532.4453 - val_loss: 15970.9971 - 1s/epoch - 60ms/step\n"
          ]
        }
      ]
    },
    {
      "cell_type": "code",
      "source": [
        "plt.plot(lstm_history.history['loss'], label=\"Training loss\")\n",
        "plt.plot(lstm_history.history['val_loss'], label=\"Val loss\")\n",
        "plt.legend()"
      ],
      "metadata": {
        "colab": {
          "base_uri": "https://localhost:8080/",
          "height": 282
        },
        "id": "QkVxrwwIKPHC",
        "outputId": "19871c0d-a624-4267-b790-65e3f53b3012"
      },
      "execution_count": 63,
      "outputs": [
        {
          "output_type": "execute_result",
          "data": {
            "text/plain": [
              "<matplotlib.legend.Legend at 0x7fe7fd5264c0>"
            ]
          },
          "metadata": {},
          "execution_count": 63
        },
        {
          "output_type": "display_data",
          "data": {
            "text/plain": [
              "<Figure size 432x288 with 1 Axes>"
            ],
            "image/png": "[encoded data removed]"
          },
          "metadata": {
            "needs_background": "light"
          }
        }
      ]
    },
    {
      "cell_type": "code",
      "source": [
        "lstm_train_pred = model_lstm.predict(X_train_series)\n",
        "lstm_valid_pred = model_lstm.predict(X_valid_series)\n",
        "print('Train rmse:', np.sqrt(mean_squared_error(Y_train, lstm_train_pred)))\n",
        "print('Validation rmse:', np.sqrt(mean_squared_error(Y_valid, lstm_valid_pred)))"
      ],
      "metadata": {
        "id": "NVEBGAH9dIcd",
        "colab": {
          "base_uri": "https://localhost:8080/"
        },
        "outputId": "083b8fb6-9903-4af0-da3f-b253d7d7c9fc"
      },
      "execution_count": 64,
      "outputs": [
        {
          "output_type": "stream",
          "name": "stdout",
          "text": [
            "19/19 [==============================] - 1s 21ms/step\n",
            "13/13 [==============================] - 0s 22ms/step\n",
            "Train rmse: 24140.333065686962\n",
            "Validation rmse: 24824.678306919297\n"
          ]
        }
      ]
    },
    {
      "cell_type": "code",
      "source": [
        "length = len(lstm_valid_pred) "
      ],
      "metadata": {
        "id": "2Vv2DkOWyAxg"
      },
      "execution_count": 65,
      "outputs": []
    },
    {
      "cell_type": "code",
      "source": [
        "# importing the modules\n",
        "import numpy as np\n",
        "import matplotlib.pyplot as plt\n",
        " \n",
        "# data to be plotted\n",
        "x = np.arange(0, length)\n",
        "y1 = lstm_valid_pred[:length]\n",
        "y2 = Y_valid[:length]\n",
        "\n",
        "plt.figure(figsize=(30, 10))\n",
        "\n",
        "# plotting\n",
        "plt.title(\"Comparison plot\")\n",
        "plt.xlabel(\"Day\")\n",
        "plt.ylabel(\"Sale\")\n",
        "plt.plot(x, y1.reshape(-1), label = \"Predicted\")\n",
        "plt.plot(x, y2.reshape(-1), label = \"Original\")\n",
        "plt.legend()\n",
        "plt.show()"
      ],
      "metadata": {
        "id": "txwLv4Aqd7L1",
        "colab": {
          "base_uri": "https://localhost:8080/",
          "height": 333
        },
        "outputId": "ad76c1c5-7ae2-4ad1-9729-7fdf69e3da27"
      },
      "execution_count": 77,
      "outputs": [
        {
          "output_type": "display_data",
          "data": {
            "text/plain": [
              "<Figure size 2160x720 with 1 Axes>"
            ],
            "image/png": "[encoded data removed]"
          },
          "metadata": {
            "needs_background": "light"
          }
        }
      ]
    }
  ]
}