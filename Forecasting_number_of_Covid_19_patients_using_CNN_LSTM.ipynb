{
  "nbformat": 4,
  "nbformat_minor": 0,
  "metadata": {
    "colab": {
      "provenance": [],
      "toc_visible": true,
      "mount_file_id": "15hvwA_6oW_4uEVxLx4vK1bgKVdlt0IsD",
      "authorship_tag": "ABX9TyPmL1sXZiGeSZw0Syvnwrvp",
      "include_colab_link": true
    },
    "kernelspec": {
      "name": "python3",
      "display_name": "Python 3"
    },
    "language_info": {
      "name": "python"
    }
  },
  "cells": [
    {
      "cell_type": "markdown",
      "metadata": {
        "id": "view-in-github",
        "colab_type": "text"
      },
      "source": [
        "<a href=\"https://colab.research.google.com/github/risa1796/Forecasting-Regression-exercises/blob/main/Forecasting_number_of_Covid_19_patients_using_CNN_LSTM.ipynb\" target=\"_parent\"><img src=\"https://colab.research.google.com/assets/colab-badge.svg\" alt=\"Open In Colab\"/></a>"
      ]
    },
    {
      "cell_type": "markdown",
      "source": [
        "# Forecasting number of Covid-19 patients using CNN-LSTM"
      ],
      "metadata": {
        "id": "JviyEGGbYH4l"
      }
    },
    {
      "cell_type": "markdown",
      "source": [
        "Reference: https://colab.research.google.com/github/Pseudo-Lab/Tutorial-Book/blob/master/book/chapters/time-series/Ch5-CNN-LSTM.ipynb?authuser=2#scrollTo=t7IVkw-ErTn4"
      ],
      "metadata": {
        "id": "-FOh2VThYUGj"
      }
    },
    {
      "cell_type": "code",
      "execution_count": 176,
      "metadata": {
        "colab": {
          "base_uri": "https://localhost:8080/"
        },
        "id": "maftKULlWHpp",
        "outputId": "af2c4194-6d1b-4db6-85ae-f04463c6362a"
      },
      "outputs": [
        {
          "output_type": "stream",
          "name": "stdout",
          "text": [
            "/content/drive/MyDrive/딥러닝기초\n"
          ]
        }
      ],
      "source": [
        "%cd /content/drive/MyDrive/딥러닝기초"
      ]
    },
    {
      "cell_type": "markdown",
      "source": [
        "## Dependencies"
      ],
      "metadata": {
        "id": "5Lve-iuaYP7b"
      }
    },
    {
      "cell_type": "code",
      "source": [
        "import torch\n",
        "import os\n",
        "import numpy as np\n",
        "import pandas as pd\n",
        "from tqdm import tqdm\n",
        "import seaborn as sns\n",
        "from pylab import rcParams\n",
        "import matplotlib.pyplot as plt\n",
        "from matplotlib import rc\n",
        "from sklearn.preprocessing import MinMaxScaler\n",
        "from pandas.plotting import register_matplotlib_converters\n",
        "from torch import nn, optim\n",
        "\n",
        "%matplotlib inline\n",
        "%config InlineBackend.figure_format='retina'\n",
        "\n",
        "sns.set(style='whitegrid', palette='muted', font_scale=1.2)\n",
        "rcParams['figure.figsize'] = 14, 10\n",
        "register_matplotlib_converters()\n",
        "RANDOM_SEED = 42\n",
        "np.random.seed(RANDOM_SEED)\n",
        "torch.manual_seed(RANDOM_SEED)"
      ],
      "metadata": {
        "colab": {
          "base_uri": "https://localhost:8080/"
        },
        "id": "E0m0sKvYYNGf",
        "outputId": "3e1683fb-499c-40a5-99fa-350574ccb19b"
      },
      "execution_count": 177,
      "outputs": [
        {
          "output_type": "execute_result",
          "data": {
            "text/plain": [
              "<torch._C.Generator at 0x7f62c65b12f0>"
            ]
          },
          "metadata": {},
          "execution_count": 177
        }
      ]
    },
    {
      "cell_type": "markdown",
      "source": [
        "## Data Upload"
      ],
      "metadata": {
        "id": "ECsHuynLYa1a"
      }
    },
    {
      "cell_type": "code",
      "source": [
        "!git clone https://github.com/Pseudo-Lab/Tutorial-Book-Utils\n",
        "!python Tutorial-Book-Utils/PL_data_loader.py --data COVIDTimeSeries\n",
        "!unzip -q COVIDTimeSeries.zip"
      ],
      "metadata": {
        "colab": {
          "base_uri": "https://localhost:8080/"
        },
        "id": "vwOrnR7cYX_W",
        "outputId": "f5ad998f-ba84-43c4-fb18-8aa22fd5ef38"
      },
      "execution_count": 178,
      "outputs": [
        {
          "output_type": "stream",
          "name": "stdout",
          "text": [
            "fatal: destination path 'Tutorial-Book-Utils' already exists and is not an empty directory.\n",
            "Downloading...\n",
            "From: https://drive.google.com/uc?id=1B36Djko-f0LtVxSaBEVYosLTTsu0qtsh\n",
            "To: /content/drive/MyDrive/딥러닝기초/COVIDTimeSeries.zip\n",
            "100% 3.18M/3.18M [00:00<00:00, 143MB/s]\n",
            "COVIDTimeSeries.zip download complete!\n",
            "replace covid_19_data.csv? [y]es, [n]o, [A]ll, [N]one, [r]ename: n\n",
            "replace time_series_covid19_confirmed_global.csv? [y]es, [n]o, [A]ll, [N]one, [r]ename: n\n"
          ]
        }
      ]
    },
    {
      "cell_type": "code",
      "source": [
        "df = pd.read_csv('time_series_covid19_confirmed_global.csv')"
      ],
      "metadata": {
        "id": "B0OMIs7WYlYh"
      },
      "execution_count": 179,
      "outputs": []
    },
    {
      "cell_type": "code",
      "source": [
        "df.head()"
      ],
      "metadata": {
        "colab": {
          "base_uri": "https://localhost:8080/",
          "height": 297
        },
        "id": "t6S8Gz6mYy7D",
        "outputId": "421a498a-5fb0-43c3-c639-14c66bf679a5"
      },
      "execution_count": 180,
      "outputs": [
        {
          "output_type": "execute_result",
          "data": {
            "text/plain": [
              "  Province/State Country/Region       Lat       Long  1/22/20  1/23/20  \\\n",
              "0            NaN    Afghanistan  33.93911  67.709953        0        0   \n",
              "1            NaN        Albania  41.15330  20.168300        0        0   \n",
              "2            NaN        Algeria  28.03390   1.659600        0        0   \n",
              "3            NaN        Andorra  42.50630   1.521800        0        0   \n",
              "4            NaN         Angola -11.20270  17.873900        0        0   \n",
              "\n",
              "   1/24/20  1/25/20  1/26/20  1/27/20  ...  12/9/20  12/10/20  12/11/20  \\\n",
              "0        0        0        0        0  ...    47851     48053     48116   \n",
              "1        0        0        0        0  ...    45188     46061     46863   \n",
              "2        0        0        0        0  ...    90014     90579     91121   \n",
              "3        0        0        0        0  ...     7162      7190      7236   \n",
              "4        0        0        0        0  ...    15804     15925     16061   \n",
              "\n",
              "   12/12/20  12/13/20  12/14/20  12/15/20  12/16/20  12/17/20  12/18/20  \n",
              "0     48229     48527     48718     48952     49161     49378     49621  \n",
              "1     47742     48530     49191     50000     50637     51424     52004  \n",
              "2     91638     92102     92597     93065     93507     93933     94371  \n",
              "3      7288      7338      7382      7382      7446      7466      7519  \n",
              "4     16161     16188     16277     16362     16407     16484     16562  \n",
              "\n",
              "[5 rows x 336 columns]"
            ],
            "text/html": [
              "\n",
              "  <div id=\"df-02769a92-6703-42d1-9079-d0ebb5252b48\">\n",
              "    <div class=\"colab-df-container\">\n",
              "      <div>\n",
              "<style scoped>\n",
              "    .dataframe tbody tr th:only-of-type {\n",
              "        vertical-align: middle;\n",
              "    }\n",
              "\n",
              "    .dataframe tbody tr th {\n",
              "        vertical-align: top;\n",
              "    }\n",
              "\n",
              "    .dataframe thead th {\n",
              "        text-align: right;\n",
              "    }\n",
              "</style>\n",
              "<table border=\"1\" class=\"dataframe\">\n",
              "  <thead>\n",
              "    <tr style=\"text-align: right;\">\n",
              "      <th></th>\n",
              "      <th>Province/State</th>\n",
              "      <th>Country/Region</th>\n",
              "      <th>Lat</th>\n",
              "      <th>Long</th>\n",
              "      <th>1/22/20</th>\n",
              "      <th>1/23/20</th>\n",
              "      <th>1/24/20</th>\n",
              "      <th>1/25/20</th>\n",
              "      <th>1/26/20</th>\n",
              "      <th>1/27/20</th>\n",
              "      <th>...</th>\n",
              "      <th>12/9/20</th>\n",
              "      <th>12/10/20</th>\n",
              "      <th>12/11/20</th>\n",
              "      <th>12/12/20</th>\n",
              "      <th>12/13/20</th>\n",
              "      <th>12/14/20</th>\n",
              "      <th>12/15/20</th>\n",
              "      <th>12/16/20</th>\n",
              "      <th>12/17/20</th>\n",
              "      <th>12/18/20</th>\n",
              "    </tr>\n",
              "  </thead>\n",
              "  <tbody>\n",
              "    <tr>\n",
              "      <th>0</th>\n",
              "      <td>NaN</td>\n",
              "      <td>Afghanistan</td>\n",
              "      <td>33.93911</td>\n",
              "      <td>67.709953</td>\n",
              "      <td>0</td>\n",
              "      <td>0</td>\n",
              "      <td>0</td>\n",
              "      <td>0</td>\n",
              "      <td>0</td>\n",
              "      <td>0</td>\n",
              "      <td>...</td>\n",
              "      <td>47851</td>\n",
              "      <td>48053</td>\n",
              "      <td>48116</td>\n",
              "      <td>48229</td>\n",
              "      <td>48527</td>\n",
              "      <td>48718</td>\n",
              "      <td>48952</td>\n",
              "      <td>49161</td>\n",
              "      <td>49378</td>\n",
              "      <td>49621</td>\n",
              "    </tr>\n",
              "    <tr>\n",
              "      <th>1</th>\n",
              "      <td>NaN</td>\n",
              "      <td>Albania</td>\n",
              "      <td>41.15330</td>\n",
              "      <td>20.168300</td>\n",
              "      <td>0</td>\n",
              "      <td>0</td>\n",
              "      <td>0</td>\n",
              "      <td>0</td>\n",
              "      <td>0</td>\n",
              "      <td>0</td>\n",
              "      <td>...</td>\n",
              "      <td>45188</td>\n",
              "      <td>46061</td>\n",
              "      <td>46863</td>\n",
              "      <td>47742</td>\n",
              "      <td>48530</td>\n",
              "      <td>49191</td>\n",
              "      <td>50000</td>\n",
              "      <td>50637</td>\n",
              "      <td>51424</td>\n",
              "      <td>52004</td>\n",
              "    </tr>\n",
              "    <tr>\n",
              "      <th>2</th>\n",
              "      <td>NaN</td>\n",
              "      <td>Algeria</td>\n",
              "      <td>28.03390</td>\n",
              "      <td>1.659600</td>\n",
              "      <td>0</td>\n",
              "      <td>0</td>\n",
              "      <td>0</td>\n",
              "      <td>0</td>\n",
              "      <td>0</td>\n",
              "      <td>0</td>\n",
              "      <td>...</td>\n",
              "      <td>90014</td>\n",
              "      <td>90579</td>\n",
              "      <td>91121</td>\n",
              "      <td>91638</td>\n",
              "      <td>92102</td>\n",
              "      <td>92597</td>\n",
              "      <td>93065</td>\n",
              "      <td>93507</td>\n",
              "      <td>93933</td>\n",
              "      <td>94371</td>\n",
              "    </tr>\n",
              "    <tr>\n",
              "      <th>3</th>\n",
              "      <td>NaN</td>\n",
              "      <td>Andorra</td>\n",
              "      <td>42.50630</td>\n",
              "      <td>1.521800</td>\n",
              "      <td>0</td>\n",
              "      <td>0</td>\n",
              "      <td>0</td>\n",
              "      <td>0</td>\n",
              "      <td>0</td>\n",
              "      <td>0</td>\n",
              "      <td>...</td>\n",
              "      <td>7162</td>\n",
              "      <td>7190</td>\n",
              "      <td>7236</td>\n",
              "      <td>7288</td>\n",
              "      <td>7338</td>\n",
              "      <td>7382</td>\n",
              "      <td>7382</td>\n",
              "      <td>7446</td>\n",
              "      <td>7466</td>\n",
              "      <td>7519</td>\n",
              "    </tr>\n",
              "    <tr>\n",
              "      <th>4</th>\n",
              "      <td>NaN</td>\n",
              "      <td>Angola</td>\n",
              "      <td>-11.20270</td>\n",
              "      <td>17.873900</td>\n",
              "      <td>0</td>\n",
              "      <td>0</td>\n",
              "      <td>0</td>\n",
              "      <td>0</td>\n",
              "      <td>0</td>\n",
              "      <td>0</td>\n",
              "      <td>...</td>\n",
              "      <td>15804</td>\n",
              "      <td>15925</td>\n",
              "      <td>16061</td>\n",
              "      <td>16161</td>\n",
              "      <td>16188</td>\n",
              "      <td>16277</td>\n",
              "      <td>16362</td>\n",
              "      <td>16407</td>\n",
              "      <td>16484</td>\n",
              "      <td>16562</td>\n",
              "    </tr>\n",
              "  </tbody>\n",
              "</table>\n",
              "<p>5 rows × 336 columns</p>\n",
              "</div>\n",
              "      <button class=\"colab-df-convert\" onclick=\"convertToInteractive('df-02769a92-6703-42d1-9079-d0ebb5252b48')\"\n",
              "              title=\"Convert this dataframe to an interactive table.\"\n",
              "              style=\"display:none;\">\n",
              "        \n",
              "  <svg xmlns=\"http://www.w3.org/2000/svg\" height=\"24px\"viewBox=\"0 0 24 24\"\n",
              "       width=\"24px\">\n",
              "    <path d=\"M0 0h24v24H0V0z\" fill=\"none\"/>\n",
              "    <path d=\"M18.56 5.44l.94 2.06.94-2.06 2.06-.94-2.06-.94-.94-2.06-.94 2.06-2.06.94zm-11 1L8.5 8.5l.94-2.06 2.06-.94-2.06-.94L8.5 2.5l-.94 2.06-2.06.94zm10 10l.94 2.06.94-2.06 2.06-.94-2.06-.94-.94-2.06-.94 2.06-2.06.94z\"/><path d=\"M17.41 7.96l-1.37-1.37c-.4-.4-.92-.59-1.43-.59-.52 0-1.04.2-1.43.59L10.3 9.45l-7.72 7.72c-.78.78-.78 2.05 0 2.83L4 21.41c.39.39.9.59 1.41.59.51 0 1.02-.2 1.41-.59l7.78-7.78 2.81-2.81c.8-.78.8-2.07 0-2.86zM5.41 20L4 18.59l7.72-7.72 1.47 1.35L5.41 20z\"/>\n",
              "  </svg>\n",
              "      </button>\n",
              "      \n",
              "  <style>\n",
              "    .colab-df-container {\n",
              "      display:flex;\n",
              "      flex-wrap:wrap;\n",
              "      gap: 12px;\n",
              "    }\n",
              "\n",
              "    .colab-df-convert {\n",
              "      background-color: #E8F0FE;\n",
              "      border: none;\n",
              "      border-radius: 50%;\n",
              "      cursor: pointer;\n",
              "      display: none;\n",
              "      fill: #1967D2;\n",
              "      height: 32px;\n",
              "      padding: 0 0 0 0;\n",
              "      width: 32px;\n",
              "    }\n",
              "\n",
              "    .colab-df-convert:hover {\n",
              "      background-color: #E2EBFA;\n",
              "      box-shadow: 0px 1px 2px rgba(60, 64, 67, 0.3), 0px 1px 3px 1px rgba(60, 64, 67, 0.15);\n",
              "      fill: #174EA6;\n",
              "    }\n",
              "\n",
              "    [theme=dark] .colab-df-convert {\n",
              "      background-color: #3B4455;\n",
              "      fill: #D2E3FC;\n",
              "    }\n",
              "\n",
              "    [theme=dark] .colab-df-convert:hover {\n",
              "      background-color: #434B5C;\n",
              "      box-shadow: 0px 1px 3px 1px rgba(0, 0, 0, 0.15);\n",
              "      filter: drop-shadow(0px 1px 2px rgba(0, 0, 0, 0.3));\n",
              "      fill: #FFFFFF;\n",
              "    }\n",
              "  </style>\n",
              "\n",
              "      <script>\n",
              "        const buttonEl =\n",
              "          document.querySelector('#df-02769a92-6703-42d1-9079-d0ebb5252b48 button.colab-df-convert');\n",
              "        buttonEl.style.display =\n",
              "          google.colab.kernel.accessAllowed ? 'block' : 'none';\n",
              "\n",
              "        async function convertToInteractive(key) {\n",
              "          const element = document.querySelector('#df-02769a92-6703-42d1-9079-d0ebb5252b48');\n",
              "          const dataTable =\n",
              "            await google.colab.kernel.invokeFunction('convertToInteractive',\n",
              "                                                     [key], {});\n",
              "          if (!dataTable) return;\n",
              "\n",
              "          const docLinkHtml = 'Like what you see? Visit the ' +\n",
              "            '<a target=\"_blank\" href=https://colab.research.google.com/notebooks/data_table.ipynb>data table notebook</a>'\n",
              "            + ' to learn more about interactive tables.';\n",
              "          element.innerHTML = '';\n",
              "          dataTable['output_type'] = 'display_data';\n",
              "          await google.colab.output.renderOutput(dataTable, element);\n",
              "          const docLink = document.createElement('div');\n",
              "          docLink.innerHTML = docLinkHtml;\n",
              "          element.appendChild(docLink);\n",
              "        }\n",
              "      </script>\n",
              "    </div>\n",
              "  </div>\n",
              "  "
            ]
          },
          "metadata": {},
          "execution_count": 180
        }
      ]
    },
    {
      "cell_type": "code",
      "source": [
        "df['Country/Region'].unique()"
      ],
      "metadata": {
        "colab": {
          "base_uri": "https://localhost:8080/"
        },
        "id": "idH0M-mqYziv",
        "outputId": "f9c7a751-9a3a-45b2-c69b-75b1174f0646"
      },
      "execution_count": 181,
      "outputs": [
        {
          "output_type": "execute_result",
          "data": {
            "text/plain": [
              "array(['Afghanistan', 'Albania', 'Algeria', 'Andorra', 'Angola',\n",
              "       'Antigua and Barbuda', 'Argentina', 'Armenia', 'Australia',\n",
              "       'Austria', 'Azerbaijan', 'Bahamas', 'Bahrain', 'Bangladesh',\n",
              "       'Barbados', 'Belarus', 'Belgium', 'Belize', 'Benin', 'Bhutan',\n",
              "       'Bolivia', 'Bosnia and Herzegovina', 'Botswana', 'Brazil',\n",
              "       'Brunei', 'Bulgaria', 'Burkina Faso', 'Burma', 'Burundi',\n",
              "       'Cabo Verde', 'Cambodia', 'Cameroon', 'Canada',\n",
              "       'Central African Republic', 'Chad', 'Chile', 'China', 'Colombia',\n",
              "       'Comoros', 'Congo (Brazzaville)', 'Congo (Kinshasa)', 'Costa Rica',\n",
              "       \"Cote d'Ivoire\", 'Croatia', 'Cuba', 'Cyprus', 'Czechia', 'Denmark',\n",
              "       'Diamond Princess', 'Djibouti', 'Dominica', 'Dominican Republic',\n",
              "       'Ecuador', 'Egypt', 'El Salvador', 'Equatorial Guinea', 'Eritrea',\n",
              "       'Estonia', 'Eswatini', 'Ethiopia', 'Fiji', 'Finland', 'France',\n",
              "       'Gabon', 'Gambia', 'Georgia', 'Germany', 'Ghana', 'Greece',\n",
              "       'Grenada', 'Guatemala', 'Guinea', 'Guinea-Bissau', 'Guyana',\n",
              "       'Haiti', 'Holy See', 'Honduras', 'Hungary', 'Iceland', 'India',\n",
              "       'Indonesia', 'Iran', 'Iraq', 'Ireland', 'Israel', 'Italy',\n",
              "       'Jamaica', 'Japan', 'Jordan', 'Kazakhstan', 'Kenya',\n",
              "       'Korea, South', 'Kosovo', 'Kuwait', 'Kyrgyzstan', 'Laos', 'Latvia',\n",
              "       'Lebanon', 'Lesotho', 'Liberia', 'Libya', 'Liechtenstein',\n",
              "       'Lithuania', 'Luxembourg', 'MS Zaandam', 'Madagascar', 'Malawi',\n",
              "       'Malaysia', 'Maldives', 'Mali', 'Malta', 'Marshall Islands',\n",
              "       'Mauritania', 'Mauritius', 'Mexico', 'Moldova', 'Monaco',\n",
              "       'Mongolia', 'Montenegro', 'Morocco', 'Mozambique', 'Namibia',\n",
              "       'Nepal', 'Netherlands', 'New Zealand', 'Nicaragua', 'Niger',\n",
              "       'Nigeria', 'North Macedonia', 'Norway', 'Oman', 'Pakistan',\n",
              "       'Panama', 'Papua New Guinea', 'Paraguay', 'Peru', 'Philippines',\n",
              "       'Poland', 'Portugal', 'Qatar', 'Romania', 'Russia', 'Rwanda',\n",
              "       'Saint Kitts and Nevis', 'Saint Lucia',\n",
              "       'Saint Vincent and the Grenadines', 'Samoa', 'San Marino',\n",
              "       'Sao Tome and Principe', 'Saudi Arabia', 'Senegal', 'Serbia',\n",
              "       'Seychelles', 'Sierra Leone', 'Singapore', 'Slovakia', 'Slovenia',\n",
              "       'Solomon Islands', 'Somalia', 'South Africa', 'South Sudan',\n",
              "       'Spain', 'Sri Lanka', 'Sudan', 'Suriname', 'Sweden', 'Switzerland',\n",
              "       'Syria', 'Taiwan*', 'Tajikistan', 'Tanzania', 'Thailand',\n",
              "       'Timor-Leste', 'Togo', 'Trinidad and Tobago', 'Tunisia', 'Turkey',\n",
              "       'US', 'Uganda', 'Ukraine', 'United Arab Emirates',\n",
              "       'United Kingdom', 'Uruguay', 'Uzbekistan', 'Vanuatu', 'Venezuela',\n",
              "       'Vietnam', 'West Bank and Gaza', 'Yemen', 'Zambia', 'Zimbabwe'],\n",
              "      dtype=object)"
            ]
          },
          "metadata": {},
          "execution_count": 181
        }
      ]
    },
    {
      "cell_type": "markdown",
      "source": [
        "We will take Germany data points only."
      ],
      "metadata": {
        "id": "WL9n8sYUZOjI"
      }
    },
    {
      "cell_type": "code",
      "source": [
        "de_df = df[df['Country/Region']=='Korea, South']\n",
        "de_df.head()"
      ],
      "metadata": {
        "colab": {
          "base_uri": "https://localhost:8080/",
          "height": 173
        },
        "id": "rdBOQs0WY8ve",
        "outputId": "8e665b24-11ca-426a-cde4-d981eebd69cf"
      },
      "execution_count": 182,
      "outputs": [
        {
          "output_type": "execute_result",
          "data": {
            "text/plain": [
              "    Province/State Country/Region        Lat        Long  1/22/20  1/23/20  \\\n",
              "157            NaN   Korea, South  35.907757  127.766922        1        1   \n",
              "\n",
              "     1/24/20  1/25/20  1/26/20  1/27/20  ...  12/9/20  12/10/20  12/11/20  \\\n",
              "157        2        2        3        4  ...    40098     40786     41736   \n",
              "\n",
              "     12/12/20  12/13/20  12/14/20  12/15/20  12/16/20  12/17/20  12/18/20  \n",
              "157     42766     43484     44364     45442     46453     47515     48570  \n",
              "\n",
              "[1 rows x 336 columns]"
            ],
            "text/html": [
              "\n",
              "  <div id=\"df-f0269e84-69f0-43d5-b511-05f63266686c\">\n",
              "    <div class=\"colab-df-container\">\n",
              "      <div>\n",
              "<style scoped>\n",
              "    .dataframe tbody tr th:only-of-type {\n",
              "        vertical-align: middle;\n",
              "    }\n",
              "\n",
              "    .dataframe tbody tr th {\n",
              "        vertical-align: top;\n",
              "    }\n",
              "\n",
              "    .dataframe thead th {\n",
              "        text-align: right;\n",
              "    }\n",
              "</style>\n",
              "<table border=\"1\" class=\"dataframe\">\n",
              "  <thead>\n",
              "    <tr style=\"text-align: right;\">\n",
              "      <th></th>\n",
              "      <th>Province/State</th>\n",
              "      <th>Country/Region</th>\n",
              "      <th>Lat</th>\n",
              "      <th>Long</th>\n",
              "      <th>1/22/20</th>\n",
              "      <th>1/23/20</th>\n",
              "      <th>1/24/20</th>\n",
              "      <th>1/25/20</th>\n",
              "      <th>1/26/20</th>\n",
              "      <th>1/27/20</th>\n",
              "      <th>...</th>\n",
              "      <th>12/9/20</th>\n",
              "      <th>12/10/20</th>\n",
              "      <th>12/11/20</th>\n",
              "      <th>12/12/20</th>\n",
              "      <th>12/13/20</th>\n",
              "      <th>12/14/20</th>\n",
              "      <th>12/15/20</th>\n",
              "      <th>12/16/20</th>\n",
              "      <th>12/17/20</th>\n",
              "      <th>12/18/20</th>\n",
              "    </tr>\n",
              "  </thead>\n",
              "  <tbody>\n",
              "    <tr>\n",
              "      <th>157</th>\n",
              "      <td>NaN</td>\n",
              "      <td>Korea, South</td>\n",
              "      <td>35.907757</td>\n",
              "      <td>127.766922</td>\n",
              "      <td>1</td>\n",
              "      <td>1</td>\n",
              "      <td>2</td>\n",
              "      <td>2</td>\n",
              "      <td>3</td>\n",
              "      <td>4</td>\n",
              "      <td>...</td>\n",
              "      <td>40098</td>\n",
              "      <td>40786</td>\n",
              "      <td>41736</td>\n",
              "      <td>42766</td>\n",
              "      <td>43484</td>\n",
              "      <td>44364</td>\n",
              "      <td>45442</td>\n",
              "      <td>46453</td>\n",
              "      <td>47515</td>\n",
              "      <td>48570</td>\n",
              "    </tr>\n",
              "  </tbody>\n",
              "</table>\n",
              "<p>1 rows × 336 columns</p>\n",
              "</div>\n",
              "      <button class=\"colab-df-convert\" onclick=\"convertToInteractive('df-f0269e84-69f0-43d5-b511-05f63266686c')\"\n",
              "              title=\"Convert this dataframe to an interactive table.\"\n",
              "              style=\"display:none;\">\n",
              "        \n",
              "  <svg xmlns=\"http://www.w3.org/2000/svg\" height=\"24px\"viewBox=\"0 0 24 24\"\n",
              "       width=\"24px\">\n",
              "    <path d=\"M0 0h24v24H0V0z\" fill=\"none\"/>\n",
              "    <path d=\"M18.56 5.44l.94 2.06.94-2.06 2.06-.94-2.06-.94-.94-2.06-.94 2.06-2.06.94zm-11 1L8.5 8.5l.94-2.06 2.06-.94-2.06-.94L8.5 2.5l-.94 2.06-2.06.94zm10 10l.94 2.06.94-2.06 2.06-.94-2.06-.94-.94-2.06-.94 2.06-2.06.94z\"/><path d=\"M17.41 7.96l-1.37-1.37c-.4-.4-.92-.59-1.43-.59-.52 0-1.04.2-1.43.59L10.3 9.45l-7.72 7.72c-.78.78-.78 2.05 0 2.83L4 21.41c.39.39.9.59 1.41.59.51 0 1.02-.2 1.41-.59l7.78-7.78 2.81-2.81c.8-.78.8-2.07 0-2.86zM5.41 20L4 18.59l7.72-7.72 1.47 1.35L5.41 20z\"/>\n",
              "  </svg>\n",
              "      </button>\n",
              "      \n",
              "  <style>\n",
              "    .colab-df-container {\n",
              "      display:flex;\n",
              "      flex-wrap:wrap;\n",
              "      gap: 12px;\n",
              "    }\n",
              "\n",
              "    .colab-df-convert {\n",
              "      background-color: #E8F0FE;\n",
              "      border: none;\n",
              "      border-radius: 50%;\n",
              "      cursor: pointer;\n",
              "      display: none;\n",
              "      fill: #1967D2;\n",
              "      height: 32px;\n",
              "      padding: 0 0 0 0;\n",
              "      width: 32px;\n",
              "    }\n",
              "\n",
              "    .colab-df-convert:hover {\n",
              "      background-color: #E2EBFA;\n",
              "      box-shadow: 0px 1px 2px rgba(60, 64, 67, 0.3), 0px 1px 3px 1px rgba(60, 64, 67, 0.15);\n",
              "      fill: #174EA6;\n",
              "    }\n",
              "\n",
              "    [theme=dark] .colab-df-convert {\n",
              "      background-color: #3B4455;\n",
              "      fill: #D2E3FC;\n",
              "    }\n",
              "\n",
              "    [theme=dark] .colab-df-convert:hover {\n",
              "      background-color: #434B5C;\n",
              "      box-shadow: 0px 1px 3px 1px rgba(0, 0, 0, 0.15);\n",
              "      filter: drop-shadow(0px 1px 2px rgba(0, 0, 0, 0.3));\n",
              "      fill: #FFFFFF;\n",
              "    }\n",
              "  </style>\n",
              "\n",
              "      <script>\n",
              "        const buttonEl =\n",
              "          document.querySelector('#df-f0269e84-69f0-43d5-b511-05f63266686c button.colab-df-convert');\n",
              "        buttonEl.style.display =\n",
              "          google.colab.kernel.accessAllowed ? 'block' : 'none';\n",
              "\n",
              "        async function convertToInteractive(key) {\n",
              "          const element = document.querySelector('#df-f0269e84-69f0-43d5-b511-05f63266686c');\n",
              "          const dataTable =\n",
              "            await google.colab.kernel.invokeFunction('convertToInteractive',\n",
              "                                                     [key], {});\n",
              "          if (!dataTable) return;\n",
              "\n",
              "          const docLinkHtml = 'Like what you see? Visit the ' +\n",
              "            '<a target=\"_blank\" href=https://colab.research.google.com/notebooks/data_table.ipynb>data table notebook</a>'\n",
              "            + ' to learn more about interactive tables.';\n",
              "          element.innerHTML = '';\n",
              "          dataTable['output_type'] = 'display_data';\n",
              "          await google.colab.output.renderOutput(dataTable, element);\n",
              "          const docLink = document.createElement('div');\n",
              "          docLink.innerHTML = docLinkHtml;\n",
              "          element.appendChild(docLink);\n",
              "        }\n",
              "      </script>\n",
              "    </div>\n",
              "  </div>\n",
              "  "
            ]
          },
          "metadata": {},
          "execution_count": 182
        }
      ]
    },
    {
      "cell_type": "markdown",
      "source": [
        "We will get subdatframe containing only the columns with patient numbers."
      ],
      "metadata": {
        "id": "MNce1YA-ZqC2"
      }
    },
    {
      "cell_type": "markdown",
      "source": [
        "## Data Preprocessing"
      ],
      "metadata": {
        "id": "L6H7bSP7fufp"
      }
    },
    {
      "cell_type": "code",
      "source": [
        "de_dff = de_df.iloc[:,4:]\n",
        "de_dff.head()"
      ],
      "metadata": {
        "colab": {
          "base_uri": "https://localhost:8080/",
          "height": 173
        },
        "id": "WiCRRprlZZ4k",
        "outputId": "aff73d20-2433-409b-c4e8-6e0449dd7924"
      },
      "execution_count": 183,
      "outputs": [
        {
          "output_type": "execute_result",
          "data": {
            "text/plain": [
              "     1/22/20  1/23/20  1/24/20  1/25/20  1/26/20  1/27/20  1/28/20  1/29/20  \\\n",
              "157        1        1        2        2        3        4        4        4   \n",
              "\n",
              "     1/30/20  1/31/20  ...  12/9/20  12/10/20  12/11/20  12/12/20  12/13/20  \\\n",
              "157        4       11  ...    40098     40786     41736     42766     43484   \n",
              "\n",
              "     12/14/20  12/15/20  12/16/20  12/17/20  12/18/20  \n",
              "157     44364     45442     46453     47515     48570  \n",
              "\n",
              "[1 rows x 332 columns]"
            ],
            "text/html": [
              "\n",
              "  <div id=\"df-68f8a61a-56cd-4b1a-b63c-68c061966fee\">\n",
              "    <div class=\"colab-df-container\">\n",
              "      <div>\n",
              "<style scoped>\n",
              "    .dataframe tbody tr th:only-of-type {\n",
              "        vertical-align: middle;\n",
              "    }\n",
              "\n",
              "    .dataframe tbody tr th {\n",
              "        vertical-align: top;\n",
              "    }\n",
              "\n",
              "    .dataframe thead th {\n",
              "        text-align: right;\n",
              "    }\n",
              "</style>\n",
              "<table border=\"1\" class=\"dataframe\">\n",
              "  <thead>\n",
              "    <tr style=\"text-align: right;\">\n",
              "      <th></th>\n",
              "      <th>1/22/20</th>\n",
              "      <th>1/23/20</th>\n",
              "      <th>1/24/20</th>\n",
              "      <th>1/25/20</th>\n",
              "      <th>1/26/20</th>\n",
              "      <th>1/27/20</th>\n",
              "      <th>1/28/20</th>\n",
              "      <th>1/29/20</th>\n",
              "      <th>1/30/20</th>\n",
              "      <th>1/31/20</th>\n",
              "      <th>...</th>\n",
              "      <th>12/9/20</th>\n",
              "      <th>12/10/20</th>\n",
              "      <th>12/11/20</th>\n",
              "      <th>12/12/20</th>\n",
              "      <th>12/13/20</th>\n",
              "      <th>12/14/20</th>\n",
              "      <th>12/15/20</th>\n",
              "      <th>12/16/20</th>\n",
              "      <th>12/17/20</th>\n",
              "      <th>12/18/20</th>\n",
              "    </tr>\n",
              "  </thead>\n",
              "  <tbody>\n",
              "    <tr>\n",
              "      <th>157</th>\n",
              "      <td>1</td>\n",
              "      <td>1</td>\n",
              "      <td>2</td>\n",
              "      <td>2</td>\n",
              "      <td>3</td>\n",
              "      <td>4</td>\n",
              "      <td>4</td>\n",
              "      <td>4</td>\n",
              "      <td>4</td>\n",
              "      <td>11</td>\n",
              "      <td>...</td>\n",
              "      <td>40098</td>\n",
              "      <td>40786</td>\n",
              "      <td>41736</td>\n",
              "      <td>42766</td>\n",
              "      <td>43484</td>\n",
              "      <td>44364</td>\n",
              "      <td>45442</td>\n",
              "      <td>46453</td>\n",
              "      <td>47515</td>\n",
              "      <td>48570</td>\n",
              "    </tr>\n",
              "  </tbody>\n",
              "</table>\n",
              "<p>1 rows × 332 columns</p>\n",
              "</div>\n",
              "      <button class=\"colab-df-convert\" onclick=\"convertToInteractive('df-68f8a61a-56cd-4b1a-b63c-68c061966fee')\"\n",
              "              title=\"Convert this dataframe to an interactive table.\"\n",
              "              style=\"display:none;\">\n",
              "        \n",
              "  <svg xmlns=\"http://www.w3.org/2000/svg\" height=\"24px\"viewBox=\"0 0 24 24\"\n",
              "       width=\"24px\">\n",
              "    <path d=\"M0 0h24v24H0V0z\" fill=\"none\"/>\n",
              "    <path d=\"M18.56 5.44l.94 2.06.94-2.06 2.06-.94-2.06-.94-.94-2.06-.94 2.06-2.06.94zm-11 1L8.5 8.5l.94-2.06 2.06-.94-2.06-.94L8.5 2.5l-.94 2.06-2.06.94zm10 10l.94 2.06.94-2.06 2.06-.94-2.06-.94-.94-2.06-.94 2.06-2.06.94z\"/><path d=\"M17.41 7.96l-1.37-1.37c-.4-.4-.92-.59-1.43-.59-.52 0-1.04.2-1.43.59L10.3 9.45l-7.72 7.72c-.78.78-.78 2.05 0 2.83L4 21.41c.39.39.9.59 1.41.59.51 0 1.02-.2 1.41-.59l7.78-7.78 2.81-2.81c.8-.78.8-2.07 0-2.86zM5.41 20L4 18.59l7.72-7.72 1.47 1.35L5.41 20z\"/>\n",
              "  </svg>\n",
              "      </button>\n",
              "      \n",
              "  <style>\n",
              "    .colab-df-container {\n",
              "      display:flex;\n",
              "      flex-wrap:wrap;\n",
              "      gap: 12px;\n",
              "    }\n",
              "\n",
              "    .colab-df-convert {\n",
              "      background-color: #E8F0FE;\n",
              "      border: none;\n",
              "      border-radius: 50%;\n",
              "      cursor: pointer;\n",
              "      display: none;\n",
              "      fill: #1967D2;\n",
              "      height: 32px;\n",
              "      padding: 0 0 0 0;\n",
              "      width: 32px;\n",
              "    }\n",
              "\n",
              "    .colab-df-convert:hover {\n",
              "      background-color: #E2EBFA;\n",
              "      box-shadow: 0px 1px 2px rgba(60, 64, 67, 0.3), 0px 1px 3px 1px rgba(60, 64, 67, 0.15);\n",
              "      fill: #174EA6;\n",
              "    }\n",
              "\n",
              "    [theme=dark] .colab-df-convert {\n",
              "      background-color: #3B4455;\n",
              "      fill: #D2E3FC;\n",
              "    }\n",
              "\n",
              "    [theme=dark] .colab-df-convert:hover {\n",
              "      background-color: #434B5C;\n",
              "      box-shadow: 0px 1px 3px 1px rgba(0, 0, 0, 0.15);\n",
              "      filter: drop-shadow(0px 1px 2px rgba(0, 0, 0, 0.3));\n",
              "      fill: #FFFFFF;\n",
              "    }\n",
              "  </style>\n",
              "\n",
              "      <script>\n",
              "        const buttonEl =\n",
              "          document.querySelector('#df-68f8a61a-56cd-4b1a-b63c-68c061966fee button.colab-df-convert');\n",
              "        buttonEl.style.display =\n",
              "          google.colab.kernel.accessAllowed ? 'block' : 'none';\n",
              "\n",
              "        async function convertToInteractive(key) {\n",
              "          const element = document.querySelector('#df-68f8a61a-56cd-4b1a-b63c-68c061966fee');\n",
              "          const dataTable =\n",
              "            await google.colab.kernel.invokeFunction('convertToInteractive',\n",
              "                                                     [key], {});\n",
              "          if (!dataTable) return;\n",
              "\n",
              "          const docLinkHtml = 'Like what you see? Visit the ' +\n",
              "            '<a target=\"_blank\" href=https://colab.research.google.com/notebooks/data_table.ipynb>data table notebook</a>'\n",
              "            + ' to learn more about interactive tables.';\n",
              "          element.innerHTML = '';\n",
              "          dataTable['output_type'] = 'display_data';\n",
              "          await google.colab.output.renderOutput(dataTable, element);\n",
              "          const docLink = document.createElement('div');\n",
              "          docLink.innerHTML = docLinkHtml;\n",
              "          element.appendChild(docLink);\n",
              "        }\n",
              "      </script>\n",
              "    </div>\n",
              "  </div>\n",
              "  "
            ]
          },
          "metadata": {},
          "execution_count": 183
        }
      ]
    },
    {
      "cell_type": "markdown",
      "source": [
        "The date range is 1/22/20 - 12/18/20"
      ],
      "metadata": {
        "id": "cQ45K7D_aI9i"
      }
    },
    {
      "cell_type": "code",
      "source": [
        "dd = de_dff.columns\n",
        "print(len(dd),'days')"
      ],
      "metadata": {
        "colab": {
          "base_uri": "https://localhost:8080/"
        },
        "id": "oi-hCIqnaVL9",
        "outputId": "bac2864f-6ba4-4896-ef40-20042c7e9853"
      },
      "execution_count": 184,
      "outputs": [
        {
          "output_type": "stream",
          "name": "stdout",
          "text": [
            "332 days\n"
          ]
        }
      ]
    },
    {
      "cell_type": "code",
      "source": [
        "de_dffT = de_dff.T\n",
        "de_dffT"
      ],
      "metadata": {
        "colab": {
          "base_uri": "https://localhost:8080/",
          "height": 419
        },
        "id": "mpCs6souboz3",
        "outputId": "714215f7-25c7-4722-e929-41b762ee5d9e"
      },
      "execution_count": 185,
      "outputs": [
        {
          "output_type": "execute_result",
          "data": {
            "text/plain": [
              "            157\n",
              "1/22/20       1\n",
              "1/23/20       1\n",
              "1/24/20       2\n",
              "1/25/20       2\n",
              "1/26/20       3\n",
              "...         ...\n",
              "12/14/20  44364\n",
              "12/15/20  45442\n",
              "12/16/20  46453\n",
              "12/17/20  47515\n",
              "12/18/20  48570\n",
              "\n",
              "[332 rows x 1 columns]"
            ],
            "text/html": [
              "\n",
              "  <div id=\"df-8871c372-f57e-4cc5-9321-6a0a576fd71d\">\n",
              "    <div class=\"colab-df-container\">\n",
              "      <div>\n",
              "<style scoped>\n",
              "    .dataframe tbody tr th:only-of-type {\n",
              "        vertical-align: middle;\n",
              "    }\n",
              "\n",
              "    .dataframe tbody tr th {\n",
              "        vertical-align: top;\n",
              "    }\n",
              "\n",
              "    .dataframe thead th {\n",
              "        text-align: right;\n",
              "    }\n",
              "</style>\n",
              "<table border=\"1\" class=\"dataframe\">\n",
              "  <thead>\n",
              "    <tr style=\"text-align: right;\">\n",
              "      <th></th>\n",
              "      <th>157</th>\n",
              "    </tr>\n",
              "  </thead>\n",
              "  <tbody>\n",
              "    <tr>\n",
              "      <th>1/22/20</th>\n",
              "      <td>1</td>\n",
              "    </tr>\n",
              "    <tr>\n",
              "      <th>1/23/20</th>\n",
              "      <td>1</td>\n",
              "    </tr>\n",
              "    <tr>\n",
              "      <th>1/24/20</th>\n",
              "      <td>2</td>\n",
              "    </tr>\n",
              "    <tr>\n",
              "      <th>1/25/20</th>\n",
              "      <td>2</td>\n",
              "    </tr>\n",
              "    <tr>\n",
              "      <th>1/26/20</th>\n",
              "      <td>3</td>\n",
              "    </tr>\n",
              "    <tr>\n",
              "      <th>...</th>\n",
              "      <td>...</td>\n",
              "    </tr>\n",
              "    <tr>\n",
              "      <th>12/14/20</th>\n",
              "      <td>44364</td>\n",
              "    </tr>\n",
              "    <tr>\n",
              "      <th>12/15/20</th>\n",
              "      <td>45442</td>\n",
              "    </tr>\n",
              "    <tr>\n",
              "      <th>12/16/20</th>\n",
              "      <td>46453</td>\n",
              "    </tr>\n",
              "    <tr>\n",
              "      <th>12/17/20</th>\n",
              "      <td>47515</td>\n",
              "    </tr>\n",
              "    <tr>\n",
              "      <th>12/18/20</th>\n",
              "      <td>48570</td>\n",
              "    </tr>\n",
              "  </tbody>\n",
              "</table>\n",
              "<p>332 rows × 1 columns</p>\n",
              "</div>\n",
              "      <button class=\"colab-df-convert\" onclick=\"convertToInteractive('df-8871c372-f57e-4cc5-9321-6a0a576fd71d')\"\n",
              "              title=\"Convert this dataframe to an interactive table.\"\n",
              "              style=\"display:none;\">\n",
              "        \n",
              "  <svg xmlns=\"http://www.w3.org/2000/svg\" height=\"24px\"viewBox=\"0 0 24 24\"\n",
              "       width=\"24px\">\n",
              "    <path d=\"M0 0h24v24H0V0z\" fill=\"none\"/>\n",
              "    <path d=\"M18.56 5.44l.94 2.06.94-2.06 2.06-.94-2.06-.94-.94-2.06-.94 2.06-2.06.94zm-11 1L8.5 8.5l.94-2.06 2.06-.94-2.06-.94L8.5 2.5l-.94 2.06-2.06.94zm10 10l.94 2.06.94-2.06 2.06-.94-2.06-.94-.94-2.06-.94 2.06-2.06.94z\"/><path d=\"M17.41 7.96l-1.37-1.37c-.4-.4-.92-.59-1.43-.59-.52 0-1.04.2-1.43.59L10.3 9.45l-7.72 7.72c-.78.78-.78 2.05 0 2.83L4 21.41c.39.39.9.59 1.41.59.51 0 1.02-.2 1.41-.59l7.78-7.78 2.81-2.81c.8-.78.8-2.07 0-2.86zM5.41 20L4 18.59l7.72-7.72 1.47 1.35L5.41 20z\"/>\n",
              "  </svg>\n",
              "      </button>\n",
              "      \n",
              "  <style>\n",
              "    .colab-df-container {\n",
              "      display:flex;\n",
              "      flex-wrap:wrap;\n",
              "      gap: 12px;\n",
              "    }\n",
              "\n",
              "    .colab-df-convert {\n",
              "      background-color: #E8F0FE;\n",
              "      border: none;\n",
              "      border-radius: 50%;\n",
              "      cursor: pointer;\n",
              "      display: none;\n",
              "      fill: #1967D2;\n",
              "      height: 32px;\n",
              "      padding: 0 0 0 0;\n",
              "      width: 32px;\n",
              "    }\n",
              "\n",
              "    .colab-df-convert:hover {\n",
              "      background-color: #E2EBFA;\n",
              "      box-shadow: 0px 1px 2px rgba(60, 64, 67, 0.3), 0px 1px 3px 1px rgba(60, 64, 67, 0.15);\n",
              "      fill: #174EA6;\n",
              "    }\n",
              "\n",
              "    [theme=dark] .colab-df-convert {\n",
              "      background-color: #3B4455;\n",
              "      fill: #D2E3FC;\n",
              "    }\n",
              "\n",
              "    [theme=dark] .colab-df-convert:hover {\n",
              "      background-color: #434B5C;\n",
              "      box-shadow: 0px 1px 3px 1px rgba(0, 0, 0, 0.15);\n",
              "      filter: drop-shadow(0px 1px 2px rgba(0, 0, 0, 0.3));\n",
              "      fill: #FFFFFF;\n",
              "    }\n",
              "  </style>\n",
              "\n",
              "      <script>\n",
              "        const buttonEl =\n",
              "          document.querySelector('#df-8871c372-f57e-4cc5-9321-6a0a576fd71d button.colab-df-convert');\n",
              "        buttonEl.style.display =\n",
              "          google.colab.kernel.accessAllowed ? 'block' : 'none';\n",
              "\n",
              "        async function convertToInteractive(key) {\n",
              "          const element = document.querySelector('#df-8871c372-f57e-4cc5-9321-6a0a576fd71d');\n",
              "          const dataTable =\n",
              "            await google.colab.kernel.invokeFunction('convertToInteractive',\n",
              "                                                     [key], {});\n",
              "          if (!dataTable) return;\n",
              "\n",
              "          const docLinkHtml = 'Like what you see? Visit the ' +\n",
              "            '<a target=\"_blank\" href=https://colab.research.google.com/notebooks/data_table.ipynb>data table notebook</a>'\n",
              "            + ' to learn more about interactive tables.';\n",
              "          element.innerHTML = '';\n",
              "          dataTable['output_type'] = 'display_data';\n",
              "          await google.colab.output.renderOutput(dataTable, element);\n",
              "          const docLink = document.createElement('div');\n",
              "          docLink.innerHTML = docLinkHtml;\n",
              "          element.appendChild(docLink);\n",
              "        }\n",
              "      </script>\n",
              "    </div>\n",
              "  </div>\n",
              "  "
            ]
          },
          "metadata": {},
          "execution_count": 185
        }
      ]
    },
    {
      "cell_type": "markdown",
      "source": [
        "Change to date format"
      ],
      "metadata": {
        "id": "z66-Z1wDb5ML"
      }
    },
    {
      "cell_type": "code",
      "source": [
        "pd.to_datetime(de_dffT.index)"
      ],
      "metadata": {
        "colab": {
          "base_uri": "https://localhost:8080/"
        },
        "id": "6cgwK4ZubyAV",
        "outputId": "0cff7a5f-31db-4215-ea05-3704e22153ec"
      },
      "execution_count": 186,
      "outputs": [
        {
          "output_type": "execute_result",
          "data": {
            "text/plain": [
              "DatetimeIndex(['2020-01-22', '2020-01-23', '2020-01-24', '2020-01-25',\n",
              "               '2020-01-26', '2020-01-27', '2020-01-28', '2020-01-29',\n",
              "               '2020-01-30', '2020-01-31',\n",
              "               ...\n",
              "               '2020-12-09', '2020-12-10', '2020-12-11', '2020-12-12',\n",
              "               '2020-12-13', '2020-12-14', '2020-12-15', '2020-12-16',\n",
              "               '2020-12-17', '2020-12-18'],\n",
              "              dtype='datetime64[ns]', length=332, freq=None)"
            ]
          },
          "metadata": {},
          "execution_count": 186
        }
      ]
    },
    {
      "cell_type": "code",
      "source": [
        "de_dffT.index = pd.to_datetime(de_dffT.index)\n",
        "de_dffT"
      ],
      "metadata": {
        "colab": {
          "base_uri": "https://localhost:8080/",
          "height": 419
        },
        "id": "6BhqaoY3cAwJ",
        "outputId": "57c81dc4-7380-40fa-d41d-e88d2ce43166"
      },
      "execution_count": 187,
      "outputs": [
        {
          "output_type": "execute_result",
          "data": {
            "text/plain": [
              "              157\n",
              "2020-01-22      1\n",
              "2020-01-23      1\n",
              "2020-01-24      2\n",
              "2020-01-25      2\n",
              "2020-01-26      3\n",
              "...           ...\n",
              "2020-12-14  44364\n",
              "2020-12-15  45442\n",
              "2020-12-16  46453\n",
              "2020-12-17  47515\n",
              "2020-12-18  48570\n",
              "\n",
              "[332 rows x 1 columns]"
            ],
            "text/html": [
              "\n",
              "  <div id=\"df-e77d489a-ac33-4ce2-b0e3-c28529f5ceca\">\n",
              "    <div class=\"colab-df-container\">\n",
              "      <div>\n",
              "<style scoped>\n",
              "    .dataframe tbody tr th:only-of-type {\n",
              "        vertical-align: middle;\n",
              "    }\n",
              "\n",
              "    .dataframe tbody tr th {\n",
              "        vertical-align: top;\n",
              "    }\n",
              "\n",
              "    .dataframe thead th {\n",
              "        text-align: right;\n",
              "    }\n",
              "</style>\n",
              "<table border=\"1\" class=\"dataframe\">\n",
              "  <thead>\n",
              "    <tr style=\"text-align: right;\">\n",
              "      <th></th>\n",
              "      <th>157</th>\n",
              "    </tr>\n",
              "  </thead>\n",
              "  <tbody>\n",
              "    <tr>\n",
              "      <th>2020-01-22</th>\n",
              "      <td>1</td>\n",
              "    </tr>\n",
              "    <tr>\n",
              "      <th>2020-01-23</th>\n",
              "      <td>1</td>\n",
              "    </tr>\n",
              "    <tr>\n",
              "      <th>2020-01-24</th>\n",
              "      <td>2</td>\n",
              "    </tr>\n",
              "    <tr>\n",
              "      <th>2020-01-25</th>\n",
              "      <td>2</td>\n",
              "    </tr>\n",
              "    <tr>\n",
              "      <th>2020-01-26</th>\n",
              "      <td>3</td>\n",
              "    </tr>\n",
              "    <tr>\n",
              "      <th>...</th>\n",
              "      <td>...</td>\n",
              "    </tr>\n",
              "    <tr>\n",
              "      <th>2020-12-14</th>\n",
              "      <td>44364</td>\n",
              "    </tr>\n",
              "    <tr>\n",
              "      <th>2020-12-15</th>\n",
              "      <td>45442</td>\n",
              "    </tr>\n",
              "    <tr>\n",
              "      <th>2020-12-16</th>\n",
              "      <td>46453</td>\n",
              "    </tr>\n",
              "    <tr>\n",
              "      <th>2020-12-17</th>\n",
              "      <td>47515</td>\n",
              "    </tr>\n",
              "    <tr>\n",
              "      <th>2020-12-18</th>\n",
              "      <td>48570</td>\n",
              "    </tr>\n",
              "  </tbody>\n",
              "</table>\n",
              "<p>332 rows × 1 columns</p>\n",
              "</div>\n",
              "      <button class=\"colab-df-convert\" onclick=\"convertToInteractive('df-e77d489a-ac33-4ce2-b0e3-c28529f5ceca')\"\n",
              "              title=\"Convert this dataframe to an interactive table.\"\n",
              "              style=\"display:none;\">\n",
              "        \n",
              "  <svg xmlns=\"http://www.w3.org/2000/svg\" height=\"24px\"viewBox=\"0 0 24 24\"\n",
              "       width=\"24px\">\n",
              "    <path d=\"M0 0h24v24H0V0z\" fill=\"none\"/>\n",
              "    <path d=\"M18.56 5.44l.94 2.06.94-2.06 2.06-.94-2.06-.94-.94-2.06-.94 2.06-2.06.94zm-11 1L8.5 8.5l.94-2.06 2.06-.94-2.06-.94L8.5 2.5l-.94 2.06-2.06.94zm10 10l.94 2.06.94-2.06 2.06-.94-2.06-.94-.94-2.06-.94 2.06-2.06.94z\"/><path d=\"M17.41 7.96l-1.37-1.37c-.4-.4-.92-.59-1.43-.59-.52 0-1.04.2-1.43.59L10.3 9.45l-7.72 7.72c-.78.78-.78 2.05 0 2.83L4 21.41c.39.39.9.59 1.41.59.51 0 1.02-.2 1.41-.59l7.78-7.78 2.81-2.81c.8-.78.8-2.07 0-2.86zM5.41 20L4 18.59l7.72-7.72 1.47 1.35L5.41 20z\"/>\n",
              "  </svg>\n",
              "      </button>\n",
              "      \n",
              "  <style>\n",
              "    .colab-df-container {\n",
              "      display:flex;\n",
              "      flex-wrap:wrap;\n",
              "      gap: 12px;\n",
              "    }\n",
              "\n",
              "    .colab-df-convert {\n",
              "      background-color: #E8F0FE;\n",
              "      border: none;\n",
              "      border-radius: 50%;\n",
              "      cursor: pointer;\n",
              "      display: none;\n",
              "      fill: #1967D2;\n",
              "      height: 32px;\n",
              "      padding: 0 0 0 0;\n",
              "      width: 32px;\n",
              "    }\n",
              "\n",
              "    .colab-df-convert:hover {\n",
              "      background-color: #E2EBFA;\n",
              "      box-shadow: 0px 1px 2px rgba(60, 64, 67, 0.3), 0px 1px 3px 1px rgba(60, 64, 67, 0.15);\n",
              "      fill: #174EA6;\n",
              "    }\n",
              "\n",
              "    [theme=dark] .colab-df-convert {\n",
              "      background-color: #3B4455;\n",
              "      fill: #D2E3FC;\n",
              "    }\n",
              "\n",
              "    [theme=dark] .colab-df-convert:hover {\n",
              "      background-color: #434B5C;\n",
              "      box-shadow: 0px 1px 3px 1px rgba(0, 0, 0, 0.15);\n",
              "      filter: drop-shadow(0px 1px 2px rgba(0, 0, 0, 0.3));\n",
              "      fill: #FFFFFF;\n",
              "    }\n",
              "  </style>\n",
              "\n",
              "      <script>\n",
              "        const buttonEl =\n",
              "          document.querySelector('#df-e77d489a-ac33-4ce2-b0e3-c28529f5ceca button.colab-df-convert');\n",
              "        buttonEl.style.display =\n",
              "          google.colab.kernel.accessAllowed ? 'block' : 'none';\n",
              "\n",
              "        async function convertToInteractive(key) {\n",
              "          const element = document.querySelector('#df-e77d489a-ac33-4ce2-b0e3-c28529f5ceca');\n",
              "          const dataTable =\n",
              "            await google.colab.kernel.invokeFunction('convertToInteractive',\n",
              "                                                     [key], {});\n",
              "          if (!dataTable) return;\n",
              "\n",
              "          const docLinkHtml = 'Like what you see? Visit the ' +\n",
              "            '<a target=\"_blank\" href=https://colab.research.google.com/notebooks/data_table.ipynb>data table notebook</a>'\n",
              "            + ' to learn more about interactive tables.';\n",
              "          element.innerHTML = '';\n",
              "          dataTable['output_type'] = 'display_data';\n",
              "          await google.colab.output.renderOutput(dataTable, element);\n",
              "          const docLink = document.createElement('div');\n",
              "          docLink.innerHTML = docLinkHtml;\n",
              "          element.appendChild(docLink);\n",
              "        }\n",
              "      </script>\n",
              "    </div>\n",
              "  </div>\n",
              "  "
            ]
          },
          "metadata": {},
          "execution_count": 187
        }
      ]
    },
    {
      "cell_type": "markdown",
      "source": [
        "> .diff()\n",
        "\n",
        "Calculates the difference of a DataFrame element compared with another element in the DataFrame (default is element in previous row)."
      ],
      "metadata": {
        "id": "kupqFjA0c1ad"
      }
    },
    {
      "cell_type": "code",
      "source": [
        "daily_cases = de_dffT.diff().fillna(de_dffT.iloc[0]).astype('int')\n",
        "daily_cases"
      ],
      "metadata": {
        "colab": {
          "base_uri": "https://localhost:8080/",
          "height": 419
        },
        "id": "bv-qmQuMZpSe",
        "outputId": "c219e42b-7911-4845-9210-92b6c33cf3ba"
      },
      "execution_count": 188,
      "outputs": [
        {
          "output_type": "execute_result",
          "data": {
            "text/plain": [
              "             157\n",
              "2020-01-22     1\n",
              "2020-01-23     0\n",
              "2020-01-24     1\n",
              "2020-01-25     0\n",
              "2020-01-26     1\n",
              "...          ...\n",
              "2020-12-14   880\n",
              "2020-12-15  1078\n",
              "2020-12-16  1011\n",
              "2020-12-17  1062\n",
              "2020-12-18  1055\n",
              "\n",
              "[332 rows x 1 columns]"
            ],
            "text/html": [
              "\n",
              "  <div id=\"df-55069e12-22aa-4d17-834f-6df71a74c2f5\">\n",
              "    <div class=\"colab-df-container\">\n",
              "      <div>\n",
              "<style scoped>\n",
              "    .dataframe tbody tr th:only-of-type {\n",
              "        vertical-align: middle;\n",
              "    }\n",
              "\n",
              "    .dataframe tbody tr th {\n",
              "        vertical-align: top;\n",
              "    }\n",
              "\n",
              "    .dataframe thead th {\n",
              "        text-align: right;\n",
              "    }\n",
              "</style>\n",
              "<table border=\"1\" class=\"dataframe\">\n",
              "  <thead>\n",
              "    <tr style=\"text-align: right;\">\n",
              "      <th></th>\n",
              "      <th>157</th>\n",
              "    </tr>\n",
              "  </thead>\n",
              "  <tbody>\n",
              "    <tr>\n",
              "      <th>2020-01-22</th>\n",
              "      <td>1</td>\n",
              "    </tr>\n",
              "    <tr>\n",
              "      <th>2020-01-23</th>\n",
              "      <td>0</td>\n",
              "    </tr>\n",
              "    <tr>\n",
              "      <th>2020-01-24</th>\n",
              "      <td>1</td>\n",
              "    </tr>\n",
              "    <tr>\n",
              "      <th>2020-01-25</th>\n",
              "      <td>0</td>\n",
              "    </tr>\n",
              "    <tr>\n",
              "      <th>2020-01-26</th>\n",
              "      <td>1</td>\n",
              "    </tr>\n",
              "    <tr>\n",
              "      <th>...</th>\n",
              "      <td>...</td>\n",
              "    </tr>\n",
              "    <tr>\n",
              "      <th>2020-12-14</th>\n",
              "      <td>880</td>\n",
              "    </tr>\n",
              "    <tr>\n",
              "      <th>2020-12-15</th>\n",
              "      <td>1078</td>\n",
              "    </tr>\n",
              "    <tr>\n",
              "      <th>2020-12-16</th>\n",
              "      <td>1011</td>\n",
              "    </tr>\n",
              "    <tr>\n",
              "      <th>2020-12-17</th>\n",
              "      <td>1062</td>\n",
              "    </tr>\n",
              "    <tr>\n",
              "      <th>2020-12-18</th>\n",
              "      <td>1055</td>\n",
              "    </tr>\n",
              "  </tbody>\n",
              "</table>\n",
              "<p>332 rows × 1 columns</p>\n",
              "</div>\n",
              "      <button class=\"colab-df-convert\" onclick=\"convertToInteractive('df-55069e12-22aa-4d17-834f-6df71a74c2f5')\"\n",
              "              title=\"Convert this dataframe to an interactive table.\"\n",
              "              style=\"display:none;\">\n",
              "        \n",
              "  <svg xmlns=\"http://www.w3.org/2000/svg\" height=\"24px\"viewBox=\"0 0 24 24\"\n",
              "       width=\"24px\">\n",
              "    <path d=\"M0 0h24v24H0V0z\" fill=\"none\"/>\n",
              "    <path d=\"M18.56 5.44l.94 2.06.94-2.06 2.06-.94-2.06-.94-.94-2.06-.94 2.06-2.06.94zm-11 1L8.5 8.5l.94-2.06 2.06-.94-2.06-.94L8.5 2.5l-.94 2.06-2.06.94zm10 10l.94 2.06.94-2.06 2.06-.94-2.06-.94-.94-2.06-.94 2.06-2.06.94z\"/><path d=\"M17.41 7.96l-1.37-1.37c-.4-.4-.92-.59-1.43-.59-.52 0-1.04.2-1.43.59L10.3 9.45l-7.72 7.72c-.78.78-.78 2.05 0 2.83L4 21.41c.39.39.9.59 1.41.59.51 0 1.02-.2 1.41-.59l7.78-7.78 2.81-2.81c.8-.78.8-2.07 0-2.86zM5.41 20L4 18.59l7.72-7.72 1.47 1.35L5.41 20z\"/>\n",
              "  </svg>\n",
              "      </button>\n",
              "      \n",
              "  <style>\n",
              "    .colab-df-container {\n",
              "      display:flex;\n",
              "      flex-wrap:wrap;\n",
              "      gap: 12px;\n",
              "    }\n",
              "\n",
              "    .colab-df-convert {\n",
              "      background-color: #E8F0FE;\n",
              "      border: none;\n",
              "      border-radius: 50%;\n",
              "      cursor: pointer;\n",
              "      display: none;\n",
              "      fill: #1967D2;\n",
              "      height: 32px;\n",
              "      padding: 0 0 0 0;\n",
              "      width: 32px;\n",
              "    }\n",
              "\n",
              "    .colab-df-convert:hover {\n",
              "      background-color: #E2EBFA;\n",
              "      box-shadow: 0px 1px 2px rgba(60, 64, 67, 0.3), 0px 1px 3px 1px rgba(60, 64, 67, 0.15);\n",
              "      fill: #174EA6;\n",
              "    }\n",
              "\n",
              "    [theme=dark] .colab-df-convert {\n",
              "      background-color: #3B4455;\n",
              "      fill: #D2E3FC;\n",
              "    }\n",
              "\n",
              "    [theme=dark] .colab-df-convert:hover {\n",
              "      background-color: #434B5C;\n",
              "      box-shadow: 0px 1px 3px 1px rgba(0, 0, 0, 0.15);\n",
              "      filter: drop-shadow(0px 1px 2px rgba(0, 0, 0, 0.3));\n",
              "      fill: #FFFFFF;\n",
              "    }\n",
              "  </style>\n",
              "\n",
              "      <script>\n",
              "        const buttonEl =\n",
              "          document.querySelector('#df-55069e12-22aa-4d17-834f-6df71a74c2f5 button.colab-df-convert');\n",
              "        buttonEl.style.display =\n",
              "          google.colab.kernel.accessAllowed ? 'block' : 'none';\n",
              "\n",
              "        async function convertToInteractive(key) {\n",
              "          const element = document.querySelector('#df-55069e12-22aa-4d17-834f-6df71a74c2f5');\n",
              "          const dataTable =\n",
              "            await google.colab.kernel.invokeFunction('convertToInteractive',\n",
              "                                                     [key], {});\n",
              "          if (!dataTable) return;\n",
              "\n",
              "          const docLinkHtml = 'Like what you see? Visit the ' +\n",
              "            '<a target=\"_blank\" href=https://colab.research.google.com/notebooks/data_table.ipynb>data table notebook</a>'\n",
              "            + ' to learn more about interactive tables.';\n",
              "          element.innerHTML = '';\n",
              "          dataTable['output_type'] = 'display_data';\n",
              "          await google.colab.output.renderOutput(dataTable, element);\n",
              "          const docLink = document.createElement('div');\n",
              "          docLink.innerHTML = docLinkHtml;\n",
              "          element.appendChild(docLink);\n",
              "        }\n",
              "      </script>\n",
              "    </div>\n",
              "  </div>\n",
              "  "
            ]
          },
          "metadata": {},
          "execution_count": 188
        }
      ]
    },
    {
      "cell_type": "code",
      "source": [
        "daily_cases[:10]"
      ],
      "metadata": {
        "colab": {
          "base_uri": "https://localhost:8080/",
          "height": 359
        },
        "id": "xxxBMDBxdnWQ",
        "outputId": "c79b4756-68fa-4029-eecb-0a6b3aa52fb1"
      },
      "execution_count": 189,
      "outputs": [
        {
          "output_type": "execute_result",
          "data": {
            "text/plain": [
              "            157\n",
              "2020-01-22    1\n",
              "2020-01-23    0\n",
              "2020-01-24    1\n",
              "2020-01-25    0\n",
              "2020-01-26    1\n",
              "2020-01-27    1\n",
              "2020-01-28    0\n",
              "2020-01-29    0\n",
              "2020-01-30    0\n",
              "2020-01-31    7"
            ],
            "text/html": [
              "\n",
              "  <div id=\"df-1d1a532b-8a27-4979-9ed3-05656af5c0fa\">\n",
              "    <div class=\"colab-df-container\">\n",
              "      <div>\n",
              "<style scoped>\n",
              "    .dataframe tbody tr th:only-of-type {\n",
              "        vertical-align: middle;\n",
              "    }\n",
              "\n",
              "    .dataframe tbody tr th {\n",
              "        vertical-align: top;\n",
              "    }\n",
              "\n",
              "    .dataframe thead th {\n",
              "        text-align: right;\n",
              "    }\n",
              "</style>\n",
              "<table border=\"1\" class=\"dataframe\">\n",
              "  <thead>\n",
              "    <tr style=\"text-align: right;\">\n",
              "      <th></th>\n",
              "      <th>157</th>\n",
              "    </tr>\n",
              "  </thead>\n",
              "  <tbody>\n",
              "    <tr>\n",
              "      <th>2020-01-22</th>\n",
              "      <td>1</td>\n",
              "    </tr>\n",
              "    <tr>\n",
              "      <th>2020-01-23</th>\n",
              "      <td>0</td>\n",
              "    </tr>\n",
              "    <tr>\n",
              "      <th>2020-01-24</th>\n",
              "      <td>1</td>\n",
              "    </tr>\n",
              "    <tr>\n",
              "      <th>2020-01-25</th>\n",
              "      <td>0</td>\n",
              "    </tr>\n",
              "    <tr>\n",
              "      <th>2020-01-26</th>\n",
              "      <td>1</td>\n",
              "    </tr>\n",
              "    <tr>\n",
              "      <th>2020-01-27</th>\n",
              "      <td>1</td>\n",
              "    </tr>\n",
              "    <tr>\n",
              "      <th>2020-01-28</th>\n",
              "      <td>0</td>\n",
              "    </tr>\n",
              "    <tr>\n",
              "      <th>2020-01-29</th>\n",
              "      <td>0</td>\n",
              "    </tr>\n",
              "    <tr>\n",
              "      <th>2020-01-30</th>\n",
              "      <td>0</td>\n",
              "    </tr>\n",
              "    <tr>\n",
              "      <th>2020-01-31</th>\n",
              "      <td>7</td>\n",
              "    </tr>\n",
              "  </tbody>\n",
              "</table>\n",
              "</div>\n",
              "      <button class=\"colab-df-convert\" onclick=\"convertToInteractive('df-1d1a532b-8a27-4979-9ed3-05656af5c0fa')\"\n",
              "              title=\"Convert this dataframe to an interactive table.\"\n",
              "              style=\"display:none;\">\n",
              "        \n",
              "  <svg xmlns=\"http://www.w3.org/2000/svg\" height=\"24px\"viewBox=\"0 0 24 24\"\n",
              "       width=\"24px\">\n",
              "    <path d=\"M0 0h24v24H0V0z\" fill=\"none\"/>\n",
              "    <path d=\"M18.56 5.44l.94 2.06.94-2.06 2.06-.94-2.06-.94-.94-2.06-.94 2.06-2.06.94zm-11 1L8.5 8.5l.94-2.06 2.06-.94-2.06-.94L8.5 2.5l-.94 2.06-2.06.94zm10 10l.94 2.06.94-2.06 2.06-.94-2.06-.94-.94-2.06-.94 2.06-2.06.94z\"/><path d=\"M17.41 7.96l-1.37-1.37c-.4-.4-.92-.59-1.43-.59-.52 0-1.04.2-1.43.59L10.3 9.45l-7.72 7.72c-.78.78-.78 2.05 0 2.83L4 21.41c.39.39.9.59 1.41.59.51 0 1.02-.2 1.41-.59l7.78-7.78 2.81-2.81c.8-.78.8-2.07 0-2.86zM5.41 20L4 18.59l7.72-7.72 1.47 1.35L5.41 20z\"/>\n",
              "  </svg>\n",
              "      </button>\n",
              "      \n",
              "  <style>\n",
              "    .colab-df-container {\n",
              "      display:flex;\n",
              "      flex-wrap:wrap;\n",
              "      gap: 12px;\n",
              "    }\n",
              "\n",
              "    .colab-df-convert {\n",
              "      background-color: #E8F0FE;\n",
              "      border: none;\n",
              "      border-radius: 50%;\n",
              "      cursor: pointer;\n",
              "      display: none;\n",
              "      fill: #1967D2;\n",
              "      height: 32px;\n",
              "      padding: 0 0 0 0;\n",
              "      width: 32px;\n",
              "    }\n",
              "\n",
              "    .colab-df-convert:hover {\n",
              "      background-color: #E2EBFA;\n",
              "      box-shadow: 0px 1px 2px rgba(60, 64, 67, 0.3), 0px 1px 3px 1px rgba(60, 64, 67, 0.15);\n",
              "      fill: #174EA6;\n",
              "    }\n",
              "\n",
              "    [theme=dark] .colab-df-convert {\n",
              "      background-color: #3B4455;\n",
              "      fill: #D2E3FC;\n",
              "    }\n",
              "\n",
              "    [theme=dark] .colab-df-convert:hover {\n",
              "      background-color: #434B5C;\n",
              "      box-shadow: 0px 1px 3px 1px rgba(0, 0, 0, 0.15);\n",
              "      filter: drop-shadow(0px 1px 2px rgba(0, 0, 0, 0.3));\n",
              "      fill: #FFFFFF;\n",
              "    }\n",
              "  </style>\n",
              "\n",
              "      <script>\n",
              "        const buttonEl =\n",
              "          document.querySelector('#df-1d1a532b-8a27-4979-9ed3-05656af5c0fa button.colab-df-convert');\n",
              "        buttonEl.style.display =\n",
              "          google.colab.kernel.accessAllowed ? 'block' : 'none';\n",
              "\n",
              "        async function convertToInteractive(key) {\n",
              "          const element = document.querySelector('#df-1d1a532b-8a27-4979-9ed3-05656af5c0fa');\n",
              "          const dataTable =\n",
              "            await google.colab.kernel.invokeFunction('convertToInteractive',\n",
              "                                                     [key], {});\n",
              "          if (!dataTable) return;\n",
              "\n",
              "          const docLinkHtml = 'Like what you see? Visit the ' +\n",
              "            '<a target=\"_blank\" href=https://colab.research.google.com/notebooks/data_table.ipynb>data table notebook</a>'\n",
              "            + ' to learn more about interactive tables.';\n",
              "          element.innerHTML = '';\n",
              "          dataTable['output_type'] = 'display_data';\n",
              "          await google.colab.output.renderOutput(dataTable, element);\n",
              "          const docLink = document.createElement('div');\n",
              "          docLink.innerHTML = docLinkHtml;\n",
              "          element.appendChild(docLink);\n",
              "        }\n",
              "      </script>\n",
              "    </div>\n",
              "  </div>\n",
              "  "
            ]
          },
          "metadata": {},
          "execution_count": 189
        }
      ]
    },
    {
      "cell_type": "markdown",
      "source": [
        "## Plot daily cases"
      ],
      "metadata": {
        "id": "dX2MEibsfrcT"
      }
    },
    {
      "cell_type": "code",
      "source": [
        "plt.plot(daily_cases.values)"
      ],
      "metadata": {
        "colab": {
          "base_uri": "https://localhost:8080/",
          "height": 614
        },
        "id": "Vc4bjKsie5qq",
        "outputId": "6b0c81c6-501e-49b8-8da4-02f346f28672"
      },
      "execution_count": 190,
      "outputs": [
        {
          "output_type": "execute_result",
          "data": {
            "text/plain": [
              "[<matplotlib.lines.Line2D at 0x7f62b2f181f0>]"
            ]
          },
          "metadata": {},
          "execution_count": 190
        },
        {
          "output_type": "display_data",
          "data": {
            "text/plain": [
              "<Figure size 1008x720 with 1 Axes>"
            ],
            "image/png": "[encoded data removed]"
          },
          "metadata": {
            "image/png": {
              "width": 838,
              "height": 580
            }
          }
        }
      ]
    },
    {
      "cell_type": "markdown",
      "source": [
        "## Create Sequences"
      ],
      "metadata": {
        "id": "YuYjeBmufyWb"
      }
    },
    {
      "cell_type": "code",
      "source": [
        "def create_sequences(data, seq_length):\n",
        "    xs = []\n",
        "    ys = []\n",
        "    for i in range(len(data)-seq_length):\n",
        "        x = data.iloc[i:(i+seq_length)]\n",
        "        y = data.iloc[i+seq_length]\n",
        "        xs.append(x)\n",
        "        ys.append(y)\n",
        "    return np.array(xs), np.array(ys)\n",
        "\n",
        "seq_length = 10\n",
        "X, y = create_sequences(daily_cases, seq_length)"
      ],
      "metadata": {
        "id": "7AE74BFIcROA"
      },
      "execution_count": 191,
      "outputs": []
    },
    {
      "cell_type": "code",
      "source": [
        "X[:10]"
      ],
      "metadata": {
        "colab": {
          "base_uri": "https://localhost:8080/"
        },
        "id": "LSdmlLARdHRJ",
        "outputId": "f4e5e7f9-dd1a-468e-e646-8b1188719d83"
      },
      "execution_count": 192,
      "outputs": [
        {
          "output_type": "execute_result",
          "data": {
            "text/plain": [
              "array([[[1],\n",
              "        [0],\n",
              "        [1],\n",
              "        [0],\n",
              "        [1],\n",
              "        [1],\n",
              "        [0],\n",
              "        [0],\n",
              "        [0],\n",
              "        [7]],\n",
              "\n",
              "       [[0],\n",
              "        [1],\n",
              "        [0],\n",
              "        [1],\n",
              "        [1],\n",
              "        [0],\n",
              "        [0],\n",
              "        [0],\n",
              "        [7],\n",
              "        [1]],\n",
              "\n",
              "       [[1],\n",
              "        [0],\n",
              "        [1],\n",
              "        [1],\n",
              "        [0],\n",
              "        [0],\n",
              "        [0],\n",
              "        [7],\n",
              "        [1],\n",
              "        [3]],\n",
              "\n",
              "       [[0],\n",
              "        [1],\n",
              "        [1],\n",
              "        [0],\n",
              "        [0],\n",
              "        [0],\n",
              "        [7],\n",
              "        [1],\n",
              "        [3],\n",
              "        [0]],\n",
              "\n",
              "       [[1],\n",
              "        [1],\n",
              "        [0],\n",
              "        [0],\n",
              "        [0],\n",
              "        [7],\n",
              "        [1],\n",
              "        [3],\n",
              "        [0],\n",
              "        [1]],\n",
              "\n",
              "       [[1],\n",
              "        [0],\n",
              "        [0],\n",
              "        [0],\n",
              "        [7],\n",
              "        [1],\n",
              "        [3],\n",
              "        [0],\n",
              "        [1],\n",
              "        [3]],\n",
              "\n",
              "       [[0],\n",
              "        [0],\n",
              "        [0],\n",
              "        [7],\n",
              "        [1],\n",
              "        [3],\n",
              "        [0],\n",
              "        [1],\n",
              "        [3],\n",
              "        [4]],\n",
              "\n",
              "       [[0],\n",
              "        [0],\n",
              "        [7],\n",
              "        [1],\n",
              "        [3],\n",
              "        [0],\n",
              "        [1],\n",
              "        [3],\n",
              "        [4],\n",
              "        [1]],\n",
              "\n",
              "       [[0],\n",
              "        [7],\n",
              "        [1],\n",
              "        [3],\n",
              "        [0],\n",
              "        [1],\n",
              "        [3],\n",
              "        [4],\n",
              "        [1],\n",
              "        [0]],\n",
              "\n",
              "       [[7],\n",
              "        [1],\n",
              "        [3],\n",
              "        [0],\n",
              "        [1],\n",
              "        [3],\n",
              "        [4],\n",
              "        [1],\n",
              "        [0],\n",
              "        [1]]])"
            ]
          },
          "metadata": {},
          "execution_count": 192
        }
      ]
    },
    {
      "cell_type": "markdown",
      "source": [
        "## Train, Validation, Test dataset split\n",
        "\n"
      ],
      "metadata": {
        "id": "8lF439Dsd_1F"
      }
    },
    {
      "cell_type": "code",
      "source": [
        "train_size = int(len(dd) * 0.8)\n",
        "X_train, y_train = X[:train_size], y[:train_size]\n",
        "X_val, y_val = X[train_size:train_size+33], y[train_size:train_size+33]\n",
        "X_test, y_test = X[train_size+33:], y[train_size+33:]\n",
        "\n",
        "MIN = X_train.min()\n",
        "MAX = X_train.max()"
      ],
      "metadata": {
        "id": "ysZmmR6OdIJU"
      },
      "execution_count": 193,
      "outputs": []
    },
    {
      "cell_type": "code",
      "source": [
        "print(len(X_train))\n",
        "len(X_val)"
      ],
      "metadata": {
        "colab": {
          "base_uri": "https://localhost:8080/"
        },
        "id": "qNaOgM5rkqRR",
        "outputId": "0c9b2716-90aa-4be6-c878-1c56c73b22b6"
      },
      "execution_count": 194,
      "outputs": [
        {
          "output_type": "stream",
          "name": "stdout",
          "text": [
            "265\n"
          ]
        },
        {
          "output_type": "execute_result",
          "data": {
            "text/plain": [
              "33"
            ]
          },
          "metadata": {},
          "execution_count": 194
        }
      ]
    },
    {
      "cell_type": "markdown",
      "source": [
        "## MinMax Scaler"
      ],
      "metadata": {
        "id": "CfVmsD5YfjGU"
      }
    },
    {
      "cell_type": "code",
      "source": [
        "def MinMaxScale(array, min, max):\n",
        "\n",
        "    return (array - min) / (max - min)\n",
        "\n",
        "#MinMax Scaling\n",
        "X_train = MinMaxScale(X_train, MIN, MAX)\n",
        "y_train = MinMaxScale(y_train, MIN, MAX)\n",
        "X_val = MinMaxScale(X_val, MIN, MAX)\n",
        "y_val = MinMaxScale(y_val, MIN, MAX)\n",
        "X_test = MinMaxScale(X_test, MIN, MAX)\n",
        "y_test = MinMaxScale(y_test, MIN, MAX)"
      ],
      "metadata": {
        "id": "_mM1iH9Jep2I"
      },
      "execution_count": 195,
      "outputs": []
    },
    {
      "cell_type": "markdown",
      "source": [
        "## Convert to Tensor"
      ],
      "metadata": {
        "id": "cZqJBsQzfnkI"
      }
    },
    {
      "cell_type": "code",
      "source": [
        "#convert to Tensor \n",
        "def make_Tensor(array):\n",
        "    return torch.from_numpy(array).float()\n",
        "\n",
        "X_train = make_Tensor(X_train)\n",
        "y_train = make_Tensor(y_train)\n",
        "X_val = make_Tensor(X_val)\n",
        "y_val = make_Tensor(y_val)\n",
        "X_test = make_Tensor(X_test)\n",
        "y_test = make_Tensor(y_test)"
      ],
      "metadata": {
        "id": "MPx1U3POfnJW"
      },
      "execution_count": 196,
      "outputs": []
    },
    {
      "cell_type": "code",
      "source": [
        "print(X_train.shape,y_train.shape)"
      ],
      "metadata": {
        "colab": {
          "base_uri": "https://localhost:8080/"
        },
        "id": "Q4fmUbKSezEf",
        "outputId": "611093d5-217e-4ac4-803f-049f5529750a"
      },
      "execution_count": 197,
      "outputs": [
        {
          "output_type": "stream",
          "name": "stdout",
          "text": [
            "torch.Size([265, 10, 1]) torch.Size([265, 1])\n"
          ]
        }
      ]
    },
    {
      "cell_type": "markdown",
      "source": [
        "X_train :  261 samples, each sample is a serie with 5 elements, 1 dimension."
      ],
      "metadata": {
        "id": "ID0kYVkEfT-d"
      }
    },
    {
      "cell_type": "markdown",
      "source": [
        "## CNN-LSTM"
      ],
      "metadata": {
        "id": "jgwyTiVPgAMw"
      }
    },
    {
      "cell_type": "markdown",
      "source": [
        "### What is 1D CNN ?\n",
        "\n",
        "![그림 5-1](https://github.com/Pseudo-Lab/Tutorial-Book/blob/master/book/pics/TS-ch5img01.png?raw=true)\n",
        "\n"
      ],
      "metadata": {
        "id": "kQ4P3bfogRfH"
      }
    },
    {
      "cell_type": "markdown",
      "source": [
        "- Illustrating the movement of kernel in one dimensional CNN. \n",
        "- Kernel moves to right as time changes.\n",
        "- When dealing with Time-Series data, 1D CNN is appropriate. Using 1D CNN you can extract regional features.\n"
      ],
      "metadata": {
        "id": "ZEGA4T9ggfbh"
      }
    },
    {
      "cell_type": "markdown",
      "source": [
        "![그림 5-2](https://github.com/Pseudo-Lab/Tutorial-Book/blob/master/book/pics/TS-ch5img02.png?raw=true)\n",
        "![그림 5-3](https://github.com/Pseudo-Lab/Tutorial-Book/blob/master/book/pics/TS-ch5img03.png?raw=true)"
      ],
      "metadata": {
        "id": "3MRa-Ib-hQzd"
      }
    },
    {
      "cell_type": "markdown",
      "source": [
        "Please check out how this works! Explanation in https://colab.research.google.com/github/Pseudo-Lab/Tutorial-Book/blob/master/book/chapters/time-series/Ch5-CNN-LSTM.ipynb?authuser=2#scrollTo=4Yj7Wnr15rDv\n",
        "\n",
        "Chapter 5.2.2"
      ],
      "metadata": {
        "id": "41dmkJUQhvfS"
      }
    },
    {
      "cell_type": "markdown",
      "source": [
        "CNN LSTM is simply saying, adding CNN layer to LSTM! "
      ],
      "metadata": {
        "id": "wABKhHCdiCQS"
      }
    },
    {
      "cell_type": "markdown",
      "source": [
        "### Define CNN-LSTM layers"
      ],
      "metadata": {
        "id": "21dAKlDAimge"
      }
    },
    {
      "cell_type": "code",
      "source": [
        "class CovidPredictor(nn.Module):\n",
        "    def __init__(self, n_features, n_hidden, seq_len, n_layers):\n",
        "        super(CovidPredictor, self).__init__()\n",
        "        self.n_hidden = n_hidden\n",
        "        self.seq_len = seq_len\n",
        "        self.n_layers = n_layers\n",
        "        self.c1 = nn.Conv1d(in_channels=1, out_channels=1, kernel_size = 2, stride = 1) # 1D CNN 레이어 추가\n",
        "        self.lstm = nn.LSTM(\n",
        "            input_size=n_features,\n",
        "            hidden_size=n_hidden,\n",
        "            num_layers=n_layers\n",
        "        )\n",
        "        self.linear = nn.Linear(in_features=n_hidden, out_features=1)\n",
        "    def reset_hidden_state(self):\n",
        "        self.hidden = (\n",
        "            torch.zeros(self.n_layers, self.seq_len-1, self.n_hidden),\n",
        "            torch.zeros(self.n_layers, self.seq_len-1, self.n_hidden)\n",
        "        )\n",
        "    def forward(self, sequences):\n",
        "        sequences = self.c1(sequences.view(len(sequences), 1, -1))\n",
        "        lstm_out, self.hidden = self.lstm(\n",
        "            sequences.view(len(sequences), self.seq_len-1, -1),\n",
        "            self.hidden\n",
        "        )\n",
        "        last_time_step = lstm_out.view(self.seq_len-1, len(sequences), self.n_hidden)[-1]\n",
        "        y_pred = self.linear(last_time_step)\n",
        "        return y_pred"
      ],
      "metadata": {
        "id": "tg6jpbT0hgrM"
      },
      "execution_count": 198,
      "outputs": []
    },
    {
      "cell_type": "markdown",
      "source": [
        "### Define training process"
      ],
      "metadata": {
        "id": "TPXzC7aliwMV"
      }
    },
    {
      "cell_type": "code",
      "source": [
        "def train_model(model, train_data, train_labels, val_data=None, val_labels=None, num_epochs=100, verbose = 10, patience = 10):\n",
        "    loss_fn = torch.nn.L1Loss() #\n",
        "    optimiser = torch.optim.Adam(model.parameters(), lr=0.001)\n",
        "    train_hist = []\n",
        "    val_hist = []\n",
        "    for t in range(num_epochs):\n",
        "\n",
        "        epoch_loss = 0\n",
        "\n",
        "        for idx, seq in enumerate(train_data): # sample 별 hidden state reset을 해줘야 함 \n",
        "\n",
        "            model.reset_hidden_state()\n",
        "\n",
        "            # train loss\n",
        "            seq = torch.unsqueeze(seq, 0)\n",
        "            y_pred = model(seq)\n",
        "            loss = loss_fn(y_pred[0].float(), train_labels[idx]) # 1개의 step에 대한 loss\n",
        "\n",
        "            # update weights\n",
        "            optimiser.zero_grad()\n",
        "            loss.backward()\n",
        "            optimiser.step()\n",
        "\n",
        "            epoch_loss += loss.item()\n",
        "\n",
        "        train_hist.append(epoch_loss / len(train_data))\n",
        "\n",
        "        if val_data is not None:\n",
        "\n",
        "            with torch.no_grad():\n",
        "\n",
        "                val_loss = 0\n",
        "\n",
        "                for val_idx, val_seq in enumerate(val_data):\n",
        "\n",
        "                    model.reset_hidden_state() #seq 별로 hidden state 초기화 \n",
        "\n",
        "                    val_seq = torch.unsqueeze(val_seq, 0)\n",
        "                    y_val_pred = model(val_seq)\n",
        "                    val_step_loss = loss_fn(y_val_pred[0].float(), val_labels[val_idx])\n",
        "\n",
        "                    val_loss += val_step_loss\n",
        "                \n",
        "            val_hist.append(val_loss / len(val_data)) # val hist에 추가\n",
        "\n",
        "            ## verbose 번째 마다 loss 출력 \n",
        "            if t % verbose == 0:\n",
        "                print(f'Epoch {t} train loss: {epoch_loss / len(train_data)} val loss: {val_loss / len(val_data)}')\n",
        "\n",
        "            ## patience 번째 마다 early stopping 여부 확인\n",
        "            if (t % patience == 0) & (t != 0):\n",
        "                \n",
        "                ## loss가 커졌다면 early stop\n",
        "                if val_hist[t - patience] < val_hist[t] :\n",
        "\n",
        "                    print('\\n Early Stopping')\n",
        "\n",
        "                    break\n",
        "\n",
        "        elif t % verbose == 0:\n",
        "            print(f'Epoch {t} train loss: {epoch_loss / len(train_data)}')\n",
        "\n",
        "            \n",
        "    return model, train_hist, val_hist"
      ],
      "metadata": {
        "id": "IptvovnyiWp8"
      },
      "execution_count": 199,
      "outputs": []
    },
    {
      "cell_type": "code",
      "source": [
        "model = CovidPredictor(\n",
        "    n_features=1,\n",
        "    n_hidden=4,\n",
        "    seq_len=seq_length,\n",
        "    n_layers=1\n",
        ")"
      ],
      "metadata": {
        "id": "ZrSjaz6aiboU"
      },
      "execution_count": 200,
      "outputs": []
    },
    {
      "cell_type": "code",
      "source": [
        "print(model)"
      ],
      "metadata": {
        "colab": {
          "base_uri": "https://localhost:8080/"
        },
        "id": "OC74rNVzic-y",
        "outputId": "e3958e2f-299a-4ca8-ca0b-a16799a071ad"
      },
      "execution_count": 201,
      "outputs": [
        {
          "output_type": "stream",
          "name": "stdout",
          "text": [
            "CovidPredictor(\n",
            "  (c1): Conv1d(1, 1, kernel_size=(2,), stride=(1,))\n",
            "  (lstm): LSTM(1, 4)\n",
            "  (linear): Linear(in_features=4, out_features=1, bias=True)\n",
            ")\n"
          ]
        }
      ]
    },
    {
      "cell_type": "markdown",
      "source": [
        "## Train model"
      ],
      "metadata": {
        "id": "SwBd5od6izc_"
      }
    },
    {
      "cell_type": "code",
      "source": [
        "model, train_hist, val_hist = train_model(\n",
        "    model,\n",
        "    X_train,\n",
        "    y_train,\n",
        "    X_val,\n",
        "    y_val,\n",
        "    num_epochs=200,\n",
        "    verbose=20,\n",
        "    patience=50\n",
        ")"
      ],
      "metadata": {
        "colab": {
          "base_uri": "https://localhost:8080/"
        },
        "id": "bQeB-QuJieOu",
        "outputId": "15ceea58-1b0f-465a-89e5-7f2964166fd9"
      },
      "execution_count": 202,
      "outputs": [
        {
          "output_type": "stream",
          "name": "stdout",
          "text": [
            "Epoch 0 train loss: 0.1959469504443542 val loss: 0.12652987241744995\n",
            "Epoch 20 train loss: 0.034897886341402555 val loss: 0.05043329298496246\n",
            "Epoch 40 train loss: 0.033653355377532966 val loss: 0.04841044172644615\n",
            "Epoch 60 train loss: 0.03308104116311473 val loss: 0.045799773186445236\n",
            "Epoch 80 train loss: 0.03274433316645335 val loss: 0.04837749898433685\n",
            "Epoch 100 train loss: 0.0327666797332536 val loss: 0.04865231737494469\n",
            "Epoch 120 train loss: 0.03287098476013063 val loss: 0.04840102419257164\n",
            "Epoch 140 train loss: 0.032571789756733575 val loss: 0.04645219072699547\n",
            "Epoch 160 train loss: 0.032699464582223094 val loss: 0.04767758026719093\n",
            "Epoch 180 train loss: 0.03249011634989589 val loss: 0.04799412563443184\n"
          ]
        }
      ]
    },
    {
      "cell_type": "markdown",
      "source": [
        "## Plot training process "
      ],
      "metadata": {
        "id": "z6tbhB0Wih3v"
      }
    },
    {
      "cell_type": "code",
      "source": [
        "plt.plot(train_hist, label=\"Training loss\")\n",
        "plt.plot(val_hist, label=\"Val loss\")\n",
        "plt.legend()"
      ],
      "metadata": {
        "colab": {
          "base_uri": "https://localhost:8080/",
          "height": 614
        },
        "id": "neimZVICif3k",
        "outputId": "0da1cf3b-923c-4a30-d526-b2dbdee95d3a"
      },
      "execution_count": 203,
      "outputs": [
        {
          "output_type": "execute_result",
          "data": {
            "text/plain": [
              "<matplotlib.legend.Legend at 0x7f62b2dfacd0>"
            ]
          },
          "metadata": {},
          "execution_count": 203
        },
        {
          "output_type": "display_data",
          "data": {
            "text/plain": [
              "<Figure size 1008x720 with 1 Axes>"
            ],
            "image/png": "[encoded data removed]"
          },
          "metadata": {
            "image/png": {
              "width": 842,
              "height": 580
            }
          }
        }
      ]
    },
    {
      "cell_type": "markdown",
      "source": [
        "## Predict "
      ],
      "metadata": {
        "id": "0ncbexqji9cY"
      }
    },
    {
      "cell_type": "code",
      "source": [
        "pred_dataset = X_test\n",
        "\n",
        "with torch.no_grad():\n",
        "    preds = []\n",
        "    for _ in range(len(pred_dataset)):\n",
        "        model.reset_hidden_state()\n",
        "        y_test_pred = model(torch.unsqueeze(pred_dataset[_], 0))\n",
        "        pred = torch.flatten(y_test_pred).item()\n",
        "        preds.append(pred)"
      ],
      "metadata": {
        "id": "NrAgt9d-i09Y"
      },
      "execution_count": 204,
      "outputs": []
    },
    {
      "cell_type": "code",
      "source": [
        "plt.plot(np.array(y_test)*MAX, label = 'True')\n",
        "plt.plot(np.array(preds)*MAX, label = 'Pred')\n",
        "plt.legend()"
      ],
      "metadata": {
        "colab": {
          "base_uri": "https://localhost:8080/",
          "height": 614
        },
        "id": "V8SnXdfzi-fY",
        "outputId": "5fa192f5-fb62-463e-e992-476aa4046aed"
      },
      "execution_count": 205,
      "outputs": [
        {
          "output_type": "execute_result",
          "data": {
            "text/plain": [
              "<matplotlib.legend.Legend at 0x7f62b2dcb190>"
            ]
          },
          "metadata": {},
          "execution_count": 205
        },
        {
          "output_type": "display_data",
          "data": {
            "text/plain": [
              "<Figure size 1008x720 with 1 Axes>"
            ],
            "image/png": "[encoded data removed]"
          },
          "metadata": {
            "image/png": {
              "width": 838,
              "height": 580
            }
          }
        }
      ]
    },
    {
      "cell_type": "code",
      "source": [
        "def MAE(true, pred):\n",
        "    return np.mean(np.abs(true-pred))"
      ],
      "metadata": {
        "id": "rL9-MKwYi_xt"
      },
      "execution_count": 206,
      "outputs": []
    },
    {
      "cell_type": "code",
      "source": [
        "MAE(np.array(y_test)*MAX, np.array(preds)*MAX)"
      ],
      "metadata": {
        "colab": {
          "base_uri": "https://localhost:8080/"
        },
        "id": "3nzSgTDYjBR3",
        "outputId": "f4eedd54-c7a4-4ae7-89a1-181bf2356d49"
      },
      "execution_count": 207,
      "outputs": [
        {
          "output_type": "execute_result",
          "data": {
            "text/plain": [
              "226.64192380694053"
            ]
          },
          "metadata": {},
          "execution_count": 207
        }
      ]
    }
  ]
}